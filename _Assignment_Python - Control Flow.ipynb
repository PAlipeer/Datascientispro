{
 "cells": [
  {
   "cell_type": "code",
   "execution_count": 1,
   "id": "6efc9b3e-c59d-458b-9fac-8346b1f5d66c",
   "metadata": {},
   "outputs": [],
   "source": [
    "#Basic If-Else Statements:"
   ]
  },
  {
   "cell_type": "code",
   "execution_count": 6,
   "id": "6a227ac8-02d9-443b-9d86-ef24967fbe4d",
   "metadata": {},
   "outputs": [
    {
     "name": "stdin",
     "output_type": "stream",
     "text": [
      "enter your number: -1\n"
     ]
    },
    {
     "name": "stdout",
     "output_type": "stream",
     "text": [
      "the entered number is negative\n"
     ]
    }
   ],
   "source": [
    "#1. Write a Python program to check if a given number is positive or negative.\n",
    "#ans:\n",
    "\n",
    "x=int(input(\"enter your number:\"))\n",
    "if x>=0:\n",
    "    print(\"the enetered number is positive\")\n",
    "else:\n",
    "    print(\"the entered number is negative\")"
   ]
  },
  {
   "cell_type": "code",
   "execution_count": 10,
   "id": "b887952d-fd90-45e8-9f48-94485104099c",
   "metadata": {},
   "outputs": [
    {
     "name": "stdin",
     "output_type": "stream",
     "text": [
      "enter the voter age 131\n"
     ]
    },
    {
     "name": "stdout",
     "output_type": "stream",
     "text": [
      "this person is eligible for vote\n"
     ]
    }
   ],
   "source": [
    "#2. Create a program that determines if a person is eligible to vote based on their age.\n",
    "#ans:\n",
    "\n",
    "x=int(input(\"enter the voter age :\"))\n",
    "if x>=18<=130:\n",
    "    print(\"this person is eligible for vote\")\n",
    "else:\n",
    "    print(\"this person not eligible for vote\")\n",
    "    "
   ]
  },
  {
   "cell_type": "code",
   "execution_count": 22,
   "id": "9c7a025e-20a4-4588-b2b1-a5c8226209e2",
   "metadata": {},
   "outputs": [
    {
     "name": "stdin",
     "output_type": "stream",
     "text": [
      "enter your a value : 5\n",
      "enter your b value : 6\n"
     ]
    },
    {
     "name": "stdout",
     "output_type": "stream",
     "text": [
      "maximum number is 'b' value\n"
     ]
    }
   ],
   "source": [
    "#3. Develop a program to find the maximum of two numbers using if-else statements.\n",
    "#ans:\n",
    "\n",
    "a=int(input(\"enter your a value :\"))\n",
    "b=int(input(\"enter your b value :\"))\n",
    "if a>b:\n",
    "    print(\"maximum number is a value\")\n",
    "else:\n",
    "      print(\"maximum number is 'b' value\")"
   ]
  },
  {
   "cell_type": "code",
   "execution_count": 6,
   "id": "b6a6b9e4-f04e-4934-88e3-be64dddddc93",
   "metadata": {},
   "outputs": [
    {
     "name": "stdin",
     "output_type": "stream",
     "text": [
      "enter the year: 2024\n"
     ]
    },
    {
     "name": "stdout",
     "output_type": "stream",
     "text": [
      "it is the leap year\n"
     ]
    }
   ],
   "source": [
    "#4. Write a Python script to classify a given year as a leap year or not.\n",
    "#ans:\n",
    "year=int(input(\"enter the year:\"))\n",
    "if ((year % 4 == 0 and year % 100 != 0) or (year % 400 == 0)):\n",
    "    print(\"it is the leap year\")\n",
    "else:\n",
    "    print(\"not a leap year\")\n",
    "    "
   ]
  },
  {
   "cell_type": "code",
   "execution_count": 8,
   "id": "0891c909-75a0-44a5-ab74-19a3450c421a",
   "metadata": {},
   "outputs": [
    {
     "name": "stdin",
     "output_type": "stream",
     "text": [
      "enter the letter : B\n"
     ]
    },
    {
     "name": "stdout",
     "output_type": "stream",
     "text": [
      "it is a constant\n"
     ]
    }
   ],
   "source": [
    "#5. Create a program that checks whether a character is a vowel or a consonant.\n",
    "#ans:\n",
    "char=input(\"enter the letter :\")\n",
    "vowels=['a','i','e','o','u','A','I','E','O','U']\n",
    "if char in vowels:\n",
    "    print(\"it is a vowel\")\n",
    "else:\n",
    "    print(\"it is a constant\")"
   ]
  },
  {
   "cell_type": "code",
   "execution_count": 15,
   "id": "5f3b5f1c-43db-4f54-b4c0-665a7cef0cb3",
   "metadata": {},
   "outputs": [
    {
     "name": "stdin",
     "output_type": "stream",
     "text": [
      "enter the digit 5\n"
     ]
    },
    {
     "name": "stdout",
     "output_type": "stream",
     "text": [
      "it is a odd number\n"
     ]
    }
   ],
   "source": [
    "#6. Implement a program to determine whether a given number is even or odd.\n",
    "#ans:\n",
    "x=int(input(\"enter the digit\"))\n",
    "if x%2==0:\n",
    "    print(\"it is a even number\")\n",
    "else:\n",
    "    print(\"it is a odd number\")"
   ]
  },
  {
   "cell_type": "code",
   "execution_count": 11,
   "id": "bb117552-349d-4175-853c-54a9071f1715",
   "metadata": {},
   "outputs": [
    {
     "data": {
      "text/plain": [
       "50"
      ]
     },
     "execution_count": 11,
     "metadata": {},
     "output_type": "execute_result"
    }
   ],
   "source": [
    "#7. Write a Python function to calculate the absolute value of a number without using the `abs()` function.\n",
    "#ans:\n",
    "#ans:\n",
    "def  my_abs(value):\n",
    "    if value<0:\n",
    "        return -value\n",
    "    return value\n",
    "my_abs(-50)"
   ]
  },
  {
   "cell_type": "code",
   "execution_count": 15,
   "id": "dd5f2d6b-8e4b-456b-ac20-3d5be3069afa",
   "metadata": {},
   "outputs": [
    {
     "name": "stdin",
     "output_type": "stream",
     "text": [
      "enter the a value: 5\n",
      "enter the b value: 4\n",
      "enter the c value: 3\n"
     ]
    },
    {
     "name": "stdout",
     "output_type": "stream",
     "text": [
      "a is the maximum value : 5\n"
     ]
    }
   ],
   "source": [
    "#8. Develop a program that determines the largest of three given numbers using if-else statements.\n",
    "#ans:\n",
    "a=int(input(\"enter the a value:\"))\n",
    "b=int(input(\"enter the b value:\"))\n",
    "c=int(input(\"enter the c value:\"))\n",
    "if a>=b>=c:\n",
    "    print(\"a is the maximum value :\",a)\n",
    "    if b>=c>=a:\n",
    "        print(\"b is the maximum value :\",b)\n",
    "else :\n",
    "    print(\"c is the maximum value:\",c)"
   ]
  },
  {
   "cell_type": "code",
   "execution_count": 29,
   "id": "f08b8c13-3d9b-46e6-b4a8-9e6cef548f5f",
   "metadata": {},
   "outputs": [
    {
     "name": "stdin",
     "output_type": "stream",
     "text": [
      "enter the string : RAPER\n"
     ]
    },
    {
     "name": "stdout",
     "output_type": "stream",
     "text": [
      "this is not a palindrome\n"
     ]
    }
   ],
   "source": [
    "#9. Create a program that checks if a given string is a palindrome.\n",
    "x=input(\"enter the string :\")\n",
    "if x==x[::-1]:\n",
    "    print(\"this is paindrome\")\n",
    "else :\n",
    "    print(\"this is not a palindrome\")"
   ]
  },
  {
   "cell_type": "code",
   "execution_count": 26,
   "id": "060275a2-4466-4ceb-9309-94cc17504111",
   "metadata": {},
   "outputs": [
    {
     "name": "stdin",
     "output_type": "stream",
     "text": [
      "enter the score 35\n"
     ]
    },
    {
     "name": "stdout",
     "output_type": "stream",
     "text": [
      "the grade : D & need to do hard work\n",
      "the candidate is failed\n"
     ]
    }
   ],
   "source": [
    "#10. Write a Python program to calculate the grade based on a student's score.\n",
    "score=int(input(\"enter the score\"))\n",
    "if score>=35:\n",
    "    print(\"the grade : C & need to do hard work\")\n",
    "if score>=50:\n",
    "    print(\"the grade : C+ & clever performance\")\n",
    "if score>=75:\n",
    "    print(\"the grade : A+ & excellent performance\")\n",
    "if score>=85:\n",
    "    print(\"the grade : A & clever performance\")\n",
    "if score>=90:\n",
    "    print(\"the grade : O & out standing performance\")\n",
    "else :\n",
    "    print(\"the candidate is failed\")"
   ]
  },
  {
   "cell_type": "code",
   "execution_count": 27,
   "id": "d5b6067e-6149-4e7a-8718-f1924eb43315",
   "metadata": {},
   "outputs": [],
   "source": [
    "#Nested If-Else Statements:"
   ]
  },
  {
   "cell_type": "code",
   "execution_count": 44,
   "id": "e1ea1fef-0a9d-4c7f-acca-8380e452aecd",
   "metadata": {},
   "outputs": [
    {
     "name": "stdin",
     "output_type": "stream",
     "text": [
      "enter the value of a: 88\n",
      "enter the value of b: 98\n",
      "enter the value of c: 56\n"
     ]
    },
    {
     "name": "stdout",
     "output_type": "stream",
     "text": [
      "b is the maximum value: 98\n"
     ]
    }
   ],
   "source": [
    "#11. Write a program to find the largest among three numbers using nested if-else statements.\n",
    "a=int(input(\"enter the value of a:\"))\n",
    "b=int(input(\"enter the value of b:\"))\n",
    "c=int(input(\"enter the value of c:\"))\n",
    "if a>b:\n",
    "    if a>c:\n",
    "        print(\"a is the maximum value:\",a)\n",
    "    else:\n",
    "        print(\"c is the maximum value:\",c)\n",
    "else:\n",
    "    if b>c:\n",
    "        print(\"b is the maximum value:\",b)\n",
    "    else:\n",
    "        print(\"c is the maximum value:\",c)\n",
    "    "
   ]
  },
  {
   "cell_type": "code",
   "execution_count": 74,
   "id": "bf9a19ec-7eb4-4689-8e0b-962172d63e6a",
   "metadata": {},
   "outputs": [
    {
     "name": "stdin",
     "output_type": "stream",
     "text": [
      "enter the vlaue of x 20\n",
      "enter the value of y 20\n",
      "enter the value of z 30\n"
     ]
    },
    {
     "name": "stdout",
     "output_type": "stream",
     "text": [
      "this is an iscosceles triangle\n"
     ]
    }
   ],
   "source": [
    "#12. Implement a program to determine if a triangle is equilateral, isosceles, or scalene.\n",
    "x=int(input(\"enter the vlaue of x\"))\n",
    "y=int(input(\"enter the value of y\"))\n",
    "z=int(input(\"enter the value of z\"))\n",
    "if x==y==z:\n",
    "    print(\"this is an equilateral triangle\")\n",
    "else:\n",
    "    if x==y or x==z or y==z:\n",
    "        print(\"this is an iscosceles triangle\")\n",
    "    else:\n",
    "        print(\"this is an scalene triangle\")"
   ]
  },
  {
   "cell_type": "code",
   "execution_count": 22,
   "id": "37fced43-be30-4bad-9464-560a31b7bf51",
   "metadata": {},
   "outputs": [
    {
     "name": "stdin",
     "output_type": "stream",
     "text": [
      "enter the year : 2024\n"
     ]
    },
    {
     "name": "stdout",
     "output_type": "stream",
     "text": [
      "21 century\n",
      "2024 is a leap year\n"
     ]
    }
   ],
   "source": [
    "#13. Develop a program that checks if a year is a leap year and also if it is a century year.\n",
    "year=int(input(\"enter the year :\"))\n",
    "def check_leap_year(year):\n",
    "    if year % 4 == 0:\n",
    "        if year % 100 == 0:\n",
    "            if year % 400 == 0:\n",
    "                print(f\"{year} is a leap year\")\n",
    "            else:\n",
    "                print(f\"{year} is not a leap year\")\n",
    "        else:\n",
    "            print(f\"{year} is a leap year\")\n",
    "    else:\n",
    "        print(f\"{year} is not a leap year\")\n",
    "        \n",
    "        \n",
    "def find_century(year): \n",
    "    \n",
    "    # No negative value is allow for year \n",
    "    if (year <= 0): \n",
    "        print(\"0 and negative is not allow for a year\") \n",
    "          \n",
    "    # If year is between 1 to 100 it \n",
    "    # will come in 1st century \n",
    "    if (year <= 100): \n",
    "        print(\"1st century\") \n",
    "    if (year % 100 == 0): \n",
    "        print(year // 100,\"century\") \n",
    "    else: \n",
    "        print(year // 100 + 1,\"century\") \n",
    "  \n",
    "find_century(year)\n",
    "check_leap_year(year)\n"
   ]
  },
  {
   "cell_type": "code",
   "execution_count": 35,
   "id": "91de703e-26c9-45cc-ae0e-aba9ffdd5218",
   "metadata": {},
   "outputs": [
    {
     "name": "stdin",
     "output_type": "stream",
     "text": [
      "enter the number: 0\n"
     ]
    },
    {
     "name": "stdout",
     "output_type": "stream",
     "text": [
      "the number is Zero : 0\n"
     ]
    }
   ],
   "source": [
    "#14. Write a Python script to determine if a number is positive, negative, or zero.\n",
    "x=int(input(\"enter the number:\"))\n",
    "if x>=0:\n",
    "    if x==0:\n",
    "        print(\"the number is Zero :\",x)\n",
    "    else:\n",
    "        print(\"the number is Positive :\",x)\n",
    "else:\n",
    "    if x<0:\n",
    "        print(\"the number is equal to zero :\",x)\n",
    "        "
   ]
  },
  {
   "cell_type": "code",
   "execution_count": 14,
   "id": "d5f02dc4-77a4-452b-b343-b84ad8d461fb",
   "metadata": {},
   "outputs": [
    {
     "name": "stdin",
     "output_type": "stream",
     "text": [
      "enter the person age: 25\n"
     ]
    },
    {
     "name": "stdout",
     "output_type": "stream",
     "text": [
      "this is a not a teenager\n"
     ]
    }
   ],
   "source": [
    "#15. Create a program to check if a person is a teenager (between 13 and 19 years old).\n",
    "x=int(input(\"enter the person age:\"))\n",
    "if 0<=x<=12:\n",
    "    print(\"this is kid\")\n",
    "    if 13<=x<=19:\n",
    "        print(\"this is a teenager\")\n",
    "else:\n",
    "    print(\"this is a not a teenager\")"
   ]
  },
  {
   "cell_type": "code",
   "execution_count": 25,
   "id": "dc285d7b-91fd-4629-9629-1d7821d62c31",
   "metadata": {},
   "outputs": [
    {
     "name": "stdin",
     "output_type": "stream",
     "text": [
      "Enter side a:  60\n",
      "Enter side b:  90\n",
      "Enter side c:  30\n"
     ]
    },
    {
     "name": "stdout",
     "output_type": "stream",
     "text": [
      "Obtuse-angled triangle\n"
     ]
    }
   ],
   "source": [
    "#16. Develop a program that determines the type of angle based on its measure (acute, obtuse, or right).\n",
    "def triangleType(a, b, c):\n",
    "    sa = pow(a, 2)\n",
    "    sb = pow(b, 2)\n",
    "    sc = pow(c, 2)\n",
    "    if (sa == sc + sb or sb == sa+sc or sc == sa+sb):\n",
    "        print(\"Right-angled triangle\")\n",
    "    if (sa > sc + sb or sb > sa+sc or sc > sa+sb):\n",
    "        print(\"Obtuse-angled triangle\")\n",
    "    else:\n",
    "        print(\"Acute-angled triangle\")\n",
    "        \n",
    "a = int(input(\"Enter side a: \"))\n",
    "b = int(input(\"Enter side b: \"))\n",
    "c = int(input(\"Enter side c: \"))\n",
    "triangleType(a, b, c)"
   ]
  },
  {
   "cell_type": "code",
   "execution_count": 39,
   "id": "8554e7ef-512e-4d45-948b-639140196ea3",
   "metadata": {},
   "outputs": [
    {
     "name": "stdin",
     "output_type": "stream",
     "text": [
      "Enter a: 5\n",
      "Enter b: 5\n",
      "Enter c: 5\n"
     ]
    },
    {
     "name": "stdout",
     "output_type": "stream",
     "text": [
      "Complex Roots\n",
      "-0.5  + i 8.660254037844387\n",
      "-0.5  - i 8.660254037844387\n"
     ]
    }
   ],
   "source": [
    "#17. Write a Python program to calculate the roots of a quadratic equation.\n",
    "# Python program to find roots of quadratic equation  \n",
    "import math  \n",
    "  \n",
    "  \n",
    "# function for finding roots  \n",
    "def findRoots(a, b, c):  \n",
    "  \n",
    "    dis_form = b * b - 4 * a * c  \n",
    "    sqrt_val = math.sqrt(abs(dis_form))  \n",
    "  \n",
    "  \n",
    "    if dis_form > 0:  \n",
    "        print(\" real and different roots \")  \n",
    "        print((-b + sqrt_val) / (2 * a))  \n",
    "        print((-b - sqrt_val) / (2 * a))  \n",
    "  \n",
    "    if dis_form == 0:  \n",
    "        print(\" real and same roots\")  \n",
    "        print(-b / (2 * a))  \n",
    "  \n",
    "  \n",
    "    else:  \n",
    "        print(\"Complex Roots\")  \n",
    "        print(- b / (2 * a), \" + i\", sqrt_val)  \n",
    "        print(- b / (2 * a), \" - i\", sqrt_val)  \n",
    "  \n",
    "  \n",
    "a = int(input('Enter a:'))  \n",
    "b = int(input('Enter b:'))  \n",
    "c = int(input('Enter c:'))  \n",
    "  \n",
    "# If a is 0, then incorrect equation  \n",
    "if a == 0:\n",
    "        print(\"Input correct quadratic equation\")  \n",
    "else:  \n",
    "    findRoots(a, b, c)  "
   ]
  },
  {
   "cell_type": "code",
   "execution_count": 50,
   "id": "88eb95af-7e16-4199-9651-a1119d5fc698",
   "metadata": {},
   "outputs": [
    {
     "name": "stdin",
     "output_type": "stream",
     "text": [
      "enter a number 1 to 7: 8\n"
     ]
    },
    {
     "name": "stdout",
     "output_type": "stream",
     "text": [
      "wrong input given\n"
     ]
    }
   ],
   "source": [
    "\"\"\"18. Implement a program to determine the day of the week based on a user-provided number (1 for Monday, 2\n",
    "for Tuesday, etc.).\"\"\"\n",
    "#ans:\n",
    "day=int(input(\"enter a number 1 to 7:\"))\n",
    "if day==1:\n",
    "    print(day, \"is Sunday\")\n",
    "if day==2:\n",
    "    print(day, \"is Sunday\")\n",
    "if day == 3:\n",
    "    print(day, \"is Tuesday\")\n",
    "if day==4:\n",
    "    print(day,\"is wednesday\")\n",
    "if day==5:\n",
    "    print(day, \"is thursday\")\n",
    "if day==6:\n",
    "    print(day, \"is friday\")\n",
    "if day==7:\n",
    "    print(day,\"is saturday\")\n",
    "else:\n",
    "    print(\"wrong input given\")"
   ]
  },
  {
   "cell_type": "code",
   "execution_count": 57,
   "id": "de8c523f-dc92-437e-a60a-c3678c1f3858",
   "metadata": {},
   "outputs": [
    {
     "name": "stdin",
     "output_type": "stream",
     "text": [
      "enter the year: 2024\n"
     ]
    }
   ],
   "source": [
    "#19. Create a program that determines if a year is a leap year and also if it is evenly divisible by 400.\n",
    "#ans:\n",
    "year=int(input(\"enter the year:\"))\n",
    "if ((year % 4 == 0 and year % 100 != 0)):\n",
    "    if(year % 400 == 0):\n",
    "        print(\"it is the leap year\")\n",
    "else:\n",
    "        print(\"not a leap year\")\n",
    "    "
   ]
  },
  {
   "cell_type": "code",
   "execution_count": 71,
   "id": "88e24edb-1eca-4be9-9e75-c36371f2f8f3",
   "metadata": {},
   "outputs": [
    {
     "name": "stdin",
     "output_type": "stream",
     "text": [
      "enter a num 4\n"
     ]
    },
    {
     "name": "stdout",
     "output_type": "stream",
     "text": [
      "4 is not a prime number\n"
     ]
    }
   ],
   "source": [
    "#20. Develop a program that checks if a given number is prime or not using nested if-else statements.\n",
    "#ans:\n",
    "# Program to check if a number is prime or not\n",
    "\n",
    "num=int(input(\"enter a num\"))\n",
    "\n",
    "# To take input from the user\n",
    "#num = int(input(\"Enter a number: \"))\n",
    "\n",
    "# define a flag variable\n",
    "flag = False\n",
    "\n",
    "if num == 1:\n",
    "    print(num, \"is not a prime number\")\n",
    "elif num > 1:\n",
    "    # check for factors\n",
    "    for i in range(2, num):\n",
    "        if (num % i) == 0:\n",
    "            # if factor is found, set flag to True\n",
    "            flag = True\n",
    "            # break out of loop\n",
    "            break\n",
    "\n",
    "    # check if flag is True\n",
    "    if flag:\n",
    "        print(num, \"is not a prime number\")\n",
    "    else:\n",
    "        print(num, \"is a prime number\")"
   ]
  },
  {
   "cell_type": "code",
   "execution_count": 72,
   "id": "44ef9509-1b2e-4796-99e4-0bbdc2b4ec18",
   "metadata": {},
   "outputs": [],
   "source": [
    "#Elif Statements:"
   ]
  },
  {
   "cell_type": "code",
   "execution_count": 14,
   "id": "0f970aeb-58d5-44e2-ba3c-97cf99f25840",
   "metadata": {},
   "outputs": [
    {
     "name": "stdin",
     "output_type": "stream",
     "text": [
      "enter the score : 56\n"
     ]
    },
    {
     "name": "stdout",
     "output_type": "stream",
     "text": [
      "Garde B & good performance\n"
     ]
    }
   ],
   "source": [
    "#21. Write a Python program to assign grades based on different ranges of scores using elif statements.\n",
    "#ans:\n",
    "\n",
    "x=int(input(\"enter the score :\"))\n",
    "\n",
    "\n",
    "if 35<=x<=50:\n",
    "    print(\"Grade 'C' & Need to do hardwork\")\n",
    "elif 51<=x<=75:\n",
    "        print(\"Garde B & good performance\")\n",
    "elif 76<=x<=85:\n",
    "        print(\"Grade A & clever performance\")\n",
    "elif 86<=x<=95:\n",
    "        print(\"Grade O & excellent performance\")\n",
    "elif 96<=x<=100:\n",
    "        print(\"Grade O+ & out standing performance\")\n",
    "else:\n",
    "    if 96<=x<=100:\n",
    "        print(\"the Candidate is failed\")"
   ]
  },
  {
   "cell_type": "code",
   "execution_count": 16,
   "id": "2682a39f-6498-4a8d-8d12-3a85622cb7b8",
   "metadata": {},
   "outputs": [
    {
     "name": "stdin",
     "output_type": "stream",
     "text": [
      "Enter side a:  60\n",
      "Enter side b:  70\n",
      "Enter side c:  80\n"
     ]
    },
    {
     "name": "stdout",
     "output_type": "stream",
     "text": [
      "Acute-angled triangle\n"
     ]
    }
   ],
   "source": [
    "#22. Implement a program to determine the type of a triangle based on its angles.\n",
    "#ans:\n",
    "def triangleType(a, b, c):\n",
    "    sa = pow(a, 2)\n",
    "    sb = pow(b, 2)\n",
    "    sc = pow(c, 2)\n",
    "    if (sa == sc + sb or sb == sa+sc or sc == sa+sb):\n",
    "        print(\"Right-angled triangle\")\n",
    "    elif (sa > sc + sb or sb > sa+sc or sc > sa+sb):\n",
    "        print(\"Obtuse-angled triangle\")\n",
    "    else:\n",
    "        print(\"Acute-angled triangle\")\n",
    "        \n",
    "a = int(input(\"Enter side a: \"))\n",
    "b = int(input(\"Enter side b: \"))\n",
    "c = int(input(\"Enter side c: \"))\n",
    "triangleType(a, b, c)\n"
   ]
  },
  {
   "cell_type": "code",
   "execution_count": 23,
   "id": "027597be-91b2-4546-a98f-3c0b65b1ebf4",
   "metadata": {},
   "outputs": [
    {
     "name": "stdin",
     "output_type": "stream",
     "text": [
      "enter the persons weight : 100\n"
     ]
    },
    {
     "name": "stdout",
     "output_type": "stream",
     "text": [
      "this person is overweight with obese class II \n"
     ]
    }
   ],
   "source": [
    "\"\"\"23. Develop a program to categorize a given person's BMI into underweight, normal, overweight, or obese using\n",
    "elif statements.\"\"\"\n",
    "#ans:\n",
    "#BMI\n",
    "x=int(input(\"enter the persons weight :\"))\n",
    "if 20<=x<=40:\n",
    "    print(\"this person is underweight\")\n",
    "elif 41<=x<=60:\n",
    "    print(\"this person is normalweight\")\n",
    "elif 61<=x<=79:\n",
    "    print(\"this person is over weight\")\n",
    "elif 80<=x<=90:\n",
    "    print(\"this person is overweight with obese class I \")\n",
    "elif 90<=x<=100:\n",
    "    print(\"this person is overweight with obese class II \")\n",
    "elif 100<=x<=600:\n",
    "    print(\"this person is overweight with obese class III \")\n",
    "else :\n",
    "    print(\"enter the valid weight number\")"
   ]
  },
  {
   "cell_type": "code",
   "execution_count": 28,
   "id": "1868da7c-621c-4897-859f-7b46c7d80110",
   "metadata": {},
   "outputs": [
    {
     "name": "stdin",
     "output_type": "stream",
     "text": [
      "enter the number : -100\n"
     ]
    },
    {
     "name": "stdout",
     "output_type": "stream",
     "text": [
      "the number is negative -100\n"
     ]
    }
   ],
   "source": [
    "\"\"\"24. Create a program that determines whether a given number is positive, negative, or zero using elif\n",
    "statements.\"\"\"\n",
    "#ans:\n",
    "x=int(input(\"enter the number :\"))\n",
    "if x>0:\n",
    "    print(\"the entered value is Positive :\",x)\n",
    "elif x<0:\n",
    "    print(\"the number is negative\",x)\n",
    "elif x==0:\n",
    "    print(\"the number is equal to zero\",x)\n",
    "else:\n",
    "    print(\"enter the valid number\")"
   ]
  },
  {
   "cell_type": "code",
   "execution_count": 36,
   "id": "bc336e5d-6f4a-4371-adf8-6a6e076ab970",
   "metadata": {},
   "outputs": [
    {
     "name": "stdin",
     "output_type": "stream",
     "text": [
      "enter your word: ali\n"
     ]
    },
    {
     "name": "stdout",
     "output_type": "stream",
     "text": [
      "word is lowercase :  ali\n"
     ]
    }
   ],
   "source": [
    "\"\"\"25. Write a Python script to determine the type of a character (uppercase, lowercase, or special) using elif\n",
    "statements.\"\"\"\n",
    "#ans:\n",
    "x=input(\"enter your word:\")\n",
    "if x.isupper():\n",
    "    print(\"word is in uppercase : \",x)\n",
    "elif x.islower():\n",
    "    print(\"word is lowercase : \",x)\n",
    "elif x.isdigit():\n",
    "    print(\"this is numeric\",x)\n",
    "else:\n",
    "    print(\"word is specialcase : \",x)\n",
    "    "
   ]
  },
  {
   "cell_type": "code",
   "execution_count": 38,
   "id": "07a662c4-6564-4848-a398-de2f4bcdf3bb",
   "metadata": {},
   "outputs": [
    {
     "name": "stdin",
     "output_type": "stream",
     "text": [
      "Enter purchase amount  5555\n"
     ]
    },
    {
     "name": "stdout",
     "output_type": "stream",
     "text": [
      "Discount Amount = 55.50\n",
      "Net Bill Amount = 5499.50\n"
     ]
    }
   ],
   "source": [
    "\"\"\"26. Implement a program to calculate the discounted price based on different purchase amounts using elif\n",
    "statements.\"\"\"\n",
    "#ans:\n",
    "p=int(input('Enter purchase amount '))\n",
    "\n",
    "if p<=5000:\n",
    "    dis=0\n",
    "elif p>5000 and p<=10000:\n",
    "    dis=(p-5000)*(10/100.0)\n",
    "elif p>10000 and p<=20000:\n",
    "    dis=(p-10000)*(20/100.0)\n",
    "elif p>20000 and p<=30000:\n",
    "    dis=(p-20000)*(30/100.0)\n",
    "else:\n",
    "    dis=(p-30000)*(40/100.0)\n",
    "\n",
    "print('Discount Amount = {:.2f}'.format(dis))\n",
    "print('Net Bill Amount = {:.2f}'.format(p-dis))"
   ]
  },
  {
   "cell_type": "code",
   "execution_count": 39,
   "id": "c049fbf0-db41-462a-be1d-3db2c2b94159",
   "metadata": {},
   "outputs": [
    {
     "name": "stdin",
     "output_type": "stream",
     "text": [
      "Enter your unit:  50000\n"
     ]
    },
    {
     "name": "stdout",
     "output_type": "stream",
     "text": [
      "Bill Per Unit: 583541.0\n",
      "Bill after adding Line rent: 656041.0\n",
      "Bill after adding Meter rent: 656141.0\n",
      "Total Bill after adding tax: 761123.56\n"
     ]
    }
   ],
   "source": [
    "\"\"\"#27. Develop a program to calculate the electricity bill based on different consumption slabs using elif\n",
    "statements.\"\"\"\n",
    "#ans:\n",
    "unit = int(input(\"Enter your unit: \"))\n",
    "if unit <= 100:\n",
    "    bill = unit * 3.46\n",
    "elif unit >= 101 and unit <= 300:\n",
    "    bill = 346 + ((unit - 100) * 7.43)\n",
    "elif unit >= 301 and unit <= 500:\n",
    "    bill = 346 + 1486 + ((unit - 300) * 10.32)\n",
    "else:\n",
    "    bill = 346 + 1486 + 2064 + ((unit - 500) * 11.71)\n",
    "print(\"Bill Per Unit:\",bill)\n",
    "bill = bill + (unit*1.45)\n",
    "print(\"Bill after adding Line rent:\",bill)\n",
    "bill = bill + 100\n",
    "print(\"Bill after adding Meter rent:\",bill)\n",
    "bill = bill + (bill*0.16)\n",
    "print(\"Total Bill after adding tax:\",bill)"
   ]
  },
  {
   "cell_type": "code",
   "execution_count": 40,
   "id": "b4411269-75ca-42d4-87fa-1c2b887c16d0",
   "metadata": {},
   "outputs": [
    {
     "name": "stdout",
     "output_type": "stream",
     "text": [
      "Input lengths of the triangle sides: \n"
     ]
    },
    {
     "name": "stdin",
     "output_type": "stream",
     "text": [
      "x:  60\n",
      "y:  60\n",
      "z:  60\n"
     ]
    },
    {
     "name": "stdout",
     "output_type": "stream",
     "text": [
      "Equilateral triangle\n"
     ]
    }
   ],
   "source": [
    "\"\"\"28. Create a program to determine the type of quadrilateral based on its angles and sides using elif\n",
    "statements.\"\"\"\n",
    "#ans:\n",
    "print(\"Input lengths of the triangle sides: \")\n",
    "x = int(input(\"x: \"))\n",
    "y = int(input(\"y: \"))\n",
    "z = int(input(\"z: \"))\n",
    "\n",
    "if x == y == z:\n",
    "\tprint(\"Equilateral triangle\")\n",
    "elif x==y or y==z or z==x:\n",
    "\tprint(\"isosceles triangle\")\n",
    "else:\n",
    "\tprint(\"Scalene triangle\")"
   ]
  },
  {
   "cell_type": "code",
   "execution_count": 41,
   "id": "ca31a27b-a5a5-4420-a74a-c12dc8a6d17d",
   "metadata": {},
   "outputs": [
    {
     "name": "stdin",
     "output_type": "stream",
     "text": [
      "Input the month (e.g. January, February etc.):  january\n",
      "Input the day:  25\n"
     ]
    },
    {
     "name": "stdout",
     "output_type": "stream",
     "text": [
      "Season is autumn\n"
     ]
    }
   ],
   "source": [
    "#29. Write a Python script to determine the season based on a user-provided month using elif statements.\n",
    "#ans:\n",
    "month = input(\"Input the month (e.g. January, February etc.): \")\n",
    "day = int(input(\"Input the day: \"))\n",
    "\n",
    "if month in ('January', 'February', 'March'):\n",
    "\tseason = 'winter'\n",
    "elif month in ('April', 'May', 'June'):\n",
    "\tseason = 'spring'\n",
    "elif month in ('July', 'August', 'September'):\n",
    "\tseason = 'summer'\n",
    "else:\n",
    "\tseason = 'autumn'\n",
    "\n",
    "if (month == 'March') and (day > 19):\n",
    "\tseason = 'spring'\n",
    "elif (month == 'June') and (day > 20):\n",
    "\tseason = 'summer'\n",
    "elif (month == 'September') and (day > 21):\n",
    "\tseason = 'autumn'\n",
    "elif (month == 'December') and (day > 20):\n",
    "\tseason = 'winter'\n",
    "\n",
    "print(\"Season is\",season)"
   ]
  },
  {
   "cell_type": "code",
   "execution_count": 45,
   "id": "e94a9360-8bc3-4b72-91af-c54de80fc6d5",
   "metadata": {},
   "outputs": [
    {
     "name": "stdin",
     "output_type": "stream",
     "text": [
      "enter the month number 2\n",
      "enter the year 2024\n"
     ]
    },
    {
     "name": "stdout",
     "output_type": "stream",
     "text": [
      "Number of days is 29 and it is a leap year\n"
     ]
    }
   ],
   "source": [
    "\"\"\"30. Implement a program to determine the type of a year (leap or common) and month (30 or 31 days) using\n",
    "elif statements.\"\"\"\n",
    "#ans:\n",
    "\n",
    "month = int(input(\"enter the month number\"))\n",
    "year = int(input(\"enter the year\"))\n",
    "if(month == 1 or month == 3 or month == 5 or month == 7 or month == 8 or month == 10 or month == 12):\n",
    "\tprint(\"Number of days is 31\")\n",
    "elif((month == 2) and ((year%400==0) or (year%4==0 and year%100!=0))):\t\n",
    "\tprint(\"Number of days is 29 and it is a leap year\")\n",
    "elif(month == 2):\n",
    "\tprint(\" of days is 28\")\n",
    "else:\n",
    "\tprint(\"Number of days is 30\")"
   ]
  },
  {
   "cell_type": "code",
   "execution_count": 46,
   "id": "37e05b70-3816-4765-b83a-97ce3c02ab5c",
   "metadata": {},
   "outputs": [],
   "source": [
    "###Basic Level:"
   ]
  },
  {
   "cell_type": "code",
   "execution_count": 4,
   "id": "2d6e7202-53ff-4ae7-ac94-dca817f67eda",
   "metadata": {},
   "outputs": [
    {
     "name": "stdin",
     "output_type": "stream",
     "text": [
      "enter the number :  55\n"
     ]
    },
    {
     "name": "stdout",
     "output_type": "stream",
     "text": [
      "the given number is Positive : 55\n"
     ]
    }
   ],
   "source": [
    "#1. Write a Python program that checks if a given number is positive, negative, or zero.\n",
    "#ans:\n",
    "x=int(input(\"enter the number : \"))\n",
    "if x>0:\n",
    "    print(\"the given number is Positive :\",x)\n",
    "elif x<0:\n",
    "    print(\"the given number is Negative :\",x)\n",
    "elif x==0:\n",
    "    print(\"the given number is Zero :\",x)\n",
    "else:\n",
    "    print(\"enter the valid number :\")"
   ]
  },
  {
   "cell_type": "code",
   "execution_count": 12,
   "id": "f4af0f38-0845-4787-a160-77cfa8906ea1",
   "metadata": {},
   "outputs": [
    {
     "name": "stdin",
     "output_type": "stream",
     "text": [
      "enter the voters age :  12\n"
     ]
    },
    {
     "name": "stdout",
     "output_type": "stream",
     "text": [
      "this person is not eligible\n"
     ]
    }
   ],
   "source": [
    "#2. Create a program to determine if a person is eligible to vote based on their age.\n",
    "#ans:\n",
    "x=int(input(\"enter the voters age : \"))\n",
    "if x>=18:\n",
    "    print(\"this voter is eligible for voting\")\n",
    "else:\n",
    "    if 0<=x<=18:\n",
    "        print(\"this person is not eligible\")\n"
   ]
  },
  {
   "cell_type": "code",
   "execution_count": 13,
   "id": "ac19dda5-b208-4985-ac00-11da80895905",
   "metadata": {},
   "outputs": [
    {
     "name": "stdin",
     "output_type": "stream",
     "text": [
      "enter the a value 5\n",
      "enter the b value 6\n"
     ]
    },
    {
     "name": "stdout",
     "output_type": "stream",
     "text": [
      "maximum number is b :  6\n"
     ]
    }
   ],
   "source": [
    "#3. Write a program to find the maximum of two given numbers using conditional statements.\n",
    "#ans:\n",
    "a=int(input(\"enter the a value\"))\n",
    "b=int(input(\"enter the b value\"))\n",
    "if a>b:\n",
    "    print(\"Maximum number is a : \",a)\n",
    "else:\n",
    "    print(\"maximum number is b : \",b)"
   ]
  },
  {
   "cell_type": "code",
   "execution_count": 14,
   "id": "dbb94c45-9134-43b8-9e3e-be52c3a98d3d",
   "metadata": {},
   "outputs": [
    {
     "name": "stdin",
     "output_type": "stream",
     "text": [
      "enter the score : 55\n"
     ]
    },
    {
     "name": "stdout",
     "output_type": "stream",
     "text": [
      "Garde B & good performance\n"
     ]
    }
   ],
   "source": [
    "#4. Develop a program that calculates the grade of a student based on their exam score.\n",
    "#ans:\n",
    "x=int(input(\"enter the score :\"))\n",
    "\n",
    "\n",
    "if 35<=x<=50:\n",
    "    print(\"Grade 'C' & Need to do hardwork\")\n",
    "elif 51<=x<=75:\n",
    "        print(\"Garde B & good performance\")\n",
    "elif 76<=x<=85:\n",
    "        print(\"Grade A & clever performance\")\n",
    "elif 86<=x<=95:\n",
    "        print(\"Grade O & excellent performance\")\n",
    "elif 96<=x<=100:\n",
    "        print(\"Grade O+ & out standing performance\")\n",
    "else:\n",
    "    if 96<=x<=100:\n",
    "        print(\"the Candidate is failed\")"
   ]
  },
  {
   "cell_type": "code",
   "execution_count": 15,
   "id": "51f38710-32b9-4026-8078-2ebea2a8245e",
   "metadata": {},
   "outputs": [
    {
     "name": "stdin",
     "output_type": "stream",
     "text": [
      "enter the year: 2024\n"
     ]
    },
    {
     "name": "stdout",
     "output_type": "stream",
     "text": [
      "it is the leap year\n"
     ]
    }
   ],
   "source": [
    "#5. Create a program that checks if a year is a leap year or not.\n",
    "#ans:\n",
    "year=int(input(\"enter the year:\"))\n",
    "if ((year % 4 == 0 and year % 100 != 0) or (year % 400 == 0)):\n",
    "    print(\"it is the leap year\")\n",
    "else:\n",
    "    print(\"not a leap year\")"
   ]
  },
  {
   "cell_type": "code",
   "execution_count": 16,
   "id": "1e9550d1-0b17-4038-a993-fe8c7722f0b5",
   "metadata": {},
   "outputs": [
    {
     "name": "stdout",
     "output_type": "stream",
     "text": [
      "Input lengths of the triangle sides: \n"
     ]
    },
    {
     "name": "stdin",
     "output_type": "stream",
     "text": [
      "x:  60\n",
      "y:  60\n",
      "z:  60\n"
     ]
    },
    {
     "name": "stdout",
     "output_type": "stream",
     "text": [
      "Equilateral triangle\n"
     ]
    }
   ],
   "source": [
    "#6. Write a program to classify a triangle based on its sides' lengths.\n",
    "#ans:\n",
    "print(\"Input lengths of the triangle sides: \")\n",
    "x = int(input(\"x: \"))\n",
    "y = int(input(\"y: \"))\n",
    "z = int(input(\"z: \"))\n",
    "\n",
    "if x == y == z:\n",
    "\tprint(\"Equilateral triangle\")\n",
    "elif x==y or y==z or z==x:\n",
    "\tprint(\"isosceles triangle\")\n",
    "else:\n",
    "\tprint(\"Scalene triangle\")"
   ]
  },
  {
   "cell_type": "code",
   "execution_count": 42,
   "id": "04d0b56e-bb71-4f41-884f-f2ea603866e6",
   "metadata": {},
   "outputs": [
    {
     "name": "stdin",
     "output_type": "stream",
     "text": [
      "enter the a value :  50\n",
      "enter the b value :  40\n",
      "enter the c value :  56\n"
     ]
    },
    {
     "name": "stdout",
     "output_type": "stream",
     "text": [
      "a is the maximum value 50\n"
     ]
    }
   ],
   "source": [
    "#7. Build a program that determines the largest of three given numbers.\n",
    "#ans:\n",
    "a=int(input(\"enter the a value : \"))\n",
    "b=int(input(\"enter the b value : \"))\n",
    "c=int(input(\"enter the c value : \"))\n",
    "if a>b:\n",
    "    print(\"a is the maximum value\",a)\n",
    "elif a>c:\n",
    "    print(\"a is the maximum value\",a)\n",
    "elif b>c:\n",
    "    print(\"b is the maximum value\",b)\n",
    "else:\n",
    "    print(\"c is the maximum value\",c)"
   ]
  },
  {
   "cell_type": "code",
   "execution_count": 22,
   "id": "6edaddd1-c7c1-4789-9e56-686a3f288079",
   "metadata": {},
   "outputs": [
    {
     "name": "stdin",
     "output_type": "stream",
     "text": [
      "enter the letter : A\n"
     ]
    },
    {
     "name": "stdout",
     "output_type": "stream",
     "text": [
      "it is a vowel\n"
     ]
    }
   ],
   "source": [
    "#8. Develop a program that checks whether a character is a vowel or a consonant.\n",
    "#ans:\n",
    "char=input(\"enter the letter :\")\n",
    "vowels=['a','i','e','o','u','A','I','E','O','U']\n",
    "if char in vowels:\n",
    "    print(\"it is a vowel\")\n",
    "else:\n",
    "    print(\"it is a constant\")"
   ]
  },
  {
   "cell_type": "code",
   "execution_count": 23,
   "id": "e4418f03-7d6c-4440-b10b-631e650edaf0",
   "metadata": {},
   "outputs": [
    {
     "name": "stdin",
     "output_type": "stream",
     "text": [
      "Enter purchase amount  5006\n"
     ]
    },
    {
     "name": "stdout",
     "output_type": "stream",
     "text": [
      "Discount Amount = 0.60\n",
      "Net Bill Amount = 5005.40\n"
     ]
    }
   ],
   "source": [
    "#9. Create a program to calculate the total cost of a shopping cart based on discounts.\n",
    "#ans:\n",
    "p=int(input('Enter purchase amount '))\n",
    "\n",
    "if p<=5000:\n",
    "    dis=0\n",
    "elif p>5000 and p<=10000:\n",
    "    dis=(p-5000)*(10/100.0)\n",
    "elif p>10000 and p<=20000:\n",
    "    dis=(p-10000)*(20/100.0)\n",
    "elif p>20000 and p<=30000:\n",
    "    dis=(p-20000)*(30/100.0)\n",
    "else:\n",
    "    dis=(p-30000)*(40/100.0)\n",
    "\n",
    "print('Discount Amount = {:.2f}'.format(dis))\n",
    "print('Net Bill Amount = {:.2f}'.format(p-dis))"
   ]
  },
  {
   "cell_type": "code",
   "execution_count": 28,
   "id": "cc5193c6-e644-4a3e-8392-14a5f433a2ac",
   "metadata": {},
   "outputs": [
    {
     "name": "stdin",
     "output_type": "stream",
     "text": [
      "enter the number :  4\n"
     ]
    },
    {
     "name": "stdout",
     "output_type": "stream",
     "text": [
      "given number is even 4\n"
     ]
    }
   ],
   "source": [
    "#10. Write a program that checks if a given number is even or odd.\n",
    "#ans:\n",
    "x=int(input(\"enter the number : \"))\n",
    "if x%2==0:\n",
    "    print(\"given number is even\",x)\n",
    "else:\n",
    "    print(\"given number is odd\",x)\n"
   ]
  },
  {
   "cell_type": "code",
   "execution_count": 29,
   "id": "9632eee7-3d9b-41ea-8e70-df36a446c1ad",
   "metadata": {},
   "outputs": [],
   "source": [
    "###Intermediate Level:"
   ]
  },
  {
   "cell_type": "code",
   "execution_count": 33,
   "id": "9d32e555-4ee7-41cb-9c66-cf279221b183",
   "metadata": {},
   "outputs": [
    {
     "name": "stdin",
     "output_type": "stream",
     "text": [
      "Enter a: 5\n",
      "Enter b: 5\n",
      "Enter c: 5\n"
     ]
    },
    {
     "name": "stdout",
     "output_type": "stream",
     "text": [
      "Complex Roots\n",
      "-0.5  + i 8.660254037844387\n",
      "-0.5  - i 8.660254037844387\n"
     ]
    }
   ],
   "source": [
    "#11. Write a program that calculates the roots of a quadratic equation .\n",
    "#ans:\n",
    "import math\n",
    "# function for finding roots  \n",
    "def findRoots(a, b, c):  \n",
    "  \n",
    "    dis_form = b * b - 4 * a * c  \n",
    "    sqrt_val = math.sqrt(abs(dis_form))  \n",
    "  \n",
    "  \n",
    "    if dis_form > 0:  \n",
    "        print(\" real and different roots \")  \n",
    "        print((-b + sqrt_val) / (2 * a))  \n",
    "        print((-b - sqrt_val) / (2 * a))  \n",
    "  \n",
    "    if dis_form == 0:  \n",
    "        print(\" real and same roots\")  \n",
    "        print(-b / (2 * a))  \n",
    "  \n",
    "  \n",
    "    else:  \n",
    "        print(\"Complex Roots\")  \n",
    "        print(- b / (2 * a), \" + i\", sqrt_val)  \n",
    "        print(- b / (2 * a), \" - i\", sqrt_val)  \n",
    "  \n",
    "  \n",
    "a = int(input('Enter a:'))  \n",
    "b = int(input('Enter b:'))  \n",
    "c = int(input('Enter c:'))  \n",
    "  \n",
    "# If a is 0, then incorrect equation  \n",
    "if a == 0:\n",
    "        print(\"Input correct quadratic equation\")  \n",
    "else:  \n",
    "    findRoots(a, b, c)  "
   ]
  },
  {
   "cell_type": "code",
   "execution_count": 37,
   "id": "7c46e2b0-4153-4186-b839-006c37dbd06b",
   "metadata": {},
   "outputs": [
    {
     "name": "stdin",
     "output_type": "stream",
     "text": [
      "enter a number 1 to 7: 1\n"
     ]
    },
    {
     "name": "stdout",
     "output_type": "stream",
     "text": [
      "1 is Sunday\n"
     ]
    }
   ],
   "source": [
    "#12. Create a program that determines the day of the week based on the day number (1-7).\n",
    "#ans:\n",
    "day=int(input(\"enter a number 1 to 7:\"))\n",
    "if day==1:\n",
    "    print(day, \"is Sunday\")\n",
    "elif day==2:\n",
    "    print(day, \"is Sunday\")\n",
    "elif day == 3:\n",
    "    print(day, \"is Tuesday\")\n",
    "elif day==4:\n",
    "    print(day,\"is wednesday\")\n",
    "elif day==5:\n",
    "    print(day, \"is thursday\")\n",
    "elif day==6:\n",
    "    print(day, \"is friday\")\n",
    "elif day==7:\n",
    "    print(day,\"is saturday\")\n",
    "else:\n",
    "    print(\"wrong input given\")"
   ]
  },
  {
   "cell_type": "code",
   "execution_count": 40,
   "id": "abcd2f25-0ede-4774-b1b1-f22bd0c6b975",
   "metadata": {},
   "outputs": [
    {
     "name": "stdin",
     "output_type": "stream",
     "text": [
      "Enter a number:  5\n"
     ]
    },
    {
     "name": "stdout",
     "output_type": "stream",
     "text": [
      "The factorial of 5 is 120\n"
     ]
    }
   ],
   "source": [
    "#13. Develop a program that calculates the factorial of a given number using recursion.\n",
    "#ans:\n",
    "def recur_factorial(n):\n",
    "    if n == 1:\n",
    "        return n  \n",
    "    else:\n",
    "        return n*recur_factorial(n-1)  \n",
    "# take input from the user  \n",
    "num = int(input(\"Enter a number: \"))  \n",
    "# check is the number is negative  \n",
    "if num < 0:  \n",
    "   print(\"Sorry, factorial does not exist for negative numbers\")  \n",
    "elif num == 0:  \n",
    "   print(\"The factorial of 0 is 1\")  \n",
    "else:  \n",
    "   print(\"The factorial of\",num,\"is\",recur_factorial(num))  "
   ]
  },
  {
   "cell_type": "code",
   "execution_count": 43,
   "id": "ff728302-d279-4ed3-b166-9994d31922f0",
   "metadata": {},
   "outputs": [
    {
     "name": "stdin",
     "output_type": "stream",
     "text": [
      "enter the value of a: 50\n",
      "enter the value of b: 40\n",
      "enter the value of c: 56\n"
     ]
    },
    {
     "name": "stdout",
     "output_type": "stream",
     "text": [
      "c is the maximum value: 56\n"
     ]
    }
   ],
   "source": [
    "#14. Write a program to find the largest among three numbers without using the `max()` function.\n",
    "#ans:\n",
    "a=int(input(\"enter the value of a:\"))\n",
    "b=int(input(\"enter the value of b:\"))\n",
    "c=int(input(\"enter the value of c:\"))\n",
    "if a>b:\n",
    "    if a>c:\n",
    "        print(\"a is the maximum value:\",a)\n",
    "    else:\n",
    "        print(\"c is the maximum value:\",c)\n",
    "else:\n",
    "    if b>c:\n",
    "        print(\"b is the maximum value:\",b)\n",
    "    else:\n",
    "        print(\"c is the maximum value:\",c)\n",
    "    "
   ]
  },
  {
   "cell_type": "code",
   "execution_count": 50,
   "id": "ab04ed52-4f1a-480b-a207-39fc761c5ae3",
   "metadata": {},
   "outputs": [
    {
     "name": "stdout",
     "output_type": "stream",
     "text": [
      "Welcome to your bank account Ms. ABC\n",
      "\n",
      "\t\t0. Logout and Exit\n",
      "\t\t1. View Account Balance\n",
      "\t\t2. Withdraw Cash\n",
      "\t\t3. Deposit Cash\n",
      "\t\t4. Change PIN\n",
      "\t\t5. Return Card\n"
     ]
    },
    {
     "name": "stdin",
     "output_type": "stream",
     "text": [
      "Enter number to proceed >  1\n"
     ]
    },
    {
     "name": "stdout",
     "output_type": "stream",
     "text": [
      "\n",
      "\n",
      "\n"
     ]
    },
    {
     "name": "stdin",
     "output_type": "stream",
     "text": [
      "Please enter your 4-digit PIN >  9876\n"
     ]
    },
    {
     "name": "stdout",
     "output_type": "stream",
     "text": [
      "Account auhtorized!\n",
      "\n",
      "\n",
      "Loading Account Balance...\n",
      "Your current balance is Rs. 97432.5\n",
      "\n",
      "\n",
      "\t\t0. Logout and Exit\n",
      "\t\t1. View Account Balance\n",
      "\t\t2. Withdraw Cash\n",
      "\t\t3. Deposit Cash\n",
      "\t\t4. Change PIN\n",
      "\t\t5. Return Card\n"
     ]
    },
    {
     "name": "stdin",
     "output_type": "stream",
     "text": [
      "Enter number to proceed >  1\n"
     ]
    },
    {
     "name": "stdout",
     "output_type": "stream",
     "text": [
      "\n",
      "\n",
      "\n"
     ]
    },
    {
     "name": "stdin",
     "output_type": "stream",
     "text": [
      "Please enter your 4-digit PIN >  9876\n"
     ]
    },
    {
     "name": "stdout",
     "output_type": "stream",
     "text": [
      "Account auhtorized!\n",
      "\n",
      "\n",
      "Loading Account Balance...\n",
      "Your current balance is Rs. 97432.5\n",
      "\n",
      "\n",
      "\t\t0. Logout and Exit\n",
      "\t\t1. View Account Balance\n",
      "\t\t2. Withdraw Cash\n",
      "\t\t3. Deposit Cash\n",
      "\t\t4. Change PIN\n",
      "\t\t5. Return Card\n"
     ]
    },
    {
     "name": "stdin",
     "output_type": "stream",
     "text": [
      "Enter number to proceed >  0\n"
     ]
    },
    {
     "name": "stdout",
     "output_type": "stream",
     "text": [
      "\n",
      "\n",
      "\n",
      "Exiting...\n",
      "You have been logged out. Thank you!\n",
      "\n",
      "\n"
     ]
    }
   ],
   "source": [
    "#15. Create a program that simulates a basic ATM transaction menu.\n",
    "#ans:\n",
    "import time as t\n",
    "\n",
    "\n",
    "user_pin = 9876\n",
    "user_balance = 97432.50\n",
    "user_name = \"Ms. ABC\"\n",
    "print(\"Welcome to your bank account\", user_name, end = \"\\n\\n\")\n",
    "\n",
    "choice = 9\n",
    "\n",
    "while (True):\n",
    "    print(\"\\t\\t0. Logout and Exit\")\n",
    "    print(\"\\t\\t1. View Account Balance\")\n",
    "    print(\"\\t\\t2. Withdraw Cash\")\n",
    "    print(\"\\t\\t3. Deposit Cash\")\n",
    "    print(\"\\t\\t4. Change PIN\")\n",
    "    print(\"\\t\\t5. Return Card\")\n",
    "    choice = int(input(\"Enter number to proceed > \"))\n",
    "    print(\"\\n\\n\")\n",
    "\n",
    "    if choice == 0:\n",
    "        print(\"Exiting...\")\n",
    "        t.sleep(2)\n",
    "        print(\"You have been logged out. Thank you!\\n\\n\")\n",
    "        break\n",
    "\n",
    "    elif choice in (1,2,3,4,5):\n",
    "        num_of_tries = 3\n",
    "        while (num_of_tries!=0):\n",
    "            input_pin = int(input(\"Please enter your 4-digit PIN > \"))\n",
    "\n",
    "            if input_pin == user_pin:\n",
    "                print(\"Account auhtorized!\\n\\n\")\n",
    "\n",
    "                if choice == 1:\n",
    "                    print(\"Loading Account Balance...\")\n",
    "                    t.sleep(1.5)\n",
    "                    print(\"Your current balance is Rs.\", user_balance, end = \"\\n\\n\\n\")\n",
    "                    break\n",
    "                elif choice == 2:\n",
    "                    print(\"Opening Cash Withdrawal...\")\n",
    "                    t.sleep(1.5)\n",
    "\n",
    "                    while(True):\n",
    "                        withdraw_amt = float(input(\"Enter the amount you wish to withdraw > \"))\n",
    "\n",
    "                        if withdraw_amt>user_balance:\n",
    "                            print(\"Can't withdraw Rs.\", withdraw_amt)\n",
    "                            print(\"Please enter a lower amount!\")\n",
    "                            continue\n",
    "\n",
    "                        else:\n",
    "                            print(\"Withdrawing Rs.\", withdraw_amt)\n",
    "                            confirm = input(\"Confirm? Y/N > \")\n",
    "                            if confirm in ('Y', 'y'):\n",
    "                                user_balance-=withdraw_amt\n",
    "                                print(\"Amount withdrawn - Rs.\", withdraw_amt)\n",
    "                                print(\"Remaining balance - Rs.\", user_balance, end = \"\\n\\n\\n\")\n",
    "                                break\n",
    "\n",
    "                            else:\n",
    "                                print(\"Cancelling transaction...\")\n",
    "                                t.sleep(1)\n",
    "                                print(\"Transaction Cancelled!\\n\\n\")\n",
    "                                break\n",
    "\n",
    "                    break\n",
    "\n",
    "                elif choice == 3:\n",
    "                    print(\"Loading Cash Deposit...\")\n",
    "                    t.sleep(1.5)\n",
    "\n",
    "                    deposit_amt = float(input(\"Enter the amount you wish to deposit > \"))\n",
    "                    print(\"Depositing Rs.\", deposit_amt)\n",
    "                    confirm = input(\"Confirm? Y/N > \")\n",
    "                    if confirm in ('Y', 'y'):\n",
    "                        user_balance+=deposit_amt\n",
    "                        print(\"Amount deposited - Rs.\", deposit_amt)\n",
    "                        print(\"Updated balance - Rs.\", user_balance, end = \"\\n\\n\\n\")\n",
    "                    else:\n",
    "                        print(\"Cancelling transaction...\")\n",
    "                        t.sleep(1)\n",
    "                        print(\"Transaction Cancelled!\\n\\n\")\n",
    "\n",
    "                    break\n",
    "\n",
    "\n",
    "                elif choice == 4:\n",
    "                    print(\"Loading PIN Change...\")\n",
    "                    t.sleep(1.5)\n",
    "\n",
    "                    pin_new = int(input(\"Enter your new PIN > \"))\n",
    "\n",
    "                    print(\"Changing PIN to\", pin_new)\n",
    "                    confirm = input(\"Confirm? Y/N > \")\n",
    "                    if confirm in ('Y', 'y'):\n",
    "                        user_pin = pin_new\n",
    "                        print(\"PIN changed successfully! \\n\\n\")\n",
    "                    else:\n",
    "                        print(\"Cancelling PIN change...\")\n",
    "                        t.sleep(1)\n",
    "                        print(\"Process Cancelled!\\n\\n\")\n",
    "\n",
    "                    break\n",
    "\n",
    "                else:\n",
    "                    print(\"Loading Card Return...\")\n",
    "                    t.sleep(1.5)\n",
    "\n",
    "                    print(\"Returning your ATM Card\")\n",
    "                    confirm = input(\"Confirm? Y/N > \")\n",
    "                    if confirm in ('Y', 'y'):\n",
    "                        print(\"Card returned successfully! \\n\\n\")\n",
    "                    else:\n",
    "                        print(\"Cancelling process...\")\n",
    "                        t.sleep(1)\n",
    "                        print(\"Process Cancelled!\\n\\n\")\n",
    "\n",
    "                    break\n",
    "\n",
    "            else:\n",
    "                num_of_tries-=1\n",
    "                print(\"PIN incorrect! Number of tries left -\", num_of_tries, end = \"\\n\\n\")\n",
    "\n",
    "        else:\n",
    "            print(\"Exiting...\")\n",
    "            t.sleep(2)\n",
    "            print(\"You have been logged out. Thank you!\\n\\n\")\n",
    "            break\n",
    "\n",
    "\n",
    "    else:\n",
    "        print(\"Invalid input!\")\n",
    "        print(\"\\t\\t0. Enter 0 to Logout and Exit!\")\n",
    "        continue"
   ]
  },
  {
   "cell_type": "code",
   "execution_count": 45,
   "id": "778a7474-58c2-4b47-a006-5a31d53559c3",
   "metadata": {},
   "outputs": [
    {
     "name": "stdin",
     "output_type": "stream",
     "text": [
      "enter the word ali\n"
     ]
    },
    {
     "name": "stdout",
     "output_type": "stream",
     "text": [
      "the word is not a palindrome\n"
     ]
    }
   ],
   "source": [
    "#16. Build a program that checks if a given string is a palindrome or not.\n",
    "#ans:\n",
    "x=input(\"enter the word\")\n",
    "if x==x[::-1]:\n",
    "    print(\" the entered was is palindrome\")\n",
    "else:\n",
    "    print(\"the word is not a palindrome\")\n",
    "    "
   ]
  },
  {
   "cell_type": "code",
   "execution_count": 10,
   "id": "40329bc6-93c5-4520-8181-60ad8191fee5",
   "metadata": {},
   "outputs": [
    {
     "name": "stdout",
     "output_type": "stream",
     "text": [
      "Average of the list = 35.75\n"
     ]
    }
   ],
   "source": [
    "#17. Write a program that calculates the average of a list of numbers, excluding the smallest and largest values.\n",
    "#ans:\n",
    "# Python program to get average of a list \n",
    "def Average(lst): \n",
    "\treturn sum(lst) / len(lst) \n",
    "\n",
    "# Driver Code \n",
    "lst = [15, 9, 55, 41, 35, 20, 62, 49] \n",
    "average = Average(lst) \n",
    "\n",
    "# Printing average of the list \n",
    "print(\"Average of the list =\", round(average, 2)) \n"
   ]
  },
  {
   "cell_type": "code",
   "execution_count": 46,
   "id": "2de17c95-616a-49de-8dec-a7df00072caf",
   "metadata": {},
   "outputs": [
    {
     "name": "stdout",
     "output_type": "stream",
     "text": [
      "47.00 Celsius is equivalent to: 116.60 Fahrenheit\n"
     ]
    }
   ],
   "source": [
    "#18. Develop a program that converts a given temperature from Celsius to Fahrenheit.\n",
    "#ans:\n",
    "# Temperature in celsius degree\n",
    "celsius = 47\n",
    "\n",
    "# Converting the temperature to\n",
    "# fehrenheit using the formula\n",
    "fahrenheit = (celsius * 1.8) + 32\n",
    "\n",
    "# printing the result\n",
    "print('%.2f Celsius is equivalent to: %.2f Fahrenheit'\n",
    "\t% (celsius, fahrenheit))\n"
   ]
  },
  {
   "cell_type": "code",
   "execution_count": 42,
   "id": "fee56c88-1ade-4d2f-8de1-575b8cf3138b",
   "metadata": {},
   "outputs": [
    {
     "name": "stdin",
     "output_type": "stream",
     "text": [
      "enter the a value:  5\n",
      "enter the b value:  5\n",
      "enter any operation add,sub,mul,div div\n"
     ]
    },
    {
     "name": "stdout",
     "output_type": "stream",
     "text": [
      "5 div 5 1.0\n"
     ]
    }
   ],
   "source": [
    "#19. Create a program that simulates a basic calculator for addition, subtraction, multiplication, and division.\n",
    "#ans:\n",
    "a=int(input(\"enter the a value: \"))\n",
    "b=int(input(\"enter the b value: \"))\n",
    "char=input(\"enter any operation add,sub,mul,div\")\n",
    "if char==\"add\":\n",
    "    result=a+b\n",
    "elif char==\"sub\":\n",
    "    result=a-b\n",
    "elif char==\"mul\":\n",
    "    result=a*b\n",
    "elif char==\"div\":\n",
    "    result=a/b\n",
    "else:\n",
    "    print(\"input is not recognized\")\n",
    "print(a,char,b,result)"
   ]
  },
  {
   "cell_type": "code",
   "execution_count": 44,
   "id": "2aa9181e-9b3e-4d89-857f-1044299440cf",
   "metadata": {},
   "outputs": [
    {
     "name": "stdin",
     "output_type": "stream",
     "text": [
      "enter the a value:  5\n",
      "enter the b value:  6\n",
      "enter the c value:  7\n"
     ]
    },
    {
     "name": "stdout",
     "output_type": "stream",
     "text": [
      "x^3 -  10 x^2 +  31 x -  30  = 0\n"
     ]
    }
   ],
   "source": [
    "#20. Write a program that determines the roots of a cubic equation using the Cardano formula.\n",
    "#ans:\n",
    "a=int(input(\"enter the a value: \"))\n",
    "b=int(input(\"enter the b value: \"))\n",
    "c=int(input(\"enter the c value: \"))\n",
    "# Function to find the cubic equation\n",
    "# whose roots are a, b and c\n",
    "def findEquation(a, b, c):\n",
    "     \n",
    "    # Find the value of coefficient\n",
    "    X = (a + b + c);\n",
    "    Y = (a * b) + (b * c) + (c * a);\n",
    "    Z = (a * b * c);\n",
    " \n",
    "    # Print the equation as per the\n",
    "    # above coefficients\n",
    "    print(\"x^3 - \" , X ,\n",
    "          \"x^2 + \" ,Y ,\n",
    "          \"x - \" , Z , \" = 0\");\n",
    " \n",
    "# Driver Code\n",
    "if __name__ == '__main__':\n",
    "     \n",
    "    a = 5;\n",
    "    b = 2;\n",
    "    c = 3;\n",
    " \n",
    "    # Function Call\n",
    "    findEquation(a, b, c);"
   ]
  },
  {
   "cell_type": "code",
   "execution_count": 45,
   "id": "35fb9c08-3df7-4dc7-8c3b-e7665b485a13",
   "metadata": {},
   "outputs": [],
   "source": [
    "###Advanced Level:"
   ]
  },
  {
   "cell_type": "code",
   "execution_count": 12,
   "id": "1c889931-118e-4e31-9505-b111629864ea",
   "metadata": {},
   "outputs": [],
   "source": [
    "#21. Create a program that calculates the income tax based on the user's income and tax brackets.\n",
    "#ans:\n",
    "\n",
    "def calculate(amount,percent):\n",
    "    return(amount*percent)/100\n",
    "def calculate_income_tax(total_income:float)->float:\n",
    "    if total_income<=25000:\n",
    "        return 0\n",
    "    elif total_income <=50000:\n",
    "        return calculate(total_income-250000,5)\n",
    "    elif total_income<=750000:\n",
    "        return calculate(total_income-750000,10)+12500\n",
    "    elif total_income <=1250000:\n",
    "        return calculate(total_income-1000000,20)+75000\n",
    "    elif total_incme<=1500000:\n",
    "        return calculate(total_income-1250000,25)+125000\n",
    "    else:\n",
    "        return calculate(total_income-1500000,30)+187500\n",
    "    \n",
    "    \n",
    "    if __name__=='__main__':\n",
    "        total_income=float(input(\"what's your \\annualincome?\\n>>>\"))\n",
    "        tax=claculate_income_tax(total_income)\n",
    "        print(f\"total taxapplicableat \\₹{total_income}is ₹{tax}\")"
   ]
  },
  {
   "cell_type": "code",
   "execution_count": 22,
   "id": "b55d0b4b-acbf-41ec-be15-252381f26c05",
   "metadata": {},
   "outputs": [
    {
     "name": "stdin",
     "output_type": "stream",
     "text": [
      "What's your annual income  500000\n"
     ]
    },
    {
     "name": "stdout",
     "output_type": "stream",
     "text": [
      "Total tax applicable at ₹ 500000.0 is ₹ 12500.0\n"
     ]
    }
   ],
   "source": [
    "#21. Create a program that calculates the income tax based on the user's income and tax brackets.\n",
    "#ans:\n",
    "def calculate(amount, percent): \n",
    "\treturn (amount * percent) / 100\n",
    "\n",
    "def calculate_income_tax(total_income: \n",
    "\t\t\t\t\t\tfloat) -> float: \n",
    "\n",
    "\tif total_income <= 250000: \n",
    "\t\treturn 0\n",
    "\telif total_income <= 500000: \n",
    "\t\treturn calculate(total_income -\n",
    "\t\t\t\t\t\t250000, 5) \n",
    "\telif total_income <= 750000: \n",
    "\t\treturn calculate(total_income -\n",
    "\t\t\t\t\t\t500000, 10) + 12500\n",
    "\telif total_income <= 1000000: \n",
    "\t\treturn calculate(total_income -\n",
    "\t\t\t\t\t\t750000, 15) + 37500\n",
    "\telif total_income <= 1250000: \n",
    "\t\treturn calculate(total_income -\n",
    "\t\t\t\t\t\t1000000, 20) + 75000\n",
    "\telif total_income <= 1500000: \n",
    "\t\treturn calculate(total_income -\n",
    "\t\t\t\t\t\t1250000, 25) + 125000\n",
    "\telse: \n",
    "\t\treturn calculate(total_income -\n",
    "\t\t\t\t\t\t1500000, 30) + 187500\n",
    "\n",
    "\n",
    "if __name__ == '__main__': \n",
    "\ttotal_income = float(input(\"What's your annual income \")) \n",
    "\ttax = calculate_income_tax(total_income) \n",
    "\tprint(f\"Total tax applicable at ₹ {total_income} is ₹ {tax}\") \n"
   ]
  },
  {
   "cell_type": "code",
   "execution_count": 16,
   "id": "9237468b-0c85-4ef8-9903-a7d27b1a85e1",
   "metadata": {},
   "outputs": [
    {
     "name": "stdin",
     "output_type": "stream",
     "text": [
      "Enter your choice : scissor\n"
     ]
    },
    {
     "name": "stdout",
     "output_type": "stream",
     "text": [
      "you chose: scissor\n",
      "computer_chose: paper\n",
      "you win\n"
     ]
    }
   ],
   "source": [
    "#22. Write a program that simulates a rock-paper-scissors game against the computer.\n",
    "#ans:\n",
    "import random\n",
    "options=[\"rock\",\"paper\",\"scissor\"]\n",
    "user_choice=input(\"Enter your choice :\")\n",
    "computer_choice=random.choice(options)\n",
    "print(\"you chose:\",user_choice)\n",
    "print(\"computer_chose:\",computer_choice)\n",
    "if user_choice==computer_choice:\n",
    "    print(\"its tie\")\n",
    "elif user_choice==\"rock\" and computer_choice==\"paper\":\n",
    "    print(\"computer wins\")\n",
    "elif user_choice==\"rock\" and computer_choice==\"scissor\":\n",
    "    print(\"computer wins\")\n",
    "elif user_choice==\"scissor\" and computer_choice==\"paper\":\n",
    "    print(\"you win\")\n",
    "else:\n",
    "    print(\"compuer wins\")"
   ]
  },
  {
   "cell_type": "code",
   "execution_count": 35,
   "id": "dc7145d2-852d-4195-941e-3ef31e8647e6",
   "metadata": {},
   "outputs": [
    {
     "name": "stdin",
     "output_type": "stream",
     "text": [
      "enter the password length : 10\n"
     ]
    },
    {
     "name": "stdout",
     "output_type": "stream",
     "text": [
      "choice character set for a pasword from these:\n",
      "          1.Letters\n",
      "          2.Special characters\n",
      "          3.Digits\n",
      "          4.exit\n"
     ]
    },
    {
     "name": "stdin",
     "output_type": "stream",
     "text": [
      "pick a number : 3\n",
      "pick a number : 1\n",
      "pick a number : 4\n"
     ]
    },
    {
     "name": "stdout",
     "output_type": "stream",
     "text": [
      "the random password is : jKyQHoU3W2\n"
     ]
    }
   ],
   "source": [
    "#23. Develop a program that generates a random password based on user preferences (length, complexity).\n",
    "#ans:\n",
    "import string\n",
    "import random\n",
    "#getting password length\n",
    "length=int(input(\"enter the password length :\"))\n",
    "print('''choice character set for a pasword from these:\n",
    "          1.Letters\n",
    "          2.Special characters\n",
    "          3.Digits\n",
    "          4.exit''')\n",
    "characterList=\"\"\n",
    "#getting charcter set  password\n",
    "while(True):\n",
    "    choice = int(input(\"pick a number :\"))\n",
    "    if (choice==1):\n",
    "        \n",
    "        #adding letters to possible characters\n",
    "        characterList+=string.ascii_letters\n",
    "    elif(choice==2):\n",
    "        \n",
    "        #adding special characters to possible\n",
    "        #characters\n",
    "        characterList+=string.punctuation\n",
    "    elif(choice==3):\n",
    "        #adding special characters to possible\n",
    "        #characters\n",
    "        characterList+=string.digits\n",
    "    elif(choice==4):\n",
    "        break\n",
    "    else:\n",
    "        print(\"please pick a valid optional!\")\n",
    "        \n",
    "        \n",
    "password=[]\n",
    "for i in range(length):\n",
    "    randomchar=random.choice(characterList)\n",
    "    password.append(randomchar)\n",
    "print(\"the random password is : \" +\"\".join(password))"
   ]
  },
  {
   "cell_type": "code",
   "execution_count": 15,
   "id": "3f40af44-baaa-45fc-ad35-86df5189d650",
   "metadata": {},
   "outputs": [
    {
     "name": "stdout",
     "output_type": "stream",
     "text": [
      "\n",
      "WELCOME! LET'S START THE ADVENTURE\n",
      "\n",
      "You are standing outside of your house and you see a man running towards you and asking for urgent shelter.\n",
      "\n",
      "Will you provide shelter to him. (Yes / No)\n",
      "\n"
     ]
    },
    {
     "name": "stdin",
     "output_type": "stream",
     "text": [
      ">> yes\n"
     ]
    },
    {
     "name": "stdout",
     "output_type": "stream",
     "text": [
      "\n",
      "After 2 minutes, the Police came to your house, and ask you that whether the thief is in your house or not. Will you say (Yes / No)\n",
      "\n"
     ]
    },
    {
     "name": "stdin",
     "output_type": "stream",
     "text": [
      ">> yes\n"
     ]
    },
    {
     "name": "stdout",
     "output_type": "stream",
     "text": [
      "\n",
      "You are an honest person. He was a thief & You won the Game\n"
     ]
    }
   ],
   "source": [
    "#24. Create a program that implements a simple text-based adventure game with branching scenarios.\n",
    "#ans:\n",
    "answer_yes = [\"Yes\", \"Y\", \"yes\", \"y\"]\n",
    "answer_no = [\"No\", \"N\", \"no\", \"n\"]\n",
    "\n",
    "print(\"\"\"\n",
    "WELCOME! LET'S START THE ADVENTURE\n",
    "\n",
    "You are standing outside of your house and you see a man running towards you and asking for urgent shelter.\n",
    "\n",
    "Will you provide shelter to him. (Yes / No)\n",
    "\"\"\")\n",
    "\n",
    "ans1 = input(\">>\")\n",
    "\n",
    "if ans1 in answer_yes:\n",
    "    print(\"\\nAfter 2 minutes, the Police came to your house, and ask you that whether the thief is in your house or not. Will you say (Yes / No)\\n\")\n",
    "\n",
    "    ans2 = input(\">>\")\n",
    "\n",
    "    if ans2 in answer_yes:\n",
    "        print(\"\\nYou are an honest person. He was a thief & You won the Game\")\n",
    "\n",
    "    elif ans2 in answer_no:\n",
    "        print(\"\\nYou helped a thief. Now, go to Jail. GAME OVER\")\n",
    "\n",
    "    else:\n",
    "        print(\"\\nYou typed the wrong input. GOODBYE!\")\n",
    "\n",
    "elif ans1 in answer_no:\n",
    "    print(\"\\nNow, he is trying to kill you. Will, you knock him down? (Yes / No)\\n\")\n",
    "\n",
    "    ans3 = input(\">>\")\n",
    "\n",
    "    if ans3 in answer_yes:\n",
    "        print(\"\\nCongrats! He was a thief & You helped the police to catch him with your bravery.\")\n",
    "\n",
    "    elif ans3 in answer_no:\n",
    "        print(\"\\nSorry! You are dead. He was a thief & He killed you. GAME OVER\")\n",
    "\n",
    "    else:\n",
    "        print(\"\\nYou typed the wrong input. GOODBYE!\")\n",
    "\n",
    "else:\n",
    "    print(\"\\nYou typed the wrong input. GOODBYE!\")"
   ]
  },
  {
   "cell_type": "code",
   "execution_count": 18,
   "id": "02e86d82-61c2-4627-b347-67e7fbacdd03",
   "metadata": {},
   "outputs": [
    {
     "data": {
      "text/plain": [
       "3236.0"
      ]
     },
     "execution_count": 18,
     "metadata": {},
     "output_type": "execute_result"
    }
   ],
   "source": [
    "#25. Build a program that solves a linear equation for x, considering different cases.\n",
    "#ans:\n",
    "def solve_linear(equation,var='x'):\n",
    "    expression = equation.replace(\"=\",\"-(\")+\")\"\n",
    "    grouped = eval(expression.replace(var,'1j'))\n",
    "    return -grouped.real/grouped.imag\n",
    "solve_linear(\"x-2*x+5*x-46*(235-24)=x+2\")"
   ]
  },
  {
   "cell_type": "code",
   "execution_count": 19,
   "id": "ad7e8243-8967-43f0-8ddd-c4fc285643ca",
   "metadata": {},
   "outputs": [
    {
     "name": "stdout",
     "output_type": "stream",
     "text": [
      "Wellcome to quiz game !!\n",
      "NOTE: if your spelling is incorrect then it is considered as wrong answer\n"
     ]
    },
    {
     "name": "stdin",
     "output_type": "stream",
     "text": [
      "Do you want to play ?  yes\n",
      "\n",
      "1. what does CPU stand for?  central processing unit\n"
     ]
    },
    {
     "name": "stdout",
     "output_type": "stream",
     "text": [
      "correct! you got 1 point\n"
     ]
    },
    {
     "name": "stdin",
     "output_type": "stream",
     "text": [
      "\n",
      "2. what does GPU stand for?  graphiacal processing unit\n"
     ]
    },
    {
     "name": "stdout",
     "output_type": "stream",
     "text": [
      "Incorrect!\n",
      "current answer is --> graphics processing unit\n"
     ]
    },
    {
     "name": "stdin",
     "output_type": "stream",
     "text": [
      "\n",
      "3. what does RAM stand for?  random access memory\n"
     ]
    },
    {
     "name": "stdout",
     "output_type": "stream",
     "text": [
      "correct! you got 1 point\n"
     ]
    },
    {
     "name": "stdin",
     "output_type": "stream",
     "text": [
      "\n",
      "4. what does PSU stand for?  \n"
     ]
    },
    {
     "name": "stdout",
     "output_type": "stream",
     "text": [
      "Incorrect!\n",
      "current answer is --> power supply unit\n"
     ]
    },
    {
     "name": "stdin",
     "output_type": "stream",
     "text": [
      "\n",
      "5. what does ROM stand for?  random of memory\n"
     ]
    },
    {
     "name": "stdout",
     "output_type": "stream",
     "text": [
      "Incorrect!\n",
      "current answer is --> read only memory\n",
      "\n",
      "number of question is 5\n",
      "your score is 2\n",
      "40.0% questions are correct.\n"
     ]
    }
   ],
   "source": [
    "#26. Write a program that simulates a basic quiz game with multiple-choice questions and scoring.\n",
    "#ans:\n",
    "print(\"Wellcome to quiz game !!\")\n",
    "print('NOTE: if your spelling is incorrect then it is considered as wrong answer')\n",
    "score = 0\n",
    "question_no = 0\n",
    "playing = input('Do you want to play ? ').lower()\n",
    "if playing == 'yes':\n",
    "    question_no += 1\n",
    "    ques = input(f'\\n{question_no}. what does CPU stand for? ').lower()\n",
    "    if ques == 'central processing unit':\n",
    "        score +=1\n",
    "        print('correct! you got 1 point')\n",
    "        \n",
    "    else:\n",
    "        print('Incorrect!')\n",
    "        print(f'current answer is --> central processing unit')\n",
    "\n",
    "# ------1\n",
    "    question_no += 1\n",
    "    ques = input(f'\\n{question_no}. what does GPU stand for? ').lower()\n",
    "    \n",
    "    if ques == 'graphics processing unit':\n",
    "        score +=1\n",
    "        print('correct! you got 1 point')\n",
    "        \n",
    "    else:\n",
    "        print('Incorrect!')\n",
    "        print(f'current answer is --> graphics processing unit')\n",
    "\n",
    "# -----2\n",
    "    question_no += 1\n",
    "    ques = input(f'\\n{question_no}. what does RAM stand for? ').lower()\n",
    "    \n",
    "    if ques == 'random access memory':\n",
    "        score +=1\n",
    "        print('correct! you got 1 point')\n",
    "        \n",
    "    else:\n",
    "        print('Incorrect!')\n",
    "        print(f'current answer is --> random access memory')\n",
    "\n",
    "# -----3\n",
    "    question_no += 1\n",
    "    ques = input(f'\\n{question_no}. what does PSU stand for? ').lower()\n",
    "    \n",
    "    if ques == 'power supply unit':\n",
    "        score +=1\n",
    "        print('correct! you got 1 point')\n",
    "        \n",
    "    else:\n",
    "        print('Incorrect!')\n",
    "        print(f'current answer is --> power supply unit')\n",
    "\n",
    "\n",
    "# -----4\n",
    "    question_no += 1\n",
    "    ques = input(f'\\n{question_no}. what does ROM stand for? ').lower()\n",
    "    \n",
    "    if ques == 'read only memory':\n",
    "        score +=1\n",
    "        print('correct! you got 1 point')\n",
    "        \n",
    "    else:\n",
    "        print('Incorrect!')\n",
    "        print(f'current answer is --> read only memory')\n",
    "\n",
    "\n",
    "# ------5 \n",
    "\n",
    "else:\n",
    "    print('thankyou you are out of a game.')\n",
    "    quit()\n",
    "\n",
    "print(f'\\nnumber of question is {question_no}')\n",
    "print(f'your score is {score}')\n",
    "try:\n",
    "    percentage = (score *100)/question_no\n",
    "except ZeroDivisionError:\n",
    "    print('0% quetions are correct')\n",
    "\n",
    "print(f'{percentage}% questions are correct.')"
   ]
  },
  {
   "cell_type": "code",
   "execution_count": 28,
   "id": "1f48ac80-d9dc-4593-9c1c-f12e8f3981af",
   "metadata": {},
   "outputs": [
    {
     "name": "stdin",
     "output_type": "stream",
     "text": [
      "enter the number 16\n"
     ]
    },
    {
     "name": "stdout",
     "output_type": "stream",
     "text": [
      "16  is Not a Prime Number!\n"
     ]
    }
   ],
   "source": [
    "#27. Develop a program that determines whether a given year is a prime number or not.\n",
    "from math import sqrt\n",
    "\n",
    "# Number to be checked for prime\n",
    "n =int(input(\"enter the number\"))\n",
    "\n",
    "flag = 0\n",
    "\n",
    "if(n > 1):\n",
    "\tfor k in range(2, int(sqrt(n)) + 1):\n",
    "\t\tif (n % k == 0):\n",
    "\t\t\tflag = 1\n",
    "\t\tbreak\n",
    "\tif (flag == 0):\n",
    "\t\tprint(n,\" is a Prime Number!\")\n",
    "\telse:\n",
    "\t\tprint(n,\" is Not a Prime Number!\")\n",
    "else:\n",
    "\tprint(n,\" is Not a Prime Number!\")"
   ]
  },
  {
   "cell_type": "code",
   "execution_count": 29,
   "id": "fd017180-21d6-4711-89a4-16c4ec9ad299",
   "metadata": {},
   "outputs": [
    {
     "name": "stdin",
     "output_type": "stream",
     "text": [
      "Enter the first number:  10\n",
      "Enter the second number:  5\n",
      "Enter the third number:  4\n"
     ]
    },
    {
     "name": "stdout",
     "output_type": "stream",
     "text": [
      "Sorted numbers in ascending order: 4 5 10\n"
     ]
    }
   ],
   "source": [
    "#28. Create a program that sorts three numbers in ascending order using conditional statements.\n",
    "#ans:\n",
    "# Prompt the user to enter three numbers\n",
    "num1 = int(input(\"Enter the first number: \"))\n",
    "num2 = int(input(\"Enter the second number: \"))\n",
    "num3 = int(input(\"Enter the third number: \"))\n",
    "\n",
    "# Sort the numbers in ascending order\n",
    "if num1 <= num2 and num1 <= num3:\n",
    "    smallest = num1\n",
    "    if num2 <= num3:\n",
    "        middle = num2\n",
    "        largest = num3\n",
    "    else:\n",
    "        middle = num3\n",
    "        largest = num2\n",
    "elif num2 <= num1 and num2 <= num3:\n",
    "    smallest = num2\n",
    "    if num1 <= num3:\n",
    "        middle = num1\n",
    "        largest = num3\n",
    "    else:\n",
    "        middle = num3\n",
    "        largest = num1\n",
    "else:\n",
    "    smallest = num3\n",
    "    if num1 <= num2:\n",
    "        middle = num1\n",
    "        largest = num2\n",
    "    else:\n",
    "        middle = num2\n",
    "        largest = num1\n",
    "\n",
    "# Print the sorted numbers in ascending order\n",
    "print(\"Sorted numbers in ascending order:\", smallest, middle, largest)"
   ]
  },
  {
   "cell_type": "code",
   "execution_count": 32,
   "id": "5e4c8375-8ba9-474b-a00b-dfcadfb3bc32",
   "metadata": {},
   "outputs": [
    {
     "name": "stdout",
     "output_type": "stream",
     "text": [
      "Roots are real and different \n",
      "4.0\n",
      "3.0\n"
     ]
    }
   ],
   "source": [
    "#29. Build a program that determines the roots of a quartic equation using numerical methods.\n",
    "#ans:\n",
    "# Python program to find roots\n",
    "# of a quadratic equation\n",
    "import math\n",
    " \n",
    "# Prints roots of quadratic equation\n",
    "# ax*2 + bx + x\n",
    "def findRoots(a, b, c):\n",
    " \n",
    "    # If a is 0, then equation is\n",
    "    # not quadratic, but linear\n",
    "    if a == 0:\n",
    "        print(\"Invalid\")\n",
    "        return -1\n",
    "    d = b * b - 4 * a * c\n",
    "    sqrt_val = math.sqrt(abs(d))\n",
    " \n",
    "    if d > 0:\n",
    "        print(\"Roots are real and different \")\n",
    "        print((-b + sqrt_val)/(2 * a))\n",
    "        print((-b - sqrt_val)/(2 * a))\n",
    "    elif d == 0:\n",
    "        print(\"Roots are real and same\")\n",
    "        print(-b / (2*a))\n",
    "    else:  # d<0\n",
    "        print(\"Roots are complex\")\n",
    "        print(- b / (2*a), \" + i\", sqrt_val / (2 * a))\n",
    "        print(- b / (2*a), \" - i\", sqrt_val / (2 * a))\n",
    " \n",
    " \n",
    "# Driver Program\n",
    "if __name__ == '__main__':\n",
    "    a = 1\n",
    "    b = -7\n",
    "    c = 12\n",
    "     \n",
    "    # Function call\n",
    "    findRoots(a, b, c)\n",
    " "
   ]
  },
  {
   "cell_type": "code",
   "execution_count": 33,
   "id": "719b4423-0f5f-4643-b8c5-9f4571c98024",
   "metadata": {},
   "outputs": [
    {
     "name": "stdin",
     "output_type": "stream",
     "text": [
      "Enter your height in meters:  170\n",
      "Enter your weight in kg:  74\n"
     ]
    },
    {
     "name": "stdout",
     "output_type": "stream",
     "text": [
      "Welcome to the BMI calculator.\n",
      "Your BMI is:  0.0\n",
      "You are underweight.\n"
     ]
    }
   ],
   "source": [
    "'''#30. Write a program that calculates the BMI (Body Mass Index) and provides health recommendations based\n",
    "on the user's input.'''\n",
    "#ans:\n",
    "def bodymassindex(height,weight):\n",
    "    return round((weight / height**2),2)\n",
    "\n",
    "\n",
    "h = float(input(\"Enter your height in meters: \"))\n",
    "w = float(input(\"Enter your weight in kg: \"))\n",
    "\n",
    "\n",
    "print(\"Welcome to the BMI calculator.\")\n",
    "\n",
    "bmi = bodymassindex(h, w)\n",
    "print(\"Your BMI is: \", bmi)\n",
    "\n",
    "\n",
    "if bmi <= 18.5:\n",
    "    print(\"You are underweight.\")\n",
    "elif 18.5 < bmi <= 24.9:\n",
    "    print(\"Your weight is normal.\")\n",
    "elif 25 < bmi <= 29.29:\n",
    "    print(\"You are overweight.\")\n",
    "else:\n",
    "    print(\"You are obese.\")"
   ]
  },
  {
   "cell_type": "code",
   "execution_count": 35,
   "id": "f26cbb2a-efac-4118-8172-067e6a36252e",
   "metadata": {},
   "outputs": [],
   "source": [
    "###Challenge Level:"
   ]
  },
  {
   "cell_type": "code",
   "execution_count": 37,
   "id": "b9c57846-d6a5-437e-a6af-908d4c98085f",
   "metadata": {},
   "outputs": [
    {
     "name": "stdin",
     "output_type": "stream",
     "text": [
      "enter the password length : 10\n"
     ]
    },
    {
     "name": "stdout",
     "output_type": "stream",
     "text": [
      "choice character set for a pasword from these:\n",
      "          1.Letters\n",
      "          2.Special characters\n",
      "          3.Digits\n",
      "          4.exit\n"
     ]
    },
    {
     "name": "stdin",
     "output_type": "stream",
     "text": [
      "pick a number : 2\n",
      "pick a number : 5\n"
     ]
    },
    {
     "name": "stdout",
     "output_type": "stream",
     "text": [
      "please pick a valid optional!\n"
     ]
    },
    {
     "name": "stdin",
     "output_type": "stream",
     "text": [
      "pick a number : 4\n"
     ]
    },
    {
     "name": "stdout",
     "output_type": "stream",
     "text": [
      "the random password is : (};\\'.,.}{\n"
     ]
    }
   ],
   "source": [
    "'''31. Create a program that validates a password based on complexity rules (length, characters, etc.).'''\n",
    "#ans:\n",
    "import string\n",
    "import random\n",
    "#getting password length\n",
    "length=int(input(\"enter the password length :\"))\n",
    "print('''choice character set for a pasword from these:\n",
    "          1.Letters\n",
    "          2.Special characters\n",
    "          3.Digits\n",
    "          4.exit''')\n",
    "characterList=\"\"\n",
    "#getting charcter set  password\n",
    "while(True):\n",
    "    choice = int(input(\"pick a number :\"))\n",
    "    if (choice==1):\n",
    "        \n",
    "        #adding letters to possible characters\n",
    "        characterList+=string.ascii_letters\n",
    "    elif(choice==2):\n",
    "        \n",
    "        #adding special characters to possible\n",
    "        #characters\n",
    "        characterList+=string.punctuation\n",
    "    elif(choice==3):\n",
    "        #adding special characters to possible\n",
    "        #characters\n",
    "        characterList+=string.digits\n",
    "    elif(choice==4):\n",
    "        break\n",
    "    else:\n",
    "        print(\"please pick a valid optional!\")\n",
    "        \n",
    "        \n",
    "password=[]\n",
    "for i in range(length):\n",
    "    randomchar=random.choice(characterList)\n",
    "    password.append(randomchar)\n",
    "print(\"the random password is : \" +\"\".join(password))"
   ]
  },
  {
   "cell_type": "code",
   "execution_count": 54,
   "id": "a052f088-021b-40a7-bdbe-a525e3c81cd8",
   "metadata": {},
   "outputs": [
    {
     "name": "stdin",
     "output_type": "stream",
     "text": [
      "Enter Number of rows:  2\n",
      "Enter row:  9 8\n",
      "Enter row:  7 6\n",
      "Enter Number of rows: 2\n",
      "Enter row:  5 4\n",
      "Enter row:  3 2\n"
     ]
    },
    {
     "name": "stdout",
     "output_type": "stream",
     "text": [
      "Add Matrix:\n",
      "[[14, 12], [10, 8]]\n",
      "Subtract Matrix:\n",
      "[[4, 4], [4, 4]]\n"
     ]
    }
   ],
   "source": [
    "#32. Develop a program that performs matrix addition and subtraction based on user input.\n",
    "#ans:\n",
    "# Python program to add and subtract two matrix\n",
    "\n",
    "# take first matrix inputs\n",
    "m1 = [list(map(int, input(\"Enter row: \").split(\" \")))\n",
    "      for i in range(int(input(\"Enter Number of rows: \")))]\n",
    "\n",
    "# take second matrix inputs\n",
    "m2 = [list(map(int, input(\"Enter row: \").split(\" \")))\n",
    "      for i in range(int(input(\"Enter Number of rows:\")))]\n",
    "\n",
    "# add these matrix\n",
    "print(\"Add Matrix:\")\n",
    "r = [[m1[i][j] + m2[i][j]\n",
    "      for j in range(len(m1[0]))] for i in range(len(m1))]\n",
    "print(r)\n",
    "\n",
    "# subtract these matrix\n",
    "print(\"Subtract Matrix:\")\n",
    "r = [[m1[i][j] - m2[i][j]\n",
    "      for j in range(len(m1[0]))] for i in range(len(m1))]\n",
    "print(r)"
   ]
  },
  {
   "cell_type": "code",
   "execution_count": 56,
   "id": "b3651d08-745f-43ee-b1ca-36b7f64a3bf4",
   "metadata": {},
   "outputs": [
    {
     "name": "stdout",
     "output_type": "stream",
     "text": [
      "GCD of 98 and 56 is 14\n"
     ]
    }
   ],
   "source": [
    "'''#33. Write a program that calculates the greatest common divisor (GCD) of two numbers using the Euclidean\n",
    "algorithm.'''\n",
    "#ans:\n",
    "# Recursive function to return gcd of a and b\n",
    "def gcd(a, b):\n",
    "\n",
    "\t# Everything divides 0\n",
    "\tif (a == 0):\n",
    "\t\treturn b\n",
    "\tif (b == 0):\n",
    "\t\treturn a\n",
    "\n",
    "\t# base case\n",
    "\tif (a == b):\n",
    "\t\treturn a\n",
    "\n",
    "\t# a is greater\n",
    "\tif (a > b):\n",
    "\t\treturn gcd(a-b, b)\n",
    "\treturn gcd(a, b-a)\n",
    "\n",
    "# Driver program to test above function\n",
    "a = 98\n",
    "b = 56\n",
    "if(gcd(a, b)):\n",
    "\tprint('GCD of', a, 'and', b, 'is', gcd(a, b))\n",
    "else:\n",
    "\tprint('not found')\n",
    "\n"
   ]
  },
  {
   "cell_type": "code",
   "execution_count": 57,
   "id": "7c83fce1-3fd4-4f74-9fc4-e2bf1d0a9366",
   "metadata": {},
   "outputs": [
    {
     "name": "stdout",
     "output_type": "stream",
     "text": [
      "[114, 160, 60, 27]\n",
      "[74, 97, 73, 14]\n",
      "[119, 157, 112, 23]\n"
     ]
    }
   ],
   "source": [
    "#34. Build a program that performs matrix multiplication using nested loops and conditional statements.\n",
    "#ans:\n",
    "# Program to multiply two matrices using list comprehension\n",
    "\n",
    "# take a 3x3 matrix\n",
    "A = [[12, 7, 3],\n",
    "\t[4, 5, 6],\n",
    "\t[7, 8, 9]]\n",
    "\n",
    "# take a 3x4 matrix\n",
    "B = [[5, 8, 1, 2],\n",
    "\t[6, 7, 3, 0],\n",
    "\t[4, 5, 9, 1]]\n",
    "\n",
    "# result will be 3x4\n",
    "result = [[sum(a * b for a, b in zip(A_row, B_col)) \n",
    "\t\t\t\t\t\tfor B_col in zip(*B)]\n",
    "\t\t\t\t\t\t\t\tfor A_row in A]\n",
    "\n",
    "for r in result:\n",
    "\tprint(r)\n"
   ]
  },
  {
   "cell_type": "code",
   "execution_count": 58,
   "id": "50b4ed47-f1c0-43d6-a6d7-92d49be58a0c",
   "metadata": {},
   "outputs": [
    {
     "name": "stdout",
     "output_type": "stream",
     "text": [
      "[[0 0 0]\n",
      " [0 0 0]\n",
      " [0 0 0]]\n",
      "Board after 1 move\n",
      "[[0 0 0]\n",
      " [0 0 0]\n",
      " [0 1 0]]\n",
      "Board after 2 move\n",
      "[[2 0 0]\n",
      " [0 0 0]\n",
      " [0 1 0]]\n",
      "Board after 3 move\n",
      "[[2 0 0]\n",
      " [0 0 0]\n",
      " [1 1 0]]\n",
      "Board after 4 move\n",
      "[[2 0 0]\n",
      " [0 0 2]\n",
      " [1 1 0]]\n",
      "Board after 5 move\n",
      "[[2 0 0]\n",
      " [0 1 2]\n",
      " [1 1 0]]\n",
      "Board after 6 move\n",
      "[[2 0 0]\n",
      " [0 1 2]\n",
      " [1 1 2]]\n",
      "Board after 7 move\n",
      "[[2 0 0]\n",
      " [1 1 2]\n",
      " [1 1 2]]\n",
      "Board after 8 move\n",
      "[[2 2 0]\n",
      " [1 1 2]\n",
      " [1 1 2]]\n",
      "Board after 9 move\n",
      "[[2 2 1]\n",
      " [1 1 2]\n",
      " [1 1 2]]\n",
      "Winner is: 1\n"
     ]
    }
   ],
   "source": [
    "#35. Create a program that simulates a basic text-based tic-tac-toe game against the computer.\n",
    "#ans:\n",
    "# Tic-Tac-Toe Program using\n",
    "# random number in Python\n",
    "\n",
    "# importing all necessary libraries\n",
    "import numpy as np\n",
    "import random\n",
    "from time import sleep\n",
    "\n",
    "# Creates an empty board\n",
    "\n",
    "\n",
    "def create_board():\n",
    "\treturn(np.array([[0, 0, 0],\n",
    "\t\t\t\t\t[0, 0, 0],\n",
    "\t\t\t\t\t[0, 0, 0]]))\n",
    "\n",
    "# Check for empty places on board\n",
    "\n",
    "\n",
    "def possibilities(board):\n",
    "\tl = []\n",
    "\n",
    "\tfor i in range(len(board)):\n",
    "\t\tfor j in range(len(board)):\n",
    "\n",
    "\t\t\tif board[i][j] == 0:\n",
    "\t\t\t\tl.append((i, j))\n",
    "\treturn(l)\n",
    "\n",
    "# Select a random place for the player\n",
    "\n",
    "\n",
    "def random_place(board, player):\n",
    "\tselection = possibilities(board)\n",
    "\tcurrent_loc = random.choice(selection)\n",
    "\tboard[current_loc] = player\n",
    "\treturn(board)\n",
    "\n",
    "# Checks whether the player has three\n",
    "# of their marks in a horizontal row\n",
    "\n",
    "\n",
    "def row_win(board, player):\n",
    "\tfor x in range(len(board)):\n",
    "\t\twin = True\n",
    "\n",
    "\t\tfor y in range(len(board)):\n",
    "\t\t\tif board[x, y] != player:\n",
    "\t\t\t\twin = False\n",
    "\t\t\t\tcontinue\n",
    "\n",
    "\t\tif win == True:\n",
    "\t\t\treturn(win)\n",
    "\treturn(win)\n",
    "\n",
    "# Checks whether the player has three\n",
    "# of their marks in a vertical row\n",
    "\n",
    "\n",
    "def col_win(board, player):\n",
    "\tfor x in range(len(board)):\n",
    "\t\twin = True\n",
    "\n",
    "\t\tfor y in range(len(board)):\n",
    "\t\t\tif board[y][x] != player:\n",
    "\t\t\t\twin = False\n",
    "\t\t\t\tcontinue\n",
    "\n",
    "\t\tif win == True:\n",
    "\t\t\treturn(win)\n",
    "\treturn(win)\n",
    "\n",
    "# Checks whether the player has three\n",
    "# of their marks in a diagonal row\n",
    "\n",
    "\n",
    "def diag_win(board, player):\n",
    "\twin = True\n",
    "\ty = 0\n",
    "\tfor x in range(len(board)):\n",
    "\t\tif board[x, x] != player:\n",
    "\t\t\twin = False\n",
    "\tif win:\n",
    "\t\treturn win\n",
    "\twin = True\n",
    "\tif win:\n",
    "\t\tfor x in range(len(board)):\n",
    "\t\t\ty = len(board) - 1 - x\n",
    "\t\t\tif board[x, y] != player:\n",
    "\t\t\t\twin = False\n",
    "\treturn win\n",
    "\n",
    "# Evaluates whether there is\n",
    "# a winner or a tie\n",
    "\n",
    "\n",
    "def evaluate(board):\n",
    "\twinner = 0\n",
    "\n",
    "\tfor player in [1, 2]:\n",
    "\t\tif (row_win(board, player) or\n",
    "\t\t\t\tcol_win(board, player) or\n",
    "\t\t\t\tdiag_win(board, player)):\n",
    "\n",
    "\t\t\twinner = player\n",
    "\n",
    "\tif np.all(board != 0) and winner == 0:\n",
    "\t\twinner = -1\n",
    "\treturn winner\n",
    "\n",
    "# Main function to start the game\n",
    "\n",
    "\n",
    "def play_game():\n",
    "\tboard, winner, counter = create_board(), 0, 1\n",
    "\tprint(board)\n",
    "\tsleep(2)\n",
    "\n",
    "\twhile winner == 0:\n",
    "\t\tfor player in [1, 2]:\n",
    "\t\t\tboard = random_place(board, player)\n",
    "\t\t\tprint(\"Board after \" + str(counter) + \" move\")\n",
    "\t\t\tprint(board)\n",
    "\t\t\tsleep(2)\n",
    "\t\t\tcounter += 1\n",
    "\t\t\twinner = evaluate(board)\n",
    "\t\t\tif winner != 0:\n",
    "\t\t\t\tbreak\n",
    "\treturn(winner)\n",
    "\n",
    "\n",
    "# Driver Code\n",
    "print(\"Winner is: \" + str(play_game()))\n"
   ]
  },
  {
   "cell_type": "code",
   "execution_count": 60,
   "id": "8abc91a6-1707-4425-bed2-b7ac7e0b0726",
   "metadata": {},
   "outputs": [
    {
     "name": "stdout",
     "output_type": "stream",
     "text": [
      "Fibonacci Series: 0 1 1 2 3 5 8 13 21 34 \n"
     ]
    }
   ],
   "source": [
    "#36. Write a program that generates Fibonacci numbers up to a specified term using iterative methods.\n",
    "num = 10\n",
    "n1, n2 = 0, 1\n",
    "print(\"Fibonacci Series:\", n1, n2, end=\" \")\n",
    "for i in range(2, num):\n",
    "    n3 = n1 + n2\n",
    "    n1 = n2\n",
    "    n2 = n3\n",
    "    print(n3, end=\" \")\n",
    "\n",
    "print()"
   ]
  },
  {
   "cell_type": "code",
   "execution_count": 61,
   "id": "a846104d-6de4-4587-9def-b43930097eae",
   "metadata": {},
   "outputs": [
    {
     "name": "stdout",
     "output_type": "stream",
     "text": [
      "34\n"
     ]
    }
   ],
   "source": [
    "#37. Develop a program that calculates the nth term of the Fibonacci sequence using memoization.\n",
    "#ans:\n",
    "# Function for nth Fibonacci number\n",
    "\n",
    "def Fibonacci(n):\n",
    "\tif n<= 0:\n",
    "\t\tprint(\"Incorrect input\")\n",
    "\t# First Fibonacci number is 0\n",
    "\telif n == 1:\n",
    "\t\treturn 0\n",
    "\t# Second Fibonacci number is 1\n",
    "\telif n == 2:\n",
    "\t\treturn 1\n",
    "\telse:\n",
    "\t\treturn Fibonacci(n-1)+Fibonacci(n-2)\n",
    "\n",
    "# Driver Program\n",
    "\n",
    "print(Fibonacci(10))\n"
   ]
  },
  {
   "cell_type": "code",
   "execution_count": 62,
   "id": "ffad59f3-e5c8-4f2c-af0a-11d06acebb9f",
   "metadata": {},
   "outputs": [
    {
     "name": "stdout",
     "output_type": "stream",
     "text": [
      "   November 2014\n",
      "Mo Tu We Th Fr Sa Su\n",
      "                1  2\n",
      " 3  4  5  6  7  8  9\n",
      "10 11 12 13 14 15 16\n",
      "17 18 19 20 21 22 23\n",
      "24 25 26 27 28 29 30\n",
      "\n"
     ]
    }
   ],
   "source": [
    "#38. Create a program that generates a calendar for a given month and year using conditional statements.\n",
    "#ans:\n",
    "# Program to display calendar of the given month and year\n",
    "\n",
    "# importing calendar module\n",
    "import calendar\n",
    "\n",
    "yy = 2014  # year\n",
    "mm = 11    # month\n",
    "\n",
    "# To take month and year input from the user\n",
    "# yy = int(input(\"Enter year: \"))\n",
    "# mm = int(input(\"Enter month: \"))\n",
    "\n",
    "# display the calendar\n",
    "print(calendar.month(yy, mm))"
   ]
  },
  {
   "cell_type": "code",
   "execution_count": 63,
   "id": "eea25b67-096f-4749-92e6-3c0bbc74a49a",
   "metadata": {},
   "outputs": [
    {
     "name": "stdout",
     "output_type": "stream",
     "text": [
      "Cards Player Has: [('10', 'Diamonds'), ('3', 'Diamonds')]\n",
      "Score Of The Player: 13\n",
      "\n",
      "\n"
     ]
    },
    {
     "name": "stdin",
     "output_type": "stream",
     "text": [
      "What do you want? [\"play\" to request another card, \"stop\" to stop]:  stop\n"
     ]
    },
    {
     "name": "stdout",
     "output_type": "stream",
     "text": [
      "Cards Dealer Has: [('10', 'Hearts'), ('8', 'Clubs')]\n",
      "Score Of The Dealer: 18\n",
      "\n",
      "\n",
      "Cards Dealer Has: [('10', 'Hearts'), ('8', 'Clubs')]\n",
      "Score Of The Dealer: 18\n",
      "Cards Player Has: [('10', 'Diamonds'), ('3', 'Diamonds')]\n",
      "Score Of The Player: 13\n",
      "Dealer wins (Dealer Has High Score than Player)\n"
     ]
    }
   ],
   "source": [
    "#39. Build a program that simulates a basic text-based blackjack game against the computer.\n",
    "#ans:\n",
    "import random \n",
    "\n",
    "card_categories = ['Hearts', 'Diamonds', 'Clubs', 'Spades'] \n",
    "cards_list = ['Ace', '2', '3', '4', '5', '6', '7', '8', '9', '10', 'Jack', 'Queen', 'King'] \n",
    "deck = [(card, category) for category in card_categories for card in cards_list] \n",
    "\n",
    "def card_value(card): \n",
    "\tif card[0] in ['Jack', 'Queen', 'King']: \n",
    "\t\treturn 10\n",
    "\telif card[0] == 'Ace': \n",
    "\t\treturn 11\n",
    "\telse: \n",
    "\t\treturn int(card[0]) \n",
    "\n",
    "random.shuffle(deck) \n",
    "player_card = [deck.pop(), deck.pop()] \n",
    "dealer_card = [deck.pop(), deck.pop()] \n",
    "\n",
    "while True: \n",
    "\tplayer_score = sum(card_value(card) for card in player_card) \n",
    "\tdealer_score = sum(card_value(card) for card in dealer_card) \n",
    "\tprint(\"Cards Player Has:\", player_card) \n",
    "\tprint(\"Score Of The Player:\", player_score) \n",
    "\tprint(\"\\n\") \n",
    "\tchoice = input('What do you want? [\"play\" to request another card, \"stop\" to stop]: ').lower() \n",
    "\tif choice == \"play\": \n",
    "\t\tnew_card = deck.pop() \n",
    "\t\tplayer_card.append(new_card) \n",
    "\telif choice == \"stop\": \n",
    "\t\tbreak\n",
    "\telse: \n",
    "\t\tprint(\"Invalid choice. Please try again.\") \n",
    "\t\tcontinue\n",
    "\n",
    "\tif player_score > 21: \n",
    "\t\tprint(\"Cards Dealer Has:\", dealer_card) \n",
    "\t\tprint(\"Score Of The Dealer:\", dealer_score) \n",
    "\t\tprint(\"Cards Player Has:\", player_card) \n",
    "\t\tprint(\"Score Of The Player:\", player_score) \n",
    "\t\tprint(\"Dealer wins (Player Loss Because Player Score is exceeding 21)\") \n",
    "\t\tbreak\n",
    "\n",
    "while dealer_score < 17: \n",
    "\tnew_card = deck.pop() \n",
    "\tdealer_card.append(new_card) \n",
    "\tdealer_score += card_value(new_card) \n",
    "\n",
    "print(\"Cards Dealer Has:\", dealer_card) \n",
    "print(\"Score Of The Dealer:\", dealer_score) \n",
    "print(\"\\n\") \n",
    "\n",
    "if dealer_score > 21: \n",
    "\tprint(\"Cards Dealer Has:\", dealer_card) \n",
    "\tprint(\"Score Of The Dealer:\", dealer_score) \n",
    "\tprint(\"Cards Player Has:\", player_card) \n",
    "\tprint(\"Score Of The Player:\", player_score) \n",
    "\tprint(\"Player wins (Dealer Loss Because Dealer Score is exceeding 21)\") \n",
    "elif player_score > dealer_score: \n",
    "\tprint(\"Cards Dealer Has:\", dealer_card) \n",
    "\tprint(\"Score Of The Dealer:\", dealer_score) \n",
    "\tprint(\"Cards Player Has:\", player_card) \n",
    "\tprint(\"Score Of The Player:\", player_score) \n",
    "\tprint(\"Player wins (Player Has High Score than Dealer)\") \n",
    "elif dealer_score > player_score: \n",
    "\tprint(\"Cards Dealer Has:\", dealer_card) \n",
    "\tprint(\"Score Of The Dealer:\", dealer_score) \n",
    "\tprint(\"Cards Player Has:\", player_card) \n",
    "\tprint(\"Score Of The Player:\", player_score) \n",
    "\tprint(\"Dealer wins (Dealer Has High Score than Player)\") \n",
    "else: \n",
    "\tprint(\"Cards Dealer Has:\", dealer_card) \n",
    "\tprint(\"Score Of The Dealer:\", dealer_score) \n",
    "\tprint(\"Cards Player Has:\", player_card) \n",
    "\tprint(\"Score Of The Player:\", player_score) \n",
    "\tprint(\"It's a tie.\")\n"
   ]
  },
  {
   "cell_type": "code",
   "execution_count": 64,
   "id": "08284329-4728-4a8e-8a86-a4c1d4e40335",
   "metadata": {},
   "outputs": [
    {
     "name": "stdout",
     "output_type": "stream",
     "text": [
      "Composite\n"
     ]
    }
   ],
   "source": [
    "#40. Write a program that generates the prime factors of a given number using trial division.\n",
    "#ans:\n",
    "# Python3 implementation of \n",
    "# Trial Division Algorithm\n",
    "\n",
    "# Function to check if a number is\n",
    "# a prime number or not \n",
    "def TrialDivision(N):\n",
    "\n",
    "\t# Initializing with the value 2 \n",
    "\t# from where the number is checked\n",
    "\ti = 2\n",
    "\n",
    "\t# Computing the square root of \n",
    "\t# the number N\n",
    "\tk = int(N ** 0.5)\n",
    "\n",
    "\t# While loop till the \n",
    "\t# square root of N\n",
    "\twhile(i<= k):\n",
    "\n",
    "\t\t# If any of the numbers between \n",
    "\t\t# [2, sqrt(N)] is a factor of N \n",
    "\t\t# Then the number is composite\n",
    "\t\tif(N % i == 0):\n",
    "\t\t\treturn 0\n",
    "\t\ti += 1\n",
    "\n",
    "\t# If none of the numbers is a factor,\n",
    "\t# then it is a prime number\n",
    "\treturn 1\n",
    "\t\n",
    "# Driver code\n",
    "if __name__ == \"__main__\":\n",
    "\tN = 49\n",
    "\tp = TrialDivision(N)\n",
    "\n",
    "# To check if a number is a prime or not\n",
    "\tif(p):\n",
    "\t\tprint(\"Prime\")\n",
    "\telse:\n",
    "\t\tprint(\"Composite\")\n",
    "\t\t\n"
   ]
  },
  {
   "cell_type": "code",
   "execution_count": null,
   "id": "2f8d65fa-eb20-497a-8563-9adb20065b13",
   "metadata": {},
   "outputs": [],
   "source": []
  }
 ],
 "metadata": {
  "kernelspec": {
   "display_name": "Python 3 (ipykernel)",
   "language": "python",
   "name": "python3"
  },
  "language_info": {
   "codemirror_mode": {
    "name": "ipython",
    "version": 3
   },
   "file_extension": ".py",
   "mimetype": "text/x-python",
   "name": "python",
   "nbconvert_exporter": "python",
   "pygments_lexer": "ipython3",
   "version": "3.10.8"
  }
 },
 "nbformat": 4,
 "nbformat_minor": 5
}
