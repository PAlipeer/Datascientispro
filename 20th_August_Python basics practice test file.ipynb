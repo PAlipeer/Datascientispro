{
 "cells": [
  {
   "cell_type": "code",
   "execution_count": 1,
   "id": "a6af0e3a-5d36-457b-8ea2-11994736bcf7",
   "metadata": {},
   "outputs": [],
   "source": [
    "#TOPIC: String Based Assignment Problem"
   ]
  },
  {
   "cell_type": "code",
   "execution_count": 217,
   "id": "52668d7f-884d-4402-8d14-5aa0bade6574",
   "metadata": {},
   "outputs": [
    {
     "name": "stdin",
     "output_type": "stream",
     "text": [
      "enter your string pw skills\n"
     ]
    },
    {
     "name": "stdout",
     "output_type": "stream",
     "text": [
      "to reverse string is : pw skills,  the reversed stringis  : slliks wp\n"
     ]
    }
   ],
   "source": [
    "#1. Write a program to reverse a string.\n",
    "#ans:\n",
    "l1=input(\"enter your string\")\n",
    "k=l1[::-1] # reversing a string\n",
    "\n",
    "print(\"to reverse string is : {},  the reversed stringis  : {}\".format(l1,k))"
   ]
  },
  {
   "cell_type": "code",
   "execution_count": 218,
   "id": "e307c96d-4398-43c1-9b73-7f01e6254e4d",
   "metadata": {},
   "outputs": [
    {
     "name": "stdin",
     "output_type": "stream",
     "text": [
      " enter a string :  malayalam\n"
     ]
    },
    {
     "name": "stdout",
     "output_type": "stream",
     "text": [
      "reversed string : malayalam\n",
      "your entered string is palindrome\n"
     ]
    }
   ],
   "source": [
    "#2. Check if a string is a palindrome.\n",
    "# ans. here the palindrome word is 'string'\n",
    "s=input(\" enter a string : \")\n",
    "k=s[::--1]\n",
    "print(\"reversed string :\",k)\n",
    "def ispalindrome(s):\n",
    "    return s==s[::-1]\n",
    "if ispalindrome(s):\n",
    "    print(\"your entered string is palindrome\")\n",
    "else:\n",
    "    print(\"your entered string is not a palindrome\")"
   ]
  },
  {
   "cell_type": "code",
   "execution_count": 219,
   "id": "4f2ab656-309f-4377-9d3d-7aa9efb4016c",
   "metadata": {},
   "outputs": [
    {
     "name": "stdin",
     "output_type": "stream",
     "text": [
      "enter a string alipeer\n"
     ]
    },
    {
     "name": "stdout",
     "output_type": "stream",
     "text": [
      "ALIPEER\n"
     ]
    }
   ],
   "source": [
    "#3. Convert a string to uppercase.\n",
    "#ans.\n",
    "a=input(\"enter a string\")\n",
    "l=a.upper()\n",
    "print(l)"
   ]
  },
  {
   "cell_type": "code",
   "execution_count": 220,
   "id": "b5a2e65b-2abd-4bdc-adc6-3aa6ac638c17",
   "metadata": {},
   "outputs": [
    {
     "name": "stdin",
     "output_type": "stream",
     "text": [
      "enter a string : PWSKILLS\n"
     ]
    },
    {
     "data": {
      "text/plain": [
       "'pwskills'"
      ]
     },
     "execution_count": 220,
     "metadata": {},
     "output_type": "execute_result"
    }
   ],
   "source": [
    "#4. Convert a string to lowercase.\n",
    "a=input(\"enter a string :\")\n",
    "a.lower()"
   ]
  },
  {
   "cell_type": "code",
   "execution_count": 221,
   "id": "be1db476-11b1-442b-ae7e-432bda0c3f23",
   "metadata": {},
   "outputs": [
    {
     "name": "stdin",
     "output_type": "stream",
     "text": [
      "enter your string pwskills\n"
     ]
    },
    {
     "name": "stdout",
     "output_type": "stream",
     "text": [
      "Number of vowels:  1\n"
     ]
    }
   ],
   "source": [
    "#5. Count the number of vowels in a string.\n",
    "#ans.\n",
    "# Program: Count number of vowels in a String in Python\n",
    "\n",
    "string = input(\"enter your string\")\n",
    "string.lower()\n",
    "\n",
    "# list comprehension\n",
    "count = len([char for char in string if char in \"aeiou\"])\n",
    "\n",
    "print(\"Number of vowels: \", count   )\n"
   ]
  },
  {
   "cell_type": "code",
   "execution_count": 222,
   "id": "d96fae25-778b-43a7-877f-5a3491020c35",
   "metadata": {},
   "outputs": [
    {
     "name": "stdout",
     "output_type": "stream",
     "text": [
      "Number of vowels:  10\n"
     ]
    }
   ],
   "source": [
    "#6. Count the number of consonants in a string.\n",
    "#ans.  consonants\n",
    "string = \"befor i use to love someone\"\n",
    "string.lower()\n",
    "\n",
    "# list comprehension\n",
    "count = len([char for char in string if char in \"bcdfghjklmnpqrstvwxyz\"])\n",
    "\n",
    "print(\"Number of vowels: \", count )\n"
   ]
  },
  {
   "cell_type": "code",
   "execution_count": 223,
   "id": "145b61fe-7283-47d7-a250-374b04fa5aa8",
   "metadata": {},
   "outputs": [
    {
     "data": {
      "text/plain": [
       "'MyNameisALIPEER'"
      ]
     },
     "execution_count": 223,
     "metadata": {},
     "output_type": "execute_result"
    }
   ],
   "source": [
    "#7. Remove all whitespaces from a string\n",
    "#ans.\n",
    "d=\"        My Name is ALIPEER     \"\n",
    "d.replace(\" \",\"\")"
   ]
  },
  {
   "cell_type": "code",
   "execution_count": 225,
   "id": "61fc7d51-2a84-4b3b-9c40-d1bb920c8a1c",
   "metadata": {},
   "outputs": [
    {
     "name": "stdin",
     "output_type": "stream",
     "text": [
      " alipeer\n"
     ]
    },
    {
     "name": "stdout",
     "output_type": "stream",
     "text": [
      "Length of a string is:\n",
      "7\n"
     ]
    }
   ],
   "source": [
    "#8. Find the length of a string without using the `len()` function.\n",
    "#ans.\n",
    "string=input()\n",
    "count=0\n",
    "for char in string:\n",
    "      count=count+1\n",
    "print(\"Length of a string is:\")\n",
    "print(count)"
   ]
  },
  {
   "cell_type": "code",
   "execution_count": 226,
   "id": "01aca02d-74ea-4386-9703-2ad492befc8f",
   "metadata": {},
   "outputs": [
    {
     "name": "stdout",
     "output_type": "stream",
     "text": [
      "Found!  hyderabad\n"
     ]
    }
   ],
   "source": [
    "#9. Check if a string contains a specific word.\n",
    "#ans.\n",
    "fullstring = \"my name is alipeer and i am from hyderabad\"\n",
    "substring = \"hyderabad\"\n",
    "\n",
    "if substring in fullstring:\n",
    "    print(\"Found! \",substring)\n",
    "else:\n",
    "    print(\"Not found!\")"
   ]
  },
  {
   "cell_type": "code",
   "execution_count": 227,
   "id": "1e870c89-89b0-4c5d-b409-2d55420e9fdc",
   "metadata": {},
   "outputs": [
    {
     "name": "stdout",
     "output_type": "stream",
     "text": [
      "The string contains 'fox'\n"
     ]
    }
   ],
   "source": [
    "string = \"The quick brown fox jumps over the lazy dog\"\n",
    "if string.find(\"fox\") != -1:\n",
    "     print(\"The string contains 'fox'\")\n",
    "else:\n",
    "     print(\"The string does not contain 'fox'\")"
   ]
  },
  {
   "cell_type": "code",
   "execution_count": 228,
   "id": "0fc654f0-c86d-4435-9564-cd8bd431cba2",
   "metadata": {},
   "outputs": [
    {
     "data": {
      "text/plain": [
       "'stronger'"
      ]
     },
     "execution_count": 228,
     "metadata": {},
     "output_type": "execute_result"
    }
   ],
   "source": [
    "#10. Replace a word in a string with another word\n",
    "string=\"powerful\"\n",
    "string.replace(\"powerful\",\"stronger\")"
   ]
  },
  {
   "cell_type": "code",
   "execution_count": 229,
   "id": "bac0480d-8008-4254-a6a0-c6fb57997f05",
   "metadata": {},
   "outputs": [
    {
     "name": "stdout",
     "output_type": "stream",
     "text": [
      "The word 'sample' appears 1 times in the input string.\n"
     ]
    }
   ],
   "source": [
    "#11. Count the occurrences of a word in a string.\n",
    "#ans.\n",
    "def count_word_occurrences(input_string, target_word):\n",
    "    # Step 1: Initialize a variable to keep track of the word count\n",
    "    word_count = 0\n",
    "\n",
    "    # Step 2: Split the input string into a list of words\n",
    "    words = input_string.split()\n",
    "\n",
    "    # Step 3: Iterate through each word in the list\n",
    "    for word in words:\n",
    "        # Step 4: Check if the current word matches the target word\n",
    "        if word == target_word:\n",
    "            # Step 5: Increment the word count if the words match\n",
    "            word_count += 1\n",
    "\n",
    "    # Step 6: Return the final word count\n",
    "    return word_count\n",
    "\n",
    "# Input string\n",
    "input_string = \"This is a sample sentence. This sentence contains the word 'sample' multiple times.\"\n",
    "\n",
    "# Target word to count\n",
    "target_word = \"sample\"\n",
    "\n",
    "# Call the function and print the result\n",
    "result = count_word_occurrences(input_string, target_word)\n",
    "print(f\"The word '{target_word}' appears {result} times in the input string.\")"
   ]
  },
  {
   "cell_type": "code",
   "execution_count": 230,
   "id": "46d71c92-fd6f-4f91-b297-ac65dc92a4a4",
   "metadata": {},
   "outputs": [
    {
     "data": {
      "text/plain": [
       "11"
      ]
     },
     "execution_count": 230,
     "metadata": {},
     "output_type": "execute_result"
    }
   ],
   "source": [
    "#12. Find the first occurrence of a word in a string.\n",
    "#ans.\n",
    "s=\"my name is ali but ali is nick name\"\n",
    "s.find('ali') #it will show the first occurance of word\n"
   ]
  },
  {
   "cell_type": "code",
   "execution_count": 231,
   "id": "8f7d4825-4a13-4ef1-9699-3bbd088382e5",
   "metadata": {},
   "outputs": [
    {
     "name": "stdout",
     "output_type": "stream",
     "text": [
      "Index of the last occurrence: 66\n"
     ]
    }
   ],
   "source": [
    "#13. Find the last occurrence of a word in a string.\n",
    "#ans.\n",
    "def find_last_occurrence(text, word):\n",
    "    # Step 1: Find the index of the last occurrence of the word in the text.\n",
    "    index = text.rfind(word)\n",
    "\n",
    "    # Step 2: Check if the index is -1, indicating that the word was not found.\n",
    "    if index == -1:\n",
    "        return None  # Return None if the word is not found.\n",
    "\n",
    "    # Step 3: Return the index of the last occurrence of the word.\n",
    "    return index\n",
    "\n",
    "# Example usage\n",
    "text = \"This is an example sentence. This sentence also contains the word example.\"\n",
    "word = \"example\"\n",
    "result = find_last_occurrence(text, word)\n",
    "print(\"Index of the last occurrence:\", result)\n"
   ]
  },
  {
   "cell_type": "code",
   "execution_count": 232,
   "id": "f8639a50-5498-4458-96c4-0ccbf970d6cb",
   "metadata": {},
   "outputs": [
    {
     "name": "stdout",
     "output_type": "stream",
     "text": [
      "['my', 'name', 'is', 'khan', 'peer', 'khan']\n"
     ]
    }
   ],
   "source": [
    "#14. Split a string into a list of words\n",
    "#ans.\n",
    "l=\"my name is khan peer khan\"\n",
    "print(l.split())"
   ]
  },
  {
   "cell_type": "code",
   "execution_count": 233,
   "id": "489e61b5-21a4-4814-bd8e-045368e3f1dc",
   "metadata": {},
   "outputs": [
    {
     "data": {
      "text/plain": [
       "'flower is so beautiful'"
      ]
     },
     "execution_count": 233,
     "metadata": {},
     "output_type": "execute_result"
    }
   ],
   "source": [
    "#15. Join a list of words into a string.\n",
    "#ans.\n",
    "p=['flower','is','so', 'beautiful']\n",
    "' '.join(p)"
   ]
  },
  {
   "cell_type": "code",
   "execution_count": 234,
   "id": "d32a32f5-f7ab-4b60-bf41-527fe84a23d7",
   "metadata": {},
   "outputs": [
    {
     "data": {
      "text/plain": [
       "'my_name_is_ali_and_i_am_from_hyderabad'"
      ]
     },
     "execution_count": 234,
     "metadata": {},
     "output_type": "execute_result"
    }
   ],
   "source": [
    "#16. Convert a string where words are separated by spaces to one where words are separated by underscores.\n",
    "#ans.\n",
    "mystring=\"my name is ali and i am from hyderabad\"\n",
    "mystring.replace(' ','_')"
   ]
  },
  {
   "cell_type": "code",
   "execution_count": 235,
   "id": "d230bced-84b4-4134-83a6-cabadcd74153",
   "metadata": {},
   "outputs": [
    {
     "data": {
      "text/plain": [
       "'how_are_you_darling_by_the_way'"
      ]
     },
     "execution_count": 235,
     "metadata": {},
     "output_type": "execute_result"
    }
   ],
   "source": [
    "l1=\"how are you darling by the way\"\n",
    "l2=l1.split() # first split \n",
    "l2\n",
    "'_'.join(l2) # next join using '_'.split()"
   ]
  },
  {
   "cell_type": "code",
   "execution_count": 236,
   "id": "7751e8f5-fc69-44b2-86e2-644c7c89d505",
   "metadata": {},
   "outputs": [
    {
     "name": "stdout",
     "output_type": "stream",
     "text": [
      "The text starts with the prefix.\n"
     ]
    }
   ],
   "source": [
    "#17. Check if a string starts with a specific word or phrase.\n",
    "#ans.\n",
    "def starts_with(text, prefix):\n",
    "    # Step 1: Use the startswith() method to check if the text starts with the specified prefix.\n",
    "    is_start = text.startswith(prefix)\n",
    "\n",
    "    # Step 2: Return the result of the check.\n",
    "    return is_start\n",
    "\n",
    "# Example usage\n",
    "text = \"Hello, world!\"\n",
    "prefix = \"Hello\"\n",
    "result = starts_with(text, prefix)\n",
    "if result:\n",
    "    print(\"The text starts with the prefix.\")\n",
    "else:\n",
    "    print(\"The text does not start with the prefix.\")"
   ]
  },
  {
   "cell_type": "code",
   "execution_count": 237,
   "id": "9ea00df6-057f-4ec4-b9bd-5c0382458324",
   "metadata": {},
   "outputs": [
    {
     "name": "stdout",
     "output_type": "stream",
     "text": [
      "The text ends with the suffix.\n"
     ]
    }
   ],
   "source": [
    "#18. Check if a string ends with a specific word or phrase.\n",
    "def ends_with(text, suffix):\n",
    "    # Step 1: Use the endswith() method to check if the text ends with the specified suffix.\n",
    "    is_end = text.endswith(suffix)\n",
    "\n",
    "    # Step 2: Return the result of the check.\n",
    "    return is_end\n",
    "\n",
    "# Example usage\n",
    "text = \"Hello, world!\"\n",
    "suffix = \"world!\"\n",
    "result = ends_with(text, suffix)\n",
    "if result:\n",
    "    print(\"The text ends with the suffix.\")\n",
    "else:\n",
    "    print(\"The text does not end with the suffix.\")"
   ]
  },
  {
   "cell_type": "code",
   "execution_count": 238,
   "id": "8864de75-c59b-450f-9e9b-c0264fce7787",
   "metadata": {},
   "outputs": [
    {
     "data": {
      "text/plain": [
       "'Hello World'"
      ]
     },
     "execution_count": 238,
     "metadata": {},
     "output_type": "execute_result"
    }
   ],
   "source": [
    "#19. Convert a string to title case (e.g., \"hello world\" to \"Hello World\")\n",
    "#ans.\n",
    "k=\"hello world\"\n",
    "k.title()"
   ]
  },
  {
   "cell_type": "code",
   "execution_count": 239,
   "id": "3010778e-ffc4-4840-a896-67276e46cd7c",
   "metadata": {},
   "outputs": [
    {
     "name": "stdout",
     "output_type": "stream",
     "text": [
      "Longest word: sentence\n"
     ]
    }
   ],
   "source": [
    "#20. Find the longest word in a string.\n",
    "#ans.\n",
    "def find_longest_word(text):\n",
    "    # Step 1: Use the split() method to split the text into a list of words.\n",
    "    words = text.split()\n",
    "\n",
    "    # Step 2: Initialize variables to keep track of the longest word and its length.\n",
    "    longest_word = \"\"\n",
    "    max_length = 0\n",
    "\n",
    "    # Step 3: Iterate through the list of words.\n",
    "    for word in words:\n",
    "        # Check if the length of the current word is greater than the current max_length.\n",
    "        if len(word) > max_length:\n",
    "            max_length = len(word)\n",
    "            longest_word = word\n",
    "\n",
    "    # Step 4: Return the longest word.\n",
    "    return longest_word\n",
    "\n",
    "# Example usage\n",
    "text = \"This is an example sentence with some long words.\"\n",
    "longest_word = find_longest_word(text)\n",
    "print(\"Longest word:\", longest_word)"
   ]
  },
  {
   "cell_type": "code",
   "execution_count": 240,
   "id": "1fde4c91-4160-4594-9caa-b78e1a3b4834",
   "metadata": {},
   "outputs": [
    {
     "name": "stdout",
     "output_type": "stream",
     "text": [
      "Shortest word: is\n"
     ]
    }
   ],
   "source": [
    "#21. Find the shortest word in a string.\n",
    "#ans.\n",
    "def find_shortest_word(text):\n",
    "    # Step 1: Use the split() method to split the text into a list of words.\n",
    "    words = text.split()\n",
    "\n",
    "    # Step 2: Initialize variables to keep track of the shortest word and its length.\n",
    "    shortest_word = None\n",
    "    min_length = float('inf')  # Initialize to a large value\n",
    "\n",
    "    # Step 3: Iterate through the list of words.\n",
    "    for word in words:\n",
    "        # Check if the length of the current word is smaller than the current min_length.\n",
    "        if len(word) < min_length:\n",
    "            min_length = len(word)\n",
    "            shortest_word = word\n",
    "\n",
    "    # Step 4: Return the shortest word.\n",
    "    return shortest_word\n",
    "\n",
    "# Example usage\n",
    "text = \"This is an example sentence with some short words.\"\n",
    "shortest_word = find_shortest_word(text)\n",
    "print(\"Shortest word:\", shortest_word)"
   ]
  },
  {
   "cell_type": "code",
   "execution_count": 241,
   "id": "8cc5aaa5-e0ec-43e2-8b19-a852575aaddf",
   "metadata": {},
   "outputs": [
    {
     "name": "stdout",
     "output_type": "stream",
     "text": [
      "ali is name my\n"
     ]
    }
   ],
   "source": [
    "#22. Reverse the order of words in a string.\n",
    "#ans:\n",
    "# To reverse words in a given string\n",
    " \n",
    "# input string\n",
    "string = \"my name is ali\"\n",
    "# reversing words in a given string\n",
    "s = string.split()[::-1]\n",
    "l = []\n",
    "for i in s:\n",
    "    # appending reversed words to l\n",
    "    l.append(i)\n",
    "# printing reverse words\n",
    "print(\" \".join(l))"
   ]
  },
  {
   "cell_type": "code",
   "execution_count": 242,
   "id": "7137c2d0-b81e-49da-b08f-debcc93a5514",
   "metadata": {},
   "outputs": [
    {
     "name": "stdout",
     "output_type": "stream",
     "text": [
      "Checking whether ali123 is alphanumeric\n",
      "True\n"
     ]
    }
   ],
   "source": [
    "#23. Check if a string is alphanumeric.\n",
    "#ans:\n",
    "str2 = \"ali123\"\n",
    "print(\"Checking whether\",str2,\"is alphanumeric\")\n",
    "print(str2.isalnum())"
   ]
  },
  {
   "cell_type": "code",
   "execution_count": 244,
   "id": "6490fb55-7086-4370-858b-ecffa3423e15",
   "metadata": {},
   "outputs": [
    {
     "name": "stdin",
     "output_type": "stream",
     "text": [
      "enter your string :  ali123\n"
     ]
    },
    {
     "name": "stdout",
     "output_type": "stream",
     "text": [
      "123\n"
     ]
    }
   ],
   "source": [
    "#24. Extract all digits from a string.\n",
    "#ans:\n",
    "text=input(\"enter your string : \")\n",
    "digits=\"\"\n",
    "for char in text:\n",
    "    if char.isdigit():\n",
    "        digits+=char\n",
    "print(digits)"
   ]
  },
  {
   "cell_type": "code",
   "execution_count": 245,
   "id": "6575c2a5-376b-4689-a251-91795f219648",
   "metadata": {},
   "outputs": [
    {
     "name": "stdin",
     "output_type": "stream",
     "text": [
      "enter your string : ali123\n"
     ]
    },
    {
     "name": "stdout",
     "output_type": "stream",
     "text": [
      "ali\n"
     ]
    }
   ],
   "source": [
    "#25. Extract all alphabets from a string.\n",
    "#ans:\n",
    "text=input(\"enter your string :\")\n",
    "alphabets=\"\"\n",
    "for char in text:\n",
    "    if char.isalpha():\n",
    "        alphabets+=char\n",
    "print(alphabets)"
   ]
  },
  {
   "cell_type": "code",
   "execution_count": 246,
   "id": "fd024cfd-0ea7-43d8-9bfb-dc2a37bcc08b",
   "metadata": {},
   "outputs": [
    {
     "name": "stdout",
     "output_type": "stream",
     "text": [
      "3\n"
     ]
    }
   ],
   "source": [
    "#26. Count the number of uppercase letters in a string.\n",
    "#ans:\n",
    "string=\"ALIpeer\"\n",
    "count=0\n",
    "for char in string:\n",
    "    if char.isupper():\n",
    "        count+=1\n",
    "print(count)"
   ]
  },
  {
   "cell_type": "code",
   "execution_count": 247,
   "id": "38210285-8152-4836-a95d-267e82dd03f6",
   "metadata": {},
   "outputs": [
    {
     "name": "stdout",
     "output_type": "stream",
     "text": [
      "4\n"
     ]
    }
   ],
   "source": [
    "#27. Count the number of lowercase letters in a string.\n",
    "#ans:\n",
    "string=\"ALIpeer\"\n",
    "count=0\n",
    "for char in string:\n",
    "    if char.islower():\n",
    "        count+=1\n",
    "print(count)"
   ]
  },
  {
   "cell_type": "code",
   "execution_count": 248,
   "id": "cc463757-823e-4964-8147-77ebe9106bfc",
   "metadata": {},
   "outputs": [
    {
     "name": "stdout",
     "output_type": "stream",
     "text": [
      "hELLOworld\n"
     ]
    }
   ],
   "source": [
    "#28. Swap the case of each character in a string.\n",
    "#ans:\n",
    "\n",
    "def swap_case(input_string):\n",
    "    swapped_string = input_string.swapcase()\n",
    "    return swapped_string\n",
    "\n",
    "# Example input string\n",
    "input_string = \"HelloWORLD\"\n",
    "result = swap_case(input_string)\n",
    "print(result)"
   ]
  },
  {
   "cell_type": "code",
   "execution_count": 249,
   "id": "24073567-7078-4fb0-a601-942fbe8f8bbc",
   "metadata": {},
   "outputs": [
    {
     "name": "stdout",
     "output_type": "stream",
     "text": [
      "my name alipeer \n"
     ]
    }
   ],
   "source": [
    "#29. Remove a specific word from a string.\n",
    "#ans:\n",
    "a1 = \"my name alipeer khan\"\n",
    "a2 = a1.removesuffix('khan') \n",
    "print(a2) "
   ]
  },
  {
   "cell_type": "code",
   "execution_count": 250,
   "id": "6a6885f5-0ee6-4c86-98f2-0c6db6343cfb",
   "metadata": {},
   "outputs": [
    {
     "name": "stdout",
     "output_type": "stream",
     "text": [
      "True\n",
      "False\n"
     ]
    }
   ],
   "source": [
    "#30. Check if a string is a valid email address.\n",
    "#ans:\n",
    "import re  # Import the regular expression module\n",
    "\n",
    "def is_valid_email(email):\n",
    "    pattern = r'^[\\w\\.-]+@[\\w\\.-]+\\.\\w+$'  # Regular expression pattern for a basic email validation\n",
    "    if re.match(pattern, email):\n",
    "        return True\n",
    "    else:\n",
    "        return False\n",
    "\n",
    "# Example email addresses\n",
    "email1 = \"example@email.com\"\n",
    "email2 = \"invalid-email\"\n",
    "result1 = is_valid_email(email1)\n",
    "result2 = is_valid_email(email2)\n",
    "print(result1)\n",
    "print(result2)"
   ]
  },
  {
   "cell_type": "code",
   "execution_count": 251,
   "id": "0c779770-ab4e-4e30-b053-a507af6d6a22",
   "metadata": {},
   "outputs": [
    {
     "name": "stdout",
     "output_type": "stream",
     "text": [
      "alipeer\n"
     ]
    }
   ],
   "source": [
    "#31. Extract the username from an email address string.\n",
    "#ans:\n",
    "email=\"alipeer860@gmail.com\"\n",
    "username=email.split('860')[0]\n",
    "print(username)"
   ]
  },
  {
   "cell_type": "code",
   "execution_count": 252,
   "id": "e39b8df3-c4df-4513-9516-c55390cd5742",
   "metadata": {},
   "outputs": [
    {
     "name": "stdout",
     "output_type": "stream",
     "text": [
      "gmail.com\n"
     ]
    }
   ],
   "source": [
    "# 32. Extract the domain name from an email address string.\n",
    "#ans:\n",
    "email=\"alipeer860@gmail.com\"\n",
    "username=email.split('@')[1]\n",
    "print(username)"
   ]
  },
  {
   "cell_type": "code",
   "execution_count": 253,
   "id": "c98fddf0-b48f-4f06-b7ba-9ef64f9707b5",
   "metadata": {},
   "outputs": [
    {
     "name": "stdout",
     "output_type": "stream",
     "text": [
      "my name is Alipeer\n"
     ]
    }
   ],
   "source": [
    "#33. Replace multiple spaces in a string with a single space.\n",
    "#ans:\n",
    "string=\" my    name  is             Alipeer        \"\n",
    "cleaned_string=' '.join(string.split())\n",
    "print(cleaned_string)"
   ]
  },
  {
   "cell_type": "code",
   "execution_count": 254,
   "id": "5a84e459-55fc-4dac-bb31-102c1b2063d0",
   "metadata": {},
   "outputs": [
    {
     "name": "stdout",
     "output_type": "stream",
     "text": [
      "True\n",
      "False\n"
     ]
    }
   ],
   "source": [
    "#34. Check if a string is a valid URL.\n",
    "#ans\n",
    "from urllib.parse import urlparse\n",
    "\n",
    "def is_valid_url(url):\n",
    "    try:\n",
    "        result = urlparse(url)\n",
    "        return all([result.scheme, result.netloc])  # Check if both scheme and netloc are present\n",
    "    except ValueError:\n",
    "        return False\n",
    "\n",
    "# Example URLs\n",
    "url1 = \"https://www.example.com\"\n",
    "url2 = \"invalid-url\"\n",
    "result1 = is_valid_url(url1)\n",
    "result2 = is_valid_url(url2)\n",
    "print(result1)  # Should print True\n",
    "print(result2)  # Should print False"
   ]
  },
  {
   "cell_type": "code",
   "execution_count": 255,
   "id": "5c068787-a08d-4d21-82c6-0eefb89a7775",
   "metadata": {},
   "outputs": [
    {
     "name": "stdout",
     "output_type": "stream",
     "text": [
      "Protocol 1: https\n",
      "Protocol 2: http\n",
      "Protocol 3: ftp\n"
     ]
    }
   ],
   "source": [
    "#35. Extract the protocol (http or https) from a URL string.\n",
    "#ans:\n",
    "def extract_protocol(url):\n",
    "    # Find the index of the first occurrence of \"://\"\n",
    "    protocol_end = url.find(\"://\")\n",
    "\n",
    "    if protocol_end != -1:\n",
    "        # Extract the protocol from the URL\n",
    "        protocol = url[:protocol_end]\n",
    "        return protocol\n",
    "    else:\n",
    "        return None\n",
    "\n",
    "# Example URL strings\n",
    "url1 = \"https://www.example.com\"\n",
    "url2 = \"http://google.com\"\n",
    "url3 = \"ftp://ftp.example.com\"\n",
    "\n",
    "# Extract protocols\n",
    "protocol1 = extract_protocol(url1)\n",
    "protocol2 = extract_protocol(url2)\n",
    "protocol3 = extract_protocol(url3)\n",
    "\n",
    "# Print extracted protocols\n",
    "print(\"Protocol 1:\", protocol1)\n",
    "print(\"Protocol 2:\", protocol2)\n",
    "print(\"Protocol 3:\", protocol3)"
   ]
  },
  {
   "cell_type": "code",
   "execution_count": 256,
   "id": "cb76de8f-8f9e-4c19-a865-b58e06539c13",
   "metadata": {},
   "outputs": [
    {
     "name": "stdout",
     "output_type": "stream",
     "text": [
      "Count of all characters in GeeksforGeeks is :\n",
      " {'a': 1, 'l': 1, 'i': 1, 'p': 1, 'e': 2, 'r': 1}\n"
     ]
    }
   ],
   "source": [
    "#36. Find the frequency of each character in a string.\n",
    "#ans:\n",
    "# initializing string\n",
    "test_str = \"alipeer\"\n",
    " \n",
    "# using naive method to get count\n",
    "# of each element in string\n",
    "all_freq = {}\n",
    " \n",
    "for i in test_str:\n",
    "    if i in all_freq:\n",
    "        all_freq[i] += 1\n",
    "    else:\n",
    "        all_freq[i] = 1\n",
    " \n",
    "# printing result\n",
    "print(\"Count of all characters in GeeksforGeeks is :\\n \"\n",
    "      + str(all_freq))"
   ]
  },
  {
   "cell_type": "code",
   "execution_count": 257,
   "id": "c417aced-1145-47a3-9d26-34b6166e4bd9",
   "metadata": {},
   "outputs": [
    {
     "name": "stdout",
     "output_type": "stream",
     "text": [
      "The original string is : alipeer 'P;\n",
      "The string after punctuation filter : alipeer P\n"
     ]
    }
   ],
   "source": [
    "#37.Remove all punctuation from a string.\n",
    "#ans:\n",
    "# initializing string\n",
    "test_str = \"alipeer 'P;\"\n",
    " \n",
    "# printing original string\n",
    "print(\"The original string is : \" + test_str)\n",
    " \n",
    "# initializing punctuations string\n",
    "punc = '''!()-[]{};:'\"\\,<>./?@#$%^&*_~'''\n",
    " \n",
    "# Removing punctuations in string\n",
    "# Using loop + punctuation string\n",
    "for ele in test_str:\n",
    "    if ele in punc:\n",
    "        test_str = test_str.replace(ele, \"\")\n",
    " \n",
    "# printing result\n",
    "print(\"The string after punctuation filter : \" + test_str)"
   ]
  },
  {
   "cell_type": "code",
   "execution_count": 258,
   "id": "65b533d6-d7ad-465f-911b-1111f1cb9b95",
   "metadata": {},
   "outputs": [
    {
     "data": {
      "text/plain": [
       "True"
      ]
     },
     "execution_count": 258,
     "metadata": {},
     "output_type": "execute_result"
    }
   ],
   "source": [
    "#38. Check if a string contains only digits.\n",
    "#ans:\n",
    "string=\"123\"\n",
    "string.isdigit()"
   ]
  },
  {
   "cell_type": "code",
   "execution_count": 259,
   "id": "fbfa4bc0-c1f1-47b0-82a4-d7c739b2322b",
   "metadata": {},
   "outputs": [
    {
     "data": {
      "text/plain": [
       "True"
      ]
     },
     "execution_count": 259,
     "metadata": {},
     "output_type": "execute_result"
    }
   ],
   "source": [
    "#39. Check if a string contains only alphabets.\n",
    "#ans:\n",
    "string=\"ali\"\n",
    "string.isalpha()"
   ]
  },
  {
   "cell_type": "code",
   "execution_count": 260,
   "id": "6b7b92fb-0c32-4680-9a6c-33cf7d7b055c",
   "metadata": {},
   "outputs": [
    {
     "name": "stdout",
     "output_type": "stream",
     "text": [
      "['a', 'l', 'i', 'p', 'e', 'e', 'r', ',', '9', '3', '9', '8', '4', '7', '0', '5', '6', '2']\n"
     ]
    }
   ],
   "source": [
    "#40. Convert a string to a list of characters.\n",
    "#ans:\n",
    "k=\"alipeer,9398470562\"\n",
    "print(list(k))"
   ]
  },
  {
   "cell_type": "code",
   "execution_count": 261,
   "id": "f00c1e11-c036-4c31-9ffc-c721ba4a24d8",
   "metadata": {},
   "outputs": [
    {
     "name": "stdout",
     "output_type": "stream",
     "text": [
      "The strings are anagrams.\n"
     ]
    }
   ],
   "source": [
    "#41. Check if two strings are anagrams.\n",
    "#ans:\n",
    "def check(s1, s2):\n",
    "     \n",
    "    # the sorted strings are checked\n",
    "    if(sorted(s1)== sorted(s2)):\n",
    "        print(\"The strings are anagrams.\")\n",
    "    else:\n",
    "        print(\"The strings aren't anagrams.\")        \n",
    "         \n",
    "# driver code \n",
    "s1 =\"listen\"\n",
    "s2 =\"silent\"\n",
    "check(s1, s2)"
   ]
  },
  {
   "cell_type": "code",
   "execution_count": 262,
   "id": "2372eb65-5c73-4541-968c-d30d4bc31ed5",
   "metadata": {},
   "outputs": [
    {
     "name": "stdout",
     "output_type": "stream",
     "text": [
      "Encoded text: ehoor, zruog!\n"
     ]
    }
   ],
   "source": [
    "#42. Encode a string using a Caesar cipher\n",
    "#ans:\n",
    "def caesar_cipher(text, shift):\n",
    "  \"\"\"\n",
    "  Encodes a string using a Caesar cipher.\n",
    "\n",
    "  Args:\n",
    "    text: The string to encode.\n",
    "    shift: The number of positions to shift each letter.\n",
    "\n",
    "  Returns:\n",
    "    The encoded string.\n",
    "  \"\"\"\n",
    "\n",
    "  # Initialize an empty string to store the encoded text.\n",
    "  encoded_text = \"\"\n",
    "\n",
    "  # Iterate through each character in the input text.\n",
    "  for char in text:\n",
    "    # Check if the character is alphabetic.\n",
    "    if char.isalpha():\n",
    "      # Calculate the encoded character's Unicode code point value by shifting it by the specified amount.\n",
    "      # Ensure the value wraps around within the lowercase alphabet range (a-z).\n",
    "      encoded_char = chr((ord(char) + shift - ord('a')) % 26 + ord('a'))\n",
    "    else:\n",
    "      # Keep non-alphabetic characters unchanged.\n",
    "      encoded_char = char\n",
    "\n",
    "    # Add the encoded character to the encoded text.\n",
    "    encoded_text += encoded_char\n",
    "\n",
    "  # Return the resulting encoded text.\n",
    "  return encoded_text\n",
    "\n",
    "# Define the input text and the shift value for encoding.\n",
    "text = \"Hello, world!\"\n",
    "shift = 3\n",
    "\n",
    "# Call the caesar_cipher function to encode the text using the specified shift.\n",
    "encoded_text = caesar_cipher(text, shift)\n",
    "\n",
    "# Print the encoded text.\n",
    "print(\"Encoded text:\", encoded_text)"
   ]
  },
  {
   "cell_type": "code",
   "execution_count": 263,
   "id": "09598ca3-f5a6-450f-b9f7-4c93b540a149",
   "metadata": {},
   "outputs": [
    {
     "name": "stdout",
     "output_type": "stream",
     "text": [
      "Decoded text: ilmm, world!\n"
     ]
    }
   ],
   "source": [
    "#43. Decode a Caesar cipher encoded string.\n",
    "#ans:\n",
    "def caesar_cipher_decoder(text, shift):\n",
    "    \"\"\"\n",
    "    Decodes a string using a Caesar cipher.\n",
    "\n",
    "    Args:\n",
    "        text: The string to decode.\n",
    "        shift: The number of positions to shift each letter.\n",
    "\n",
    "    Returns:\n",
    "        The decoded string.\n",
    "    \"\"\"\n",
    "\n",
    "    # Initialize an empty string to store the decoded text\n",
    "    decoded_text = \"\"\n",
    "\n",
    "    # Loop through each character in the input text\n",
    "    for char in text:\n",
    "        # Check if the character is an alphabetic character\n",
    "        if char.isalpha():\n",
    "            # Calculate the decoded character using the shift value\n",
    "            decoded_char = chr((ord(char) - shift - ord('a')) % 26 + ord('a'))\n",
    "        else:\n",
    "            # If the character is not alphabetic, keep it unchanged\n",
    "            decoded_char = char\n",
    "\n",
    "        # Add the decoded character to the decoded text\n",
    "        decoded_text += decoded_char\n",
    "\n",
    "    # Return the fully decoded text\n",
    "    return decoded_text\n",
    "\n",
    "# Example input\n",
    "text = \"lopp, zruog!\"\n",
    "shift = 3\n",
    "\n",
    "# Call the caesar_cipher_decoder function to decode the input text\n",
    "decoded_text = caesar_cipher_decoder(text, shift)\n",
    "\n",
    "# Print the decoded text\n",
    "print(\"Decoded text:\", decoded_text)"
   ]
  },
  {
   "cell_type": "code",
   "execution_count": 264,
   "id": "8c13de60-1d74-4742-851c-917f9112ea22",
   "metadata": {},
   "outputs": [
    {
     "name": "stdout",
     "output_type": "stream",
     "text": [
      "Most frequent word: hello\n"
     ]
    }
   ],
   "source": [
    "#44. Find the most frequent word in a string.\n",
    "#ans:\n",
    "import re\n",
    "from collections import Counter\n",
    "\n",
    "def most_frequent_word(input_string):\n",
    "    # Remove punctuation and convert to lowercase\n",
    "    clean_string = re.sub(r'[^\\w\\s]', '', input_string).lower()\n",
    "\n",
    "    # Split the string into words\n",
    "    words = clean_string.split()\n",
    "\n",
    "    # Use Counter to count word frequencies\n",
    "    word_counter = Counter(words)\n",
    "\n",
    "    # Find the most common word\n",
    "    most_common_word = word_counter.most_common(1)[0][0]\n",
    "    return most_common_word\n",
    "\n",
    "\n",
    "# Example string\n",
    "input_str = \"Hello world, hello there! How's the world?\"\n",
    "\n",
    "# Find the most frequent word\n",
    "most_common = most_frequent_word(input_str)\n",
    "\n",
    "# Print the result\n",
    "print(\"Most frequent word:\", most_common)"
   ]
  },
  {
   "cell_type": "code",
   "execution_count": 265,
   "id": "51d84fec-88d5-416d-9d8e-4b9217c42d9a",
   "metadata": {},
   "outputs": [
    {
     "name": "stdout",
     "output_type": "stream",
     "text": [
      "is\n",
      "ali\n",
      "handsome\n"
     ]
    }
   ],
   "source": [
    "#45. Find all unique words in a string.\n",
    "#ans:\n",
    "def printWords(l):\n",
    "     \n",
    "    # for loop for iterating\n",
    "    for i in l:\n",
    "        print(i)\n",
    " \n",
    " \n",
    "# Driver code\n",
    "str = \"ali is handsome\"\n",
    " \n",
    "# storing string in the form of list of words\n",
    "s = set(str.split(\" \"))\n",
    " \n",
    "# passing list to print words function\n",
    "printWords(s)"
   ]
  },
  {
   "cell_type": "code",
   "execution_count": 266,
   "id": "198e0580-c198-4a89-8508-f4a7dee1134b",
   "metadata": {},
   "outputs": [
    {
     "name": "stdout",
     "output_type": "stream",
     "text": [
      "'hello' has 2 syllables.\n",
      "'banana' has 3 syllables.\n",
      "'syllable' has 3 syllables.\n"
     ]
    }
   ],
   "source": [
    "#46. Count the number of syllables in a string.\n",
    "#ans:\n",
    "import re\n",
    "\n",
    "def count_syllables(word):\n",
    "    # Count vowel groups using regular expression\n",
    "    vowel_groups = re.findall(r'[aeiouy]+', word, re.IGNORECASE)\n",
    "\n",
    "    return len(vowel_groups)\n",
    "\n",
    "# Example words\n",
    "word1 = \"hello\"\n",
    "word2 = \"banana\"\n",
    "word3 = \"syllable\"\n",
    "\n",
    "# Count syllables\n",
    "syllables1 = count_syllables(word1)\n",
    "syllables2 = count_syllables(word2)\n",
    "syllables3 = count_syllables(word3)\n",
    "\n",
    "# Print the results\n",
    "print(f\"'{word1}' has {syllables1} syllables.\")\n",
    "print(f\"'{word2}' has {syllables2} syllables.\")\n",
    "print(f\"'{word3}' has {syllables3} syllables.\")"
   ]
  },
  {
   "cell_type": "code",
   "execution_count": 267,
   "id": "33b07271-95ac-410a-9975-24471b3ca397",
   "metadata": {},
   "outputs": [
    {
     "name": "stdout",
     "output_type": "stream",
     "text": [
      "String is not accepted.\n"
     ]
    }
   ],
   "source": [
    "#47. Check if a string contains any special characters.\n",
    "#ans:\n",
    "import re\n",
    " \n",
    "# Function checks if the string\n",
    "# contains any special character\n",
    "def run(string):\n",
    " \n",
    "    # Make own character set and pass\n",
    "    # this as argument in compile method\n",
    "    regex = re.compile('[@_!#$%^&*()<>?/\\|}{~:]')\n",
    "     \n",
    "    # Pass the string in search\n",
    "    # method of regex object.   \n",
    "    if(regex.search(string) == None):\n",
    "        print(\"String is accepted\")\n",
    "         \n",
    "    else:\n",
    "        print(\"String is not accepted.\")\n",
    "     \n",
    " \n",
    "# Driver Code\n",
    "if __name__ == '__main__' :\n",
    "     \n",
    "    # Enter the string\n",
    "    string = \"alipeer860@gmail.com\"\n",
    "     \n",
    "    # calling run function\n",
    "    run(string)"
   ]
  },
  {
   "cell_type": "code",
   "execution_count": 268,
   "id": "f54466df-1a39-4c7c-806e-e6011ab916cc",
   "metadata": {},
   "outputs": [
    {
     "name": "stdout",
     "output_type": "stream",
     "text": [
      "Original string: This is an example sentence to test the function.\n",
      "Modified string: This is an sentence to test the function.\n",
      "Removed word: example\n"
     ]
    }
   ],
   "source": [
    "#48. Remove the nth word from a string.\n",
    "#ans:\n",
    "def remove_nth_word(input_string, n):\n",
    "    # Split the input string into words\n",
    "    words = input_string.split()\n",
    "\n",
    "    # Check if n is within a valid range\n",
    "    if n >= 1 and n <= len(words):\n",
    "        # Remove the nth word by excluding it from the words list\n",
    "        removed_word = words.pop(n - 1)\n",
    "\n",
    "        # Join the remaining words to form the modified string\n",
    "        modified_string = ' '.join(words)\n",
    "\n",
    "        return modified_string, removed_word\n",
    "    else:\n",
    "        return None, None\n",
    "\n",
    "# Example string and n value\n",
    "input_str = \"This is an example sentence to test the function.\"\n",
    "n_value = 4\n",
    "\n",
    "# Remove the nth word\n",
    "modified_str, removed_word = remove_nth_word(input_str, n_value)\n",
    "\n",
    "# Print the results\n",
    "print(\"Original string:\", input_str)\n",
    "if modified_str is not None:\n",
    "    print(\"Modified string:\", modified_str)\n",
    "    print(\"Removed word:\", removed_word)\n",
    "else:\n",
    "    print(\"Invalid n value.\")"
   ]
  },
  {
   "cell_type": "code",
   "execution_count": 275,
   "id": "fe8149b1-5773-409d-ad3c-a5330483d62c",
   "metadata": {},
   "outputs": [
    {
     "name": "stdout",
     "output_type": "stream",
     "text": [
      "The original string : alipeer\n",
      "The add string : P\n",
      "The string after performing addition :  alipeerP\n"
     ]
    }
   ],
   "source": [
    "#49. Insert a word at the nth position in a string.\n",
    "#ans:\n",
    "# initializing string\n",
    "test_string = 'alipeer'\n",
    " \n",
    "# initializing add_string\n",
    "add_string = \"P\"\n",
    " \n",
    "# printing original string\n",
    "print(\"The original string : \" + test_string)\n",
    " \n",
    "# printing add string\n",
    "print(\"The add string : \" + add_string)\n",
    " \n",
    "# initializing N\n",
    "N = 5\n",
    " \n",
    "# using string concatenation\n",
    "# Add substring at specific index\n",
    "res = test_string[:N]+ test_string[N:] +  add_string \n",
    "     \n",
    "# print result\n",
    "print(\"The string after performing addition : \" ,res)"
   ]
  },
  {
   "cell_type": "code",
   "execution_count": 276,
   "id": "a28f4c32-6c17-43c8-88ce-44bd6eedfb52",
   "metadata": {},
   "outputs": [
    {
     "name": "stdout",
     "output_type": "stream",
     "text": [
      "['Name', ' Age', ' Country']\n",
      "['John', ' 25', ' USA']\n",
      "['Alice', ' 30', ' Canada']\n",
      "['Bob', ' 22', ' UK']\n"
     ]
    }
   ],
   "source": [
    "#50. Convert a CSV string to a list of lists.\n",
    "#ans:\n",
    "def csv_string_to_list(csv_string):\n",
    "    # Split the CSV string into lines\n",
    "    lines = csv_string.split('\\n')\n",
    "\n",
    "    # Initialize an empty list to store the result\n",
    "    result = []\n",
    "\n",
    "    for line in lines:\n",
    "        # Split each line into fields using comma as the delimiter\n",
    "        fields = line.split(',')\n",
    "\n",
    "        # Append the fields to the result list as a row\n",
    "        result.append(fields)\n",
    "\n",
    "    return result\n",
    "\n",
    "# Example CSV string\n",
    "csv_data = \"Name, Age, Country\\nJohn, 25, USA\\nAlice, 30, Canada\\nBob, 22, UK\"\n",
    "\n",
    "# Convert CSV string to a list of lists\n",
    "list_of_lists = csv_string_to_list(csv_data)\n",
    "\n",
    "# Print the result\n",
    "for row in list_of_lists:\n",
    "    print(row)"
   ]
  },
  {
   "cell_type": "code",
   "execution_count": 277,
   "id": "c8c059cf-0667-4309-ad46-db203c625dc8",
   "metadata": {},
   "outputs": [],
   "source": [
    "###List based practice problem :"
   ]
  },
  {
   "cell_type": "code",
   "execution_count": 278,
   "id": "0735be83-db55-4c38-a6fc-0a979123794f",
   "metadata": {},
   "outputs": [
    {
     "name": "stdout",
     "output_type": "stream",
     "text": [
      "[1, 2, 3, 4, 5, 6, 7, 8, 9, 10]\n"
     ]
    }
   ],
   "source": [
    "#1. Create a list with integers from 1 to 10.\n",
    "#ans:\n",
    "l=list(range(1,11))\n",
    "print(l)"
   ]
  },
  {
   "cell_type": "code",
   "execution_count": 279,
   "id": "62adff84-39ed-4c1d-90b8-23ce31f7b9e4",
   "metadata": {},
   "outputs": [
    {
     "name": "stdout",
     "output_type": "stream",
     "text": [
      "list length is 5\n"
     ]
    }
   ],
   "source": [
    "#2. Find the length of a list without using the len() function.\n",
    "#ans:\n",
    "l=[1,2,3,4,5]\n",
    "k=0\n",
    "for x in l:\n",
    "    k+=1\n",
    "print(\"list length is\",k)"
   ]
  },
  {
   "cell_type": "code",
   "execution_count": 280,
   "id": "5817bbea-7590-42e7-a1ca-63810c49d0fa",
   "metadata": {},
   "outputs": [
    {
     "data": {
      "text/plain": [
       "[1, 23, 4, 5, 6, 7, 'ali']"
      ]
     },
     "execution_count": 280,
     "metadata": {},
     "output_type": "execute_result"
    }
   ],
   "source": [
    "#3. Append an element to the end of a list.\n",
    "#ans:\n",
    "l=[1,23,4,5,6,7]\n",
    "l.append('ali')\n",
    "l"
   ]
  },
  {
   "cell_type": "code",
   "execution_count": 281,
   "id": "38e5dad3-aa9e-41b5-8c24-2018b1fa2a99",
   "metadata": {},
   "outputs": [
    {
     "data": {
      "text/plain": [
       "[1, 2, 'ali', 4, 5, 6]"
      ]
     },
     "execution_count": 281,
     "metadata": {},
     "output_type": "execute_result"
    }
   ],
   "source": [
    "#4. Insert an element at a specific index in a list.\n",
    "#ans:\n",
    "l=[1,2,3,4,5,6]\n",
    "l[2]=\"ali\" # inserting element at specific index '2'\n",
    "l"
   ]
  },
  {
   "cell_type": "code",
   "execution_count": 282,
   "id": "a2cf22b1-d191-4e8b-aafb-ceb4bcb787d7",
   "metadata": {},
   "outputs": [
    {
     "data": {
      "text/plain": [
       "['alipeer', 9398470562, 'M.sc(stats)', 'year2023']"
      ]
     },
     "execution_count": 282,
     "metadata": {},
     "output_type": "execute_result"
    }
   ],
   "source": [
    "#5. Remove an element from a list by its value.\n",
    "#ans:\n",
    "l=['alipeer',9398470562,\"M.sc(stats)\",'year2023' ,70.26]\n",
    "l.remove(70.26) # removing 70.26\n",
    "l"
   ]
  },
  {
   "cell_type": "code",
   "execution_count": 283,
   "id": "471742bd-46a9-4156-9965-85362d8015e1",
   "metadata": {},
   "outputs": [
    {
     "name": "stdout",
     "output_type": "stream",
     "text": [
      "exist\n"
     ]
    }
   ],
   "source": [
    "#7. Check if an element exists in a list.\n",
    "#ans:\n",
    "lst=[1,2,3,4,\"ali\"]\n",
    "#checking if element 4 present \n",
    "#in the given list\n",
    "i=4\n",
    "if i in lst:\n",
    "    print(\"exist\")\n",
    "else:\n",
    "    print('not exist')"
   ]
  },
  {
   "cell_type": "code",
   "execution_count": 287,
   "id": "02e2bb03-5028-4c19-9699-575ffe0d46fe",
   "metadata": {},
   "outputs": [
    {
     "name": "stdout",
     "output_type": "stream",
     "text": [
      "The index of 30 is 2\n"
     ]
    }
   ],
   "source": [
    "#8. Find the index of the first occurrence of an element in a list.\n",
    "#ans:\n",
    "my_list = [10, 20, 30, 40, 50, 30]\n",
    "\n",
    "# Element to find the index of\n",
    "element_to_find = 30\n",
    "\n",
    "# Find the index of the first occurrence of the element\n",
    "index = my_list.index(element_to_find)\n",
    "\n",
    "# Print the index\n",
    "print(f\"The index of {element_to_find} is {index}\")"
   ]
  },
  {
   "cell_type": "code",
   "execution_count": 288,
   "id": "c293b6e8-5be8-44ca-b4a3-9ff24ae8cc1e",
   "metadata": {},
   "outputs": [
    {
     "name": "stdout",
     "output_type": "stream",
     "text": [
      "2\n"
     ]
    }
   ],
   "source": [
    "#9. Count the occurrences of an element in a list.\n",
    "#ans:\n",
    "l=[1,2,3,4,5,6,2,4,8,9,1,\"ali\",\"ali\",9]\n",
    "k=l.count('ali') # occurance of an element\n",
    "print(k)"
   ]
  },
  {
   "cell_type": "code",
   "execution_count": 289,
   "id": "eece1a46-149f-48ed-857c-2bc24986726c",
   "metadata": {},
   "outputs": [
    {
     "name": "stdout",
     "output_type": "stream",
     "text": [
      "['year:2023', 23.56, 'ali']\n"
     ]
    }
   ],
   "source": [
    "#10. Reverse the order of elements in a list.\n",
    "#ans:\n",
    "l=[\"ali\",23.56,\"year:2023\"]\n",
    "k=l.reverse()\n",
    "print(l)"
   ]
  },
  {
   "cell_type": "code",
   "execution_count": 290,
   "id": "4c3ba750-b046-415c-b4f5-c7366f871916",
   "metadata": {},
   "outputs": [
    {
     "name": "stdout",
     "output_type": "stream",
     "text": [
      "[0, 1, 2, 3, 4, 5, 6, 7, 8, 9]\n"
     ]
    }
   ],
   "source": [
    "#11. Sort a list in ascending order\n",
    "#ans:\n",
    "l=[1,8,4,5,6,9,7,3,2,0]\n",
    "l.sort()\n",
    "print(l)"
   ]
  },
  {
   "cell_type": "code",
   "execution_count": 291,
   "id": "6560dceb-c2d5-4c59-8ed6-1efafb3b9dc8",
   "metadata": {},
   "outputs": [
    {
     "name": "stdout",
     "output_type": "stream",
     "text": [
      "[9, 8, 7, 6, 5, 4, 3, 2, 1, 0]\n"
     ]
    }
   ],
   "source": [
    "#12. Sort a list in descending order.\n",
    "#ans:\n",
    "l=[1,8,4,5,6,9,7,3,2,0]\n",
    "l.sort(reverse=-1)\n",
    "print(l)"
   ]
  },
  {
   "cell_type": "code",
   "execution_count": 292,
   "id": "3709a836-d658-4990-9157-c031397ec390",
   "metadata": {},
   "outputs": [
    {
     "name": "stdout",
     "output_type": "stream",
     "text": [
      "[0, 2, 4, 6, 8, 10, 12, 14, 16, 18, 20]\n"
     ]
    }
   ],
   "source": [
    "#13. Create a list of even numbers from 1 to 20.\n",
    "#ans:\n",
    "lst=list(range(0,21,2))\n",
    "print(lst)"
   ]
  },
  {
   "cell_type": "code",
   "execution_count": 293,
   "id": "2001a003-f294-45b1-93d2-359209f5e902",
   "metadata": {},
   "outputs": [
    {
     "name": "stdout",
     "output_type": "stream",
     "text": [
      "[1, 3, 5, 7, 9, 11, 13, 15, 17, 19]\n"
     ]
    }
   ],
   "source": [
    "#14. Create a list of odd numbers from 1 to 20\n",
    "#ans:\n",
    "lst=list(range(1,21,2))\n",
    "print(lst)"
   ]
  },
  {
   "cell_type": "code",
   "execution_count": 294,
   "id": "6042b1ad-efd4-428e-9262-7ee2b17d89a9",
   "metadata": {},
   "outputs": [
    {
     "name": "stdout",
     "output_type": "stream",
     "text": [
      "55\n"
     ]
    }
   ],
   "source": [
    "#15. Find the sum of all elements in a list.\n",
    "#ans:\n",
    "lst=[1,2,3,4,5,6,7,8,9,10]\n",
    "sum=sum(lst)\n",
    "print(sum)"
   ]
  },
  {
   "cell_type": "code",
   "execution_count": 295,
   "id": "67d6d1a1-1fe8-47ba-8027-043c8f987ce0",
   "metadata": {},
   "outputs": [
    {
     "name": "stdout",
     "output_type": "stream",
     "text": [
      "10\n"
     ]
    }
   ],
   "source": [
    "#16. Find the maximum value in a list.\n",
    "#ans:\n",
    "lst=[1,2,3,4,5,6,7,8,9,10]\n",
    "k=max(lst)\n",
    "print(k)"
   ]
  },
  {
   "cell_type": "code",
   "execution_count": 296,
   "id": "e87d7938-28af-47ec-8ef9-1687d7e6f168",
   "metadata": {},
   "outputs": [
    {
     "name": "stdout",
     "output_type": "stream",
     "text": [
      "1\n"
     ]
    }
   ],
   "source": [
    "#17. Find the minimum value in a list.\n",
    "#ans:\n",
    "lst=[1,2,3,4,5,6,7,8,9,10]\n",
    "k=min(lst)\n",
    "print(k)"
   ]
  },
  {
   "cell_type": "code",
   "execution_count": 297,
   "id": "0cde669a-73df-49f5-b0c9-ffad919a4e45",
   "metadata": {},
   "outputs": [
    {
     "name": "stdout",
     "output_type": "stream",
     "text": [
      "[1, 4, 9, 16, 25, 36, 49, 64, 81, 100]\n"
     ]
    }
   ],
   "source": [
    "#18. Create a list of squares of numbers from 1 to 10\n",
    "#ans:\n",
    "old=list(range(1,11))\n",
    "\n",
    "new = [n**2 for n in old]\n",
    "print(new)"
   ]
  },
  {
   "cell_type": "code",
   "execution_count": 298,
   "id": "33b1f06d-0cbd-433a-a1b3-c791ea7b2b37",
   "metadata": {},
   "outputs": [
    {
     "name": "stdout",
     "output_type": "stream",
     "text": [
      "the random nos are [88, 36, 91, 85, 13, 28, 39, 94, 9, 69, 91, 35, 48, 45, 78, 77, 46, 75, 83, 40]\n"
     ]
    }
   ],
   "source": [
    "#19. Create a list of random numbers.\n",
    "#ans:\n",
    "import random\n",
    "rand_int=[random.randint(1,100) for _ in range(20)]\n",
    "print(\"the random nos are\",rand_int)"
   ]
  },
  {
   "cell_type": "code",
   "execution_count": 299,
   "id": "57a9062c-3cd4-4b76-bb83-0fd95bbf7f76",
   "metadata": {},
   "outputs": [
    {
     "name": "stdout",
     "output_type": "stream",
     "text": [
      "{1, 2, 3, 4, 5, 6, 7, 8, 9}\n"
     ]
    }
   ],
   "source": [
    "#20. Remove duplicates from a list.\n",
    "#ans:\n",
    "l=[1,2,3,4,5,6,7,8,9,9,2,4,5,6,7]\n",
    "duplicates=set(l)\n",
    "print(duplicates)"
   ]
  },
  {
   "cell_type": "code",
   "execution_count": 300,
   "id": "4930a2c5-0b00-4fe5-86bc-fbbc0d8c0bf1",
   "metadata": {},
   "outputs": [
    {
     "name": "stdout",
     "output_type": "stream",
     "text": [
      "the common elements are  [6]\n"
     ]
    }
   ],
   "source": [
    "#21. Find the common elements between two lists.\n",
    "#ans:\n",
    "l1=[1,2,3,4,5,6]\n",
    "l2=[6,7,8,9,10,11]\n",
    "intersection=list(set(l1).intersection(l2))\n",
    "print(\"the common elements are \",intersection)"
   ]
  },
  {
   "cell_type": "code",
   "execution_count": 301,
   "id": "e2ee78aa-ee1a-4fc7-8221-a2b70619a763",
   "metadata": {},
   "outputs": [
    {
     "name": "stdout",
     "output_type": "stream",
     "text": [
      "the difference elements are  [1, 2, 3, 4, 5]\n"
     ]
    }
   ],
   "source": [
    "#22. Find the difference between two lists.\n",
    "#ans:\n",
    "l1=[1,2,3,4,5,6,7,8]\n",
    "l2=[6,7,8,9,10,11,8,9]\n",
    "difference=list(set(l1).difference(l2))\n",
    "print(\"the difference elements are \",difference)\n"
   ]
  },
  {
   "cell_type": "code",
   "execution_count": 302,
   "id": "441af7bb-a09d-4d45-b412-78bd7dbaa6ff",
   "metadata": {},
   "outputs": [
    {
     "name": "stdout",
     "output_type": "stream",
     "text": [
      "merge of two list [1, 2, 3, 4, 5, 6, 7, 8, 6, 7, 8, 9, 10, 11, 8, 9]\n"
     ]
    }
   ],
   "source": [
    "#23. Merge two lists.\n",
    "#ans:\n",
    "l1=[1,2,3,4,5,6,7,8]\n",
    "l2=[6,7,8,9,10,11,8,9]\n",
    "merge=l1+l2\n",
    "print(\"merge of two list\",merge)"
   ]
  },
  {
   "cell_type": "code",
   "execution_count": 303,
   "id": "70ff139a-ecb1-4cab-8fd8-5dcd57055774",
   "metadata": {},
   "outputs": [
    {
     "name": "stdout",
     "output_type": "stream",
     "text": [
      "multiple of  list :   [2, 4, 6, 8, 10, 12, 14, 16]\n"
     ]
    }
   ],
   "source": [
    "#24. Multiply all elements in a list by 2.\n",
    "#ans:\n",
    "l1=[1,2,3,4,5,6,7,8]\n",
    "multi=[i*2 for i in l1]\n",
    "print(\"multiple of  list :  \",multi)"
   ]
  },
  {
   "cell_type": "code",
   "execution_count": 304,
   "id": "bc043525-59ad-46d8-9e20-76ff0e51f1ee",
   "metadata": {},
   "outputs": [
    {
     "name": "stdout",
     "output_type": "stream",
     "text": [
      "Original List : [2, 5, 7, 8, 10, 13, 16]\n",
      "Filtered List : [2, 8, 10, 16]\n"
     ]
    }
   ],
   "source": [
    "#25. Filter out all even numbers from a list\n",
    "#ans:\n",
    "a = [2, 5, 7, 8, 10, 13, 16]\n",
    "result = filter(lambda x: x % 2 == 0, a)\n",
    "print('Original List :', a)\n",
    "print('Filtered List :', list(result))"
   ]
  },
  {
   "cell_type": "code",
   "execution_count": 305,
   "id": "af3c1f4a-fe10-48e0-92b0-229e9c3dbc4e",
   "metadata": {},
   "outputs": [
    {
     "name": "stdout",
     "output_type": "stream",
     "text": [
      "list of integers: [1, 2, 3, 4, 5, 6, 7, 8, 9]\n"
     ]
    }
   ],
   "source": [
    "#26. Convert a list of strings to a list of integers.\n",
    "#ans:\n",
    "list1=[\"1\",\"2\",\"3\",\"4\",\"5\",\"6\",\"7\",\"8\",\"9\"]\n",
    "integer_list=[int(x) for x in list1]\n",
    "print(\"list of integers:\",integer_list)\n"
   ]
  },
  {
   "cell_type": "code",
   "execution_count": 1,
   "id": "ece59389-f697-4338-b21f-ff1d3dcf6396",
   "metadata": {},
   "outputs": [
    {
     "name": "stdout",
     "output_type": "stream",
     "text": [
      "List of strings: ['10', '20', '30', '40', '50']\n"
     ]
    }
   ],
   "source": [
    "#27. Convert a list of integers to a list of strings.\n",
    "#ans:\n",
    "integer_list = [10, 20, 30, 40, 50]\n",
    "\n",
    "# Convert list of integers to list of strings using a list comprehension\n",
    "string_list = [str(x) for x in integer_list]\n",
    "\n",
    "# Print the list of strings\n",
    "print(\"List of strings:\", string_list)"
   ]
  },
  {
   "cell_type": "code",
   "execution_count": 318,
   "id": "73302da0-a3e9-4267-950d-169a37567b78",
   "metadata": {},
   "outputs": [
    {
     "name": "stdout",
     "output_type": "stream",
     "text": [
      "Flattened list: [1, 2, 3, 4, 5, 6, 7, 8, 9]\n"
     ]
    }
   ],
   "source": [
    "#28. Flatten a nested list.\n",
    "#ans:\n",
    "nested_list = [[1, 2, 3], [4, 5], [6, 7, 8, 9]]\n",
    "\n",
    "# Function to flatten a nested list\n",
    "def flatten_list(nested):\n",
    "    flattened = []\n",
    "    for sublist in nested:\n",
    "        if isinstance(sublist, list):\n",
    "            flattened.extend(flatten_list(sublist))\n",
    "        else:\n",
    "            flattened.append(sublist)\n",
    "    return flattened\n",
    "\n",
    "# Flatten the nested list\n",
    "flattened_list = flatten_list(nested_list)\n",
    "\n",
    "# Print the flattened list\n",
    "print(\"Flattened list:\", flattened_list)"
   ]
  },
  {
   "cell_type": "code",
   "execution_count": 319,
   "id": "fc8d67dd-aa29-4851-9731-5d34dab01c46",
   "metadata": {},
   "outputs": [
    {
     "name": "stdout",
     "output_type": "stream",
     "text": [
      "the first 10 fibonacci sequence is: [0, 1, 1, 2, 3, 5, 8, 13, 21, 34]\n"
     ]
    }
   ],
   "source": [
    "#29. Create a list of the first 10 Fibonacci numbers.\n",
    "#ans:\n",
    "def test_fib(n):\n",
    "    a,b=0,1\n",
    "    for i in list(range(n)):\n",
    "        yield a\n",
    "        a,b=b,a+b\n",
    "n=10\n",
    "res=test_fib(n)\n",
    "fib_l=list(res)\n",
    "print(\"the first 10 fibonacci sequence is:\",fib_l)\n"
   ]
  },
  {
   "cell_type": "code",
   "execution_count": 320,
   "id": "6541f472-55cd-40cd-9ec1-6c203082089c",
   "metadata": {},
   "outputs": [
    {
     "name": "stdout",
     "output_type": "stream",
     "text": [
      "the list is not sorted\n"
     ]
    }
   ],
   "source": [
    "#30 check if a list is sorted\n",
    "#ans:\n",
    "def check_list_sorted(l_s_t):\n",
    "    for i in l_s_t:\n",
    "        if l_s_t[i]<l_s_t[i-1]:\n",
    "            return False\n",
    "    return True\n",
    "l_s_t=[3,6,2,4,6,3,5,3,8]\n",
    "if check_list_sorted(l_s_t):\n",
    "    print(\"the list is sorted\")\n",
    "else:\n",
    "    print(\"the list is not sorted\")\n"
   ]
  },
  {
   "cell_type": "code",
   "execution_count": 321,
   "id": "ceadcda3-7ba3-4c1e-88ac-c4babc0069ce",
   "metadata": {},
   "outputs": [
    {
     "name": "stdout",
     "output_type": "stream",
     "text": [
      "rotated list: [13, 14, 15, 16, 11, 12]\n"
     ]
    }
   ],
   "source": [
    "#31. Rotate a list to the left by n positions.\n",
    "#ans:\n",
    "def rotate_left(m_l,n):\n",
    "    n=n%len(m_l)\n",
    "    rotated=m_l[n:]+m_l[:n]\n",
    "    return rotated\n",
    "m_l=[11,12,13,14,15,16]\n",
    "n=2\n",
    "rotated_list=rotate_left(m_l,n)\n",
    "print(\"rotated list:\",rotated_list)\n"
   ]
  },
  {
   "cell_type": "code",
   "execution_count": 322,
   "id": "ec96860d-4535-4a39-a3b2-f5a4de7ed47b",
   "metadata": {},
   "outputs": [
    {
     "name": "stdout",
     "output_type": "stream",
     "text": [
      "Rotated list: [5, 6, 1, 2, 3, 4]\n"
     ]
    }
   ],
   "source": [
    "#32. Rotate a list to the right by n positions\n",
    "#ans:\n",
    "def rotate_right(lst, n):\n",
    "    n = n % len(lst)  # Normalize n to handle cases where n is larger than the list length\n",
    "    # print(n)\n",
    "    rotated = lst[-n:] + lst[:-n]\n",
    "    return rotated\n",
    "\n",
    "# Example list\n",
    "my_list = [1, 2, 3, 4, 5, 6]\n",
    "\n",
    "# Number of positions to rotate by\n",
    "n = 2\n",
    "\n",
    "# Rotate the list to the right by n positions\n",
    "rotated_list = rotate_right(my_list, n)\n",
    "\n",
    "# Print the rotated list\n",
    "print(\"Rotated list:\", rotated_list)"
   ]
  },
  {
   "cell_type": "code",
   "execution_count": 323,
   "id": "f0fc636b-5433-480c-a372-292785f248a6",
   "metadata": {},
   "outputs": [
    {
     "name": "stdout",
     "output_type": "stream",
     "text": [
      "[2, 3, 5, 7, 11, 13, 17, 19, 23, 29, 31, 37, 41, 43, 47]\n",
      "[1, 2, 3]\n",
      "[4, 5, 6]\n",
      "[7, 8, 9]\n",
      "[10]\n"
     ]
    }
   ],
   "source": [
    "#33. Create a list of prime numbers up to 50.\n",
    "#ans:\n",
    "def is_prime(num):\n",
    "    if num <= 1:\n",
    "        return False\n",
    "    if num <= 3:\n",
    "        return True\n",
    "    if num % 2 == 0 or num % 3 == 0:\n",
    "        return False\n",
    "    i = 5\n",
    "    while i * i <= num:\n",
    "        if num % i == 0 or num % (i + 2) == 0:\n",
    "            return False\n",
    "        i += 6\n",
    "    return True\n",
    "\n",
    "# Generate a list of prime numbers up to 50\n",
    "prime_numbers = [num for num in range(2, 51) if is_prime(num)]\n",
    "\n",
    "# Print the list of prime numbers\n",
    "print(prime_numbers)\n",
    "\n",
    "\n",
    "#35.Split a list into chunks of size n.\n",
    "def chunk_list(input_list, n):\n",
    "    for i in range(0, len(input_list), n):\n",
    "        yield input_list[i:i + n]\n",
    "\n",
    "# Example usage:\n",
    "original_list = [1, 2, 3, 4, 5, 6, 7, 8, 9, 10]\n",
    "chunk_size = 3\n",
    "\n",
    "# Use the generator function to split the list into chunks\n",
    "chunked_lists = list(chunk_list(original_list, chunk_size))\n",
    "\n",
    "# Print the chunked lists\n",
    "for chunk in chunked_lists:\n",
    "    print(chunk)"
   ]
  },
  {
   "cell_type": "code",
   "execution_count": 324,
   "id": "85d62e3f-5099-48c8-ba74-219344177e91",
   "metadata": {},
   "outputs": [
    {
     "name": "stdout",
     "output_type": "stream",
     "text": [
      "second largest number 32\n"
     ]
    }
   ],
   "source": [
    "#35. Find the second largest number in a list.\n",
    "m_l=[10,5,20,32,12,43]\n",
    "s_l=sorted(set(m_l))\n",
    "if len(s_l)>=2:\n",
    "    second_largest=s_l[-2]\n",
    "    print(\"second largest number\",second_largest)\n",
    "else:\n",
    "    print(\"the list does not contain enough elements.\")\n"
   ]
  },
  {
   "cell_type": "code",
   "execution_count": 325,
   "id": "de2c1eed-ebb1-4659-b8d9-8977d597aede",
   "metadata": {},
   "outputs": [
    {
     "name": "stdout",
     "output_type": "stream",
     "text": [
      "squared list: [4, 16, 36, 64, 100]\n"
     ]
    }
   ],
   "source": [
    "#36. Replace every element in a list with its square.\n",
    "#ans:\n",
    "m_l=[2,4,6,8,10]\n",
    "sq_l=[i**2 for i in m_l]\n",
    "print(\"squared list:\",sq_l)\n"
   ]
  },
  {
   "cell_type": "code",
   "execution_count": 326,
   "id": "f0816415-a5bb-4c8b-8d67-6527a4b0ba32",
   "metadata": {},
   "outputs": [
    {
     "name": "stdout",
     "output_type": "stream",
     "text": [
      "Converted dictionary: {'apple': 0, 'banana': 1, 'cherry': 2, 'date': 3, 'elderberry': 4}\n"
     ]
    }
   ],
   "source": [
    "#37. Convert a list to a dictionary where list elements become keys and their indices become values\n",
    "#ans:\n",
    "my_list = ['apple', 'banana', 'cherry', 'date', 'elderberry']\n",
    "\n",
    "# Convert list to dictionary using dictionary comprehension\n",
    "my_dict = {element: index for index, element in enumerate(my_list)}\n",
    "\n",
    "# Print the resulting dictionary\n",
    "print(\"Converted dictionary:\", my_dict)"
   ]
  },
  {
   "cell_type": "code",
   "execution_count": 327,
   "id": "152689b9-1fee-47fd-9f43-5abf320f1fb0",
   "metadata": {},
   "outputs": [
    {
     "name": "stdout",
     "output_type": "stream",
     "text": [
      "shuffled list: [8, 2, 4, 5, 10, 3, 1, 6, 7, 9]\n"
     ]
    }
   ],
   "source": [
    "#38. Shuffle the elements of a list randomly.\n",
    "#ans:\n",
    "import random\n",
    "my_list=[1,2,3,4,5,6,7,8,9,10]\n",
    "random.shuffle(my_list)\n",
    "print(\"shuffled list:\",my_list)\n"
   ]
  },
  {
   "cell_type": "code",
   "execution_count": 328,
   "id": "612ca2ba-a4fa-4c60-9eb8-9b43824ea335",
   "metadata": {},
   "outputs": [
    {
     "name": "stdout",
     "output_type": "stream",
     "text": [
      "the list of 1st 10 factorial nos is [1, 1, 2, 6, 24, 120, 720, 5040, 40320, 362880]\n"
     ]
    }
   ],
   "source": [
    "#39.Create a list of the first 10 factorial numbers\n",
    "def factorial(n):\n",
    "    if n==0 or n==1:\n",
    "        return 1\n",
    "    else:\n",
    "        return n*factorial(n-1)\n",
    "factorial_numbers=[factorial(i) for i in range(10)]\n",
    "print(\"the list of 1st 10 factorial nos is\",factorial_numbers)"
   ]
  },
  {
   "cell_type": "code",
   "execution_count": 329,
   "id": "d59c1b8b-f084-4224-88b7-37732ae495a8",
   "metadata": {},
   "outputs": [
    {
     "name": "stdout",
     "output_type": "stream",
     "text": [
      "the list have atleast one common element\n"
     ]
    }
   ],
   "source": [
    "#40. Check if two lists have at least one element in common.\n",
    "def has_common_elements(list1,list2):\n",
    "    for item in list1:\n",
    "        if item in list2:\n",
    "            return True\n",
    "        return False\n",
    "list1=[2,3,42,3]\n",
    "list2=[2,3,32,4]\n",
    "if has_common_elements(list1,list2):\n",
    "    print(\"the list have atleast one common element\")\n",
    "else:\n",
    "    print(\"the list donot have any common element\")"
   ]
  },
  {
   "cell_type": "code",
   "execution_count": 330,
   "id": "15fa40aa-9051-480a-a361-3dbc9ee34a90",
   "metadata": {},
   "outputs": [
    {
     "name": "stdout",
     "output_type": "stream",
     "text": [
      "the list is empty []\n"
     ]
    }
   ],
   "source": [
    "#41. Remove all elements from a list.\n",
    "a=[1,2,3,4,5]\n",
    "a.clear()\n",
    "print(\"the list is empty\",a)\n"
   ]
  },
  {
   "cell_type": "code",
   "execution_count": 331,
   "id": "56c1df31-b23e-4632-8465-9531d8ee585b",
   "metadata": {},
   "outputs": [
    {
     "name": "stdout",
     "output_type": "stream",
     "text": [
      "list after replacing negative numbers with 0: [1, 2, 3, 0, 0, 0, 0]\n"
     ]
    }
   ],
   "source": [
    "#42. Replace negative numbers in a list with 0\n",
    "l_t=[1,2,3,-1,-2,-3,-6]\n",
    "for i in range(len(l_t)):\n",
    "    if l_t[i]<0:\n",
    "        l_t[i]=0\n",
    "print(\"list after replacing negative numbers with 0:\",l_t)"
   ]
  },
  {
   "cell_type": "code",
   "execution_count": 332,
   "id": "21fa1992-8c6a-4674-99f4-5398aed51134",
   "metadata": {},
   "outputs": [
    {
     "name": "stdout",
     "output_type": "stream",
     "text": [
      "the string form of words is come lets join hands\n"
     ]
    }
   ],
   "source": [
    "#44. Convert a list of words into a string.\n",
    "_w_lst=['come', 'lets', 'join', 'hands']\n",
    "_st_r=\" \".join(_w_lst)\n",
    "print(\"the string form of words is\",_st_r)"
   ]
  },
  {
   "cell_type": "code",
   "execution_count": 333,
   "id": "7e3231da-eecc-4ecb-b68d-f2e82d34842d",
   "metadata": {},
   "outputs": [
    {
     "name": "stdout",
     "output_type": "stream",
     "text": [
      "list of the first 5 power of 2: [1, 2, 4, 8, 16]\n"
     ]
    }
   ],
   "source": [
    "#45. Create a list of the first n powers of 2\n",
    "n=5\n",
    "p_l=[2**i for i in range(n)]\n",
    "print(\"list of the first\",n,'power of 2:',p_l)\n"
   ]
  },
  {
   "cell_type": "code",
   "execution_count": 334,
   "id": "e37e52f9-81ed-4c00-970b-609c91c64ad2",
   "metadata": {},
   "outputs": [
    {
     "name": "stdout",
     "output_type": "stream",
     "text": [
      "longest string: brother\n"
     ]
    }
   ],
   "source": [
    "#46Find the longest string in a list of strings\n",
    "l_s=['today','is','sunday','brother']\n",
    "lo_s=\"\"\n",
    "for s in l_s:\n",
    "    if len(s)>len(lo_s):\n",
    "        lo_s=s\n",
    "print(\"longest string:\",lo_s)"
   ]
  },
  {
   "cell_type": "code",
   "execution_count": 335,
   "id": "d113d94f-039f-428e-ba00-a43b9b5f6c06",
   "metadata": {},
   "outputs": [
    {
     "name": "stdout",
     "output_type": "stream",
     "text": [
      "longest string: is\n"
     ]
    }
   ],
   "source": [
    "#47. Find the shortest string in a list of strings.\n",
    "k_s=['today','is','sunday','brother']\n",
    "k_s.sort()\n",
    "lk_s=k_s[0]\n",
    "for s in k_s:\n",
    "    if len(s)<len(lk_s):\n",
    "        lk_s=s\n",
    "print(\"longest string:\",lk_s)"
   ]
  },
  {
   "cell_type": "code",
   "execution_count": 336,
   "id": "cb0f4f95-a87b-43ae-81c4-c50da82913ca",
   "metadata": {},
   "outputs": [
    {
     "name": "stdout",
     "output_type": "stream",
     "text": [
      "list of the first 5 triangular numbers: [1, 3, 6, 10, 15]\n"
     ]
    }
   ],
   "source": [
    "#48. Create a list of the first n triangular numbers.\n",
    "def triangular_numbers(n):\n",
    "    return [i*(i+1)//2 for i in range(1,n+1)]\n",
    "n=5\n",
    "_t_l=triangular_numbers(n)\n",
    "print(\"list of the first\",n,'triangular numbers:',_t_l)"
   ]
  },
  {
   "cell_type": "code",
   "execution_count": 337,
   "id": "8ae4986a-67ea-45ac-af82-e2068e9e3f16",
   "metadata": {},
   "outputs": [
    {
     "name": "stdout",
     "output_type": "stream",
     "text": [
      "[1, 6, 7] is a subsequence of [1, 2, 3, 4, 5, 6, 7].\n"
     ]
    }
   ],
   "source": [
    "#49. Check if a list contains another list as a subsequence\n",
    "def is_subsequence(sub, main):\n",
    "    # Initialize indices for both lists\n",
    "    sub_index = 0\n",
    "    main_index = 0\n",
    "\n",
    "    # Iterate through the main list\n",
    "    while main_index < len(main) and sub_index < len(sub):\n",
    "        # If the current elements match, move to the next element in the subsequence\n",
    "        if sub[sub_index] == main[main_index]:\n",
    "            sub_index += 1\n",
    "        # Move to the next element in the main list\n",
    "        main_index += 1\n",
    "\n",
    "    # If we reached the end of the subsequence, it's a subsequence of the main list\n",
    "    return sub_index == len(sub)\n",
    "\n",
    "# Example usage:\n",
    "main_list = [1, 2, 3, 4, 5, 6, 7]\n",
    "sub_list = [1,6,7]\n",
    "\n",
    "if is_subsequence(sub_list, main_list):\n",
    "    print(f\"{sub_list} is a subsequence of {main_list}.\")\n",
    "else:\n",
    "    print(f\"{sub_list} is not a subsequence of {main_list}.\")"
   ]
  },
  {
   "cell_type": "code",
   "execution_count": 338,
   "id": "cc040f32-ad76-46e4-8de4-2c50e2dedd64",
   "metadata": {},
   "outputs": [
    {
     "name": "stdout",
     "output_type": "stream",
     "text": [
      "list after swapping elements: [1, 4, 3, 2, 5]\n"
     ]
    }
   ],
   "source": [
    "#50. Swap two elements in a list by their indices\n",
    "l_1=[1,2,3,4,5]\n",
    "index1=1\n",
    "index2=3\n",
    "temp=l_1[index1]\n",
    "l_1[index1]=l_1[index2]\n",
    "l_1[index2]=temp\n",
    "print(\"list after swapping elements:\",l_1)"
   ]
  },
  {
   "cell_type": "code",
   "execution_count": 339,
   "id": "a89b1bc9-2c61-4d48-b172-02eea6affc86",
   "metadata": {},
   "outputs": [],
   "source": [
    "###Tuple based practice problem :"
   ]
  },
  {
   "cell_type": "code",
   "execution_count": 340,
   "id": "9acd9bd6-8345-4c08-86b8-cafd8f6d8511",
   "metadata": {},
   "outputs": [
    {
     "data": {
      "text/plain": [
       "(1, 2, 3, 4, 5)"
      ]
     },
     "execution_count": 340,
     "metadata": {},
     "output_type": "execute_result"
    }
   ],
   "source": [
    "#1. Create a tuple with integers from 1 to 5.\n",
    "#ans:\n",
    "tuple(range(1,6))"
   ]
  },
  {
   "cell_type": "code",
   "execution_count": 341,
   "id": "c1143312-b5b8-4bb5-8135-711089e0e2cb",
   "metadata": {},
   "outputs": [
    {
     "data": {
      "text/plain": [
       "3"
      ]
     },
     "execution_count": 341,
     "metadata": {},
     "output_type": "execute_result"
    }
   ],
   "source": [
    "#2. Access the third element of a tuple.\n",
    "#ans:\n",
    "t=(1,2,3,4,5,6,7,8,9,10)\n",
    "#to access the third element\n",
    "t[2]"
   ]
  },
  {
   "cell_type": "code",
   "execution_count": 342,
   "id": "2e213dac-8559-4875-a2e6-752f6d3f7491",
   "metadata": {},
   "outputs": [
    {
     "name": "stdout",
     "output_type": "stream",
     "text": [
      "the length of tuple : 6\n"
     ]
    }
   ],
   "source": [
    "#3. Find the length of a tuple without using the len() function.\n",
    "#ans:\n",
    "length=('d',1,2,3,4,5)\n",
    "count=0\n",
    "for i in length:\n",
    "    count+=1\n",
    "print(\"the length of tuple :\",count)"
   ]
  },
  {
   "cell_type": "code",
   "execution_count": 343,
   "id": "5bfe1c12-7f73-4435-ba40-5b3d9dc9eca4",
   "metadata": {},
   "outputs": [
    {
     "name": "stdout",
     "output_type": "stream",
     "text": [
      "the occurance of a element 2 is :  3\n"
     ]
    }
   ],
   "source": [
    "#4. Count the occurrences of an element in a tuple.\n",
    "#ans:\n",
    "t=(1,2,3,'ali',4,5,'ali',3,2,4,8,9,5,1,2,4)\n",
    "k=t.count(2)\n",
    "print(\"the occurance of a element 2 is : \",k)"
   ]
  },
  {
   "cell_type": "code",
   "execution_count": 344,
   "id": "780dd644-a273-4a96-8294-7ea7cf7a67ca",
   "metadata": {},
   "outputs": [
    {
     "name": "stdout",
     "output_type": "stream",
     "text": [
      "the first occurance of 2 is at index 1.\n"
     ]
    }
   ],
   "source": [
    "#5. Find the index of the first occurrence of an element in a tuple.\n",
    "#ans:\n",
    "t=(1,2,3,'ali',4,5,'ali',3,2,4,8,9,5,1,2,4)\n",
    "element_to_find=2\n",
    "index=-1\n",
    "for i,item in enumerate(t):\n",
    "    if item == element_to_find:\n",
    "        index=i\n",
    "        break\n",
    "if index!=-1:\n",
    "    print(f\"the first occurance of {element_to_find} is at index {index}.\")\n",
    "else:\n",
    "    print(f\"{element_to_find} is not found in the tuple.\")"
   ]
  },
  {
   "cell_type": "code",
   "execution_count": 345,
   "id": "185fde77-7e3e-473c-8bbf-0f854bcdfc0f",
   "metadata": {},
   "outputs": [
    {
     "name": "stdout",
     "output_type": "stream",
     "text": [
      "the element 2 exist\n"
     ]
    }
   ],
   "source": [
    "#6. Check if an element exists in a tuple.\n",
    "#ans:\n",
    "t=(1,2,3,4,5,'ali')\n",
    "sub_tuple=2\n",
    "if sub_tuple in t:\n",
    "    print(\"the element {} exist\".format(sub_tuple))\n",
    "else:\n",
    "    print(\"the element {} doesn't exist\".format(sub_tuple))"
   ]
  },
  {
   "cell_type": "code",
   "execution_count": 346,
   "id": "24c4a764-5773-4fe8-b86f-fd00ed8f6651",
   "metadata": {},
   "outputs": [
    {
     "name": "stdout",
     "output_type": "stream",
     "text": [
      "tuple : (1, 2, 3, 4, 5, 'ali')\n",
      "list : [1, 2, 3, 4, 5, 'ali']\n"
     ]
    }
   ],
   "source": [
    "#7. Convert a tuple to a list.\n",
    "#ans:\n",
    "t=(1,2,3,4,5,'ali')\n",
    "k=list(t)\n",
    "print(\"tuple :\",t)\n",
    "print(\"list :\" ,k)"
   ]
  },
  {
   "cell_type": "code",
   "execution_count": 347,
   "id": "285bc0da-08bb-4c65-bf7e-35eb21fa865f",
   "metadata": {},
   "outputs": [
    {
     "name": "stdout",
     "output_type": "stream",
     "text": [
      "list : [1, 2, 3, 4, 5, 'ali']\n",
      "tuple : (1, 2, 3, 4, 5, 'ali')\n"
     ]
    }
   ],
   "source": [
    "#8. Convert a list to a tuple.\n",
    "#ans:\n",
    "t=[1,2,3,4,5,'ali']\n",
    "k=tuple(t)\n",
    "print(\"list :\",t)\n",
    "print(\"tuple :\" ,k)"
   ]
  },
  {
   "cell_type": "code",
   "execution_count": 348,
   "id": "65609d1d-d146-4ce0-ab79-6cb735915196",
   "metadata": {},
   "outputs": [
    {
     "name": "stdout",
     "output_type": "stream",
     "text": [
      "var1 : 1\n",
      "var2 : 2\n",
      "var3 : 3\n",
      "var4 : 4\n"
     ]
    }
   ],
   "source": [
    "#9. Unpack the elements of a tuple into variables.\n",
    "#ans:\n",
    "t=(1,2,3,4)\n",
    "#unpacking the elements in tuple 't'\n",
    "var1, var2, var3,var4 =t\n",
    "print('var1 :',var1)\n",
    "print('var2 :',var2)\n",
    "print('var3 :',var3)\n",
    "print('var4 :',var4)"
   ]
  },
  {
   "cell_type": "code",
   "execution_count": 349,
   "id": "31675051-b4a6-489e-b3a2-6e9f3dd1da47",
   "metadata": {},
   "outputs": [
    {
     "data": {
      "text/plain": [
       "(2, 4, 6, 8, 10)"
      ]
     },
     "execution_count": 349,
     "metadata": {},
     "output_type": "execute_result"
    }
   ],
   "source": [
    "#10. Create a tuple of even numbers from 1 to 10.\n",
    "t=tuple(range(2,11,2)) # even no tuple\n",
    "t "
   ]
  },
  {
   "cell_type": "code",
   "execution_count": 350,
   "id": "8ad275f0-033d-458a-aef2-4c6f160db688",
   "metadata": {},
   "outputs": [
    {
     "name": "stdout",
     "output_type": "stream",
     "text": [
      "the contenate of two tuples : (1, 2, 3, 4, 1, 2, 3, 4, 5, 'ali')\n"
     ]
    }
   ],
   "source": [
    "#12. Concatenate two tuples.\n",
    "#ans:\n",
    "t=(1,2,3,4)\n",
    "t1=(1,2,3,4,5,'ali')\n",
    "k=t+t1\n",
    "print(\"the contenate of two tuples :\",k)"
   ]
  },
  {
   "cell_type": "code",
   "execution_count": 351,
   "id": "f7b2bac2-a127-4fba-a736-de276647d448",
   "metadata": {},
   "outputs": [
    {
     "data": {
      "text/plain": [
       "(1, 2, 3, 4, 5, 'ali', 1, 2, 3, 4, 5, 'ali', 1, 2, 3, 4, 5, 'ali')"
      ]
     },
     "execution_count": 351,
     "metadata": {},
     "output_type": "execute_result"
    }
   ],
   "source": [
    "#13. Repeat a tuple three times.\n",
    "#ans:\n",
    "t1=(1,2,3,4,5,'ali')\n",
    "t1*3 # reapeating a tuple three times\n"
   ]
  },
  {
   "cell_type": "code",
   "execution_count": 352,
   "id": "63c12fa9-db51-4140-a2de-61eba920f035",
   "metadata": {},
   "outputs": [
    {
     "name": "stdout",
     "output_type": "stream",
     "text": [
      "thet t is empty\n",
      "the t1 is not empty\n"
     ]
    }
   ],
   "source": [
    "#14. Check if a tuple is empty.\n",
    "#ans:\n",
    "t=()\n",
    "t1=(1,2,3,4,5,'ali')\n",
    "if not t:\n",
    "    print(\"thet t is empty\")\n",
    "else:\n",
    "    print(\"the t is not empty\")\n",
    "    \n",
    "    \n",
    "if not t1:\n",
    "    print(\"the t1 is empty\")\n",
    "else:\n",
    "    print(\"the t1 is not empty\")"
   ]
  },
  {
   "cell_type": "code",
   "execution_count": 353,
   "id": "88dca233-32f1-4f6f-a478-a27a40e12721",
   "metadata": {},
   "outputs": [
    {
     "name": "stdout",
     "output_type": "stream",
     "text": [
      "nested tuple: ((1, 2, 3, 4), ('a', 'b', 'c'), (True, False))\n"
     ]
    }
   ],
   "source": [
    "#15. Create a nested tuple.\n",
    "#ans:\n",
    "nested_tuple=((1,2,3,4),('a','b','c'),(True,False))\n",
    "print(\"nested tuple:\",nested_tuple)"
   ]
  },
  {
   "cell_type": "code",
   "execution_count": 354,
   "id": "1a67c278-6db5-4bac-85b1-03346e31ef57",
   "metadata": {},
   "outputs": [
    {
     "data": {
      "text/plain": [
       "(1, 2, 3, 4)"
      ]
     },
     "execution_count": 354,
     "metadata": {},
     "output_type": "execute_result"
    }
   ],
   "source": [
    "#16. Access the first element of a nested tuple.\n",
    "#ans:\n",
    "nested_tuple=((1,2,3,4),('a','b','c'),(True,False))\n",
    "nested_tuple[0]"
   ]
  },
  {
   "cell_type": "code",
   "execution_count": 355,
   "id": "ca0452b0-d692-4724-ad83-6c3037118887",
   "metadata": {},
   "outputs": [
    {
     "name": "stdout",
     "output_type": "stream",
     "text": [
      "(1,) <class 'tuple'>\n"
     ]
    }
   ],
   "source": [
    "#17. Create a tuple with a single element.\n",
    "#ans:\n",
    "t=(1,)\n",
    "print(t,type(t))"
   ]
  },
  {
   "cell_type": "code",
   "execution_count": 356,
   "id": "90855efb-f00e-407b-9ef3-49e3a88c69aa",
   "metadata": {},
   "outputs": [
    {
     "name": "stdout",
     "output_type": "stream",
     "text": [
      "tuple1 == tuple2: False\n",
      "tuple1 != tuple2: True\n",
      "tuple1 < tuple2: True\n",
      "tuple1 <= tuple2: True\n",
      "tuple1 > tuple2: False\n",
      "tuple1 >= tuple2: False\n"
     ]
    }
   ],
   "source": [
    "#18. Compare two tuples.\n",
    "#ans:\n",
    "tuple1 = (1, 2, 3)\n",
    "tuple2 = (1, 2, 4)\n",
    "\n",
    "# Compare the two tuples using comparison operators\n",
    "print(\"tuple1 == tuple2:\", tuple1 == tuple2)  # Equality check\n",
    "print(\"tuple1 != tuple2:\", tuple1 != tuple2)  # Inequality check\n",
    "print(\"tuple1 < tuple2:\", tuple1 < tuple2)    # Less than check\n",
    "print(\"tuple1 <= tuple2:\", tuple1 <= tuple2)  # Less than or equal to check\n",
    "print(\"tuple1 > tuple2:\", tuple1 > tuple2)    # Greater than check\n",
    "print(\"tuple1 >= tuple2:\", tuple1 >= tuple2)  # Greater than or equal to check"
   ]
  },
  {
   "cell_type": "code",
   "execution_count": 358,
   "id": "b7d2b22a-e731-465a-ade5-73891a752995",
   "metadata": {},
   "outputs": [
    {
     "ename": "NameError",
     "evalue": "name 't' is not defined",
     "output_type": "error",
     "traceback": [
      "\u001b[0;31m---------------------------------------------------------------------------\u001b[0m",
      "\u001b[0;31mNameError\u001b[0m                                 Traceback (most recent call last)",
      "Cell \u001b[0;32mIn[358], line 5\u001b[0m\n\u001b[1;32m      3\u001b[0m t\u001b[38;5;241m=\u001b[39m(\u001b[38;5;241m1\u001b[39m,\u001b[38;5;241m2\u001b[39m,\u001b[38;5;241m3\u001b[39m)\n\u001b[1;32m      4\u001b[0m \u001b[38;5;28;01mdel\u001b[39;00m t \u001b[38;5;66;03m# tuple is deleted\u001b[39;00m\n\u001b[0;32m----> 5\u001b[0m \u001b[38;5;28mprint\u001b[39m(\u001b[43mt\u001b[49m)\n",
      "\u001b[0;31mNameError\u001b[0m: name 't' is not defined"
     ]
    }
   ],
   "source": [
    "#19. Delete a tuple.\n",
    "#ans:\n",
    "t=(1,2,3)\n",
    "del t # tuple is deleted\n",
    "print(t)"
   ]
  },
  {
   "cell_type": "code",
   "execution_count": 359,
   "id": "a6ba3701-1ef9-42d9-8b16-48932122058c",
   "metadata": {},
   "outputs": [
    {
     "name": "stdout",
     "output_type": "stream",
     "text": [
      "sliced tuple : (2, 3)\n"
     ]
    }
   ],
   "source": [
    "#20. Slice a tuple.\n",
    "#ans:\n",
    "tuple1=(1,2,3,4,5,'ali')\n",
    "sliced_tuple=t1[1:3] # sliced tuple\n",
    "print(\"sliced tuple :\",sliced_tuple)"
   ]
  },
  {
   "cell_type": "code",
   "execution_count": 360,
   "id": "fa8c256d-b89e-4863-9ac3-9f24e009eb91",
   "metadata": {},
   "outputs": [
    {
     "data": {
      "text/plain": [
       "10"
      ]
     },
     "execution_count": 360,
     "metadata": {},
     "output_type": "execute_result"
    }
   ],
   "source": [
    "#21. Find the maximum value in a tuple.\n",
    "#ans:\n",
    "tuple1=(1,2,3,4,5,10)\n",
    "max(tuple1)"
   ]
  },
  {
   "cell_type": "code",
   "execution_count": 361,
   "id": "12d35fdb-c39a-450e-be3f-59cf28e29a5a",
   "metadata": {},
   "outputs": [
    {
     "data": {
      "text/plain": [
       "1"
      ]
     },
     "execution_count": 361,
     "metadata": {},
     "output_type": "execute_result"
    }
   ],
   "source": [
    "#22. Find the minimum value in a tuple.\n",
    "#ans:\n",
    "tuple1=(1,2,3,4,5,10)\n",
    "min(tuple1)"
   ]
  },
  {
   "cell_type": "code",
   "execution_count": 362,
   "id": "5d9b250a-6833-492e-ae12-20cbb590eb2c",
   "metadata": {},
   "outputs": [
    {
     "data": {
      "text/plain": [
       "('a', 'l', 'i', 'p', 'e', 'e', 'r')"
      ]
     },
     "execution_count": 362,
     "metadata": {},
     "output_type": "execute_result"
    }
   ],
   "source": [
    "#23. Convert a string to a tuple of characters.\n",
    "#ans:\n",
    "string=\"alipeer\"\n",
    "tuple(string)"
   ]
  },
  {
   "cell_type": "code",
   "execution_count": 2,
   "id": "bf059212-79f5-4010-894f-fa918ab667f8",
   "metadata": {},
   "outputs": [
    {
     "data": {
      "text/plain": [
       "'alipeer'"
      ]
     },
     "execution_count": 2,
     "metadata": {},
     "output_type": "execute_result"
    }
   ],
   "source": [
    "#24. Convert a tuple of characters to a string.\n",
    "#ans:\n",
    "tuple1=('a', 'l', 'i', 'p', 'e', 'e', 'r')\n",
    "string_from_tuple=''.join(tuple1)\n",
    "str(string_from_tuple)"
   ]
  },
  {
   "cell_type": "code",
   "execution_count": 367,
   "id": "aa04fef6-ac80-4377-b86d-67b734c4cf48",
   "metadata": {},
   "outputs": [
    {
     "name": "stdout",
     "output_type": "stream",
     "text": [
      "(1, 'hello', 3.14, True)\n"
     ]
    }
   ],
   "source": [
    "#25. Create a tuple from multiple data types.\n",
    "#ans:\n",
    "mixed_tuple = (1, \"hello\", 3.14, True)\n",
    "\n",
    "# Printing the tuple\n",
    "print(mixed_tuple)"
   ]
  },
  {
   "cell_type": "code",
   "execution_count": 368,
   "id": "36cba772-e990-4667-8b0b-6a357788e099",
   "metadata": {},
   "outputs": [
    {
     "name": "stdout",
     "output_type": "stream",
     "text": [
      "tuple1 and tuple2 are identical: True\n",
      "tuple1 and tuple3 are identical: False\n"
     ]
    }
   ],
   "source": [
    "#26. Check if two tuples are identical.\n",
    "#ans:\n",
    "# Step 1: Create two tuples\n",
    "tuple1 = (1, 2, 3)\n",
    "tuple2 = (1, 2, 3)\n",
    "tuple3 = (4, 5, 6)\n",
    "\n",
    "# Step 2: Compare the tuples for identity using the equality operator\n",
    "are_identical1 = tuple1 == tuple2\n",
    "are_identical2 = tuple1 == tuple3\n",
    "\n",
    "# Step 3: Print the results\n",
    "print(\"tuple1 and tuple2 are identical:\", are_identical1)\n",
    "print(\"tuple1 and tuple3 are identical:\", are_identical2)"
   ]
  },
  {
   "cell_type": "code",
   "execution_count": 369,
   "id": "d7ba0c05-3476-4fb9-a944-13efaeac96e2",
   "metadata": {},
   "outputs": [
    {
     "name": "stdout",
     "output_type": "stream",
     "text": [
      "Sorted tuple: (1, 2, 3, 5, 8)\n"
     ]
    }
   ],
   "source": [
    "#27. Sort the elements of a tuple.\n",
    "#ans:\n",
    "# Step 1: Create a tuple\n",
    "my_tuple = (5, 2, 8, 1, 3)\n",
    "\n",
    "# Step 2: Convert the tuple to a list, sort the list, and convert it back to a tuple\n",
    "sorted_tuple = tuple(sorted(my_tuple))\n",
    "\n",
    "# Step 3: Print the sorted tuple\n",
    "print(\"Sorted tuple:\", sorted_tuple)\n"
   ]
  },
  {
   "cell_type": "code",
   "execution_count": 3,
   "id": "97879cbc-828d-4cc7-9e8e-b2f7dbff8d4f",
   "metadata": {},
   "outputs": [
    {
     "name": "stdout",
     "output_type": "stream",
     "text": [
      "Tuple of strings: ('1', '2', '3', '4', '5')\n"
     ]
    }
   ],
   "source": [
    "#28. Convert a tuple of integers to a tuple of strings.\n",
    "#ans:\n",
    "# Step 1: Create a tuple of integers\n",
    "tuple_of_integers = (1, 2, 3, 4, 5)\n",
    "\n",
    "# Step 2: Convert the tuple of integers to a tuple of strings using a list comprehension\n",
    "tuple_of_strings = tuple(str(item) for item in tuple_of_integers)\n",
    "\n",
    "# Step 3: Print the tuple of strings\n",
    "print(\"Tuple of strings:\", tuple_of_strings)"
   ]
  },
  {
   "cell_type": "code",
   "execution_count": 373,
   "id": "a9b28320-bbcb-4e55-8742-6d0516ecbd5b",
   "metadata": {},
   "outputs": [
    {
     "name": "stdout",
     "output_type": "stream",
     "text": [
      "Tuple of strings: (1, 2, 3, 4, 5)\n"
     ]
    }
   ],
   "source": [
    "#29. Convert a tuple of strings to a tuple of integers.\n",
    "#ans:\n",
    "# Step 1: Create a tuple of integers\n",
    "tuple_of_integers = (1, 2, 3, 4, 5)\n",
    "\n",
    "# Step 2: Convert the tuple of integers to a tuple of strings using a list comprehension\n",
    "tuple_of_integers = tuple(int(item) for item in tuple_of_integers)\n",
    "\n",
    "# Step 3: Print the tuple of strings\n",
    "print(\"Tuple of strings:\", tuple_of_integers)"
   ]
  },
  {
   "cell_type": "code",
   "execution_count": 374,
   "id": "bfc04919-6e29-43e2-8b5e-27fe1a1e638d",
   "metadata": {},
   "outputs": [
    {
     "name": "stdout",
     "output_type": "stream",
     "text": [
      "Merged tuple: (1, 2, 3, 4, 5, 6)\n"
     ]
    }
   ],
   "source": [
    "#30. Merge two tuples.\n",
    "#ans:\n",
    "# Step 1: Create two tuples\n",
    "tuple1 = (1, 2, 3)\n",
    "tuple2 = (4, 5, 6)\n",
    "\n",
    "# Step 2: Merge the two tuples using the '+' operator\n",
    "merged_tuple = tuple1 + tuple2\n",
    "\n",
    "# Step 3: Print the merged tuple\n",
    "print(\"Merged tuple:\", merged_tuple)"
   ]
  },
  {
   "cell_type": "code",
   "execution_count": 375,
   "id": "8b830ce1-5407-4bce-91be-5485e9154505",
   "metadata": {},
   "outputs": [
    {
     "name": "stdout",
     "output_type": "stream",
     "text": [
      "Flattened tuple: (1, 2, 3, 4, 5, 6, 7, 8)\n"
     ]
    }
   ],
   "source": [
    "#31. Flatten a nested tuple.\n",
    "#ans:\n",
    "def flatten_tuple(nested_tuple):\n",
    "    flattened = []\n",
    "    for item in nested_tuple:\n",
    "        if isinstance(item, tuple):\n",
    "            flattened.extend(flatten_tuple(item))\n",
    "        else:\n",
    "            flattened.append(item)\n",
    "    return flattened\n",
    "\n",
    "# Step 1: Create a nested tuple\n",
    "nested_tuple = ((1, 2), (3, 4, 5), (6, (7, 8)))\n",
    "\n",
    "# Step 2: Flatten the nested tuple\n",
    "flattened_tuple = tuple(flatten_tuple(nested_tuple))\n",
    "\n",
    "# Step 3: Print the flattened tuple\n",
    "print(\"Flattened tuple:\", flattened_tuple)"
   ]
  },
  {
   "cell_type": "code",
   "execution_count": 376,
   "id": "a265ccbb-de44-436d-9de5-b3811d7233dc",
   "metadata": {},
   "outputs": [
    {
     "name": "stdout",
     "output_type": "stream",
     "text": [
      "tuple of the first 5 prime numbers: (2, 3, 5, 7, 11)\n"
     ]
    }
   ],
   "source": [
    "#32. Create a tuple of the first 5 prime numbers.\n",
    "#ans:\n",
    "def is_prime(num):\n",
    "    if num<=1:\n",
    "        return False\n",
    "    for i in range(2,int(num**0.5)+1):\n",
    "        if num % i==0:\n",
    "            return False\n",
    "    return True\n",
    "prime_numbers_list=[num for num in range(2,100) if is_prime(num)][:5]\n",
    "prime_numbers_tuple=tuple(prime_numbers_list)\n",
    "print(\"tuple of the first 5 prime numbers:\",prime_numbers_tuple)"
   ]
  },
  {
   "cell_type": "code",
   "execution_count": 377,
   "id": "4cd0ac14-a690-40c9-a50d-845f3793e15d",
   "metadata": {},
   "outputs": [
    {
     "name": "stdout",
     "output_type": "stream",
     "text": [
      "palindrome_tuple is a palindrome: True\n",
      "non_palindrome_tuple is a palindrome: False\n"
     ]
    }
   ],
   "source": [
    "#33. Check if a tuple is a palindrome.\n",
    "#ans:\n",
    "def is_palindrome(tup):\n",
    "    return tup == tup[::-1]\n",
    "\n",
    "# Create tuples for testing\n",
    "palindrome_tuple = (1, 2, 3, 2, 1)\n",
    "non_palindrome_tuple = (1, 2, 3, 4, 5)\n",
    "\n",
    "# Check if the tuples are palindromes\n",
    "is_palindrome1 = is_palindrome(palindrome_tuple)\n",
    "is_palindrome2 = is_palindrome(non_palindrome_tuple)\n",
    "\n",
    "# Print the results\n",
    "print(\"palindrome_tuple is a palindrome:\", is_palindrome1)\n",
    "print(\"non_palindrome_tuple is a palindrome:\", is_palindrome2)"
   ]
  },
  {
   "cell_type": "code",
   "execution_count": 378,
   "id": "f2823d87-6e0c-4737-aaa3-af96bf89d7c8",
   "metadata": {},
   "outputs": [
    {
     "data": {
      "text/plain": [
       "(1, 4, 9, 16)"
      ]
     },
     "execution_count": 378,
     "metadata": {},
     "output_type": "execute_result"
    }
   ],
   "source": [
    "#34. Create a tuple of squares of numbers from 1 to 5.\n",
    "#ans:\n",
    "t=tuple(x**2 for x in range(1,5))\n",
    "t"
   ]
  },
  {
   "cell_type": "code",
   "execution_count": 379,
   "id": "a06641f8-fdb4-4891-b853-e86b813dadde",
   "metadata": {},
   "outputs": [
    {
     "data": {
      "text/plain": [
       "(1, 3, 5, 7, 9)"
      ]
     },
     "execution_count": 379,
     "metadata": {},
     "output_type": "execute_result"
    }
   ],
   "source": [
    "#35. Filter out all even numbers from a tuple.\n",
    "#ans:\n",
    "t=tuple(range(1,11))\n",
    "t[::2]"
   ]
  },
  {
   "cell_type": "code",
   "execution_count": 380,
   "id": "035385a4-86d3-4101-b632-0a3434432161",
   "metadata": {},
   "outputs": [
    {
     "data": {
      "text/plain": [
       "(2, 4, 6, 8, 10)"
      ]
     },
     "execution_count": 380,
     "metadata": {},
     "output_type": "execute_result"
    }
   ],
   "source": [
    "#36. Multiply all elements in a tuple by 2.\n",
    "t=tuple(x*2 for x in range(1,6)) # Multiply all elements by 2 using a list comprehension and convert to a tuple\n",
    "t"
   ]
  },
  {
   "cell_type": "code",
   "execution_count": 381,
   "id": "109b183f-49b6-4901-99f2-657146313631",
   "metadata": {},
   "outputs": [
    {
     "name": "stdout",
     "output_type": "stream",
     "text": [
      "Random tuple: (12, 74, 4, 39, 43, 53, 51, 17, 32, 46)\n"
     ]
    }
   ],
   "source": [
    "#37. Create a tuple of random numbers.\n",
    "#ans:\n",
    "import random\n",
    "\n",
    "# Create a tuple of random numbers using a list comprehension\n",
    "random_tuple = tuple(random.randint(1, 100) for _ in range(10))  # Generating 10 random numbers between 1 and 100\n",
    "\n",
    "# Print the tuple of random numbers\n",
    "print(\"Random tuple:\", random_tuple)"
   ]
  },
  {
   "cell_type": "code",
   "execution_count": 4,
   "id": "43219543-89ac-4785-af9e-c944f6305921",
   "metadata": {},
   "outputs": [
    {
     "name": "stdout",
     "output_type": "stream",
     "text": [
      "Original tuple : [10, 4, 5, 8, 10]\n",
      "No, tuple is not sorted.\n"
     ]
    }
   ],
   "source": [
    "#38. Check if a tuple is sorted.\n",
    "#ans:\n",
    "test_tuple = [10, 4, 5, 8, 10]\n",
    " \n",
    "# printing original list\n",
    "print (\"Original tuple : \" + str(test_tuple))\n",
    " \n",
    "# using sort() to\n",
    "# check sorted list\n",
    "flag = 0\n",
    "test_tuple1 = test_tuple[:]\n",
    "test_tuple1.sort()\n",
    "if (test_tuple1 == test_tuple):\n",
    "    flag = 1\n",
    "     \n",
    "# printing result\n",
    "if (flag) :\n",
    "    print (\"Yes, tuple is sorted.\")\n",
    "else :\n",
    "    print (\"No, tuple is not sorted.\")"
   ]
  },
  {
   "cell_type": "code",
   "execution_count": 383,
   "id": "2c5fd9e0-1376-4772-93a9-b1177ec39140",
   "metadata": {},
   "outputs": [
    {
     "name": "stdout",
     "output_type": "stream",
     "text": [
      "(3, 4, 5, 1, 2)\n"
     ]
    }
   ],
   "source": [
    "#39. Rotate a tuple to the left by n positions.\n",
    "#ans:\n",
    "def rotate_tuple_left(tup, n):\n",
    "    n = n % len(tup)  # Ensure n is within the range of tuple length\n",
    "    rotated_tuple = tup[n:] + tup[:n]  # Rotate the tuple\n",
    "    return rotated_tuple\n",
    "\n",
    "# Example tuple\n",
    "my_tuple = (1, 2, 3, 4, 5)\n",
    "n_positions = 2\n",
    "result = rotate_tuple_left(my_tuple, n_positions)\n",
    "print(result)"
   ]
  },
  {
   "cell_type": "code",
   "execution_count": 384,
   "id": "185e1f7e-4fc0-4b2b-9721-5e4c3d864051",
   "metadata": {},
   "outputs": [
    {
     "name": "stdout",
     "output_type": "stream",
     "text": [
      "(4, 5, 6, 1, 2, 3)\n"
     ]
    }
   ],
   "source": [
    "#40. Rotate a tuple to the right by n positions.\n",
    "#ans:\n",
    "n=3\n",
    "tuple_1=(1,2,3,4,5,6)\n",
    "if n>len(tuple_1):\n",
    "    n=int(n%len(tuple(tuple_1)))\n",
    "tuple_1=(tuple_1[-n:]+tuple_1[:-n])\n",
    "print(tuple_1)\n"
   ]
  },
  {
   "cell_type": "code",
   "execution_count": 385,
   "id": "77474cf9-ae04-4872-9bff-2124440dd5f8",
   "metadata": {},
   "outputs": [
    {
     "name": "stdout",
     "output_type": "stream",
     "text": [
      "(0, 1, 1, 2, 3)\n"
     ]
    }
   ],
   "source": [
    "#41. Create a tuple of the first 5 Fibonacci numbers.\n",
    "#ans:\n",
    "def generate_fibonacci(n):\n",
    "    fibonacci = [0, 1]  # Initialize the list with the first two Fibonacci numbers\n",
    "    while len(fibonacci) < n:  # Continue generating Fibonacci numbers until the list has n elements\n",
    "        next_number = fibonacci[-1] + fibonacci[-2]  # Calculate the next Fibonacci number\n",
    "        fibonacci.append(next_number)  # Add the next Fibonacci number to the list\n",
    "    return tuple(fibonacci)  # Convert the list to a tuple and return it\n",
    "\n",
    "# Call the generate_fibonacci function to create a tuple of the first 5 Fibonacci numbers\n",
    "fibonacci_tuple = generate_fibonacci(5)\n",
    "\n",
    "# Print the resulting tuple\n",
    "print(fibonacci_tuple)"
   ]
  },
  {
   "cell_type": "code",
   "execution_count": 387,
   "id": "47c3b217-8bda-482d-8f85-8bac3fd89790",
   "metadata": {},
   "outputs": [
    {
     "name": "stdin",
     "output_type": "stream",
     "text": [
      "Enter elements separated by commas:  2\n"
     ]
    },
    {
     "name": "stdout",
     "output_type": "stream",
     "text": [
      "User input tuple: ('2',)\n"
     ]
    }
   ],
   "source": [
    "#42. Create a tuple from user input.\n",
    "#ans:\n",
    "# Taking user input for creating a tuple\n",
    "input_str = input(\"Enter elements separated by commas: \")\n",
    "\n",
    "# Splitting the input string into a list of strings\n",
    "input_list = input_str.split(',')\n",
    "\n",
    "# Converting the list of strings to a tuple\n",
    "user_tuple = tuple(input_list)\n",
    "\n",
    "# Printing the created tuple\n",
    "print(\"User input tuple:\", user_tuple)"
   ]
  },
  {
   "cell_type": "code",
   "execution_count": 5,
   "id": "c0d1ee99-41d3-47b1-9d95-a31811b1d02a",
   "metadata": {},
   "outputs": [
    {
     "name": "stdout",
     "output_type": "stream",
     "text": [
      "The original tuple  is : ((3, 4), (6, 5), (7, 8))\n",
      "The swapped tuple is : ((4, 3), (5, 6), (8, 7))\n"
     ]
    }
   ],
   "source": [
    "#43. Swap two elements in a tuple\n",
    "#ans:\n",
    "test_tuple = ((3, 4), (6, 5), (7, 8))\n",
    " \n",
    "# printing original list\n",
    "print(\"The original tuple  is : \" + str(test_tuple ))\n",
    " \n",
    "# Swap tuple elements in tuple t of tuples\n",
    "# Using map() + lambda\n",
    "res = tuple (map(lambda sub: (sub[1], sub[0]), test_tuple ))\n",
    "         \n",
    "# printing result\n",
    "print(\"The swapped tuple is : \" + str(res))"
   ]
  },
  {
   "cell_type": "code",
   "execution_count": 390,
   "id": "ef2c787c-bbfe-4b9b-b038-758d73802215",
   "metadata": {},
   "outputs": [
    {
     "data": {
      "text/plain": [
       "(6, 5, 4, 3, 2, 1)"
      ]
     },
     "execution_count": 390,
     "metadata": {},
     "output_type": "execute_result"
    }
   ],
   "source": [
    "#44. Reverse the elements of a tuple\n",
    "#ans:\n",
    "t=(1,2,3,4,5,6)\n",
    "t[::-1] #reversing the element of a tuple"
   ]
  },
  {
   "cell_type": "code",
   "execution_count": 391,
   "id": "77900073-2b77-43fc-8c75-1622cfd5b07a",
   "metadata": {},
   "outputs": [
    {
     "name": "stdout",
     "output_type": "stream",
     "text": [
      "Tuple of the first 5 powers of 2: (1, 2, 4, 8, 16)\n"
     ]
    }
   ],
   "source": [
    "#45. Create a tuple of the first n powers of 2.\n",
    "#ans:\n",
    "n = 5\n",
    "\n",
    "# Create a tuple of the first n powers of 2 using a list comprehension\n",
    "powers_of_2_tuple = tuple(2 ** i for i in range(n))\n",
    "\n",
    "# Print the tuple of powers of 2\n",
    "print(\"Tuple of the first\", n, \"powers of 2:\", powers_of_2_tuple)"
   ]
  },
  {
   "cell_type": "code",
   "execution_count": 6,
   "id": "96fc5e16-c46b-4d0b-8bb8-8a9a1b5ea350",
   "metadata": {},
   "outputs": [
    {
     "name": "stdout",
     "output_type": "stream",
     "text": [
      "The original tuple : ['gfg', 'is', 'best', 'for', 'geeks', 'alipeer']\n",
      "Maximum length tuple is : alipeer\n"
     ]
    }
   ],
   "source": [
    "#46. Find the longest string in a tuple of strings.\n",
    "#ans:\n",
    "# initialize tuple\n",
    "test_tuple = ['gfg', 'is', 'best', 'for', 'geeks','alipeer']\n",
    " \n",
    "# printing original tuple\n",
    "print(\"The original tuple : \" + str(test_tuple))\n",
    " \n",
    "# Longest String in tuple\n",
    "# using max() + key\n",
    "res = max(test_tuple, key = len)\n",
    " \n",
    "# printing result\n",
    "print(\"Maximum length tuple is : \" + res)"
   ]
  },
  {
   "cell_type": "code",
   "execution_count": 395,
   "id": "ee9b846d-9cf7-492c-b2c7-9bc66d13a177",
   "metadata": {},
   "outputs": [
    {
     "name": "stdout",
     "output_type": "stream",
     "text": [
      "Tuple of the first 5 triangular numbers: (1, 3, 6, 10, 15)\n"
     ]
    }
   ],
   "source": [
    "#47. Find the shortest string in a tuple of strings.\n",
    "#ans:\n",
    "# Define the value of n\n",
    "n = 5\n",
    "\n",
    "# Create a tuple of the first n triangular numbers using a list comprehension\n",
    "triangular_numbers_tuple = tuple((i * (i + 1)) // 2 for i in range(1, n + 1))\n",
    "\n",
    "# Print the tuple of triangular numbers\n",
    "print(\"Tuple of the first\", n, \"triangular numbers:\", triangular_numbers_tuple)"
   ]
  },
  {
   "cell_type": "code",
   "execution_count": 396,
   "id": "303da9c4-ce05-41a3-bfef-1b2219dbb51c",
   "metadata": {},
   "outputs": [
    {
     "name": "stdout",
     "output_type": "stream",
     "text": [
      "Main tuple contains subsequence tuple: True\n"
     ]
    }
   ],
   "source": [
    "#49. Check if a tuple contains another tuple as a subsequence.\n",
    "#ans:\n",
    "def contains_subsequence(main_tuple, sub_tuple):\n",
    "    sub_length = len(sub_tuple)\n",
    "    for i in range(len(main_tuple) - sub_length + 1):\n",
    "        if main_tuple[i:i+sub_length] == sub_tuple:\n",
    "            return True\n",
    "    return False\n",
    "\n",
    "# Main tuple\n",
    "main_tuple = (1, 2, 3, 4, 5, 6, 7, 8, 9)\n",
    "\n",
    "# Subsequence tuple\n",
    "sub_tuple = (3, 4, 5)\n",
    "\n",
    "# Check if the main tuple contains the subsequence tuple\n",
    "contains_subseq = contains_subsequence(main_tuple, sub_tuple)\n",
    "\n",
    "# Print the result\n",
    "print(\"Main tuple contains subsequence tuple:\", contains_subseq)"
   ]
  },
  {
   "cell_type": "code",
   "execution_count": 397,
   "id": "94cfef55-d60a-49e6-8605-9b768257df54",
   "metadata": {},
   "outputs": [
    {
     "name": "stdout",
     "output_type": "stream",
     "text": [
      "tuple of alter 1s and 0s: (0, 1, 0, 1, 0, 1, 0, 1, 0, 1, 0, 1, 0, 1, 0)\n"
     ]
    }
   ],
   "source": [
    "#50. Create a tuple of alternating 1s and 0s of length n.\n",
    "#ans:\n",
    "n=15\n",
    "alter_tuple=tuple(i%2 for i in range(n))\n",
    "print(\"tuple of alter 1s and 0s:\",alter_tuple)"
   ]
  },
  {
   "cell_type": "code",
   "execution_count": 398,
   "id": "938edede-705b-4bbd-aad0-f9a96f4de5a2",
   "metadata": {},
   "outputs": [],
   "source": [
    "###Set based problems:"
   ]
  },
  {
   "cell_type": "code",
   "execution_count": 399,
   "id": "7986274a-803b-43ff-acee-037f1eac22ce",
   "metadata": {},
   "outputs": [
    {
     "data": {
      "text/plain": [
       "{1, 2, 3, 4, 5}"
      ]
     },
     "execution_count": 399,
     "metadata": {},
     "output_type": "execute_result"
    }
   ],
   "source": [
    "#1. Create a set with integers from 1 to 5\n",
    "#ans:\n",
    "s=set(range(1,6)) #set with integers from 1 to 5\n",
    "s"
   ]
  },
  {
   "cell_type": "code",
   "execution_count": 400,
   "id": "21c23b00-658b-436a-bdb4-3ae7a7409cdb",
   "metadata": {},
   "outputs": [
    {
     "data": {
      "text/plain": [
       "{1, 2, 3, 4, 5, 6}"
      ]
     },
     "execution_count": 400,
     "metadata": {},
     "output_type": "execute_result"
    }
   ],
   "source": [
    "#2. Add an element to a set\n",
    "#ans:\n",
    "s={1,2,3,4,5}\n",
    "s.add(6) # adding an element to the set\n",
    "s"
   ]
  },
  {
   "cell_type": "code",
   "execution_count": 401,
   "id": "5cdb2435-5ca4-4b46-b438-e431c1e47bb9",
   "metadata": {},
   "outputs": [
    {
     "data": {
      "text/plain": [
       "{1, 2, 3, 4, 5}"
      ]
     },
     "execution_count": 401,
     "metadata": {},
     "output_type": "execute_result"
    }
   ],
   "source": [
    "#3. Remove an element from a set.\n",
    "#ans:\n",
    "s={1, 2, 3, 4, 5, 6}\n",
    "s.remove(6) # removing the element '6'\n",
    "s"
   ]
  },
  {
   "cell_type": "code",
   "execution_count": 405,
   "id": "99620eb3-6f48-4418-8dd2-115e07aab09e",
   "metadata": {},
   "outputs": [
    {
     "name": "stdin",
     "output_type": "stream",
     "text": [
      "Enter the element to check:  5\n"
     ]
    },
    {
     "name": "stdout",
     "output_type": "stream",
     "text": [
      "the element exists\n"
     ]
    }
   ],
   "source": [
    "#4. Check if an element exists in a set.\n",
    "#ans:\n",
    "s={1, 2, 3, 4, 5, 6}\n",
    "check_element = int(input(\"Enter the element to check: \"))\n",
    "if check_element in s :\n",
    "        print(\"the element exists\")\n",
    "else:\n",
    "        print(\"the element doesn't exist\")"
   ]
  },
  {
   "cell_type": "code",
   "execution_count": 406,
   "id": "4f10e190-008f-4541-925c-a565bb8bdbbc",
   "metadata": {},
   "outputs": [
    {
     "name": "stdout",
     "output_type": "stream",
     "text": [
      "length of the set 6\n"
     ]
    }
   ],
   "source": [
    "#5. Find the length of a set without using the len() function\n",
    "#ans:\n",
    "s={1, 2, 3, 4, 5, 6}\n",
    "count=0\n",
    "for i in s:\n",
    "    count+=1\n",
    "print(\"length of the set\",count)"
   ]
  },
  {
   "cell_type": "code",
   "execution_count": 407,
   "id": "e16b0643-ca7d-4a25-8669-5acc6280f86d",
   "metadata": {},
   "outputs": [
    {
     "name": "stdout",
     "output_type": "stream",
     "text": [
      "original set  : {1, 2, 3, 4, 5, 6}\n",
      "after clearing set  : set()\n"
     ]
    }
   ],
   "source": [
    "#6. Clear all elements from a set.\n",
    "#ans:\n",
    "s={1, 2, 3, 4, 5, 6}\n",
    "print('original set  :' ,s)\n",
    "s.clear()\n",
    "print('after clearing set  :',s)"
   ]
  },
  {
   "cell_type": "code",
   "execution_count": 408,
   "id": "8e6106d6-936e-41e4-bc86-c16353eb8891",
   "metadata": {},
   "outputs": [
    {
     "data": {
      "text/plain": [
       "{2, 4, 6, 8, 10}"
      ]
     },
     "execution_count": 408,
     "metadata": {},
     "output_type": "execute_result"
    }
   ],
   "source": [
    "#7. Create a set of even numbers from 1 to 10\n",
    "#ans:\n",
    "s=set(range(2,11,2))\n",
    "s"
   ]
  },
  {
   "cell_type": "code",
   "execution_count": 409,
   "id": "6c6f6c5c-bf20-4058-8897-0b8278451212",
   "metadata": {},
   "outputs": [
    {
     "name": "stdout",
     "output_type": "stream",
     "text": [
      "{2, 4, 6, 8, 10}\n"
     ]
    }
   ],
   "source": [
    "even_set=set()\n",
    "for num in range(1,11):\n",
    "    if num%2==0:\n",
    "        even_set.add(num)\n",
    "print(even_set)"
   ]
  },
  {
   "cell_type": "code",
   "execution_count": 410,
   "id": "4588872d-405b-4633-a59d-cbea041a37ae",
   "metadata": {},
   "outputs": [
    {
     "data": {
      "text/plain": [
       "{1, 3, 5, 7, 9}"
      ]
     },
     "execution_count": 410,
     "metadata": {},
     "output_type": "execute_result"
    }
   ],
   "source": [
    "#8. Create a set of odd numbers from 1 to 10\n",
    "#ans:\n",
    "s=set(range(1,11,2))\n",
    "s"
   ]
  },
  {
   "cell_type": "code",
   "execution_count": 411,
   "id": "f0a44b54-8e8f-4efc-add3-8b3c66aad1c1",
   "metadata": {},
   "outputs": [
    {
     "name": "stdout",
     "output_type": "stream",
     "text": [
      "{1, 3, 5, 7, 9}\n"
     ]
    }
   ],
   "source": [
    "odd_set=set()\n",
    "for num in range(1,11):\n",
    "    if num % 2!=0:\n",
    "        odd_set.add(num)\n",
    "print(odd_set)"
   ]
  },
  {
   "cell_type": "code",
   "execution_count": 412,
   "id": "a7e9eb06-e5c8-476a-989d-d09108a06fe7",
   "metadata": {},
   "outputs": [
    {
     "name": "stdout",
     "output_type": "stream",
     "text": [
      "Set 1: {1, 2, 3}\n",
      "Set 2: {2, 3, 4}\n",
      "Union of Set 1 and Set 2: {1, 2, 3, 4}\n"
     ]
    }
   ],
   "source": [
    "#9. Find the union of two sets\n",
    "#ans:\n",
    "set1={1,2,3}\n",
    "set2={2,3,4}\n",
    "union_result=set1.union(set2)\n",
    "print(\"Set 1:\", set1)\n",
    "print(\"Set 2:\", set2)\n",
    "print(\"Union of Set 1 and Set 2:\", union_result)"
   ]
  },
  {
   "cell_type": "code",
   "execution_count": 413,
   "id": "85f562dd-7dc6-43b2-ac7d-c39833bac34a",
   "metadata": {},
   "outputs": [
    {
     "name": "stdout",
     "output_type": "stream",
     "text": [
      "Set 1: {1, 2, 3}\n",
      "Set 2: {2, 3, 4}\n",
      "intersection of Set 1 and Set 2: {2, 3}\n"
     ]
    }
   ],
   "source": [
    "#10. Find the intersection of two sets\n",
    "#ans:\n",
    "set1={1,2,3}\n",
    "set2={2,3,4}\n",
    "intersection_result=set1.intersection(set2)\n",
    "print(\"Set 1:\", set1)\n",
    "print(\"Set 2:\", set2)\n",
    "print(\"intersection of Set 1 and Set 2:\", intersection_result)"
   ]
  },
  {
   "cell_type": "code",
   "execution_count": 414,
   "id": "5ff841f2-c493-4530-b456-cbc1049651de",
   "metadata": {},
   "outputs": [
    {
     "name": "stdout",
     "output_type": "stream",
     "text": [
      "Set 1: {1, 2, 3, 4}\n",
      "Set 2: {3, 4, 5, 6}\n",
      "difference of Set 1 and Set 2: {1, 2}\n"
     ]
    }
   ],
   "source": [
    "#11. Find the difference between two sets\n",
    "#ans:\n",
    "set1={1,2,3,4}\n",
    "set2={3,4,5,6}\n",
    "difference_result=set1.difference(set2)\n",
    "print(\"Set 1:\", set1)\n",
    "print(\"Set 2:\", set2)\n",
    "print(\"difference of Set 1 and Set 2:\", difference_result)"
   ]
  },
  {
   "cell_type": "code",
   "execution_count": 415,
   "id": "cdf54e93-ffdc-4a01-8edc-7863bd0cac5a",
   "metadata": {},
   "outputs": [
    {
     "name": "stdout",
     "output_type": "stream",
     "text": [
      "True\n"
     ]
    }
   ],
   "source": [
    "# 12. Check if a set is a subset of another set.\n",
    "#ans:\n",
    "set1={1,2,3,4,5}\n",
    "sub_set={2,3}\n",
    "is_subset=sub_set.issubset(set1)\n",
    "print(is_subset)"
   ]
  },
  {
   "cell_type": "code",
   "execution_count": 416,
   "id": "4191601a-7f0f-47c8-8ccd-18905de47683",
   "metadata": {},
   "outputs": [
    {
     "name": "stdout",
     "output_type": "stream",
     "text": [
      "set1 is a superset of set2\n"
     ]
    }
   ],
   "source": [
    "#13. Check if a set is a superset of another set.\n",
    "#ans:\n",
    "# Create two sets\n",
    "set1 = {1, 2, 3, 4, 5, 6}\n",
    "set2 = {3, 4}\n",
    "\n",
    "# Check if set1 is a superset of set2\n",
    "is_superset = set1.issuperset(set2)\n",
    "\n",
    "# Print the result\n",
    "if is_superset:\n",
    "    print(\"set1 is a superset of set2\")\n",
    "else:\n",
    "    print(\"set1 is not a superset of set2\")"
   ]
  },
  {
   "cell_type": "code",
   "execution_count": 417,
   "id": "03699d59-d12f-4eba-a61d-6ed1eb714429",
   "metadata": {},
   "outputs": [
    {
     "name": "stdout",
     "output_type": "stream",
     "text": [
      "Original List: [1, 2, 3, 4, 5, 6]\n",
      "Set from List: {1, 2, 3, 4, 5, 6}\n"
     ]
    }
   ],
   "source": [
    "#14. Create a set from a list\n",
    "#ans:\n",
    "list1=[1,2,3,4,5,6]\n",
    "k=set(list1)\n",
    "print(\"Original List:\", list1)\n",
    "print(\"Set from List:\",k)"
   ]
  },
  {
   "cell_type": "code",
   "execution_count": 418,
   "id": "b042b64e-137c-4a74-9328-c08943ab807b",
   "metadata": {},
   "outputs": [
    {
     "name": "stdout",
     "output_type": "stream",
     "text": [
      "Original set: {1, 2, 3, 4, 5, 6}\n",
      "Converted List: [1, 2, 3, 4, 5, 6]\n"
     ]
    }
   ],
   "source": [
    "#15. Convert a set to a list.\n",
    "#ans:\n",
    "Set1={1, 2, 3, 4, 5, 6}\n",
    "k=list(set1)\n",
    "print(\"Original set:\", set1)\n",
    "print(\"Converted List:\",k)"
   ]
  },
  {
   "cell_type": "code",
   "execution_count": 419,
   "id": "ebd6bc5c-724d-4c27-b762-20437c4887a6",
   "metadata": {},
   "outputs": [
    {
     "name": "stdout",
     "output_type": "stream",
     "text": [
      "Original set: {1, 2, 3, 4, 5, 6}\n",
      "updated set after removing 3 : {1, 2, 4, 5, 6}\n"
     ]
    }
   ],
   "source": [
    "#16. Remove a random element from a set\n",
    "#ans:\n",
    "Set1={1, 2, 3, 4, 5, 6}\n",
    "print(\"Original set:\", set1)\n",
    "import random\n",
    "random_element = random.choice(list(set1))\n",
    "set1.remove(random_element)\n",
    "print(\"updated set after removing\",random_element,\":\",set1)"
   ]
  },
  {
   "cell_type": "code",
   "execution_count": 420,
   "id": "a1e116fc-8c93-419d-a0bb-11a8d9a1a3aa",
   "metadata": {},
   "outputs": [
    {
     "name": "stdout",
     "output_type": "stream",
     "text": [
      " poping element : 1\n",
      "Set after popping: {2, 3, 4, 5}\n"
     ]
    }
   ],
   "source": [
    "#17. Pop an element from a set.\n",
    "#ans:\n",
    "set1={1, 2, 3, 4, 5, }\n",
    "k=set1.pop()\n",
    "print(\" poping element :\",k)\n",
    "print(\"Set after popping:\", set1)"
   ]
  },
  {
   "cell_type": "code",
   "execution_count": 421,
   "id": "a5b49730-1371-4e0c-a5b4-22e8f5925e38",
   "metadata": {},
   "outputs": [
    {
     "name": "stdout",
     "output_type": "stream",
     "text": [
      "The two sets have no elements in common.\n"
     ]
    }
   ],
   "source": [
    "#18. Check if two sets have no elements in common.\n",
    "#ans:\n",
    "# Step 1: Define two sets\n",
    "set1 = {1, 2, 3, 4}\n",
    "set2 = {5, 6, 7, 8}\n",
    "\n",
    "# Step 2: Check if the intersection of the two sets is empty\n",
    "# The intersection is the set of elements that are common to both sets\n",
    "common_elements = set1.intersection(set2)\n",
    "\n",
    "# Step 3: Check if the common_elements set is empty\n",
    "if not common_elements:\n",
    "    print(\"The two sets have no elements in common.\")\n",
    "else:\n",
    "    print(\"The two sets have common elements:\", common_elements)"
   ]
  },
  {
   "cell_type": "code",
   "execution_count": 422,
   "id": "2c21054e-4969-4995-866e-389a33ebf1e1",
   "metadata": {},
   "outputs": [
    {
     "name": "stdout",
     "output_type": "stream",
     "text": [
      "symmetric difference: {1, 2, 3, 4, 6, 7, 8, 9}\n"
     ]
    }
   ],
   "source": [
    "#19. Find the symmetric difference between two sets.\n",
    "#ans:\n",
    "set1 = {1, 2, 3, 4, 5}\n",
    "set2 = {5, 6, 7, 8, 9}\n",
    "symmetric_difference=set1^set2\n",
    "print(\"symmetric difference:\",symmetric_difference)"
   ]
  },
  {
   "cell_type": "code",
   "execution_count": 423,
   "id": "8d66d316-ab40-4b85-a9bb-1c49abc3e6ee",
   "metadata": {},
   "outputs": [
    {
     "name": "stdout",
     "output_type": "stream",
     "text": [
      "Set 1: {1, 2, 3}\n",
      "Set 2: {3, 4, 5}\n",
      "Updated Set 1: {1, 2, 3, 4, 5}\n"
     ]
    }
   ],
   "source": [
    "#20. Update a set with elements from another set.\n",
    "#ans:\n",
    "set1 = {1, 2, 3}\n",
    "print(\"Set 1:\", set1)\n",
    "\n",
    "# Create the second set\n",
    "set2 = {3, 4, 5}\n",
    "print(\"Set 2:\", set2)\n",
    "\n",
    "# Update set1 with elements from set2\n",
    "set1.update(set2)\n",
    "print(\"Updated Set 1:\", set1)"
   ]
  },
  {
   "cell_type": "code",
   "execution_count": 424,
   "id": "06365d2d-b7fc-4fd5-a75a-df21885cea06",
   "metadata": {},
   "outputs": [
    {
     "name": "stdout",
     "output_type": "stream",
     "text": [
      "2 3 5 7 11 "
     ]
    }
   ],
   "source": [
    "#21. Create a set of the first 5 prime numbers\n",
    "#ans:\n",
    "#function to check if a given number is prime\n",
    "def isPrime(n):\n",
    "  #since 0 and 1 is not prime return false.\n",
    "  if(n==1 or n==0):\n",
    "    return False\n",
    "   \n",
    "  #Run a loop from 2 to n-1\n",
    "  for i in range(2,n):\n",
    "    #if the number is divisible by i, then n is not a prime number.\n",
    "    if(n%i==0):\n",
    "      return False\n",
    "   \n",
    "  #otherwise, n is prime number.\n",
    "  return True\n",
    " \n",
    " \n",
    " \n",
    "# Driver code\n",
    "N = 11;\n",
    "#check for every number from 1 to N\n",
    "for i in range(1,N+1):\n",
    "  #check if current number is prime\n",
    "  if(isPrime(i)):\n",
    "    print(i,end=\" \")"
   ]
  },
  {
   "cell_type": "code",
   "execution_count": 425,
   "id": "f97e0f40-ba0d-4822-b9e1-9fa153d50418",
   "metadata": {},
   "outputs": [
    {
     "name": "stdout",
     "output_type": "stream",
     "text": [
      "the sets are identical\n"
     ]
    }
   ],
   "source": [
    "#22. Check if two sets are identical.\n",
    "#ans:\n",
    "set1 = {1, 2, 3, 4, 5}\n",
    "set2 = {1, 2, 5, 4, 3}\n",
    "if set1==set2:\n",
    "    print(\"the sets are identical\")\n",
    "else:\n",
    "    print(\"the sets are not identical\")"
   ]
  },
  {
   "cell_type": "code",
   "execution_count": 426,
   "id": "96a053ea-f507-4a45-b9ed-1d5bdf2045b8",
   "metadata": {},
   "outputs": [
    {
     "name": "stdout",
     "output_type": "stream",
     "text": [
      "frozen set: frozenset({1, 2, 3, 4, 5})\n"
     ]
    }
   ],
   "source": [
    "# 23. Create a frozen set\n",
    "#ans:\n",
    "elements = {1, 2, 3, 4, 5}\n",
    "my_frozen_set=frozenset(elements)\n",
    "print(\"frozen set:\",my_frozen_set)"
   ]
  },
  {
   "cell_type": "code",
   "execution_count": 427,
   "id": "6d681a1b-f348-47d0-8105-b415c0269c15",
   "metadata": {},
   "outputs": [
    {
     "name": "stdout",
     "output_type": "stream",
     "text": [
      "are the disjoint_set ?: True\n"
     ]
    }
   ],
   "source": [
    "#24. Check if a set is disjoint with another set.\n",
    "#ans:\n",
    "set1 ={1,2,3,4}\n",
    "set2 = {5,6,7,8}\n",
    "disjoint_set=set1.isdisjoint(set2)\n",
    "print(\"are the disjoint_set ?:\",disjoint_set)"
   ]
  },
  {
   "cell_type": "code",
   "execution_count": 428,
   "id": "78abf20c-9ce2-4474-b9b0-e99c552df74c",
   "metadata": {},
   "outputs": [
    {
     "name": "stdout",
     "output_type": "stream",
     "text": [
      "{1, 4, 9, 16, 25}\n"
     ]
    }
   ],
   "source": [
    "#25. Create a set of squares of numbers from 1 to 5\n",
    "#ans:\n",
    "squares_set=set()\n",
    "for num in range(1,6):\n",
    "    square=num**2\n",
    "    squares_set.add(square)\n",
    "print(squares_set)"
   ]
  },
  {
   "cell_type": "code",
   "execution_count": 429,
   "id": "691df7b4-d82e-4f3c-bdab-90c00b01b6b6",
   "metadata": {},
   "outputs": [
    {
     "name": "stdout",
     "output_type": "stream",
     "text": [
      "Original Set: {1, 2, 3, 4, 5}\n",
      "Even Numbers Set: {2, 4}\n"
     ]
    }
   ],
   "source": [
    "#26. Filter out all even numbers from a set.\n",
    "#ans:\n",
    "original_set = {1, 2, 3, 4, 5}\n",
    "\n",
    "# Step 2: Initialize an empty set to store the filtered even numbers\n",
    "even_numbers_set = set()\n",
    "\n",
    "# Step 3: Iterate through each element in the original set\n",
    "for num in original_set:\n",
    "    # Step 4: Check if the current number is even (divisible by 2)\n",
    "    if num % 2 == 0:\n",
    "        # Step 5: If even, add it to the even_numbers_set\n",
    "        even_numbers_set.add(num)\n",
    "\n",
    "# Step 6: Print the original set and the set containing even numbers\n",
    "print(\"Original Set:\", original_set)\n",
    "print(\"Even Numbers Set:\", even_numbers_set)"
   ]
  },
  {
   "cell_type": "code",
   "execution_count": 430,
   "id": "5a2f1149-a918-485e-87a4-6d60c9a96423",
   "metadata": {},
   "outputs": [
    {
     "name": "stdout",
     "output_type": "stream",
     "text": [
      "original set: {1, 2, 3, 4, 5, 6}\n",
      "multied set: {2, 4, 6, 8, 10, 12}\n"
     ]
    }
   ],
   "source": [
    "#27. Multiply all elements in a set by 2.\n",
    "#ans:\n",
    "set1={1,2,3,4,5,6}\n",
    "multiplied_set=set()\n",
    "for num in set1:\n",
    "    multiplied_num=num*2\n",
    "    multiplied_set.add(multiplied_num)\n",
    "print(\"original set:\",set1)\n",
    "print(\"multied set:\",multiplied_set)"
   ]
  },
  {
   "cell_type": "code",
   "execution_count": 431,
   "id": "775f11d9-751f-476a-8d26-366b4f689254",
   "metadata": {},
   "outputs": [
    {
     "name": "stdout",
     "output_type": "stream",
     "text": [
      "generate set of random numbers: {15, 16, 48, 86, 90}\n"
     ]
    }
   ],
   "source": [
    "#28. Create a set of random numbers.\n",
    "#ans:\n",
    "import random\n",
    "random_numbers=5\n",
    "random_number_set=set()\n",
    "for i in range(random_numbers):\n",
    "    random_num=random.randint(1,100)\n",
    "    random_number_set.add(random_num)\n",
    "print(\"generate set of random numbers:\",random_number_set)"
   ]
  },
  {
   "cell_type": "code",
   "execution_count": 432,
   "id": "5dad7515-17bd-4702-9bdc-99c453930ec8",
   "metadata": {},
   "outputs": [
    {
     "name": "stdout",
     "output_type": "stream",
     "text": [
      "the set is empty\n"
     ]
    }
   ],
   "source": [
    "#29. Check if a set is empty.\n",
    "#ans:\n",
    "set1={}\n",
    "if not set1:\n",
    "    print(\"the set is empty\")\n",
    "else:\n",
    "    print(\"the set is not empty:\")"
   ]
  },
  {
   "cell_type": "code",
   "execution_count": 433,
   "id": "8c652c35-8e2e-4f60-86da-e80947389871",
   "metadata": {},
   "outputs": [
    {
     "name": "stdout",
     "output_type": "stream",
     "text": [
      "Nested Set: {frozenset({1, 2, 3, 4, 5}), frozenset({6, 7, 8, 9, 10})}\n"
     ]
    }
   ],
   "source": [
    "#30. Create a nested set \n",
    "#ans:\n",
    "set1 = {1, 2, 3, 4, 5}\n",
    "set2 = {6, 7, 8, 9, 10}\n",
    "\n",
    "# Step 2: Create frozensets from the inner sets\n",
    "frozen_set1 = frozenset(set1)\n",
    "frozen_set2 = frozenset(set2)\n",
    "\n",
    "# Step 3: Create the nested set using the frozensets\n",
    "nested_set = {frozen_set1, frozen_set2}\n",
    "\n",
    "# Print the nested set\n",
    "print(\"Nested Set:\", nested_set)"
   ]
  },
  {
   "cell_type": "code",
   "execution_count": 434,
   "id": "1d450a9f-d3e6-40b9-a544-216b97bc29f3",
   "metadata": {},
   "outputs": [
    {
     "name": "stdout",
     "output_type": "stream",
     "text": [
      "original set: {1, 2, 3, 4}\n",
      "after discarding set: {1, 3, 4}\n"
     ]
    }
   ],
   "source": [
    "#31. Remove an element from a set using the discard method.\n",
    "#ans:\n",
    "set1={1,2,3,4}\n",
    "print(\"original set:\",set1)\n",
    "l=set1.discard(2) # discarding element 2\n",
    "print(\"after discarding set:\",set1)"
   ]
  },
  {
   "cell_type": "code",
   "execution_count": 435,
   "id": "e4cac05a-13d1-4135-a60c-8def2a6e1daf",
   "metadata": {},
   "outputs": [
    {
     "name": "stdout",
     "output_type": "stream",
     "text": [
      "set 1: {1, 2, 3, 4, 5}\n",
      "set 2: {6, 7, 8, 9, 10}\n",
      "is set1 a subset of set2 False\n",
      "is superset False\n",
      "intersection: set()\n",
      "union: {1, 2, 3, 4, 5, 6, 7, 8, 9, 10}\n",
      "elements in set1 but not set2: {1, 2, 3, 4, 5}\n",
      "elements in set2 but not set1: {6, 7, 8, 9, 10}\n"
     ]
    }
   ],
   "source": [
    "#32. Compare two sets\n",
    "#ans:\n",
    "set1 = {1, 2, 3, 4, 5}\n",
    "set2 = {6, 7, 8, 9, 10}\n",
    "is_subset=set1.issubset(set2)\n",
    "is_superset=set1.issuperset(set2)\n",
    "intersection=set1.intersection(set2)\n",
    "union=set1.union(set2)\n",
    "difference1=set1.difference(set2)\n",
    "difference2=set2.difference(set1)\n",
    "print(\"set 1:\",set1)\n",
    "print(\"set 2:\",set2)\n",
    "print(\"is set1 a subset of set2\",is_subset)\n",
    "print(\"is superset\",is_superset)\n",
    "print(\"intersection:\",intersection)\n",
    "print(\"union:\",union)\n",
    "print(\"elements in set1 but not set2:\",difference1)\n",
    "print(\"elements in set2 but not set1:\",difference2)"
   ]
  },
  {
   "cell_type": "code",
   "execution_count": 436,
   "id": "22f2f112-a3a2-4176-b02b-7540c844a032",
   "metadata": {},
   "outputs": [
    {
     "data": {
      "text/plain": [
       "{'a', 'e', 'i', 'l', 'p', 'r'}"
      ]
     },
     "execution_count": 436,
     "metadata": {},
     "output_type": "execute_result"
    }
   ],
   "source": [
    "#33. Create a set from a string.\n",
    "#ans:\n",
    "string=\"alipeer\"\n",
    "set(string)"
   ]
  },
  {
   "cell_type": "code",
   "execution_count": 437,
   "id": "f7d5a939-9b95-4c80-a52e-286f1444d59b",
   "metadata": {},
   "outputs": [
    {
     "name": "stdout",
     "output_type": "stream",
     "text": [
      "Original String Set: {'786', '896', '456'}\n",
      "Converted Integer Set: {896, 786, 456}\n"
     ]
    }
   ],
   "source": [
    "#34. Convert a set of strings to a set of integers\n",
    "#ans:\n",
    "string_set={\"786\",\"456\",\"896\"}\n",
    "integer_set=set()\n",
    "for string in string_set:\n",
    "    integer_value=int(string)\n",
    "    integer_set.add(integer_value)\n",
    "print(\"Original String Set:\", string_set)\n",
    "print(\"Converted Integer Set:\", integer_set)"
   ]
  },
  {
   "cell_type": "code",
   "execution_count": 12,
   "id": "aee7e111-fac0-4d1b-9ca9-3ebd2df4f176",
   "metadata": {},
   "outputs": [
    {
     "name": "stdout",
     "output_type": "stream",
     "text": [
      "List of strings: ['10', '20', '30', '40', '50']\n"
     ]
    }
   ],
   "source": [
    "#35. Convert a set of integers to a set of strings.\n",
    "#ans:\n",
    "integer_list = [10, 20, 30, 40, 50]\n",
    "\n",
    "# Convert list of integers to list of strings using a list comprehension\n",
    "string_list = [str(x) for x in integer_list]\n",
    "\n",
    "# Print the list of strings\n",
    "print(\"List of strings:\", string_list)"
   ]
  },
  {
   "cell_type": "code",
   "execution_count": null,
   "id": "24c4166d-fe2b-4694-a927-e9939d65ef05",
   "metadata": {},
   "outputs": [],
   "source": [
    "#36. Create a set from a tuple.\n",
    "#ans:\n",
    "tuple1=(1,2,3,5,4,6,8)\n",
    "set(tuple1)"
   ]
  },
  {
   "cell_type": "code",
   "execution_count": 439,
   "id": "529bf95b-a938-4a9c-b679-4de385c53023",
   "metadata": {},
   "outputs": [
    {
     "data": {
      "text/plain": [
       "(1, 2, 3, 4, 5, 6, 8)"
      ]
     },
     "execution_count": 439,
     "metadata": {},
     "output_type": "execute_result"
    }
   ],
   "source": [
    "#37. Convert a set to a tuple.\n",
    "#ans:\n",
    "set1={1, 2, 3, 4, 5, 6, 8}\n",
    "tuple(set1)"
   ]
  },
  {
   "cell_type": "code",
   "execution_count": 440,
   "id": "2f58d814-143a-454c-a09d-6af50d23e4ad",
   "metadata": {},
   "outputs": [
    {
     "data": {
      "text/plain": [
       "8"
      ]
     },
     "execution_count": 440,
     "metadata": {},
     "output_type": "execute_result"
    }
   ],
   "source": [
    "#38. Find the maximum value in a set.\n",
    "#ans:\n",
    "set1={1, 2, 3, 4, 5, 6, 8}\n",
    "max(set1)"
   ]
  },
  {
   "cell_type": "code",
   "execution_count": 441,
   "id": "161f2934-7477-49ea-8f84-bc19a42c197c",
   "metadata": {},
   "outputs": [
    {
     "data": {
      "text/plain": [
       "1"
      ]
     },
     "execution_count": 441,
     "metadata": {},
     "output_type": "execute_result"
    }
   ],
   "source": [
    "#39. Find the minimum value in a set.\n",
    "#ans:\n",
    "set1={1, 2, 3, 4, 5, 6, 8}\n",
    "min(set1)"
   ]
  },
  {
   "cell_type": "code",
   "execution_count": 442,
   "id": "03f5d8f2-534d-4d0c-b73e-1c7cb873eaaf",
   "metadata": {},
   "outputs": [
    {
     "name": "stdout",
     "output_type": "stream",
     "text": [
      "Enter elements for the set (type 'done' to finish):\n"
     ]
    },
    {
     "name": "stdin",
     "output_type": "stream",
     "text": [
      ">  1\n",
      ">  5\n",
      ">  pwskills\n",
      ">  done\n"
     ]
    },
    {
     "name": "stdout",
     "output_type": "stream",
     "text": [
      "Final set: {'pwskills', '5', '1'}\n"
     ]
    }
   ],
   "source": [
    "#40. Create a set from user input.\n",
    "#ans:\n",
    "user_set = set()\n",
    "\n",
    "# Step 2: Get input from the user\n",
    "print(\"Enter elements for the set (type 'done' to finish):\")\n",
    "while True:\n",
    "    user_input = input(\"> \")  # Get input from the user\n",
    "\n",
    "    if user_input.lower() == 'done':\n",
    "        break  # Exit the loop if the user enters 'done'\n",
    "\n",
    "    # Step 3: Add the user input to the set\n",
    "    user_set.add(user_input)\n",
    "\n",
    "# Step 4: Display the final set created from user input\n",
    "print(\"Final set:\", user_set)"
   ]
  },
  {
   "cell_type": "code",
   "execution_count": 446,
   "id": "dc10d25d-e7d9-4bff-9e55-dbdfe3fa4eec",
   "metadata": {},
   "outputs": [
    {
     "name": "stdout",
     "output_type": "stream",
     "text": [
      "the intersection of the two sets is not empty.\n"
     ]
    }
   ],
   "source": [
    "#41. Check if the intersection of two sets is empty.\n",
    "#ans:\n",
    "set1 = {1, 2, 3, 4, 5}\n",
    "set2 = {4, 5, 6, 7, 8}\n",
    "intersection_result=set1.intersection(set2)\n",
    "if not intersection_result:\n",
    "    print(\"the intersection of the two sets is empty.:\")\n",
    "else:\n",
    "    print(\"the intersection of the two sets is not empty.\")"
   ]
  },
  {
   "cell_type": "code",
   "execution_count": 447,
   "id": "3b2d2046-3eff-4816-97f1-7b58e31ff21e",
   "metadata": {},
   "outputs": [
    {
     "name": "stdout",
     "output_type": "stream",
     "text": [
      "Set of the first 5 Fibonacci numbers: {0, 1, 2, 3, 5}\n"
     ]
    }
   ],
   "source": [
    "#42. Create a set of the first 5 Fibonacci numbers.\n",
    "#ans:\n",
    "fibonacci_set = set()\n",
    "\n",
    "# Initialize the first two Fibonacci numbers\n",
    "a, b = 0, 1\n",
    "\n",
    "# Loop to generate the first 5 Fibonacci numbers\n",
    "for _ in range(6):\n",
    "    # Add the current Fibonacci number to the set\n",
    "    fibonacci_set.add(a)\n",
    "\n",
    "    # Calculate the next Fibonacci number\n",
    "    a, b = b, a + b\n",
    "\n",
    "# Print the set of Fibonacci numbers\n",
    "print(\"Set of the first 5 Fibonacci numbers:\", fibonacci_set)"
   ]
  },
  {
   "cell_type": "code",
   "execution_count": 448,
   "id": "5ba28f56-5def-4457-b6fb-eee2f0d5c535",
   "metadata": {},
   "outputs": [
    {
     "name": "stdout",
     "output_type": "stream",
     "text": [
      "original list [1, 2, 3, 4, 5, 6, 7, 8, 9, 1, 2, 5, 9, 6, 8, 7, 5]\n",
      "after removing duplicates using set [1, 2, 3, 4, 5, 6, 7, 8, 9]\n"
     ]
    }
   ],
   "source": [
    "#43. Remove duplicates from a list using sets.\n",
    "#ans:\n",
    "list1=[1,2,3,4,5,6,7,8,9,1,2,5,9,6,8,7,5]\n",
    "print(\"original list\",list1)\n",
    "unique_list=set(list1)\n",
    "l=list(unique_list)\n",
    "print(\"after removing duplicates using set\",l)"
   ]
  },
  {
   "cell_type": "code",
   "execution_count": 449,
   "id": "192dabd5-5397-443d-9c79-a80df0a6352b",
   "metadata": {},
   "outputs": [
    {
     "name": "stdout",
     "output_type": "stream",
     "text": [
      "the sets have the same elements\n"
     ]
    }
   ],
   "source": [
    "#44. Check if two sets have the same elements, regardless of their count.\n",
    "#ans:\n",
    "#convert the sets to list and sort them\n",
    "def have_same_elements(set1,set2):\n",
    "    sorted_list1=sorted(list(set1))\n",
    "    sorted_list2=sorted(list(set2))\n",
    "    return sorted_list1==sorted_list2\n",
    "set1={1,2,3,2,3}\n",
    "set2={1,2,3}\n",
    "result=have_same_elements(set1,set2)\n",
    "if result:\n",
    "    print(\"the sets have the same elements\")\n",
    "else:\n",
    "    print(\"the sets do not have same elements\")\n"
   ]
  },
  {
   "cell_type": "code",
   "execution_count": 450,
   "id": "4d8dee5e-d8fb-43a3-9490-1dbaf71cba53",
   "metadata": {},
   "outputs": [
    {
     "name": "stdout",
     "output_type": "stream",
     "text": [
      "{1, 2, 4, 8, 16}\n"
     ]
    }
   ],
   "source": [
    "#45. Create a set of the first n powers of 2\n",
    "#ans:\n",
    "def generate_powers_of_2(n):\n",
    "    # Initialize an empty set to store the powers of 2\n",
    "    powers_of_2 = set()\n",
    "\n",
    "    # Loop from 0 to n-1\n",
    "    for i in range(n):\n",
    "        # Calculate the current power of 2 using the exponentiation operator **\n",
    "        power = 2 ** i\n",
    "\n",
    "        # Add the current power of 2 to the set\n",
    "        powers_of_2.add(power)\n",
    "\n",
    "    # Return the set of powers of 2\n",
    "    return powers_of_2\n",
    "\n",
    "# Define the value of n\n",
    "n = 5\n",
    "\n",
    "# Call the function to generate the set of powers of 2\n",
    "powers_set = generate_powers_of_2(n)\n",
    "\n",
    "# Print the resulting set\n",
    "print(powers_set)"
   ]
  },
  {
   "cell_type": "code",
   "execution_count": 451,
   "id": "749577b5-630a-4e4c-9c1b-b9cea1a8ab49",
   "metadata": {},
   "outputs": [
    {
     "name": "stdout",
     "output_type": "stream",
     "text": [
      "common elements: [1, 2, 3, 4, 5, 6]\n"
     ]
    }
   ],
   "source": [
    "#46. Find the common elements between a set and a list.\n",
    "#ans:\n",
    "set1={1,2,3,4,5,6}\n",
    "list1=[1,2,3,4,5,6,7,8,9]\n",
    "list_to_set=set(list1)\n",
    "common_elements = []\n",
    "for element in set1:\n",
    "    if element in list_to_set:\n",
    "        common_elements.append(element)\n",
    "print(\"common elements:\",common_elements)"
   ]
  },
  {
   "cell_type": "code",
   "execution_count": 452,
   "id": "dfef412d-1dee-42f7-ab28-eadf4869d82c",
   "metadata": {},
   "outputs": [
    {
     "name": "stdin",
     "output_type": "stream",
     "text": [
      "Enter the value of n:  10\n"
     ]
    },
    {
     "name": "stdout",
     "output_type": "stream",
     "text": [
      "The set of the first 10 triangular numbers is: {1, 3, 36, 6, 10, 45, 15, 21, 55, 28}\n"
     ]
    }
   ],
   "source": [
    "#47. Create a set of the first n triangular numbers.\n",
    "#ans:\n",
    "def generate_triangular_numbers(n):\n",
    "    triangular_numbers = set()  # Create an empty set to store the triangular numbers\n",
    "    for i in range(1, n + 1):\n",
    "        triangular_number = i * (i + 1) // 2  # Calculate the ith triangular number using the formula\n",
    "        triangular_numbers.add(triangular_number)  # Add the calculated triangular number to the set\n",
    "    return triangular_numbers\n",
    "\n",
    "# Input the value of 'n'\n",
    "n = int(input(\"Enter the value of n: \"))\n",
    "\n",
    "# Call the function to generate the set of first 'n' triangular numbers\n",
    "triangular_set = generate_triangular_numbers(n)\n",
    "\n",
    "# Display the set of triangular numbers\n",
    "print(f\"The set of the first {n} triangular numbers is:\", triangular_set)"
   ]
  },
  {
   "cell_type": "code",
   "execution_count": 206,
   "id": "e23ed4bc-45af-4b28-a354-e890c30afcb2",
   "metadata": {},
   "outputs": [
    {
     "name": "stdout",
     "output_type": "stream",
     "text": [
      "set2 is a subset of set1\n"
     ]
    }
   ],
   "source": [
    "#48. Check if a set contains another set as a subset.\n",
    "#ans:\n",
    "set1={1,2,3,45,5,4}\n",
    "set2={2,3,4}\n",
    "is_subset=set2.issubset(set1)\n",
    "if is_subset:\n",
    "    print(\"set2 is a subset of set1\")\n",
    "else:\n",
    "    print(\"set2 is not a subset of set1\")"
   ]
  },
  {
   "cell_type": "code",
   "execution_count": 13,
   "id": "ee8b62cc-742f-4ef3-918c-5dc82e910c28",
   "metadata": {},
   "outputs": [
    {
     "name": "stdout",
     "output_type": "stream",
     "text": [
      "The  set after initializing : {0, 1}\n"
     ]
    }
   ],
   "source": [
    "#49. Create a set of alternating 1s and 0s of length n.\n",
    "#ans:\n",
    "import itertools\n",
    " \n",
    "# count of 1\n",
    "count_1 = 4\n",
    " \n",
    "# count of 0\n",
    "count_0 = 3\n",
    " \n",
    "# total length of set\n",
    "size =10\n",
    " \n",
    "# getting pattern\n",
    "pattern = [1] * count_1 + [0] * count_0\n",
    " \n",
    "# initializing set cyclically\n",
    "# using itertools.cycle() + itertools.islice()\n",
    "test_set = set(itertools.islice(itertools.cycle(pattern), size))\n",
    " \n",
    "# printing  set after change\n",
    "print(\"The  set after initializing : \" + str(test_set))"
   ]
  },
  {
   "cell_type": "code",
   "execution_count": 457,
   "id": "11e8549f-a0c7-4a19-88b0-6b76e3c6cb23",
   "metadata": {},
   "outputs": [
    {
     "name": "stdout",
     "output_type": "stream",
     "text": [
      "merged set: {1, 2, 3, 4, 5, 6, 7}\n"
     ]
    }
   ],
   "source": [
    "#50. Merge multiple sets into one.\n",
    "#ans:\n",
    "set1={1,2,3,4}\n",
    "set2={2,3,4,5}\n",
    "set3={3,4,5,6}\n",
    "set4={4,5,6,7}\n",
    "merged_set=set1.union(set2,set3,set4)\n",
    "print(\"merged set:\",merged_set)"
   ]
  }
 ],
 "metadata": {
  "kernelspec": {
   "display_name": "Python 3 (ipykernel)",
   "language": "python",
   "name": "python3"
  },
  "language_info": {
   "codemirror_mode": {
    "name": "ipython",
    "version": 3
   },
   "file_extension": ".py",
   "mimetype": "text/x-python",
   "name": "python",
   "nbconvert_exporter": "python",
   "pygments_lexer": "ipython3",
   "version": "3.10.8"
  },
  "toc-autonumbering": false
 },
 "nbformat": 4,
 "nbformat_minor": 5
}
