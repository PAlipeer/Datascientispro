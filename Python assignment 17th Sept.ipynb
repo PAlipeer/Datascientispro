{
 "cells": [
  {
   "cell_type": "code",
   "execution_count": 1,
   "id": "3a55d5db-df5f-4120-9be6-2ce80fd80bb5",
   "metadata": {},
   "outputs": [],
   "source": [
    "###For Loop :-"
   ]
  },
  {
   "cell_type": "code",
   "execution_count": 1,
   "id": "1fe20d03-8af8-44d5-b02a-5c3b671a7b42",
   "metadata": {},
   "outputs": [
    {
     "name": "stdout",
     "output_type": "stream",
     "text": [
      "1\n",
      "2\n",
      "3\n",
      "4\n",
      "5\n",
      "6\n",
      "7\n",
      "8\n",
      "9\n",
      "10\n"
     ]
    }
   ],
   "source": [
    "#1.\tWrite a Python program to print numbers from 1 to 10 using a for loop.\n",
    "#ans:\n",
    "for i in range(1,11):\n",
    "    print(i)"
   ]
  },
  {
   "cell_type": "code",
   "execution_count": 2,
   "id": "078f1122-d173-4d44-9946-342bb6eb1893",
   "metadata": {},
   "outputs": [
    {
     "name": "stdout",
     "output_type": "stream",
     "text": [
      "0\n",
      "1\n",
      "2\n",
      "3\n",
      "4\n",
      "5\n",
      "6\n",
      "7\n",
      "8\n"
     ]
    }
   ],
   "source": [
    "#2.\tExplain the difference between a for loop and a while loop in Python.\n",
    "#ans:\n",
    "\"\"\"for loop : 1)no need to intialize the loop variable\n",
    "              2)the loop variable will be updated\n",
    "              3)used when the iterations before hand\"\"\"\n",
    "for i in range(9):\n",
    "    print(i)\n",
    "    "
   ]
  },
  {
   "cell_type": "code",
   "execution_count": 7,
   "id": "2bb07d5b-8b1b-4b85-8dc4-576bef602337",
   "metadata": {},
   "outputs": [
    {
     "name": "stdout",
     "output_type": "stream",
     "text": [
      "0\n",
      "1\n",
      "2\n",
      "3\n",
      "4\n",
      "5\n",
      "6\n",
      "7\n",
      "8\n"
     ]
    }
   ],
   "source": [
    "#ans:\n",
    "\"\"\"while loop :\n",
    "   1)all the variables in the condition must be defined \n",
    "   and intiliazed\n",
    "   2)all updated must be explicity stated\n",
    "   3)used when iterations are unknown\"\"\"\n",
    "i=0\n",
    "while i<9:\n",
    "    print(i)\n",
    "    i+=1"
   ]
  },
  {
   "cell_type": "code",
   "execution_count": 14,
   "id": "1d7e40ff-e8f7-48e1-8167-34ac1fb1d3f4",
   "metadata": {},
   "outputs": [
    {
     "data": {
      "text/plain": [
       "5050"
      ]
     },
     "execution_count": 14,
     "metadata": {},
     "output_type": "execute_result"
    }
   ],
   "source": [
    "#3.\tWrite a Python program to calculate the sum of all numbers from 1 to 100 using a for loop.\n",
    "#ans:\n",
    "def sum_list(l):\n",
    "    sum=0\n",
    "    for i in l:\n",
    "        sum+=i\n",
    "    return sum\n",
    "l=range(1,101)\n",
    "sum_list(l)"
   ]
  },
  {
   "cell_type": "code",
   "execution_count": 20,
   "id": "ccb4b902-dab8-4a2e-8250-3c2c2f06ea2d",
   "metadata": {},
   "outputs": [
    {
     "name": "stdout",
     "output_type": "stream",
     "text": [
      " s is the iterator :  20\n",
      " s is the iterator :  4\n",
      " s is the iterator :  50\n",
      " s is the iterator :  60\n"
     ]
    }
   ],
   "source": [
    "#4. How do you iterate through a list using a for loop in Python?\n",
    "#ans:\n",
    "# Python3 code to iterate over a list\n",
    "s=[20,4,50,60]\n",
    "for i in s:\n",
    "    print(\" s is the iterator : \",i)"
   ]
  },
  {
   "cell_type": "code",
   "execution_count": 43,
   "id": "39d8d6a6-3e88-440d-96d2-647a4d686011",
   "metadata": {},
   "outputs": [
    {
     "name": "stdout",
     "output_type": "stream",
     "text": [
      "192\n"
     ]
    }
   ],
   "source": [
    "#5.Write a Python program to find the product of all elements in a list using a for loop.\n",
    "#ans:\n",
    "l=[1,2,3,4,8]\n",
    "product=1\n",
    "for i in l:\n",
    "    product*=i\n",
    "print(product)\n",
    "    "
   ]
  },
  {
   "cell_type": "code",
   "execution_count": 23,
   "id": "9cb4d49c-6047-4a12-80c5-124632023764",
   "metadata": {},
   "outputs": [
    {
     "name": "stdout",
     "output_type": "stream",
     "text": [
      "2\n",
      "4\n",
      "6\n",
      "8\n",
      "10\n",
      "12\n",
      "14\n",
      "16\n",
      "18\n",
      "20\n"
     ]
    }
   ],
   "source": [
    "#6.Create a Python program that prints all even numbers from 1 to 20 using a for loop.\n",
    "#ans:\n",
    "\n",
    "for i in range(1,21):\n",
    "    if i%2==0:\n",
    "        print(i)\n",
    "    \n",
    "    "
   ]
  },
  {
   "cell_type": "code",
   "execution_count": 56,
   "id": "f0849160-6f45-45f3-9f73-c22176854445",
   "metadata": {},
   "outputs": [
    {
     "name": "stdin",
     "output_type": "stream",
     "text": [
      "enter any number: 5\n"
     ]
    },
    {
     "name": "stdout",
     "output_type": "stream",
     "text": [
      "120\n"
     ]
    }
   ],
   "source": [
    "#7.\tWrite a Python program that calculates the factorial of a number using a for loop.\n",
    "#ans:\n",
    "\n",
    "n=int(input(\"enter any number:\"))\n",
    "f=1\n",
    "for i in range(n,0,-1):\n",
    "    f*=i\n",
    "print(f)"
   ]
  },
  {
   "cell_type": "code",
   "execution_count": 5,
   "id": "fcf6fa36-4e9d-49f0-a53b-b78587031c6c",
   "metadata": {},
   "outputs": [],
   "source": [
    "def fact(n):\n",
    "    a=1\n",
    "    for i in range(n,n+1):\n",
    "        a=i*a\n",
    "    return a\n",
    "        \n"
   ]
  },
  {
   "cell_type": "code",
   "execution_count": 6,
   "id": "a80d667c-3815-47d3-a51d-d79b4c43c00c",
   "metadata": {},
   "outputs": [
    {
     "data": {
      "text/plain": [
       "4"
      ]
     },
     "execution_count": 6,
     "metadata": {},
     "output_type": "execute_result"
    }
   ],
   "source": [
    "fact(4)"
   ]
  },
  {
   "cell_type": "code",
   "execution_count": 59,
   "id": "12b490be-2d34-43a1-a87d-7528c2fb1e67",
   "metadata": {},
   "outputs": [
    {
     "name": "stdout",
     "output_type": "stream",
     "text": [
      "a\n",
      "l\n",
      "i\n"
     ]
    },
    {
     "data": {
      "text/plain": [
       "<str_iterator at 0x7f489d7469b0>"
      ]
     },
     "execution_count": 59,
     "metadata": {},
     "output_type": "execute_result"
    }
   ],
   "source": [
    "#8.\tHow can you iterate through the characters of a string using a for loop in Python?\n",
    "#ans:\n",
    "s=\"ali\"\n",
    "for i in s:\n",
    "    print(i)\n",
    "iter(s)"
   ]
  },
  {
   "cell_type": "code",
   "execution_count": 7,
   "id": "9a5bc730-1992-4b1d-9609-7b2537a9afdc",
   "metadata": {},
   "outputs": [
    {
     "name": "stdout",
     "output_type": "stream",
     "text": [
      "Largest element is:  52\n"
     ]
    }
   ],
   "source": [
    "#9.\tWrite a Python program to find the largest number in a list using a for loop.\n",
    "#ans:\n",
    "a = [18, 52, 23, 41, 32]\n",
    "\n",
    "# variable to store largest number\n",
    "ln = a[0] if a else None\n",
    "\n",
    "# find largest number\n",
    "for i in a:\n",
    "    if i > ln:\n",
    "        ln = i\n",
    "\n",
    "print(\"Largest element is: \", ln)"
   ]
  },
  {
   "cell_type": "code",
   "execution_count": 20,
   "id": "c094e981-dc7e-44a6-bdde-fa8cafaaea92",
   "metadata": {},
   "outputs": [
    {
     "name": "stdout",
     "output_type": "stream",
     "text": [
      "55\n"
     ]
    }
   ],
   "source": [
    "#ans:\n",
    "a=[1,2,3,4,55,6]\n",
    "ln=a[0] \n",
    "for i in a:\n",
    "    if i>ln:\n",
    "        ln=i\n",
    "print(ln)"
   ]
  },
  {
   "cell_type": "code",
   "execution_count": 13,
   "id": "e10a8f95-e011-403f-948e-08597a35c0ed",
   "metadata": {},
   "outputs": [
    {
     "name": "stdin",
     "output_type": "stream",
     "text": [
      "How many terms?  5\n"
     ]
    },
    {
     "name": "stdout",
     "output_type": "stream",
     "text": [
      "Fibonacci sequence:\n",
      "0\n",
      "1\n",
      "1\n",
      "2\n",
      "3\n"
     ]
    }
   ],
   "source": [
    "#10.Create a Python program that prints the Fibonacci sequence up to a specified limit using a for loop.\n",
    "#ans:\n",
    "# Program to display the Fibonacci sequence up to n-th term\n",
    "\n",
    "nterms = int(input(\"How many terms? \"))\n",
    "\n",
    "# first two terms\n",
    "n1, n2 = 0, 1\n",
    "count = 0\n",
    "\n",
    "# check if the number of terms is valid\n",
    "if nterms <= 0:\n",
    "   print(\"Please enter a positive integer\")\n",
    "# if there is only one term, return n1\n",
    "elif nterms == 1:\n",
    "   print(\"Fibonacci sequence upto\",nterms,\":\")\n",
    "   print(n1)\n",
    "# generate fibonacci sequence\n",
    "else:\n",
    "   print(\"Fibonacci sequence:\")\n",
    "   while count < nterms:\n",
    "       print(n1)\n",
    "       nth = n1 + n2\n",
    "       # update values\n",
    "       n1 = n2\n",
    "       n2 = nth\n",
    "       count += 1"
   ]
  },
  {
   "cell_type": "code",
   "execution_count": 18,
   "id": "0e178cb4-29da-48f4-b176-a72332ec9132",
   "metadata": {},
   "outputs": [
    {
     "name": "stdout",
     "output_type": "stream",
     "text": [
      "4\n"
     ]
    }
   ],
   "source": [
    "#11.Write a Python program to count the number of vowels in a given string using a for loop.\n",
    "#ans:\n",
    "\n",
    "def vowel_count(str):\n",
    "    count=0\n",
    "    vowels=set(\"AIEOUaieou\")\n",
    "    for alpha in str:\n",
    "        if alpha in vowels:\n",
    "            count=count+1\n",
    "    print(count)\n",
    "str=\"alipeer\"\n",
    "vowel_count(str)\n",
    "    "
   ]
  },
  {
   "cell_type": "code",
   "execution_count": 12,
   "id": "9705518b-ed1e-4c1f-a2ad-efbc0f8c4874",
   "metadata": {},
   "outputs": [
    {
     "name": "stdout",
     "output_type": "stream",
     "text": [
      "3\n"
     ]
    }
   ],
   "source": [
    "def vowels_count(l):\n",
    "    count=0\n",
    "    vowel=set(\"AIEOUaieou\")\n",
    "    for alphabets in l:\n",
    "        if alphabets in vowel:\n",
    "            count=count+1\n",
    "    print(count)\n",
    "l=\"jackvaa\"\n",
    "vowels_count(l)"
   ]
  },
  {
   "cell_type": "code",
   "execution_count": 2,
   "id": "cbe0043e-01f2-4656-bcb1-c2dc78450bf6",
   "metadata": {},
   "outputs": [
    {
     "name": "stdin",
     "output_type": "stream",
     "text": [
      "enter the number which the user wanted 5\n"
     ]
    },
    {
     "name": "stdout",
     "output_type": "stream",
     "text": [
      "the multiplication table of: 5\n",
      "5 x 1 = 5\n",
      "5 x 2 = 10\n",
      "5 x 3 = 15\n",
      "5 x 4 = 20\n",
      "5 x 5 = 25\n",
      "5 x 6 = 30\n",
      "5 x 7 = 35\n",
      "5 x 8 = 40\n",
      "5 x 9 = 45\n",
      "5 x 10 = 50\n"
     ]
    }
   ],
   "source": [
    "#12. Create a Python program that generates a multiplication table for a given number using a for loop.\n",
    "#ans:\n",
    "number=int(input(\"enter the number which the user wanted\"))\n",
    "#we are using for lopp to iterate the multiplication 10times\n",
    "print(\"the multiplication table of:\",number)\n",
    "for count in range(1,11):\n",
    "    print(number,'x',count,'=',number*count)"
   ]
  },
  {
   "cell_type": "code",
   "execution_count": 10,
   "id": "833664de-12a6-4f16-a59a-eef37934b4bd",
   "metadata": {},
   "outputs": [
    {
     "name": "stdout",
     "output_type": "stream",
     "text": [
      "[-400, -3, -2, -1]\n"
     ]
    }
   ],
   "source": [
    "#13. Write a Python program to reverse a list using a for loop.\n",
    "#ans:\n",
    "lst=[1,2,3,400]\n",
    "res=[]\n",
    "for i in lst:\n",
    "    res.insert(-i,-i)\n",
    "print(res)"
   ]
  },
  {
   "cell_type": "code",
   "execution_count": 13,
   "id": "3bc32246-1d29-4890-8429-b6bb0812a56b",
   "metadata": {},
   "outputs": [
    {
     "name": "stdout",
     "output_type": "stream",
     "text": [
      "the common elements in the two lists are: [1, 2, 45, 8, 8]\n"
     ]
    }
   ],
   "source": [
    "#14. Write a Python program to find the common elements between two lists using a for loop.\n",
    "#ans:\n",
    "def common_member(l1,l2):\n",
    "    result=[i for i in l1 if i in l2]\n",
    "    return result\n",
    "l1=[1,2,3,45,8,8,100]\n",
    "l2=[1,2,25,5,6,45,78,8]\n",
    "\n",
    "print(\"the common elements in the two lists are:\",common_member(l1,l2))\n"
   ]
  },
  {
   "cell_type": "code",
   "execution_count": 24,
   "id": "28209d62-4d0e-4dda-a345-3099a591996e",
   "metadata": {},
   "outputs": [
    {
     "name": "stdout",
     "output_type": "stream",
     "text": [
      "keys :  Florida\n",
      "keys :  Hawaii\n",
      "keys :  Arizona\n",
      "keys :  Colorado\n",
      "keys :  Idaho\n",
      "keys :  Texas\n",
      "keys :  Washington\n",
      "keys :  Wisconsin\n",
      "values : EST and CST\n",
      "values : HST\n",
      "values : DST\n",
      "values : MST\n",
      "values : MST and PST\n",
      "values : CST and MST\n",
      "values : PST\n",
      "values : CST\n"
     ]
    }
   ],
   "source": [
    "#15. Explain how to use a for loop to iterate through the keys and values of a dictionary in Python\n",
    "#ans:\n",
    "states_tz_dict = {\n",
    "    'Florida': 'EST and CST',\n",
    "    'Hawaii': 'HST',\n",
    "    'Arizona': 'DST',\n",
    "    'Colorado': 'MST',\n",
    "    'Idaho': 'MST and PST',\n",
    "    'Texas': 'CST and MST',\n",
    "    'Washington': 'PST',\n",
    "    'Wisconsin': 'CST'\n",
    "}\n",
    "\n",
    "for k in states_tz_dict.keys():\n",
    "    print(\"keys : \" ,k)\n",
    "for v in states_tz_dict.values():\n",
    "    print(\"values :\" ,v)"
   ]
  },
  {
   "cell_type": "code",
   "execution_count": 26,
   "id": "85b19448-8254-4a6e-b64d-37335b3ac4fa",
   "metadata": {},
   "outputs": [
    {
     "name": "stdin",
     "output_type": "stream",
     "text": [
      "First  :  5\n",
      "Second :  6\n"
     ]
    },
    {
     "name": "stdout",
     "output_type": "stream",
     "text": [
      "1\n"
     ]
    }
   ],
   "source": [
    "#16. Write a Python program to find the GCD (Greatest Common Divisor) of two numbers using a for loop\n",
    "#ans:\n",
    "num1 = int(input(\"First  : \"))\n",
    "num2 = int(input(\"Second : \"))\n",
    "\n",
    "for i in range(1, min(num1, num2) + 1):\n",
    "    if num1 % i == 0 and num2 % i == 0:\n",
    "        result = i\n",
    "\n",
    "print(result)"
   ]
  },
  {
   "cell_type": "code",
   "execution_count": 30,
   "id": "502ed068-1859-42ef-ba78-1caf5462c0ad",
   "metadata": {},
   "outputs": [
    {
     "name": "stdin",
     "output_type": "stream",
     "text": [
      "enter string: sas\n"
     ]
    },
    {
     "name": "stdout",
     "output_type": "stream",
     "text": [
      "reversed string: sas\n",
      "the string is a palindrome.\n"
     ]
    }
   ],
   "source": [
    "#17. Create a Python program that checks if a string is a palindrome using a for loop.\n",
    "#ans:\n",
    "string=input(\"enter string:\")\n",
    "revstr=\"\"\n",
    "for i in string:\n",
    "    revstr=i+revstr\n",
    "print(\"reversed string:\",revstr)\n",
    "if(string==revstr):\n",
    "    print(\"the string is a palindrome.\")\n",
    "else:\n",
    "    print(\"the string is not a palindrome.\")"
   ]
  },
  {
   "cell_type": "code",
   "execution_count": 34,
   "id": "20c1cbc8-a637-429a-95c9-aec98b5fe763",
   "metadata": {},
   "outputs": [
    {
     "name": "stdout",
     "output_type": "stream",
     "text": [
      "[2]\n"
     ]
    }
   ],
   "source": [
    "#18. Write a Python program to remove duplicates from a list using a for loop.\n",
    "#ans:\n",
    "def remove(dulplicate):\n",
    "    final_list=[]\n",
    "    for num in duplicate:\n",
    "        if num not in final_list:\n",
    "            final_list.append(num)\n",
    "        return final_list\n",
    "duplicate=[2,4,5,89,54,1,12,4]\n",
    "print(remove(duplicate))"
   ]
  },
  {
   "cell_type": "code",
   "execution_count": 35,
   "id": "b6aa192f-98f0-40f2-9786-00be9c8a6b47",
   "metadata": {},
   "outputs": [
    {
     "name": "stdout",
     "output_type": "stream",
     "text": [
      "Enter the String: \n"
     ]
    },
    {
     "name": "stdin",
     "output_type": "stream",
     "text": [
      " alipeer\n"
     ]
    },
    {
     "name": "stdout",
     "output_type": "stream",
     "text": [
      "\n",
      "Number of Word(s): \n",
      "1\n"
     ]
    }
   ],
   "source": [
    "#19. Create a Python program that counts the number of words in a sentence using a for loop.\n",
    "#ans:\n",
    "print(\"Enter the String: \")\n",
    "text = input()\n",
    "\n",
    "chk = 0\n",
    "countWord = 0\n",
    "textLen = len(text)\n",
    "\n",
    "for i in range(textLen):\n",
    "    if text[i]==' ':\n",
    "        if chk!=0:\n",
    "            countWord = countWord+1\n",
    "        chk = 0\n",
    "    else:\n",
    "        chk = chk+1\n",
    "\n",
    "if chk!=0:\n",
    "    countWord = countWord+1\n",
    "\n",
    "print(\"\\nNumber of Word(s): \")\n",
    "print(countWord)"
   ]
  },
  {
   "cell_type": "code",
   "execution_count": 44,
   "id": "c585bd3a-4f21-4dc2-9845-ee1792873a12",
   "metadata": {},
   "outputs": [
    {
     "data": {
      "text/plain": [
       "625"
      ]
     },
     "execution_count": 44,
     "metadata": {},
     "output_type": "execute_result"
    }
   ],
   "source": [
    "#20. Write a Python program to find the sum of all odd numbers from 1 to 50 using a for loop.\n",
    "#ans:\n",
    "def sum_odd(k):\n",
    "    l1=[]\n",
    "    for i in k:\n",
    "        if i%2!=0:\n",
    "            l1.append(i)\n",
    "    return sum(l1)\n",
    "sum_odd(range(1,51))"
   ]
  },
  {
   "cell_type": "code",
   "execution_count": 53,
   "id": "ae6c3a75-f18a-4699-ac56-a5ecef6562f4",
   "metadata": {},
   "outputs": [
    {
     "name": "stdout",
     "output_type": "stream",
     "text": [
      "2000 is a leap year\n"
     ]
    }
   ],
   "source": [
    "#21. Write a Python program that checks if a given year is a leap year using a for loop.\n",
    "#ans:\n",
    "# Python program to check if year is a leap year or not\n",
    "\n",
    "year = 2000\n",
    "\n",
    "# To get year (integer input) from the user\n",
    "# year = int(input(\"Enter a year: \"))\n",
    "\n",
    "# divided by 100 means century year (ending with 00)\n",
    "# century year divided by 400 is leap year\n",
    "if (year % 400 == 0) and (year % 100 == 0):\n",
    "    print(\"{0} is a leap year\".format(year))\n",
    "\n",
    "# not divided by 100 means not a century year\n",
    "# year divided by 4 is a leap year\n",
    "elif (year % 4 ==0) and (year % 100 != 0):\n",
    "    print(\"{0} is a leap year\".format(year))\n",
    "\n",
    "# if not divided by both 400 (century year) and 4 (not century year)\n",
    "# year is not leap year\n",
    "else:\n",
    "    print(\"{0} is not a leap year\".format(year))"
   ]
  },
  {
   "cell_type": "code",
   "execution_count": 55,
   "id": "58003de8-6dc9-410e-a1c2-b682bbee2e17",
   "metadata": {},
   "outputs": [
    {
     "name": "stdout",
     "output_type": "stream",
     "text": [
      "3\n"
     ]
    }
   ],
   "source": [
    "#22. Create a Python program that calculates the square root of a number using a for loop.\n",
    "#ans:\n",
    "# Python3 program to find floor(sqrt(x)\n",
    "\n",
    "# Returns floor of square root of x\n",
    "\n",
    "\n",
    "def floorSqrt(x):\n",
    "\n",
    "\t# Base cases\n",
    "\tif (x == 0 or x == 1):\n",
    "\t\treturn x\n",
    "\n",
    "\t# Starting from 1, try all numbers until\n",
    "\t# i*i is greater than or equal to x.\n",
    "\ti = 1\n",
    "\tresult = 1\n",
    "\twhile (result <= x):\n",
    "\n",
    "\t\ti += 1\n",
    "\t\tresult = i * i\n",
    "\n",
    "\treturn i - 1\n",
    "\n",
    "\n",
    "# Driver Code\n",
    "x = 11\n",
    "print(floorSqrt(x))\n"
   ]
  },
  {
   "cell_type": "code",
   "execution_count": 1,
   "id": "b98dde3e-cfff-41de-beb4-06d08f5ea6f3",
   "metadata": {},
   "outputs": [
    {
     "name": "stdout",
     "output_type": "stream",
     "text": [
      "LCM of 12 and 14 is 84\n"
     ]
    }
   ],
   "source": [
    "#23. Write a Python program to find the LCM (Least Common Multiple) of two numbers using a for loop.\n",
    "#ans:\n",
    "num1 = 12\n",
    "num2 = 14\n",
    "for i in range(max(num1, num2), 1 + (num1 * num2)):\n",
    "    if i % num1 == i % num2 == 0:\n",
    "        lcm = i\n",
    "        break\n",
    "print(\"LCM of\", num1, \"and\", num2, \"is\", lcm)"
   ]
  },
  {
   "cell_type": "code",
   "execution_count": null,
   "id": "89c67a27-a95c-4cc3-8cbe-2f284834c3fc",
   "metadata": {},
   "outputs": [],
   "source": [
    "### if else:-"
   ]
  },
  {
   "cell_type": "code",
   "execution_count": 11,
   "id": "34f71414-cb42-4c7c-8174-582ab74541d0",
   "metadata": {},
   "outputs": [
    {
     "name": "stdin",
     "output_type": "stream",
     "text": [
      "Enter the Number :  5\n"
     ]
    },
    {
     "name": "stdout",
     "output_type": "stream",
     "text": [
      "the number is positive\n"
     ]
    }
   ],
   "source": [
    "#1. Write a Python program to check if a number is positive, negative, or zero using an if-elsestatement.\n",
    "#ans:\n",
    "n=int(input(\"Enter the Number : \"))\n",
    "if n==0:\n",
    "    print(\"the number is Zero\")\n",
    "elif n>=0:\n",
    "    print(\"the number is positive\")  \n",
    "else:\n",
    "    print(\"the number is negative\")"
   ]
  },
  {
   "cell_type": "code",
   "execution_count": 14,
   "id": "9e56495c-94f1-4953-85b1-b6ade2c1f68f",
   "metadata": {},
   "outputs": [
    {
     "name": "stdin",
     "output_type": "stream",
     "text": [
      "Enter the Number : 6\n"
     ]
    },
    {
     "name": "stdout",
     "output_type": "stream",
     "text": [
      "the given number is even : 6\n"
     ]
    }
   ],
   "source": [
    "#2. Create a Python program that checks if a given number is even or odd using an if-else statement\n",
    "#ans:\n",
    "n=int(input(\"Enter the Number :\"))\n",
    "if n%2==0:\n",
    "    print(\"the given number is even :\",n)\n",
    "else:\n",
    "    print(\"the given number is odd :\",n)\n",
    "    "
   ]
  },
  {
   "cell_type": "code",
   "execution_count": 17,
   "id": "acaeff9b-f2d6-4a33-a0c9-a15c4b2c2fd4",
   "metadata": {},
   "outputs": [
    {
     "name": "stdin",
     "output_type": "stream",
     "text": [
      "enter the number lie b/w 5 & 15  : 15\n"
     ]
    },
    {
     "name": "stdout",
     "output_type": "stream",
     "text": [
      "bigger than 5\n",
      "between 5 and 15\n"
     ]
    }
   ],
   "source": [
    "#3. How can you use nested if-else statements in Python, and provide an example?\n",
    "#ans:\n",
    "#nested if statement example\n",
    "num=int(input(\"enter the number lie b/w 5 & 15  :\"))\n",
    "if num>5:\n",
    "    print(\"bigger than 5\")\n",
    "    \n",
    "    if num<=15:\n",
    "        print(\"between 5 and 15\")"
   ]
  },
  {
   "cell_type": "code",
   "execution_count": 24,
   "id": "a684ef99-2207-4cc2-92fc-f91f36dd5534",
   "metadata": {},
   "outputs": [
    {
     "name": "stdin",
     "output_type": "stream",
     "text": [
      "enter the a value 5\n",
      "enter the b value 6\n",
      "enter the c value 7\n"
     ]
    },
    {
     "name": "stdout",
     "output_type": "stream",
     "text": [
      "c is the largest value\n"
     ]
    }
   ],
   "source": [
    "#4. Write a Python program to determine the largest of three numbers using if-else.\n",
    "#ans:\n",
    "a=int(input(\"enter the a value\"))\n",
    "b=int(input(\"enter the b value\"))\n",
    "c=int(input(\"enter the c value\"))\n",
    "if a>b and a>c:\n",
    "      print(\"a is the biggest value\")\n",
    "if  b>a and b>c:\n",
    "      print(\" b is the largest value\")\n",
    "\n",
    "else:\n",
    "    print(\"c is the largest value\")"
   ]
  },
  {
   "cell_type": "code",
   "execution_count": 40,
   "id": "45368aff-4ded-43a3-a377-3f9f293764b7",
   "metadata": {},
   "outputs": [
    {
     "name": "stdin",
     "output_type": "stream",
     "text": [
      "Enter the Number : -100\n"
     ]
    },
    {
     "name": "stdout",
     "output_type": "stream",
     "text": [
      "Absolute Number : 100\n"
     ]
    }
   ],
   "source": [
    "#5. Write a Python program that calculates the absolute value of a number using if-else\n",
    "#ans:\n",
    "num = int(input(\"Enter the Number :\"))\n",
    "#print(\"Absolute Number :\",abs(num))\n",
    "if(num<0):\n",
    "\tnum = (-1)*num\n",
    "print(\"Absolute Number :\",num)"
   ]
  },
  {
   "cell_type": "code",
   "execution_count": 49,
   "id": "8dd67f6a-0276-4e4e-8222-cbe7ab409c7f",
   "metadata": {},
   "outputs": [
    {
     "name": "stdin",
     "output_type": "stream",
     "text": [
      "enter the string char d\n"
     ]
    },
    {
     "name": "stdout",
     "output_type": "stream",
     "text": [
      "consonant\n"
     ]
    }
   ],
   "source": [
    "#6. Create a Python program that checks if a given character is a vowel or consonant using if-else.\n",
    "#ans:\n",
    "x=input(\"enter the string char\")\n",
    "if x=='a' or x=='e' or x=='i' or x=='o' or x=='u' or x=='A' or x=='E' or x=='O' or x=='I' or x=='U':\n",
    "    print('vowel')\n",
    "else:\n",
    "    print(\"consonant\")"
   ]
  },
  {
   "cell_type": "code",
   "execution_count": 50,
   "id": "9b592235-55b6-4fec-8a7f-7f5bf4e86e5c",
   "metadata": {},
   "outputs": [
    {
     "name": "stdin",
     "output_type": "stream",
     "text": [
      "enter the value 17\n"
     ]
    },
    {
     "name": "stdout",
     "output_type": "stream",
     "text": [
      "the candidate is not eligible\n"
     ]
    }
   ],
   "source": [
    "#7. Write a Python program to determine if a user is eligible to vote based on their age using if-else.\n",
    "#ans:\n",
    "voter=int(input(\"enter the value\"))\n",
    "if voter>=18:\n",
    "    print(\"the candidate is eligible for voting\")\n",
    "else:\n",
    "    print(\"the candidate is not eligible\")"
   ]
  },
  {
   "cell_type": "code",
   "execution_count": 54,
   "id": "0ebf6395-191b-4af7-9e4e-0fecc7c5bf0b",
   "metadata": {},
   "outputs": [
    {
     "name": "stdin",
     "output_type": "stream",
     "text": [
      "Enter Sale Amount:  500\n"
     ]
    },
    {
     "name": "stdout",
     "output_type": "stream",
     "text": [
      "Discount :  25.0\n",
      "Net Pay  :  475.0\n"
     ]
    }
   ],
   "source": [
    "#8. Create a Python program that calculates the discount amount based on the purchase amountusing if-else\n",
    "#ans:\n",
    "# input sale amount\n",
    "amt = int(input(\"Enter Sale Amount: \"))\n",
    "\n",
    "# checking conditions and calculating discount\n",
    "if(amt>0):\n",
    "    if amt<=5000:\n",
    "       disc = amt*0.05\n",
    "    elif amt<=15000:\n",
    "        disc=amt*0.12\n",
    "    elif amt<=25000:\n",
    "        disc=0.2 * amt\n",
    "    else:\n",
    "         disc=0.3 * amt\n",
    "\n",
    "    print(\"Discount : \",disc)\n",
    "    print(\"Net Pay  : \",amt-disc)\n",
    "else:\n",
    "    print(\"Invalid Amount\")\n"
   ]
  },
  {
   "cell_type": "code",
   "execution_count": 72,
   "id": "c78ecbab-0ff3-4b9b-8f44-3978aae9efff",
   "metadata": {},
   "outputs": [
    {
     "name": "stdout",
     "output_type": "stream",
     "text": [
      "the number is in specified limits\n",
      "True\n",
      "False\n"
     ]
    }
   ],
   "source": [
    "#9. Write a Python program to check if a number is within a specified range using if-else.\n",
    "#ans:\n",
    "\n",
    "l=range(1,100)\n",
    "if l:\n",
    "    print(\"the number is in specified limits\")\n",
    "else:\n",
    "    print(\"the number not in specified limits\")\n",
    "    \n",
    "print(99 in l)\n",
    "print(100 in l)"
   ]
  },
  {
   "cell_type": "code",
   "execution_count": 76,
   "id": "bab21dcb-6d42-4a25-8002-e48f9355a39f",
   "metadata": {},
   "outputs": [
    {
     "name": "stdout",
     "output_type": "stream",
     "text": [
      "Enter Marks Obtained in 5 Subjects: \n"
     ]
    },
    {
     "name": "stdin",
     "output_type": "stream",
     "text": [
      "english : 60\n",
      "maths : 30\n",
      "sciencie: 50\n",
      "social: 60\n",
      "french: 90\n"
     ]
    },
    {
     "name": "stdout",
     "output_type": "stream",
     "text": [
      "Your Grade is C1\n"
     ]
    }
   ],
   "source": [
    "#10. Create a Python program that determines the grade of a student based on their score usingif-else\n",
    "#ans:\n",
    "print(\"Enter Marks Obtained in 5 Subjects: \")\n",
    "markOne = int(input(\"english :\"))\n",
    "markTwo = int(input(\"maths :\"))\n",
    "markThree = int(input(\"sciencie:\"))\n",
    "markFour = int(input(\"social:\"))\n",
    "markFive = int(input(\"french:\"))\n",
    "\n",
    "tot = markOne+markTwo+markThree+markFour+markFive\n",
    "avg = tot/5\n",
    "\n",
    "if avg>=91 and avg<=100:\n",
    "    print(\"Your Grade is A1\")\n",
    "elif avg>=81 and avg<91:\n",
    "    print(\"Your Grade is A2\")\n",
    "elif avg>=71 and avg<81:\n",
    "    print(\"Your Grade is B1\")\n",
    "elif avg>=61 and avg<71:\n",
    "    print(\"Your Grade is B2\")\n",
    "elif avg>=51 and avg<61:\n",
    "    print(\"Your Grade is C1\")\n",
    "elif avg>=41 and avg<51:\n",
    "    print(\"Your Grade is C2\")\n",
    "elif avg>=33 and avg<41:\n",
    "    print(\"Your Grade is D\")\n",
    "elif avg>=21 and avg<33:\n",
    "    print(\"Your Grade is E1\")\n",
    "elif avg>=0 and avg<21:\n",
    "    print(\"Your Grade is E2\")\n",
    "else:\n",
    "    print(\"Invalid Input!\")"
   ]
  },
  {
   "cell_type": "code",
   "execution_count": 85,
   "id": "a82bcdee-5a82-4671-a715-f557d767003d",
   "metadata": {},
   "outputs": [
    {
     "name": "stdin",
     "output_type": "stream",
     "text": [
      "enter the string : \n"
     ]
    },
    {
     "name": "stdout",
     "output_type": "stream",
     "text": [
      "the string is  empty\n"
     ]
    }
   ],
   "source": [
    "#11. Write a Python program to check if a string is empty or not using if-else.\n",
    "#ans:\n",
    "string=input(\"enter the string :\")\n",
    "if not bool(string):\n",
    "    print(\"the string is  empty\")\n",
    "else:\n",
    "    print(\"the string is not empty\")"
   ]
  },
  {
   "cell_type": "code",
   "execution_count": 88,
   "id": "24bd7bac-f388-4762-87a3-481b6196d16a",
   "metadata": {},
   "outputs": [
    {
     "name": "stdin",
     "output_type": "stream",
     "text": [
      "x:  5\n",
      "y:  5\n",
      "z:  2\n"
     ]
    },
    {
     "name": "stdout",
     "output_type": "stream",
     "text": [
      "this is an isosceles triangle\n"
     ]
    }
   ],
   "source": [
    "#12. Create a Python program that identifies the type of a triangle (e.g., equilateral, isosceles, orscalene) based on input values using if-else.\n",
    "#ans:\n",
    "x=int(input(\"x: \"))\n",
    "y=int(input(\"y: \"))\n",
    "z=int(input(\"z: \"))\n",
    "if x==y==z:\n",
    "    print(\"this is an equilateral triangle\")\n",
    "elif x==y or y==z or x==z:\n",
    "    print(\"this is an isosceles triangle\")\n",
    "else:\n",
    "    print(\"this is an scalene triangle\")"
   ]
  },
  {
   "cell_type": "code",
   "execution_count": 92,
   "id": "67e9f095-90c6-4454-a9e2-d1ec2b950de2",
   "metadata": {},
   "outputs": [
    {
     "name": "stdin",
     "output_type": "stream",
     "text": [
      "enter the number 1\n"
     ]
    },
    {
     "name": "stdout",
     "output_type": "stream",
     "text": [
      "Today is Monday \n"
     ]
    }
   ],
   "source": [
    "#13. Write a Python program to determine the day of the week based on a user-provided numberusing if-else\n",
    "#ans:\n",
    "x=int(input(\"enter the number\"))\n",
    "if x==1:\n",
    "    print(\"Today is Monday \")\n",
    "elif x==2:\n",
    "    print(\"today is tuesday\")\n",
    "elif x==3:\n",
    "    print(\"today is wednesday\")\n",
    "elif x==4:\n",
    "    print(\"today is thursday\")\n",
    "elif x==5:\n",
    "    print(\"Today is Friday \")\n",
    "elif x==6:\n",
    "    print(\"Today is saturday \")\n",
    "elif x==7:\n",
    "    print(\"Today is sunday \")"
   ]
  },
  {
   "cell_type": "code",
   "execution_count": 113,
   "id": "7df56360-6f1b-4e94-b083-f2727a61bd37",
   "metadata": {},
   "outputs": [
    {
     "name": "stdin",
     "output_type": "stream",
     "text": [
      "Enter year to be checked: 2008\n"
     ]
    },
    {
     "name": "stdout",
     "output_type": "stream",
     "text": [
      "The year is a leap year!\n"
     ]
    }
   ],
   "source": [
    "#14. Create a Python program that checks if a given year is a leap year using both if-else and afunction.\n",
    "#ans:\n",
    "year=int(input(\"Enter year to be checked:\"))\n",
    "if(year%4==0 and year%100!=0 or year%400==0):\n",
    "    print(\"The year is a leap year!\")\n",
    "else:\n",
    "    print(\"The year isn't a leap year!\")"
   ]
  },
  {
   "cell_type": "code",
   "execution_count": 141,
   "id": "17366669-e783-4531-aebc-8043a541e049",
   "metadata": {},
   "outputs": [
    {
     "ename": "AssertionError",
     "evalue": "x should be 'hello'",
     "output_type": "error",
     "traceback": [
      "\u001b[0;31m---------------------------------------------------------------------------\u001b[0m",
      "\u001b[0;31mAssertionError\u001b[0m                            Traceback (most recent call last)",
      "Cell \u001b[0;32mIn[141], line 6\u001b[0m\n\u001b[1;32m      3\u001b[0m x \u001b[38;5;241m=\u001b[39m \u001b[38;5;124m\"\u001b[39m\u001b[38;5;124mhello\u001b[39m\u001b[38;5;124m\"\u001b[39m\n\u001b[1;32m      5\u001b[0m \u001b[38;5;66;03m#if condition returns False, AssertionError is raised:\u001b[39;00m\n\u001b[0;32m----> 6\u001b[0m \u001b[38;5;28;01massert\u001b[39;00m x \u001b[38;5;241m==\u001b[39m \u001b[38;5;124m\"\u001b[39m\u001b[38;5;124mgoodbye\u001b[39m\u001b[38;5;124m\"\u001b[39m, \u001b[38;5;124m\"\u001b[39m\u001b[38;5;124mx should be \u001b[39m\u001b[38;5;124m'\u001b[39m\u001b[38;5;124mhello\u001b[39m\u001b[38;5;124m'\u001b[39m\u001b[38;5;124m\"\u001b[39m\n",
      "\u001b[0;31mAssertionError\u001b[0m: x should be 'hello'"
     ]
    }
   ],
   "source": [
    "#15. How do you use the \"assert\" statement in Python to add debugging checks within if-else blocks?\n",
    "#ans:\n",
    "x = \"hello\"\n",
    "\n",
    "#if condition returns False, AssertionError is raised:\n",
    "assert x == \"goodbye\", \"x should be 'hello'\"\n"
   ]
  },
  {
   "cell_type": "code",
   "execution_count": 153,
   "id": "d7979f60-61cc-4429-bb1b-ecd9e3e291d0",
   "metadata": {},
   "outputs": [
    {
     "name": "stdin",
     "output_type": "stream",
     "text": [
      "enter the age : 20\n"
     ]
    },
    {
     "name": "stdout",
     "output_type": "stream",
     "text": [
      "this person is young ,not eligible\n"
     ]
    }
   ],
   "source": [
    "#16. Create a Python program that determines the eligibility of a person for a senior citizen discountbased on age using if-else\n",
    "#ans:\n",
    "age=int(input(\"enter the age :\"))\n",
    "if age>=60:\n",
    "    print(\"this is person is eligible for discount\")\n",
    "else:\n",
    "    print(\"this person is young ,not eligible\")\n"
   ]
  },
  {
   "cell_type": "code",
   "execution_count": 161,
   "id": "a928b877-d157-4eeb-8614-7212410289fc",
   "metadata": {},
   "outputs": [
    {
     "name": "stdin",
     "output_type": "stream",
     "text": [
      "enter the string : Alipeer\n"
     ]
    },
    {
     "name": "stdout",
     "output_type": "stream",
     "text": [
      "combination of upper & lower case\n"
     ]
    }
   ],
   "source": [
    "#17. Write a Python program to categorize a given character as uppercase, lowercase, or neitherusing if-else.\n",
    "#ans:\n",
    "char = input(\"enter the string :\")\n",
    " \n",
    "if char == char.upper(): \n",
    "\tprint(\"Uppercase\") \n",
    "elif char==char.lower(): \n",
    "    print(\"Lowercase\")\n",
    "else:\n",
    "    print(\"combination of upper & lower case\")"
   ]
  },
  {
   "cell_type": "code",
   "execution_count": 169,
   "id": "73ab76d4-d18d-4ab2-bcc1-07f560525014",
   "metadata": {},
   "outputs": [
    {
     "name": "stdout",
     "output_type": "stream",
     "text": [
      "Equation: ax^2 + bx + c \n"
     ]
    },
    {
     "name": "stdin",
     "output_type": "stream",
     "text": [
      "Enter a:  56\n",
      "Enter b:  30\n",
      "Enter c:  5\n"
     ]
    },
    {
     "name": "stdout",
     "output_type": "stream",
     "text": [
      "The roots are imaginary. \n"
     ]
    }
   ],
   "source": [
    "#18. Write a Python program to determine the roots of a quadratic equation using if-else18. Write a Python program to determine the roots of a quadratic equation using if-else\n",
    "#ans:\n",
    "# Python program to find roots of quadratic equation\n",
    "\n",
    "print(\"Equation: ax^2 + bx + c \")\n",
    "a=int(input(\"Enter a: \"))\n",
    "b=int(input(\"Enter b: \"))\n",
    "c=int(input(\"Enter c: \"))\n",
    "d=b**2-4*a*c\n",
    "d1=d**0.5\n",
    "if(d<0):\n",
    "    print(\"The roots are imaginary. \")\n",
    "else:\n",
    "    r1=(-b+d1)/2*a\n",
    "    r2=(-b-d1)/2*a\n",
    "    print(\"The first root: \",round(r1,2))\n",
    "    print(\"The second root: \",round(r2,2))"
   ]
  },
  {
   "cell_type": "code",
   "execution_count": 170,
   "id": "7620aaad-9956-4728-90a5-74d8aba97e35",
   "metadata": {},
   "outputs": [
    {
     "name": "stdout",
     "output_type": "stream",
     "text": [
      "21 century\n"
     ]
    }
   ],
   "source": [
    "#19. Create a Python program that checks if a given year is a century year or not using if-else.\n",
    "#ans:\n",
    "def find_century(year): \n",
    "    \n",
    "    # No negative value is allow for year \n",
    "    if (year <= 0): \n",
    "        print(\"0 and negative is not allow for a year\") \n",
    "          \n",
    "    # If year is between 1 to 100 it \n",
    "    # will come in 1st century \n",
    "    elif (year <= 100): \n",
    "        print(\"1st century\") \n",
    "    elif (year % 100 == 0): \n",
    "        print(year // 100,\"century\") \n",
    "    else: \n",
    "        print(year // 100 + 1,\"century\") \n",
    "  \n",
    "# Driver code \n",
    "year = 2001\n",
    "find_century(year)"
   ]
  },
  {
   "cell_type": "code",
   "execution_count": 171,
   "id": "7a214651-5b1e-417b-9eec-19581ff90655",
   "metadata": {},
   "outputs": [
    {
     "name": "stdout",
     "output_type": "stream",
     "text": [
      "The number is a perfect square\n"
     ]
    }
   ],
   "source": [
    "#20. Write a Python program to determine if a given number is a perfect square using if-else.\n",
    "#ans:\n",
    "import math  \n",
    "num = 25  \n",
    "sqrt_num = math.sqrt(num)  \n",
    "if sqrt_num.is_integer():  \n",
    "    print(\"The number is a perfect square\")  \n",
    "else:  \n",
    "    print(\"The number is not a perfect square\")"
   ]
  },
  {
   "cell_type": "markdown",
   "id": "ff96e124-c8c1-4fa7-ba35-9039f4d0acb5",
   "metadata": {},
   "source": [
    "#21. Explain the purpose of the \"continue\" and \"break\" statements within if-else loops\n",
    "#ans:\n",
    "#Break:\n",
    "Break statement stops the entire process of the loop.\n",
    "Break also terminates the remaining iterations.\n",
    "Break statement can be used with switch statements and with loops\n",
    "In the break statement, the control exits from the loop.\n",
    "It is used to stop the execution of the loop at a specific condition.\n",
    "#condition:\n",
    "Continue statement only stops the current iteration of the loop.\n",
    "Continue doesn’t terminate the next iterations; it resumes with the successive iterations.\n",
    "Continue statement can be used with loops but not switch statements.\n",
    "In the continue statement, the control remains within the loop.\n",
    "It is used to skip a particular iteration of the loop."
   ]
  },
  {
   "cell_type": "code",
   "execution_count": 179,
   "id": "bbcceccb-8b29-4633-a415-e7b9117f1cab",
   "metadata": {},
   "outputs": [
    {
     "name": "stdin",
     "output_type": "stream",
     "text": [
      "enter the weight: 50\n",
      "enter the height in cm : 160\n"
     ]
    },
    {
     "name": "stdout",
     "output_type": "stream",
     "text": [
      "lower weight\n"
     ]
    }
   ],
   "source": [
    "#22. Create a Python program that calculates the BMI (Body Mass Index) of a person based on theirweight and height using if-else.\n",
    "#ans:\n",
    "weight=int(input(\"enter the weight:\"))\n",
    "height=int(input(\"enter the height in cm :\"))\n",
    "if 40<=weight<=49 or 150<=height<=160 :\n",
    "    print(\"lower weight\")\n",
    "elif 50<=weight<=65 or 150<=height<=190:\n",
    "    print(\"normal weight\")\n",
    "elif weight>=70 or 150<=height<=190:\n",
    "    print(\"over weight\")\n",
    "else:\n",
    "    print(\"lower weight & abnoraml\")"
   ]
  },
  {
   "cell_type": "code",
   "execution_count": 177,
   "id": "e7546902-86de-4d8f-93c0-2fb3d34d7665",
   "metadata": {},
   "outputs": [
    {
     "name": "stdout",
     "output_type": "stream",
     "text": [
      "The filtered letters are:\n",
      "e\n",
      "e\n"
     ]
    }
   ],
   "source": [
    "#23. How can you use the \"filter()\" function with if-else statements to filter elements from a list?\n",
    "#ans:\n",
    "# function that filters vowels\n",
    "def fun(variable):\n",
    "    letters = ['a', 'e', 'i', 'o', 'u']\n",
    "    if (variable in letters):\n",
    "        return True\n",
    "    else:\n",
    "        return False\n",
    " \n",
    " \n",
    "# sequence\n",
    "sequence = ['g', 'e', 'e', 'j', 'k', 's', 'p', 'r']\n",
    " \n",
    "# using filter function\n",
    "filtered = filter(fun, sequence)\n",
    " \n",
    "print('The filtered letters are:')\n",
    "for s in filtered:\n",
    "    print(s)"
   ]
  },
  {
   "cell_type": "code",
   "execution_count": 180,
   "id": "c19665c6-7c65-4e0f-ba3d-cc0562bebb15",
   "metadata": {},
   "outputs": [
    {
     "name": "stdout",
     "output_type": "stream",
     "text": [
      "11 is a prime number\n"
     ]
    }
   ],
   "source": [
    "#24. Write a Python program to determine if a given number is prime or not using if-else.\n",
    "#ans:\n",
    "num = 11\n",
    "# If given number is greater than 1\n",
    "if num > 1:\n",
    "    # Iterate from 2 to n / 2\n",
    "    for i in range(2, int(num/2)+1):\n",
    "        # If num is divisible by any number between\n",
    "        # 2 and n / 2, it is not prime\n",
    "        if (num % i) == 0:\n",
    "            print(num, \"is not a prime number\")\n",
    "            break\n",
    "    else:\n",
    "        print(num, \"is a prime number\")\n",
    "else:\n",
    "    print(num, \"is not a prime number\")"
   ]
  },
  {
   "cell_type": "code",
   "execution_count": 2,
   "id": "740ddf0f-01b2-497b-81f9-cc2e298d3df4",
   "metadata": {},
   "outputs": [],
   "source": [
    "###Map:-"
   ]
  },
  {
   "cell_type": "code",
   "execution_count": 4,
   "id": "eef3f463-2289-45aa-9349-261899b708f4",
   "metadata": {},
   "outputs": [
    {
     "data": {
      "text/plain": [
       "{3, 4, 5, 6, 7}"
      ]
     },
     "execution_count": 4,
     "metadata": {},
     "output_type": "execute_result"
    }
   ],
   "source": [
    "#1. Explain the purpose of the `map()` function in Python and provide an example of how it can beused to apply a function to each element of an iterable.\n",
    "#ans:\n",
    "#Syntax: map(fun, iter)\n",
    "#Parameters:\n",
    "\n",
    "#fun: It is a function to which map passes each element of given iterable.\n",
    "#iter: It is iterable which is to be mapped.\n",
    "#NOTE: You can pass one or more iterable to the map() function.\n",
    "#map take a two arguments\n",
    "#maps takes a data\n",
    "##element wise it maps individually\n",
    "#example:\n",
    "l=[1,2,3,4,5]\n",
    "def test1(d):\n",
    "    return d+2\n",
    "set(map(test1,l))"
   ]
  },
  {
   "cell_type": "code",
   "execution_count": 17,
   "id": "30c065a0-6835-4d20-a736-cc629299aa4a",
   "metadata": {},
   "outputs": [
    {
     "data": {
      "text/plain": [
       "[1, 4, 9, 16, 25, 36]"
      ]
     },
     "execution_count": 17,
     "metadata": {},
     "output_type": "execute_result"
    }
   ],
   "source": [
    "#2. Write a Python program that uses the `map()` function to square each element of a list ofnumbers\n",
    "#ans:\n",
    "l1=[1,2,3,4,5,6]\n",
    "def test2(d):\n",
    "    return d**2\n",
    "list(map(test2,l1))"
   ]
  },
  {
   "cell_type": "code",
   "execution_count": null,
   "id": "6aa98242-661f-4b3d-8158-44a14d5cedc9",
   "metadata": {},
   "outputs": [],
   "source": [
    "#3. How does the `map()` function differ from a list comprehension in Python, and when would youchoose one over the other?\n",
    "#ans:\n",
    "\"\"\"Map VS List Comprehension\n",
    "List comprehension is more concise and easier to read as compared to map.\n",
    "List comprehension allows filtering. In map, we have no such facility. For example, to print all even numbers in range of 100, we can write [n for n in range(100) if n%2 == 0]. There is no alternate for it in map\n",
    "List comprehension are used when a list of results is required as map only returns a map object and does not return any list.\n",
    "List comprehension is faster than map when we need to evaluate expressions that are too long or complicated to express\n",
    "Map is faster in case of calling an already defined function (as no lambda is required).\"\"\"\n"
   ]
  },
  {
   "cell_type": "code",
   "execution_count": 11,
   "id": "86260b70-31c5-4f83-909c-9ef4cc8d771f",
   "metadata": {},
   "outputs": [
    {
     "name": "stdin",
     "output_type": "stream",
     "text": [
      "enter the string : ali\n"
     ]
    },
    {
     "data": {
      "text/plain": [
       "['A', 'L', 'I']"
      ]
     },
     "execution_count": 11,
     "metadata": {},
     "output_type": "execute_result"
    }
   ],
   "source": [
    "#4. Create a Python program that uses the `map()` function to convert a list of names to uppercase.\n",
    "#ans:\n",
    "def test3(d):\n",
    "    return d.upper()\n",
    "k=input(\"enter the string :\")\n",
    "list(map(test3,k))"
   ]
  },
  {
   "cell_type": "code",
   "execution_count": 15,
   "id": "11106503-d539-44b1-8923-2ff83c7ff38d",
   "metadata": {},
   "outputs": [
    {
     "data": {
      "text/plain": [
       "[3, 4]"
      ]
     },
     "execution_count": 15,
     "metadata": {},
     "output_type": "execute_result"
    }
   ],
   "source": [
    "#5. Write a Python program that uses the `map()` function to calculate the length of each word in alist of strings.\n",
    "#ans:\n",
    "j=[\"ali\",\"peer\"]\n",
    "list(map(len,j))"
   ]
  },
  {
   "cell_type": "code",
   "execution_count": 25,
   "id": "ab0d6717-2c7a-4197-bcb0-ea6c5b2a0b65",
   "metadata": {},
   "outputs": [
    {
     "name": "stdout",
     "output_type": "stream",
     "text": [
      "one of the outcomes: [1, 99, 99, 99, 99]\n",
      "one of the outcomes: [99, 1, 99, 99, 1]\n",
      "one of the outcomes: [1, 99, 99, 99, 99]\n",
      "sum of (1, 99, 1) is 101\n",
      "sum of (99, 1, 99) is 199\n",
      "sum of (99, 99, 99) is 297\n",
      "sum of (99, 99, 99) is 297\n",
      "sum of (99, 1, 99) is 199\n",
      "final result:[101, 199, 297, 297, 199]\n"
     ]
    }
   ],
   "source": [
    "#6. How can you use the `map()` function to apply a custom function to elements of multiple lists simultaneously in Python?\n",
    "#ans:\n",
    "a = ['a','b','c','d','e']\n",
    "b = ['b','a','c','e','a']\n",
    "c = ['a','b','c','d','e']\n",
    "\n",
    "# add the lists to a list. \n",
    "lists = [a,b,c]\n",
    "\n",
    "outcomes = []\n",
    "for l in lists:\n",
    "    outcome = [1 if x == 'a' else 99 for x in l]\n",
    "    outcomes.append(outcome)\n",
    "    print(f'one of the outcomes: {outcome}')\n",
    "\n",
    "\n",
    "results = []\n",
    "\n",
    "# iterate over all list values synchronously and  calculate the sum\n",
    "for outs in zip(*outcomes):\n",
    "    results.append(sum(outs))\n",
    "    print(f'sum of {outs} is {sum(outs)}')\n",
    "\n",
    "print(f'final result:{results}')"
   ]
  },
  {
   "cell_type": "code",
   "execution_count": 28,
   "id": "5e7759e2-8951-457e-94a6-c8219690e3e4",
   "metadata": {},
   "outputs": [
    {
     "name": "stdout",
     "output_type": "stream",
     "text": [
      "[('Nashua', 89.6), ('Boston', 53.6), ('Los Angelos', 111.2), ('Miami', 84.2)]\n"
     ]
    }
   ],
   "source": [
    "#7. Create a Python program that uses `map()` to convert a list of temperatures from Celsius to Fahrenheit.\n",
    "#ans:\n",
    "places = [('Nashua',32),(\"Boston\",12),(\"Los Angelos\",44), (\"Miami\",29)]\n",
    "\n",
    "newplaces = list(map(lambda c: (c[0],  (9/5) * c[1]+ 32), places))\n",
    "print(newplaces)"
   ]
  },
  {
   "cell_type": "code",
   "execution_count": 40,
   "id": "47ac44fd-abf6-4307-9aea-303cba4dfaa9",
   "metadata": {},
   "outputs": [
    {
     "data": {
      "text/plain": [
       "[5, 36, 57, 97]"
      ]
     },
     "execution_count": 40,
     "metadata": {},
     "output_type": "execute_result"
    }
   ],
   "source": [
    "#8. Write a Python program that uses the `map()` function to round each element of a list of floating-point numbers to the nearest integer.\n",
    "#ans:\n",
    "def test4(d):\n",
    "    return round(d)\n",
    "l3=[5,36.4,56.8,96.8]\n",
    "list(map(test4,l3))"
   ]
  },
  {
   "cell_type": "code",
   "execution_count": 41,
   "id": "bf31d4c3-6379-43ca-9e86-51dd2fd7b0ff",
   "metadata": {},
   "outputs": [],
   "source": [
    "###Reduce:-"
   ]
  },
  {
   "cell_type": "code",
   "execution_count": 44,
   "id": "744f890a-7a71-4a5d-b6dc-52dab56fc2dd",
   "metadata": {},
   "outputs": [
    {
     "name": "stdout",
     "output_type": "stream",
     "text": [
      "15\n"
     ]
    }
   ],
   "source": [
    "#1. What is the `reduce()` function in Python, and what module should you import to use it? Provide an example of its basic usage\n",
    "#ans:\n",
    "\"\"\"The reduce function is a part of Python’s functools module. \n",
    "It’s used to apply a function to all elements of a list,\n",
    "effectively ‘reducing’ the list to a single output. Here’s a simple example:\"\"\"\n",
    "from functools import reduce\n",
    "numbers = [1, 2, 3, 4, 5]\n",
    "result = reduce(lambda x, y: x+y, numbers)\n",
    "print(result)\n"
   ]
  },
  {
   "cell_type": "code",
   "execution_count": 45,
   "id": "46b8ec39-704f-4552-840c-f5dc236ae148",
   "metadata": {},
   "outputs": [
    {
     "name": "stdout",
     "output_type": "stream",
     "text": [
      "120\n"
     ]
    }
   ],
   "source": [
    "#2. Write a Python program that uses the `reduce()` function to find the product of all elements in a list\n",
    "#ans:\n",
    "from functools import reduce\n",
    "numbers = [1, 2, 3, 4, 5]\n",
    "result = reduce(lambda x, y: x*y, numbers)\n",
    "print(result)\n"
   ]
  },
  {
   "cell_type": "code",
   "execution_count": 48,
   "id": "13b6d890-2445-4bc6-877f-371d4e12d8eb",
   "metadata": {},
   "outputs": [
    {
     "name": "stdout",
     "output_type": "stream",
     "text": [
      "99\n"
     ]
    }
   ],
   "source": [
    "#3. Create a Python program that uses `reduce()` to find the maximum element in a list of numbers.\n",
    "#ans:\n",
    "from functools import reduce\n",
    "\n",
    "list1 = [-1, 3, 7, 99, 0]\n",
    "\n",
    "print(reduce(max, list1))"
   ]
  },
  {
   "cell_type": "code",
   "execution_count": 53,
   "id": "c4f1998d-23d4-416d-9046-55dd63c90d0c",
   "metadata": {},
   "outputs": [
    {
     "name": "stdout",
     "output_type": "stream",
     "text": [
      "Python Reduce Function Tutorial\n"
     ]
    }
   ],
   "source": [
    "#4. How can you use the `reduce()` function to concatenate a list of strings into a single string?\n",
    "#ans:\n",
    "from functools import reduce\n",
    "\n",
    "# Here's a list of strings\n",
    "words = ['Python', 'Reduce', 'Function', 'Tutorial']\n",
    "\n",
    "# We'll use reduce to concatenate these strings\n",
    "sentence = reduce((lambda x, y: x + ' ' + y), words)\n",
    "\n",
    "print(sentence)\n",
    "\n",
    "# Output:\n",
    "# 'Python Reduce Function Tutorial'\n"
   ]
  },
  {
   "cell_type": "code",
   "execution_count": 59,
   "id": "56e08c89-4cd7-48da-8514-6636c1b4f1d1",
   "metadata": {},
   "outputs": [
    {
     "name": "stdin",
     "output_type": "stream",
     "text": [
      " 5\n"
     ]
    },
    {
     "name": "stdout",
     "output_type": "stream",
     "text": [
      "120\n"
     ]
    }
   ],
   "source": [
    "#5. Write a Python program that calculates the factorial of a number using the `reduce()` function.\n",
    "#ans:\n",
    "n = int(input())\n",
    "import functools  \n",
    "def factorial(n):\n",
    "    if n == 0:\n",
    "        return 1\n",
    "    else:\n",
    "        return functools.reduce(lambda x,y: x*y , range(1,n+1))\n",
    "\n",
    "print(factorial(n))"
   ]
  },
  {
   "cell_type": "code",
   "execution_count": 68,
   "id": "f3d8d6bb-68f0-471c-9734-652943cf9cb2",
   "metadata": {},
   "outputs": [
    {
     "name": "stdout",
     "output_type": "stream",
     "text": [
      "The gcd of 60 and 48 is: 12\n"
     ]
    }
   ],
   "source": [
    "#6. Create a Python program that uses `reduce()` to find the GCD (Greatest Common Divisor) of a list of numbers\n",
    "#ans:\n",
    "gcd = lambda a, b: a if b == 0 else gcd(b, a % b)\n",
    " \n",
    "a = 60\n",
    "b = 48\n",
    " \n",
    "# Prints 12\n",
    "print(\"The gcd of 60 and 48 is:\", gcd(a, b))"
   ]
  },
  {
   "cell_type": "code",
   "execution_count": 70,
   "id": "fe8f1319-7781-475e-9cdf-9a7462855593",
   "metadata": {},
   "outputs": [
    {
     "data": {
      "text/plain": [
       "120"
      ]
     },
     "execution_count": 70,
     "metadata": {},
     "output_type": "execute_result"
    }
   ],
   "source": [
    "#7. Write a Python program that uses the `reduce()` function to find the sum of the digits of a given number.\n",
    "#ans:\n",
    "def sum_list(l):\n",
    "    sum=0\n",
    "    for i in l:\n",
    "        sum+=i\n",
    "    return  functools.reduce(lambda x, y: x*y, numbers)\n",
    "l=range(1,101)\n",
    "sum_list(l)\n"
   ]
  },
  {
   "cell_type": "code",
   "execution_count": 1,
   "id": "66ed1dbd-8db5-4b31-b225-6c95d6086a22",
   "metadata": {},
   "outputs": [],
   "source": [
    "##Filter :-"
   ]
  },
  {
   "cell_type": "code",
   "execution_count": 3,
   "id": "c08276e8-19d8-4f05-bc3d-010026b98098",
   "metadata": {},
   "outputs": [
    {
     "data": {
      "text/plain": [
       "[2, 8, 88, 74, 6, 4]"
      ]
     },
     "execution_count": 3,
     "metadata": {},
     "output_type": "execute_result"
    }
   ],
   "source": [
    "#1. Explain the purpose of the `filter()` function in Python and provide an example of how it can be used to filter elements from an iterable.\n",
    "\n",
    "#ans:\n",
    "#recursive is a functionn which it calls the data until the given task is done\n",
    "\"\"\"The filter() function selects elements from an iterable (list, tuple etc.) based on the output of a function.\n",
    "\n",
    "The function is applied to each element of the iterable and if it returns True,the element is selected by the filter() function.\"\"\"\n",
    "#filtering only the even_numbers\n",
    "l=[1,2,3,455,8,88,74,5,6,5,4,5]\n",
    "list(filter(lambda a:a%2==0,l))"
   ]
  },
  {
   "cell_type": "code",
   "execution_count": 4,
   "id": "74520c2a-8d24-482d-abb9-39ac6bf5de9c",
   "metadata": {},
   "outputs": [
    {
     "data": {
      "text/plain": [
       "[2, 8, 88, 74, 6, 4]"
      ]
     },
     "execution_count": 4,
     "metadata": {},
     "output_type": "execute_result"
    }
   ],
   "source": [
    "#2. Write a Python program that uses the `filter()` function to select even numbers from a list of integers\n",
    "#ans:\n",
    "#filtering only the even_numbers from list\n",
    "l=[1,2,3,455,8,88,74,5,6,5,4,5]\n",
    "list(filter(lambda a:a%2==0,l))"
   ]
  },
  {
   "cell_type": "code",
   "execution_count": 12,
   "id": "0cc40d56-46c4-411d-aad0-6c0b61b8dd6b",
   "metadata": {},
   "outputs": [
    {
     "data": {
      "text/plain": [
       "['naresh']"
      ]
     },
     "execution_count": 12,
     "metadata": {},
     "output_type": "execute_result"
    }
   ],
   "source": [
    "#3. Create a Python program that uses the `filter()` function to select names that start with a specific letter from a list of strings\n",
    "#ans:\n",
    "l=[\"ali\",\"ALIpeer\",\"naresh\"]\n",
    "#letter with 'n'\n",
    "list(filter(lambda a:a[0]=='n',l))\n"
   ]
  },
  {
   "cell_type": "code",
   "execution_count": 18,
   "id": "1030466c-bbdf-473a-ba82-481aaa3a9eb0",
   "metadata": {},
   "outputs": [
    {
     "name": "stdout",
     "output_type": "stream",
     "text": [
      "List of integers:\n",
      "[1, 2, 3, 4, 5, 6, 7, 8, 9, 10, 11, 12, 13, 14, 15, 16, 17]\n",
      "\n",
      "Extract prime numbers of the said list:\n",
      "[2, 3, 5, 7, 11, 13, 17]\n"
     ]
    }
   ],
   "source": [
    "#4. Write a Python program that uses the `filter()` function to select prime numbers from a list of integers\n",
    "#ans:\n",
    "# Define a function to check if a number is prime\n",
    "def is_prime(n):\n",
    "    if n <= 1:\n",
    "        return False\n",
    "    if n <= 3:\n",
    "        return True\n",
    "    if n % 2 == 0 or n % 3 == 0:\n",
    "        return False\n",
    "    i = 5\n",
    "    while i * i <= n:\n",
    "        if n % i == 0 or n % (i + 2) == 0:\n",
    "            return False\n",
    "        i += 6\n",
    "    return True\n",
    "\n",
    "# Define a list of integers\n",
    "numbers = [1, 2, 3, 4, 5, 6, 7, 8, 9, 10, 11, 12, 13, 14, 15, 16, 17]\n",
    "print(\"List of integers:\")\n",
    "print(numbers)\n",
    "\n",
    "# Use the filter function to extract prime numbers\n",
    "prime_numbers = list(filter(is_prime, numbers))\n",
    "print(\"\\nExtract prime numbers of the said list:\")\n",
    "# Print the extracted prime numbers\n",
    "print(prime_numbers)\n"
   ]
  },
  {
   "cell_type": "code",
   "execution_count": 1,
   "id": "317d789d-174f-4a80-93cb-f2fbe17d4239",
   "metadata": {},
   "outputs": [
    {
     "name": "stdout",
     "output_type": "stream",
     "text": [
      "The original list is : [1, None, 4, None, None, 5, 8, None, False]\n",
      "List after removal of None values : [1, 4, 5, 8]\n"
     ]
    }
   ],
   "source": [
    "#5. How can you use the `filter()` function to remove None values from a list in Python?\n",
    "#ans:\n",
    "import itertools\n",
    "# initializing list\n",
    "test_list = [1, None, 4, None, None, 5, 8, None, False]\n",
    "\n",
    "# printing original list\n",
    "print(\"The original list is : \" + str(test_list))\n",
    "\n",
    "# using filter()\n",
    "# to remove None values in list\n",
    "res = list(itertools.filterfalse(lambda item: not item , test_list))\n",
    "\n",
    "# printing result\n",
    "print(\"List after removal of None values : \" + str(res))\n"
   ]
  },
  {
   "cell_type": "code",
   "execution_count": 6,
   "id": "846bd8f5-3a41-4f27-96c6-38e293ebd6fc",
   "metadata": {},
   "outputs": [
    {
     "name": "stdout",
     "output_type": "stream",
     "text": [
      "The word with the longest length is: third  and length is  5\n"
     ]
    }
   ],
   "source": [
    "#6. Create a Python program that uses `filter()` to select words longer than a certain length from a list of strings\n",
    "#ans:\n",
    "from functools import reduce\n",
    "\n",
    "def longestLength(words):\n",
    "\t# using reduce to find the longest word\n",
    "\tlongest_word = reduce(lambda x, y: x if len(x) > len(y) else y, words)\n",
    "\tprint(\"The word with the longest length is:\", longest_word, \" and length is \", len(longest_word))\n",
    "\n",
    "# Driver Program\n",
    "a = [\"one\", \"two\", \"third\", \"four\"]\n",
    "longestLength(a)\n"
   ]
  },
  {
   "cell_type": "code",
   "execution_count": 7,
   "id": "d5b1c1f0-513d-4073-bfc4-74e7b13064ee",
   "metadata": {},
   "outputs": [
    {
     "name": "stdout",
     "output_type": "stream",
     "text": [
      "The original list : ['gfg', 'is', 'best', 'for', 'geeks']\n",
      "The above Threshold size strings are : ['best', 'geeks']\n"
     ]
    }
   ],
   "source": [
    "#7. Write a Python program that uses the `filter()` function to select elements greater than a specified threshold from a list of values.\n",
    "#ans:\n",
    "# Python3 code to demonstrate working of\n",
    "# Filter above Threshold size Strings\n",
    "# using filter() + lambda\n",
    "\n",
    "# Initialize list\n",
    "test_list = ['gfg', 'is', 'best', 'for', 'geeks']\n",
    "\n",
    "# Printing original list\n",
    "print(\"The original list : \" + str(test_list))\n",
    "\n",
    "# Initialize Threshold\n",
    "thres = 4\n",
    "\n",
    "# Filter above Threshold size Strings\n",
    "# using filter() + lambda\n",
    "res = list(filter(lambda ele: len(ele) >= thres, test_list))\n",
    "\n",
    "# Printing result\n",
    "print(\"The above Threshold size strings are : \" + str(res))\n"
   ]
  },
  {
   "cell_type": "code",
   "execution_count": 1,
   "id": "86f8643b-9b9c-4110-aa8f-310e30b01d1e",
   "metadata": {},
   "outputs": [],
   "source": [
    "#Recursion:-"
   ]
  },
  {
   "cell_type": "code",
   "execution_count": 2,
   "id": "c5a36047-3477-4e05-96e7-081f02b7ae0e",
   "metadata": {},
   "outputs": [
    {
     "name": "stdout",
     "output_type": "stream",
     "text": [
      "55\n"
     ]
    }
   ],
   "source": [
    "#1. Explain the concept of recursion in Python. How does it differ from iteration?\n",
    "#ans:\n",
    "\"\"\"Recursion :\n",
    "\n",
    "Definition: A technique in which the function calls itself in its body to solve the problem, \n",
    "typically breaking into smaller and more manageable sub-problems.\n",
    "\n",
    "Syntax: There is a termination condition specified.\n",
    "\n",
    "Recursion in programming is a method where the solution to a problem depends on solutions to smaller instances of the same problem. Essentially, a recursive function is a function that calls itself during its execution. This enables the function to be repeated several times, as it can call itself during its execution.\n",
    "Now, let’s have a look at some examples to get a better idea of recursion.\"\"\"\n",
    "\n",
    "\n",
    "def fibonacci(n):\n",
    "    # Base case\n",
    "    if n <= 1:\n",
    "        return n\n",
    "    # Recursive case\n",
    "    else:\n",
    "        return fibonacci(n-1) + fibonacci(n-2)\n",
    "\n",
    "# Testing\n",
    "print(fibonacci(10))"
   ]
  },
  {
   "cell_type": "code",
   "execution_count": 1,
   "id": "63a14992-d364-4527-a4af-74bda2b7ada9",
   "metadata": {},
   "outputs": [
    {
     "name": "stdout",
     "output_type": "stream",
     "text": [
      "[2, 3, 5, 7, 11, 13, 17, 19, 23, 29, 31, 37, 41, 43, 47, 53, 59, 61, 67, 71, 73, 79, 83, 89, 97]\n"
     ]
    }
   ],
   "source": [
    "\n",
    "\"\"\"Iteration in programming is a process wherein a set of instructions or structures are repeatedly executed until some condition is met. We often use loops for iteration in Python, such as the for and while loops.\n",
    "\n",
    "Now, let’s have a look at some examples to get a better idea of iteration.\"\"\"\n",
    "\n",
    "\n",
    "def primes_up_to(n):\n",
    "    \"\"\"\n",
    "    Function to calculate all prime numbers up to a given number.\n",
    "    :param n: the upper limit number\n",
    "    :return: a list of prime numbers\n",
    "    \"\"\"\n",
    "    primes = []\n",
    "    for potential_prime in range(2, n):\n",
    "        is_prime = True\n",
    "        for num in range(2, potential_prime):\n",
    "            if potential_prime % num == 0:\n",
    "                is_prime = False\n",
    "        if is_prime:\n",
    "            primes.append(potential_prime)\n",
    "    return primes\n",
    "\n",
    "print(primes_up_to(100))"
   ]
  },
  {
   "cell_type": "code",
   "execution_count": 2,
   "id": "39cc43c7-910a-4ec2-a0fa-e945d6bad8d0",
   "metadata": {},
   "outputs": [
    {
     "name": "stdout",
     "output_type": "stream",
     "text": [
      "55\n"
     ]
    }
   ],
   "source": [
    "#2. Write a Python program to calculate the factorial of a number using recursion.\n",
    "#ans:\n",
    "def fibonacci(n):\n",
    "    # Base case\n",
    "    if n <= 1:\n",
    "        return n\n",
    "    # Recursive case\n",
    "    else:\n",
    "        return fibonacci(n-1) + fibonacci(n-2)\n",
    "\n",
    "# Testing\n",
    "print(fibonacci(10))"
   ]
  },
  {
   "cell_type": "code",
   "execution_count": 1,
   "id": "aa68db5d-7455-42a5-98e3-53f9af05e920",
   "metadata": {},
   "outputs": [
    {
     "name": "stdout",
     "output_type": "stream",
     "text": [
      "3\n"
     ]
    }
   ],
   "source": [
    "#3. Create a recursive Python function to find the nth Fibonacci number\n",
    "#ans:\n",
    "# Function for nth Fibonacci number\n",
    " \n",
    "def Fibonacci(n):\n",
    "    if n<= 0:\n",
    "        print(\"Incorrect input\")\n",
    "    # First Fibonacci number is 0\n",
    "    elif n == 1:\n",
    "        return 0\n",
    "    # Second Fibonacci number is 1\n",
    "    elif n == 2:\n",
    "        return 1\n",
    "    else:\n",
    "        return Fibonacci(n-1)+Fibonacci(n-2)\n",
    " \n",
    "# Driver Program\n",
    " \n",
    "print(Fibonacci(5))"
   ]
  },
  {
   "cell_type": "code",
   "execution_count": 7,
   "id": "f57608e2-07fb-4196-9a80-28471c2be9a0",
   "metadata": {},
   "outputs": [
    {
     "name": "stdin",
     "output_type": "stream",
     "text": [
      "Enter the number of elements for list: 5\n",
      "Enter element: 5\n",
      "Enter element: 8\n",
      "Enter element: 8\n",
      "Enter element: 2\n",
      "Enter element: 3\n"
     ]
    },
    {
     "name": "stdout",
     "output_type": "stream",
     "text": [
      "The list is:\n",
      "[5, 8, 8, 2, 3]\n",
      "Sum of items in list:\n",
      "26\n"
     ]
    }
   ],
   "source": [
    "#4. Write a recursive Python function to calculate the sum of all elements in a list.\n",
    "#ans:\n",
    "def sum_arr(arr,size):\n",
    "    if (size == 0):\n",
    "        return 0\n",
    "    else:\n",
    "        return arr[size-1] + sum_arr(arr,size-1)\n",
    "n=int(input(\"Enter the number of elements for list:\"))\n",
    "a=[]\n",
    "for i in range(0,n):\n",
    "    element=int(input(\"Enter element:\"))\n",
    "    a.append(element)\n",
    "print(\"The list is:\")\n",
    "print(a)\n",
    "print(\"Sum of items in list:\")\n",
    "b=sum_arr(a,n)\n",
    "print(b)"
   ]
  },
  {
   "cell_type": "code",
   "execution_count": 11,
   "id": "8063a4af-ae00-4c0b-9992-05251e744711",
   "metadata": {},
   "outputs": [
    {
     "name": "stdout",
     "output_type": "stream",
     "text": [
      "5\n",
      "4\n",
      "3\n",
      "2\n"
     ]
    }
   ],
   "source": [
    "#5. How can you prevent a recursive function from running indefinitely, causing a stack overflow error?\n",
    "#ans:\n",
    "def fizz(param):\n",
    "    print(param)\n",
    "    if param==2:\n",
    "        return\n",
    "    fizz(param-1)\n",
    "fizz(5)"
   ]
  },
  {
   "cell_type": "code",
   "execution_count": 12,
   "id": "69cb6fa7-4747-4f53-a190-1a51a2390e6b",
   "metadata": {},
   "outputs": [
    {
     "name": "stdout",
     "output_type": "stream",
     "text": [
      "GCD of 36 and 60 is 12\n"
     ]
    }
   ],
   "source": [
    "#6. Create a recursive Python function to find the greatest common divisor (GCD) of two numbers using the Euclidean algorithm\n",
    "#ans:\n",
    "# Recursive function to return GCD of two number\n",
    "def findGCD(num1, num2):\n",
    "    \n",
    "    # Everything divides 0\n",
    "    if num1 == 0 or num2 == 0:\n",
    "        return num1 + num2\n",
    "    \n",
    "    # base case\n",
    "    if num1 == num2:\n",
    "        return num1\n",
    "    \n",
    "    # num1>num2\n",
    "    if num1 > num2:\n",
    "        return findGCD(num1 - num2, num2)\n",
    "    else:\n",
    "        return findGCD(num1, num2 - num1)\n",
    "\n",
    "\n",
    "num1 = 36\n",
    "num2 = 60\n",
    "\n",
    "print(\"GCD of\", num1, \"and\", num2, \"is\", findGCD(num1, num2))"
   ]
  },
  {
   "cell_type": "code",
   "execution_count": 16,
   "id": "a0c29e83-3502-45ff-88e2-9d0e52167b9f",
   "metadata": {},
   "outputs": [
    {
     "name": "stdin",
     "output_type": "stream",
     "text": [
      "Enter your string: alipeer\n"
     ]
    },
    {
     "name": "stdout",
     "output_type": "stream",
     "text": [
      "Given String: alipeer\n",
      "reversed String: reepila\n"
     ]
    }
   ],
   "source": [
    "#7. Write a recursive Python function to reverse a string.\n",
    "#ans:\n",
    "def reverse_str(my_str):\n",
    "    if len(my_str) == 0:\n",
    "        return my_str\n",
    "    else:\n",
    "        return reverse_str(my_str[1:]) + my_str[0]\n",
    "\n",
    "my_string = input('Enter your string:')\n",
    "print(f\"Given String: {my_string}\")\n",
    "print(f\"reversed String: {reverse_str(my_string)}\")"
   ]
  },
  {
   "cell_type": "code",
   "execution_count": 17,
   "id": "b2340a44-db2a-4600-b325-365b37c6366d",
   "metadata": {},
   "outputs": [
    {
     "name": "stdout",
     "output_type": "stream",
     "text": [
      "25\n"
     ]
    }
   ],
   "source": [
    "#8. Create a recursive Python function to calculate the power of a number (x^n).\n",
    "#ans:\n",
    "# Python3 code to recursively find\n",
    "# the power of a number\n",
    " \n",
    "# Recursive function to find N^P.\n",
    "def power(N, P):\n",
    " \n",
    "    # If power is 0 then return 1\n",
    "    if P == 0:\n",
    "        return 1\n",
    " \n",
    "    # Recurrence relation\n",
    "    if P%2 == 0:\n",
    "      result = power(N, P//2)\n",
    "      return result * result\n",
    "    else :\n",
    "      result = power(N, (P-1)//2)\n",
    "      return N * result * result  \n",
    " \n",
    " \n",
    "# Driver code\n",
    "if __name__ == '__main__':\n",
    "    N = 5\n",
    "    P = 2\n",
    " \n",
    "    print(power(N, P))"
   ]
  },
  {
   "cell_type": "code",
   "execution_count": 22,
   "id": "754138b1-28d5-4079-ad35-03697eb0fc84",
   "metadata": {},
   "outputs": [
    {
     "name": "stdout",
     "output_type": "stream",
     "text": [
      "Initial string abc\n",
      "Resultant List ['abc', 'acb', 'bac', 'bca', 'cab', 'cba']\n"
     ]
    }
   ],
   "source": [
    "#9. Write a recursive Python function to find all permutations of a given string.\n",
    "#ans:\n",
    "from itertools import permutations\n",
    " \n",
    "# Initialising string\n",
    "ini_str = \"abc\"\n",
    " \n",
    "# Printing initial string\n",
    "print(\"Initial string\", ini_str)\n",
    " \n",
    "# Finding all permutation\n",
    "permutation = [''.join(p) for p in permutations(ini_str)]\n",
    "# Printing result\n",
    "print(\"Resultant List\", str(permutation))"
   ]
  },
  {
   "cell_type": "code",
   "execution_count": 24,
   "id": "c682ac35-ff51-4327-869e-e29b8cf2ccdc",
   "metadata": {},
   "outputs": [
    {
     "name": "stdout",
     "output_type": "stream",
     "text": [
      "Yes\n"
     ]
    }
   ],
   "source": [
    "#10. Write a recursive Python function to check if a string is a palindrome.\n",
    "#ans:\n",
    "def isPalindrome(s, i):\n",
    "    if(i > len(s)/2):\n",
    "        return True\n",
    "    ans = False\n",
    "    if((s[i] is s[len(s) - i - 1]) and isPalindrome(s, i + 1)):\n",
    "        ans = True\n",
    "    return ans\n",
    " \n",
    "str = \"geeg\"\n",
    "if (isPalindrome(str, 0)):\n",
    "    print(\"Yes\")\n",
    "else:\n",
    "    print(\"No\")"
   ]
  },
  {
   "cell_type": "code",
   "execution_count": 28,
   "id": "4dc41c45-3f6a-47f4-bd4e-a217d09ef919",
   "metadata": {},
   "outputs": [
    {
     "name": "stdout",
     "output_type": "stream",
     "text": [
      "[[], [55], [46], [55, 46], [47], [55, 47], [46, 47], [55, 46, 47], [89], [55, 89], [46, 89], [55, 46, 89], [47, 89], [55, 47, 89], [46, 47, 89], [55, 46, 47, 89], [76], [55, 76], [46, 76], [55, 46, 76], [47, 76], [55, 47, 76], [46, 47, 76], [55, 46, 47, 76], [89, 76], [55, 89, 76], [46, 89, 76], [55, 46, 89, 76], [47, 89, 76], [55, 47, 89, 76], [46, 47, 89, 76], [55, 46, 47, 89, 76]]\n"
     ]
    }
   ],
   "source": [
    "#11. Create a recursive Python function to generate all possible combinations of a list of elements.\n",
    "#ans:\n",
    "def generate_combinations_recursive(nums):\n",
    "    result = []\n",
    "    if not nums:\n",
    "        return [[]]\n",
    "    for i in generate_combinations_recursive(nums[1:]):\n",
    "        result.append(i)\n",
    "        result.append([nums[0]] + i)\n",
    "    return result\n",
    "test_list = [55, 46, 47, 89, 76]\n",
    "print(generate_combinations_recursive(test_list))"
   ]
  },
  {
   "cell_type": "code",
   "execution_count": 29,
   "id": "47984ec8-2ca8-4a47-99bd-3a5241bb05f2",
   "metadata": {},
   "outputs": [],
   "source": [
    "#Basics of Functions:-"
   ]
  },
  {
   "cell_type": "code",
   "execution_count": 31,
   "id": "14c74988-b87d-4ae2-94fa-dececc3bf42d",
   "metadata": {},
   "outputs": [],
   "source": [
    "#1. What is a function in Python, and why is it used?\n",
    "#ans:\n",
    "\"\"\"\"Function in python are defined using the block keyword \"def\",followed with the dunction's name as the block's name.\n",
    "for example:\n",
    "    def fun():\n",
    "        print(\"hello world\")\n",
    "function is used because , in the python there a manylines of code ,stored in a file with a name like \"example.py\"\n",
    "it's natural to have a way to divided the lines code up into sensible sub-parts.and these are called fuctions\"\"\""
   ]
  },
  {
   "cell_type": "code",
   "execution_count": 5,
   "id": "431131f3-c330-4bf5-a045-027fffa46435",
   "metadata": {},
   "outputs": [
    {
     "name": "stdout",
     "output_type": "stream",
     "text": [
      "outside function\n",
      "hello world!\n"
     ]
    }
   ],
   "source": [
    "#2. How do you define a function in Python? Provide an example.\n",
    "#ans:\n",
    "\"\"\"A function is a block of code which only runs when it is called.\n",
    "\n",
    "You can pass data, known as parameters, into a function.\n",
    "\n",
    "A function can return data as a result.\"\"\"\n",
    "#example\n",
    "def greet():\n",
    "    print('hello world!')\n",
    "#call the function\n",
    "print('outside function')\n",
    "greet()"
   ]
  },
  {
   "cell_type": "code",
   "execution_count": 6,
   "id": "dea79437-b610-4c82-b391-57146cf9005c",
   "metadata": {},
   "outputs": [
    {
     "data": {
      "text/plain": [
       "'Function call in Python\\n\\nA function call is an expression that invokes a function. To call a function in Python,\\nyou simply write the function name followed by a set of parentheses that may include arguments.\\nHere is an example of a function call in Python:\\n\\ngreet(\"John\")\\n\\nThis function call invokes the greet function with the argument \"John\", which will cause it to print the message \"Hello, John\".'"
      ]
     },
     "execution_count": 6,
     "metadata": {},
     "output_type": "execute_result"
    }
   ],
   "source": [
    "#3. Explain the difference between a function definition and a function call.\n",
    "#ans:\n",
    "\"\"\"Function in Python:\n",
    "\n",
    "In Python, a function is a block of code that performs a specific task and may or may not return a value. \n",
    "A function is defined using the def keyword, followed by the function name and a set of parentheses that may include parameters. \n",
    "Here is an example of a function definition in Python:\n",
    "\n",
    "def greet(name):\n",
    "\n",
    "print(\"Hello, \" + name)\n",
    "\n",
    "This function, called greet, takes a single parameter called name and prints a greeting message using the value of name.\"\"\"\n",
    "\n",
    "\n",
    "\"\"\"Function call in Python\n",
    "\n",
    "A function call is an expression that invokes a function. To call a function in Python,\n",
    "you simply write the function name followed by a set of parentheses that may include arguments.\n",
    "Here is an example of a function call in Python:\n",
    "\n",
    "greet(\"John\")\n",
    "\n",
    "This function call invokes the greet function with the argument \"John\", which will cause it to print the message \"Hello, John\".\"\"\""
   ]
  },
  {
   "cell_type": "code",
   "execution_count": 10,
   "id": "24994928-7a40-4073-a7f2-ab256be87aaf",
   "metadata": {},
   "outputs": [
    {
     "data": {
      "text/plain": [
       "31"
      ]
     },
     "execution_count": 10,
     "metadata": {},
     "output_type": "execute_result"
    }
   ],
   "source": [
    "#4. Write a Python program that defines a function to calculate the sum of two numbers and then calls the function.\n",
    "#ans:\n",
    "#program that defines a function to calculate the sum of two numbers\n",
    "def sum_two(a,b):\n",
    "    return a+b\n",
    "#calls the function\n",
    "sum_two(15,16)"
   ]
  },
  {
   "cell_type": "code",
   "execution_count": 14,
   "id": "91b7ecf3-8e75-4af0-b00c-09e3f1cb0bae",
   "metadata": {},
   "outputs": [
    {
     "name": "stdout",
     "output_type": "stream",
     "text": [
      "The answer is = 8\n",
      "(a: int, b: int)\n",
      "a: int\n",
      "<class 'int'>\n"
     ]
    }
   ],
   "source": [
    "#5. What is a function signature, and what information does it typically include?\n",
    "#ans:\n",
    "\"\"\"In general the signature of a function is defined by the number and type of input arguments the function takes and the type of the result the function returns.\n",
    "\n",
    "As an example in C++ consider the following function:\"\"\"\n",
    "\n",
    "\n",
    "#A function signature is its declaration, parameters, and return type.\n",
    "\n",
    "from inspect import signature\n",
    "#defining our function\n",
    "def addition(a:int, b:int):\n",
    "    ans= a + b\n",
    "    return ans\n",
    "#calling our function\n",
    "print(\"The answer is =\",addition(3,5))\n",
    "#printing the input parameters of the function\n",
    "sig = signature(addition)\n",
    "print(sig)\n",
    "#printing type of a\n",
    "print(sig.parameters['a'])\n",
    "#printing annotation of b\n",
    "print(sig.parameters['b'].annotation)"
   ]
  },
  {
   "cell_type": "code",
   "execution_count": 15,
   "id": "54abb594-1016-46c3-9770-3b6586a112b8",
   "metadata": {},
   "outputs": [
    {
     "data": {
      "text/plain": [
       "30"
      ]
     },
     "execution_count": 15,
     "metadata": {},
     "output_type": "execute_result"
    }
   ],
   "source": [
    "#6. Create a Python function that takes two arguments and returns their product.\n",
    "#ans:\n",
    "def product(a,b):\n",
    "    return a*b\n",
    "   \n",
    "product(5,6)"
   ]
  },
  {
   "cell_type": "code",
   "execution_count": 1,
   "id": "0759acb2-d871-4ca0-9e59-e8957a34641b",
   "metadata": {},
   "outputs": [],
   "source": [
    "#Basics of Functions:\n"
   ]
  },
  {
   "cell_type": "code",
   "execution_count": 4,
   "id": "e51e8857-3a41-41d5-967a-4f1d37528b2a",
   "metadata": {},
   "outputs": [
    {
     "data": {
      "text/plain": [
       "'Functions are like recipes. They can execute a set of instructions on data or variables and return the result. \\nThe beauty of functions is that they are recyclable . \\nThat is, the function can be used repeatedly without having to write the same code again.'"
      ]
     },
     "execution_count": 4,
     "metadata": {},
     "output_type": "execute_result"
    }
   ],
   "source": [
    "#1. What is a function in Python, and why is it used?\n",
    "#ans:\n",
    "\"\"\"Functions in Python. You use functions in programming to bundle a set of instructions that you want to use repeatedly or that,\n",
    "because of their complexity, are better self-contained in a sub-program and called when needed \"\"\"\n",
    "'''Python Functions is a block of statements that return the specific task. \n",
    "The idea is to put some commonly or repeatedly done tasks together and make a function so that instead of writing the same code again and again for different inputs, \n",
    "we can do the function calls to reuse code contained in it over and over again.\n",
    "\n",
    "Some Benefits of Using Functions\n",
    "\n",
    "Increase Code Readability \n",
    "Increase Code Reusability'''\n",
    "'''Built-in library function: These are Standard functions in Python that are available to use.\n",
    "User-defined function: We can create our own functions based on our requirements.'''\n",
    "#use case of python\n",
    "\"\"\"Functions are like recipes. They can execute a set of instructions on data or variables and return the result. \n",
    "The beauty of functions is that they are recyclable . \n",
    "That is, the function can be used repeatedly without having to write the same code again.\"\"\""
   ]
  },
  {
   "cell_type": "code",
   "execution_count": 8,
   "id": "6b8a09db-52c9-4fb3-9b6d-802ec3268e16",
   "metadata": {},
   "outputs": [
    {
     "name": "stdout",
     "output_type": "stream",
     "text": [
      "Welcome to GFG\n"
     ]
    }
   ],
   "source": [
    "#2. How do you define a function in Python? Provide an example.\n",
    "#ans:\n",
    "#example\n",
    "# A simple Python function \n",
    " \n",
    "def fun():\n",
    "    print(\"Welcome to GFG\")\n",
    "fun()"
   ]
  },
  {
   "cell_type": "code",
   "execution_count": 9,
   "id": "9b7a92a5-6dca-4449-9555-5cab3b02c3f1",
   "metadata": {},
   "outputs": [
    {
     "data": {
      "text/plain": [
       "'a function is a block of code that performs a specific task, while a function call is an expression that invokes a function and executes the code in the function'"
      ]
     },
     "execution_count": 9,
     "metadata": {},
     "output_type": "execute_result"
    }
   ],
   "source": [
    "#3. Explain the difference between a function definition and a function call.\n",
    "#ans:\n",
    "\n",
    "'''a function is a block of code that performs a specific task,\n",
    "while a function call is an expression that invokes a function and executes the code in the function'''"
   ]
  },
  {
   "cell_type": "code",
   "execution_count": 18,
   "id": "d628a3d7-5c5b-414f-aea8-9c8b2c0fa55f",
   "metadata": {},
   "outputs": [
    {
     "data": {
      "text/plain": [
       "8"
      ]
     },
     "execution_count": 18,
     "metadata": {},
     "output_type": "execute_result"
    }
   ],
   "source": [
    "'''4. Write a Python program that defines a function to calculate the sum of two numbers and then\n",
    "calls the function.'''\n",
    "#ans:\n",
    "def sum_of_two_num(a,b):\n",
    "    return a+b\n",
    "#now we are calling the function to excute sum of 2 & 3\n",
    "sum_of_two_num(3,5)"
   ]
  },
  {
   "cell_type": "code",
   "execution_count": 19,
   "id": "fa4c64be-e36a-492a-a13d-6a925dbd6f35",
   "metadata": {},
   "outputs": [],
   "source": [
    "#5. What is a function signature, and what information does it typically include?\n",
    "#ans:\n",
    "\"\"\"In Python, a function signature provides crucial information about the types of parameters that a function can accept and the type of data it returns. \n",
    "The signature() function from the inspect module is used to determine the function signature, helping developers to ensure they are passing the correct types of arguments to their functions. \n",
    "This function can be particularly useful in large programs where a small mistake can lead to significant issues.\"\"\"\n",
    "#example:\n",
    "def addition(a:int, b:int):\n",
    "    ans= a + b\n",
    "    return ans"
   ]
  },
  {
   "cell_type": "code",
   "execution_count": 21,
   "id": "3cabed6a-b683-4e11-87ac-edea2d116514",
   "metadata": {},
   "outputs": [
    {
     "data": {
      "text/plain": [
       "12"
      ]
     },
     "execution_count": 21,
     "metadata": {},
     "output_type": "execute_result"
    }
   ],
   "source": [
    "#6. Create a Python function that takes two arguments and returns their product.\n",
    "#ans:\n",
    "#example\n",
    "def product(a:int, b:int):\n",
    "    ans= a * b\n",
    "    return ans\n",
    "product(3,4)"
   ]
  },
  {
   "cell_type": "code",
   "execution_count": 22,
   "id": "7eac5553-7fa6-406d-800f-8392a003b60b",
   "metadata": {},
   "outputs": [],
   "source": [
    "###Function Parameters and Arguments:"
   ]
  },
  {
   "cell_type": "code",
   "execution_count": 23,
   "id": "f5069f1a-eaff-48c1-8a90-0b6d639f3743",
   "metadata": {},
   "outputs": [
    {
     "data": {
      "text/plain": [
       "5"
      ]
     },
     "execution_count": 23,
     "metadata": {},
     "output_type": "execute_result"
    }
   ],
   "source": [
    "#1. Explain the concepts of formal parameters and actual arguments in Python functions.\n",
    "#ans:\n",
    "#formal parameters:function definition parameters are called the formal parameters\n",
    "#actual arguments:function call arguments are actual arguments\n",
    "#example:\n",
    "def add(a,b):\n",
    "    return a+b\n",
    "#here a,b are the formal parameters \n",
    "add(2,3)\n",
    "#here 2,3 are actual arguments\n"
   ]
  },
  {
   "cell_type": "code",
   "execution_count": 49,
   "id": "9d8be4f9-fbe2-4b16-a2a2-1af7dc5a3d52",
   "metadata": {},
   "outputs": [
    {
     "data": {
      "text/plain": [
       "9"
      ]
     },
     "execution_count": 49,
     "metadata": {},
     "output_type": "execute_result"
    }
   ],
   "source": [
    "#2. Write a Python program that defines a function with default argument values\n",
    "#ans:\n",
    "\n",
    "def add_sum(a=2,b=3):\n",
    "    result= a+b\n",
    "    return result\n",
    "#writing a program with default argument\n",
    "add_sum(5,4)\n"
   ]
  },
  {
   "cell_type": "code",
   "execution_count": 55,
   "id": "285ca0fe-6000-4cd1-9e17-88b85dd8df62",
   "metadata": {},
   "outputs": [
    {
     "name": "stdout",
     "output_type": "stream",
     "text": [
      "employ no 23\n",
      "Name: ali\n",
      "Age: 26\n"
     ]
    }
   ],
   "source": [
    "#3. How do you use keyword arguments in Python function calls? Provide an example.\n",
    "#ans:\n",
    "def data_processiong(emp_no,name,age):\n",
    "    print (\"employ no\",emp_no)\n",
    "    print(\"Name:\",name)\n",
    "    print (\"Age:\",age)\n",
    "\n",
    "data_processiong(23,\"ali\",26)"
   ]
  },
  {
   "cell_type": "code",
   "execution_count": 56,
   "id": "47dfa288-0876-4c7e-a343-743ecc90c29c",
   "metadata": {},
   "outputs": [
    {
     "name": "stdout",
     "output_type": "stream",
     "text": [
      "9\n"
     ]
    }
   ],
   "source": [
    "#4. Create a Python function that accepts a variable number of arguments and calculates their sum.\n",
    "#ans:\n",
    "def add(num1, num2):\n",
    "    return num1+num2\n",
    "print(add(4,5))"
   ]
  },
  {
   "cell_type": "code",
   "execution_count": 7,
   "id": "d4e929a1-dc0d-4ee3-bf75-b19e4b92f2db",
   "metadata": {},
   "outputs": [
    {
     "data": {
      "text/plain": [
       "' Name:Ali , Age:25'"
      ]
     },
     "execution_count": 7,
     "metadata": {},
     "output_type": "execute_result"
    }
   ],
   "source": [
    "#5. What is the purpose of the `*args` and `**kwargs` syntax in function parameter lists?\n",
    "#ans:\n",
    "#purpose of **kwargs\n",
    "#*kwargs is for giving arguments in a function\n",
    "'''these arguments are passed to the function with name-value pair \n",
    "so keyword arguments can identify the formal arguments by their names.'''\n",
    "def show(name,age):\n",
    "    return(f\" Name:{name} , Age:{age}\")\n",
    "show(age=25,name=\"Ali\")"
   ]
  },
  {
   "cell_type": "code",
   "execution_count": 19,
   "id": "ad152d9b-729c-4342-9391-9011e232fd90",
   "metadata": {},
   "outputs": [
    {
     "name": "stdout",
     "output_type": "stream",
     "text": [
      "3\n",
      "21\n",
      "9\n",
      "72\n",
      "3\n",
      "12\n",
      "84\n",
      "5\n",
      "30\n",
      "300\n",
      "2400\n"
     ]
    }
   ],
   "source": [
    "#args if for giving arguments in function\n",
    "def multiply(*args):\n",
    "    y = 1\n",
    "    for num in args:\n",
    "        y *= num\n",
    "        print(y)\n",
    "multiply(3, 7)\n",
    "multiply(9, 8)\n",
    "multiply(3, 4, 7)\n",
    "multiply(5, 6, 10, 8)"
   ]
  },
  {
   "cell_type": "code",
   "execution_count": 20,
   "id": "2b58809f-5718-414b-a759-8f17c4ad63a4",
   "metadata": {},
   "outputs": [],
   "source": [
    "#Return Values and Scoping:"
   ]
  },
  {
   "cell_type": "raw",
   "id": "77c69ddb-0397-449e-9934-add310862c5a",
   "metadata": {},
   "source": [
    "#1. Describe the role of the `return` statement in Python functions and provide examples\n",
    "#ans:\n",
    "The return statement in python is an extremely useful statement used to return the flow of program from the function to the function caller. The keyword return is used to write the return statement.\n",
    "\n",
    "Since everything in python is an object the return value can be any object such as – numeric (int, float, double) or collections (list, tuple, dictionary) or user defined functions and classes or packages.\n",
    "\n",
    "The return statement has the following features -\n",
    "Return statement cannot be used outside the function.\n",
    "\n",
    "Any code written after return statement is called dead code as it will never be executed.\n",
    "\n",
    "Return statement can pass any value implicitly or explicitly, if no value is given then None is returned."
   ]
  },
  {
   "cell_type": "code",
   "execution_count": 21,
   "id": "e422b9bf-d933-471b-b7c0-82408e339f5d",
   "metadata": {},
   "outputs": [
    {
     "name": "stdout",
     "output_type": "stream",
     "text": [
      "Good morning from TutorialsPoint\n"
     ]
    }
   ],
   "source": [
    "#example:\n",
    "def welcome(str):\n",
    "    return str + \" from TutorialsPoint\"\n",
    "print(welcome(\"Good morning\"))"
   ]
  },
  {
   "cell_type": "raw",
   "id": "d76b13f1-0f20-4049-b21c-ff553a939c7a",
   "metadata": {},
   "source": [
    "#2. Explain the concept of variable scope in Python, including local and global variables\n",
    "#ans:\n",
    "There are two types of variables: global variables and local variables.\n",
    "The scope of global variables is the entire program whereas the scope of local\n",
    "variable is limited to the function where it is defined.\n",
    "\n",
    "\n",
    "Output\n",
    "In above program- x is a local variable whereas s is a global variable, we can access the local variable only within the function it is defined (func() above) and trying to call local variable outside its scope (func()) will through an Error as shown below −"
   ]
  },
  {
   "cell_type": "code",
   "execution_count": 28,
   "id": "0453768b-f68f-4fed-86eb-ee7f4b416d7a",
   "metadata": {},
   "outputs": [
    {
     "name": "stdout",
     "output_type": "stream",
     "text": [
      "python\n",
      "tewst\n",
      "tutorialpoint\n"
     ]
    },
    {
     "ename": "NameError",
     "evalue": "name 's' is not defined",
     "output_type": "error",
     "traceback": [
      "\u001b[0;31m---------------------------------------------------------------------------\u001b[0m",
      "\u001b[0;31mNameError\u001b[0m                                 Traceback (most recent call last)",
      "Cell \u001b[0;32mIn[28], line 9\u001b[0m\n\u001b[1;32m      7\u001b[0m     \u001b[38;5;28mprint\u001b[39m(s)\n\u001b[1;32m      8\u001b[0m func()\n\u001b[0;32m----> 9\u001b[0m \u001b[38;5;28mprint\u001b[39m(\u001b[43ms\u001b[49m)\n",
      "\u001b[0;31mNameError\u001b[0m: name 's' is not defined"
     ]
    }
   ],
   "source": [
    "def func():\n",
    "    x=\"python\"\n",
    "    s=\"tewst\"\n",
    "    print(x)\n",
    "    print(s)\n",
    "    s=\"tutorialpoint\"\n",
    "    print(s)\n",
    "func()\n",
    "print(s)"
   ]
  },
  {
   "cell_type": "code",
   "execution_count": 32,
   "id": "e2e5088e-7cfd-4614-95cf-e40a5b96c785",
   "metadata": {},
   "outputs": [
    {
     "name": "stdout",
     "output_type": "stream",
     "text": [
      "15\n",
      "25\n",
      "20\n"
     ]
    }
   ],
   "source": [
    "#Local variables\n",
    "#ans:\n",
    "\"\"\"Local variables can only be reached within their scope(like func() above). \n",
    "Like in below program- there are two local variables – x and y.\"\"\"\n",
    "def sum(x,y):\n",
    "    sum = x + y\n",
    "    return sum\n",
    "print(sum(5, 10))\n",
    "\"\"\"Output\n",
    "The variables x and y will only work/used inside the function sum() and \n",
    "they don’t exist outside of the function. So trying to use local variable outside \n",
    "their scope, might through NameError. So obviously below line will not work.\"\"\"\n",
    "#Global variables\n",
    "\"\"\"A global variable can be used anywhere in the program as its scope is the entire program. Let’s understand global variable with a very simple example −\n",
    "\n",
    "Example\"\"\"\n",
    "z = 25\n",
    "def func():\n",
    "    global z\n",
    "    print(z)\n",
    "    z=20\n",
    "func()\n",
    "print(z)"
   ]
  },
  {
   "cell_type": "code",
   "execution_count": 33,
   "id": "b887ffd2-874f-4cfb-8d59-2541ddc05ac5",
   "metadata": {},
   "outputs": [
    {
     "name": "stdout",
     "output_type": "stream",
     "text": [
      "25\n",
      "20\n"
     ]
    }
   ],
   "source": [
    "#3. Write a Python program that demonstrates the use of global variables within functions.\n",
    "#ans:\n",
    "z = 25\n",
    "def func():\n",
    "    global z\n",
    "    print(z)\n",
    "    z=20\n",
    "func()\n",
    "print(z)"
   ]
  },
  {
   "cell_type": "code",
   "execution_count": 40,
   "id": "ffbc4ee8-cbac-4c83-8ccd-84b162249ab1",
   "metadata": {},
   "outputs": [
    {
     "data": {
      "text/plain": [
       "24"
      ]
     },
     "execution_count": 40,
     "metadata": {},
     "output_type": "execute_result"
    }
   ],
   "source": [
    "#4. Create a Python function that calculates the factorial of a number and returns it.\n",
    "#ans:\n",
    "def fact(n):\n",
    "    if n<=1:\n",
    "        return 1\n",
    "    else:\n",
    "        return n*fact(n-1)\n",
    "fact(4)"
   ]
  },
  {
   "cell_type": "code",
   "execution_count": 43,
   "id": "9c2d2d83-5394-4785-827b-732fae28f123",
   "metadata": {},
   "outputs": [
    {
     "name": "stdout",
     "output_type": "stream",
     "text": [
      "The value of x is 10\n"
     ]
    }
   ],
   "source": [
    "#5. How can you access variables defined outside a function from within the function?\n",
    "#ans:\n",
    "x = 10 \n",
    "\n",
    "def showX():\n",
    "    print(\"The value of x is\", x)\n",
    "    \n",
    "showX()"
   ]
  },
  {
   "cell_type": "code",
   "execution_count": 44,
   "id": "11f99ded-dd98-45b7-bc49-b14ac97f66e4",
   "metadata": {},
   "outputs": [],
   "source": [
    "###Lambda Functions and Higher-Order Functions"
   ]
  },
  {
   "cell_type": "code",
   "execution_count": 13,
   "id": "9e37e827-e793-4ba1-8c68-a9deb3e1ac5f",
   "metadata": {},
   "outputs": [
    {
     "data": {
      "text/plain": [
       "'The apply function will apply each element of the series to the lambda function.\\nThe lambda function will then return a value for each element based on the expression you passed to it. \\nIn our case, the expression was to lowercase each element.'"
      ]
     },
     "execution_count": 13,
     "metadata": {},
     "output_type": "execute_result"
    }
   ],
   "source": [
    "#1. What are lambda functions in Python, and when are they typically used?\n",
    "#ans:\n",
    "#lambda argument(s) : expression\n",
    "#When Should You Use a Lambda Function?\n",
    "'''You should use the lambda function to create simple expressions. For example, expressions \n",
    "that do not include complex structures such as if-else, for-loops, and so on.\n",
    "\n",
    "So, for example, if you want to create a function with a for-loop, you should use a user-defined function.'''\n",
    "\n",
    "import pandas as pd\n",
    "\n",
    "df = pd.DataFrame(\n",
    "    {\"name\": [\"IBRAHIM\", \"SEGUN\", \"YUSUF\", \"DARE\", \"BOLA\", \"SOKUNBI\"],\n",
    "     \"score\": [50, 32, 45, 45, 23, 45]\n",
    "    }\n",
    ")\n",
    "df[\"lower_name\"] = df[\"name\"].apply(lambda x: x.lower())\n",
    "\n",
    "'''The apply function will apply each element of the series to the lambda function.\n",
    "The lambda function will then return a value for each element based on the expression you passed to it. \n",
    "In our case, the expression was to lowercase each element.'''"
   ]
  },
  {
   "cell_type": "code",
   "execution_count": 14,
   "id": "2b9e6ce9-795d-4f46-94f2-b0db98e67dc7",
   "metadata": {},
   "outputs": [
    {
     "data": {
      "text/html": [
       "<div>\n",
       "<style scoped>\n",
       "    .dataframe tbody tr th:only-of-type {\n",
       "        vertical-align: middle;\n",
       "    }\n",
       "\n",
       "    .dataframe tbody tr th {\n",
       "        vertical-align: top;\n",
       "    }\n",
       "\n",
       "    .dataframe thead th {\n",
       "        text-align: right;\n",
       "    }\n",
       "</style>\n",
       "<table border=\"1\" class=\"dataframe\">\n",
       "  <thead>\n",
       "    <tr style=\"text-align: right;\">\n",
       "      <th></th>\n",
       "      <th>name</th>\n",
       "      <th>score</th>\n",
       "      <th>lower_name</th>\n",
       "    </tr>\n",
       "  </thead>\n",
       "  <tbody>\n",
       "    <tr>\n",
       "      <th>0</th>\n",
       "      <td>IBRAHIM</td>\n",
       "      <td>50</td>\n",
       "      <td>ibrahim</td>\n",
       "    </tr>\n",
       "    <tr>\n",
       "      <th>1</th>\n",
       "      <td>SEGUN</td>\n",
       "      <td>32</td>\n",
       "      <td>segun</td>\n",
       "    </tr>\n",
       "    <tr>\n",
       "      <th>2</th>\n",
       "      <td>YUSUF</td>\n",
       "      <td>45</td>\n",
       "      <td>yusuf</td>\n",
       "    </tr>\n",
       "    <tr>\n",
       "      <th>3</th>\n",
       "      <td>DARE</td>\n",
       "      <td>45</td>\n",
       "      <td>dare</td>\n",
       "    </tr>\n",
       "    <tr>\n",
       "      <th>4</th>\n",
       "      <td>BOLA</td>\n",
       "      <td>23</td>\n",
       "      <td>bola</td>\n",
       "    </tr>\n",
       "    <tr>\n",
       "      <th>5</th>\n",
       "      <td>SOKUNBI</td>\n",
       "      <td>45</td>\n",
       "      <td>sokunbi</td>\n",
       "    </tr>\n",
       "  </tbody>\n",
       "</table>\n",
       "</div>"
      ],
      "text/plain": [
       "      name  score lower_name\n",
       "0  IBRAHIM     50    ibrahim\n",
       "1    SEGUN     32      segun\n",
       "2    YUSUF     45      yusuf\n",
       "3     DARE     45       dare\n",
       "4     BOLA     23       bola\n",
       "5  SOKUNBI     45    sokunbi"
      ]
     },
     "execution_count": 14,
     "metadata": {},
     "output_type": "execute_result"
    }
   ],
   "source": [
    "df"
   ]
  },
  {
   "cell_type": "raw",
   "id": "6b636da4-6749-4159-a05f-1a70ddae5cc5",
   "metadata": {},
   "source": [
    "#2.What are lambda functions in Python, and when are they typically used?\n",
    "#ans:\n",
    "#A function without a name is called as aonymous function.it is also known as lambda function.\n",
    "Anonymous function are  not defined using def keyword rather  they are defined usssssing lambda keyword.\n",
    "#lambda argument(s) : expression\n",
    "lambda x:print(x)\n",
    "lambda x,y:x+y\n",
    "\n",
    "#lambda function doesn't have any Name\n",
    "ex:- lambda x:print(x)\n",
    "#lambda function returns a function\n",
    "ex:- show = lambda x: print(x)\n",
    "#lambda function can take zero or any number of arguments but contains only one expression.\n",
    "ex:-lambda x,y : x+y\n",
    "#in lambda function there is no need to write return statement\n",
    "#it can only contains expressions and can't include statements in its body\n",
    "#you can use all the type of actual arguments"
   ]
  },
  {
   "cell_type": "code",
   "execution_count": 25,
   "id": "e749386a-b044-4535-b674-43baf8a659a3",
   "metadata": {},
   "outputs": [
    {
     "name": "stdout",
     "output_type": "stream",
     "text": [
      "5\n"
     ]
    }
   ],
   "source": [
    "#anynomous function or lambda function\n",
    "def show(x):\n",
    "    print(x)\n",
    "show(5)"
   ]
  },
  {
   "cell_type": "code",
   "execution_count": 26,
   "id": "9257617c-314b-4197-a96a-025115aa2d6c",
   "metadata": {},
   "outputs": [
    {
     "name": "stdout",
     "output_type": "stream",
     "text": [
      "[('Earth', 3), ('Jupiter', 5), ('Mercury', 1), ('Mars', 4), ('Neptune', 8), ('Saturn', 6), ('Uranus', 7), ('Venus', 2)]\n",
      "In-Place Sort:  None\n",
      "[('Mercury', 1), ('Venus', 2), ('Earth', 3), ('Mars', 4), ('Jupiter', 5), ('Saturn', 6), ('Uranus', 7), ('Neptune', 8)]\n"
     ]
    }
   ],
   "source": [
    "#2. Write a Python program that uses lambda functions to sort a list of tuples based on the second element.\n",
    "#ans:\n",
    "# List of Tuples Declaration\n",
    "planets = [(\"Earth\", 3),(\"Jupiter\",5),(\"Mercury\",1), (\"Mars\",4), (\"Neptune\",8), (\"Saturn\", 6), (\"Uranus\",7), (\"Venus\",2)]\n",
    "print(planets)\n",
    "\n",
    "# Sorts the list by the second element of the Tuple value and updates the list but does not print the result\n",
    "print(\"In-Place Sort: \",planets.sort(key = lambda x : x[1]))\n",
    "\n",
    "# print sorted list\n",
    "print(planets)"
   ]
  },
  {
   "cell_type": "raw",
   "id": "92234bf0-6a79-4df5-9c10-fb77a8a71bee",
   "metadata": {},
   "source": [
    "#3. Explain the concept of higher-order functions in Python, and provide an example.\n",
    "#ans:\n",
    "'''In Python, a higher-order function is the one that meets one or more of \n",
    "the following criteria:'''\n",
    " \n",
    "#Allows other functions to be passed to it as parameters.\n",
    "#Can send back other functions as a result.\n",
    "#Creates new functions within its body.\n",
    "\n",
    "'''A function is called Higher Order Function if it contains other functions as a parameter or returns a function as an output i.e, the functions that operate with another function are known as Higher order Functions. It is worth knowing that this higher order function is applicable for functions and methods as well that takes functions as a parameter or returns a function as a result. Python too supports the concepts of higher order functions.\n",
    "\n",
    "Properties of higher-order functions:\n",
    "\n",
    "A function is an instance of the Object type.\n",
    "You can store the function in a variable.\n",
    "You can pass the function as a parameter to another function.\n",
    "You can return the function from a function.\n",
    "You can store them in data structures such as hash tables, lists, …'''"
   ]
  },
  {
   "cell_type": "code",
   "execution_count": 44,
   "id": "40646afb-1b03-426b-baab-079158a7506e",
   "metadata": {},
   "outputs": [
    {
     "name": "stdout",
     "output_type": "stream",
     "text": [
      "HELLO\n",
      "HELLO\n"
     ]
    }
   ],
   "source": [
    "# Python program to illustrate functions  \n",
    "# can be treated as objects  \n",
    "def shout(text):  \n",
    "    return text.upper()  \n",
    "    \n",
    "print(shout('Hello'))  \n",
    "    \n",
    "# Assigning function to a variable \n",
    "yell = shout  \n",
    "    \n",
    "print(yell('Hello')) "
   ]
  },
  {
   "cell_type": "code",
   "execution_count": 45,
   "id": "a3f66155-f108-4c8e-ae0c-a40b45af47e9",
   "metadata": {},
   "outputs": [
    {
     "name": "stdout",
     "output_type": "stream",
     "text": [
      "[2, 4, 6]\n"
     ]
    }
   ],
   "source": [
    "'''#4.Create a Python function that takes a list of numbers and a function as arguments, applying the\n",
    "function to each element in the list.'''\n",
    "#ans:\n",
    "def double(integer):\n",
    "    return integer*2\n",
    " \n",
    " \n",
    "# driver code\n",
    "integer_list = [1, 2, 3]\n",
    " \n",
    "# Map method returns a map object\n",
    "# so we cast it into list using list()\n",
    "output_list = list(map(double, integer_list))\n",
    " \n",
    "print(output_list)"
   ]
  },
  {
   "cell_type": "code",
   "execution_count": 46,
   "id": "7000ed17-8d07-464f-8847-b3fe2c97e2cd",
   "metadata": {},
   "outputs": [],
   "source": [
    "###Built-in Functions:"
   ]
  },
  {
   "cell_type": "code",
   "execution_count": 54,
   "id": "2f5d6750-4264-423c-b575-9d7e08a607dd",
   "metadata": {},
   "outputs": [
    {
     "name": "stdout",
     "output_type": "stream",
     "text": [
      "len of tup list : 5\n",
      "minimum of tup list : 6.89\n",
      "maximum of tup list : 78\n"
     ]
    }
   ],
   "source": [
    "#1. Describe the role of built-in functions like `len()`, `max()`, and `min()` in Python\n",
    "#ans:\n",
    "'''The len() Function\n",
    "This function returns the number of elements present in a tuple. Moreover, \n",
    "it is necessary to provide a tuple to the len() function.\n",
    "\n",
    "For example,'''\n",
    "\n",
    "tup = (22, 45, 23, 78, 6.89)\n",
    "print(f\"len of tup list : {len(tup)}\")\n",
    "'''min(): gives the smallest element in the tuple as an output. Hence, the name is min().'''\n",
    "print(f\"minimum of tup list : {min(tup)}\")\n",
    "\n",
    "#max(): gives the sum of the elements present in the tuple as an output.\n",
    "print(f\"maximum of tup list : {max(tup)}\")"
   ]
  },
  {
   "cell_type": "code",
   "execution_count": 55,
   "id": "c078e41c-18d8-4040-a8da-a15b0d4ef627",
   "metadata": {},
   "outputs": [
    {
     "name": "stdout",
     "output_type": "stream",
     "text": [
      "[2, 4, 6, 8]\n"
     ]
    }
   ],
   "source": [
    "#2. Write a Python program that uses the `map()` function to apply a function to each element of a list.\n",
    "#ans:\n",
    "# Python program to demonstrate working\n",
    "# of map.\n",
    " \n",
    "# Return double of n\n",
    "def addition(n):\n",
    "    return n + n\n",
    " \n",
    "# We double all numbers using map()\n",
    "numbers = (1, 2, 3, 4)\n",
    "result = map(addition, numbers)\n",
    "print(list(result))"
   ]
  },
  {
   "cell_type": "code",
   "execution_count": 57,
   "id": "a6d203d8-5d4a-4893-b7b3-4ca2bf058282",
   "metadata": {},
   "outputs": [
    {
     "name": "stdout",
     "output_type": "stream",
     "text": [
      "[1, 3, 5, 13]\n",
      "[0, 2, 8]\n"
     ]
    }
   ],
   "source": [
    "#3. How does the `filter()` function work in Python, and when would you use it?\n",
    "#ans:\n",
    "\n",
    "# a list contains both even and odd numbers. \n",
    "seq = [0, 1, 2, 3, 5, 8, 13]\n",
    " \n",
    "# result contains odd numbers of the list\n",
    "result = filter(lambda x: x % 2 != 0, seq)\n",
    "print(list(result))\n",
    " \n",
    "# result contains even numbers of the list\n",
    "result = filter(lambda x: x % 2 == 0, seq)\n",
    "print(list(result))"
   ]
  },
  {
   "cell_type": "code",
   "execution_count": 58,
   "id": "8ffc0c69-37b7-4e0d-a5a0-a7b9405829d1",
   "metadata": {},
   "outputs": [
    {
     "name": "stdout",
     "output_type": "stream",
     "text": [
      "The summation of list using accumulate is :[1, 4, 8, 18, 22]\n",
      "The summation of list using reduce is :22\n"
     ]
    }
   ],
   "source": [
    "#4.Create a Python program that uses the `reduce()` function to find the product of all elements in a list.\n",
    "# importing itertools for accumulate() \n",
    "\n",
    "import itertools \n",
    "  \n",
    "# importing functools for reduce() \n",
    "import functools \n",
    "  \n",
    "# initializing list \n",
    "lis = [1, 3, 4, 10, 4] \n",
    "  \n",
    "# printing summation using accumulate() \n",
    "print(\"The summation of list using accumulate is :\", end=\"\") \n",
    "print(list(itertools.accumulate(lis, lambda x, y: x+y))) \n",
    "  \n",
    "# printing summation using reduce() \n",
    "print(\"The summation of list using reduce is :\", end=\"\") \n",
    "print(functools.reduce(lambda x, y: x+y, lis)) "
   ]
  },
  {
   "cell_type": "code",
   "execution_count": 59,
   "id": "24daed9c-a225-4428-9b57-21309dfffe93",
   "metadata": {},
   "outputs": [],
   "source": [
    "###Function Documentation and Best Practices:"
   ]
  },
  {
   "cell_type": "code",
   "execution_count": 62,
   "id": "11ecfb0e-72b3-428f-9c24-a65eec003e71",
   "metadata": {},
   "outputs": [
    {
     "name": "stdout",
     "output_type": "stream",
     "text": [
      "Using __doc__:\n",
      " Demonstrates triple double quotes docstrings and does nothing really \n",
      "Using help:\n",
      "Help on function my_function in module __main__:\n",
      "\n",
      "my_function()\n",
      "    Demonstrates triple double quotes docstrings and does nothing really\n",
      "\n"
     ]
    }
   ],
   "source": [
    "#1. Explain the purpose of docstrings in Python functions and how to write them\n",
    "#ans:\n",
    "'''Python documentation strings (or docstrings) provide a convenient way of associating documentation with Python modules, functions, classes, and methods. It’s specified in source code that is used,\n",
    "like a comment, to document a specific segment of code. Unlike conventional source code comments, the docstring should describe what the function does, not how.\n",
    "\n",
    "Declaring Docstrings: The docstrings are declared using ”’triple single quotes”’ or “”” triple double quotes “”” just below the class, method, or function declaration. All functions should have a docstring.\n",
    "Accessing Docstrings: The docstrings can be accessed using the __doc__ method of the object or using the help function. The below examples demonstrate how to declare and access a docstring.'''\n",
    "\n",
    "\n",
    "def my_function():\n",
    "    ' ' 'Demonstrates triple double quotes docstrings and does nothing really' ' '\n",
    "  \n",
    "    return None\n",
    " \n",
    "print(\"Using __doc__:\")\n",
    "print(my_function.__doc__)\n",
    " \n",
    "print(\"Using help:\")\n",
    "help(my_function)"
   ]
  },
  {
   "cell_type": "code",
   "execution_count": 69,
   "id": "7252ca64-c749-449d-bf28-296fd397e914",
   "metadata": {},
   "outputs": [
    {
     "name": "stdout",
     "output_type": "stream",
     "text": [
      "Naming Conventions \n",
      "\n",
      "During a recent workshop, bootcamp instructor Alex Baransky shared some of the best practices in writing Python code for better readability. Through this series of articles, we will summarize and give you a few examples of those best practices to help you write more elegant Python code, benefiting those who may read and use your code in the future, including yourself.\n",
      "\n",
      "\n",
      "\n",
      "Python is an object-oriented programming language. This means you’ll create, name, and use all kinds of objects in any given Python project. Naming conventions are the rules of thumb for naming the objects that you create. Understanding these conventions is the first step to keeping your code readable for you and your teammates. \n",
      "\n",
      "\n",
      "\n",
      "Through our bootcamps and courses, we share to students that there are tons of ways to name objects, some being better than others. Understanding the difference between good and great is the way to impress prospective employers and peers. In this article, we will share best practices in naming conventions that you can follow and adopt when writing your Python code.\n",
      "\n",
      "\n",
      "\n",
      "Basic Naming Conventions\n",
      "\n",
      "Let’s start with the most common options for naming objects in Python. The following are basic ways to name: \n",
      "\n",
      "\n",
      "\n",
      "Single lowercase\n",
      "\n",
      "Often used for local variables in functions, such as x or i\n",
      "\n",
      "Single uppercase\n",
      "\n",
      "Often used to name matrices\n",
      "\n",
      "Lowercase word\n",
      "\n",
      "The most frequent naming convention for the widest variety of objects\n",
      "\n",
      "Lowercase word with underscores\n",
      "\n",
      "Same uses as Lowercase word, but for more complicated names\n",
      "\n",
      "Uppercase word\n",
      "\n",
      "Used for single-word static variables\n",
      "\n",
      "Uppercase word with underscores\n",
      "\n",
      "Used for multi-word static variables\n",
      "\n",
      "Capitalized words (aka CapWords or CamelCase)\n",
      "\n",
      "This is where each word is capitalized, and there are no spaces or underscores between them\n",
      "\n",
      "Used for naming classes (even if the name is just a single, capitalized word)\n",
      "\n",
      "Mixed Case\n",
      "\n",
      "This is where you start with a lowercase word followed by every other word capitalized\n",
      "\n",
      "This convention is predominantly used in Java and less in Python \n",
      "\n",
      "Each of these options has different use cases. They are not only for aesthetics, but each option also helps you create meaningful objects in your code. \n",
      "\n",
      "\n",
      "\n",
      "Names to Avoid\n",
      "\n",
      "Just as there are things you should do, there are things you shouldn’t. These are conventions you will want to avoid when writing Python code. \n",
      "\n",
      "\n",
      "\n",
      "Lowercase letter “el” – instead, use a capital letter “L”\n",
      "\n",
      "Uppercase letter “oh” – “O” \n",
      "\n",
      "Uppercase letter “eye” – “I”\n",
      "\n",
      "We avoid those names because in some fonts, they are indistinguishable from the numbers “1” and “0”, which makes it difficult for the user to understand what’s going on.\n",
      "\n",
      "\n",
      "\n",
      "You should also avoid using Python keywords and built-in class/function names for your variable names. For example, words like “max,” “sum,” “class,” and “list” are words that already exist in any Python environment. Therefore, to use them for something other than their function could make things messy and confusing.\n",
      "\n",
      "\n",
      "\n",
      "Modules and Packages\n",
      "\n",
      "A module is a collection of pre-built functions and other objects used to perform certain tasks. Modules should have short, lowercase names. Underscores can be used in the module name if it improves readability (like for names with multiple words). \n",
      "\n",
      "\n",
      "\n",
      "Packages are like directories that contain modules and other objects. Python packages should follow the same convention, although the use of underscores in package names is discouraged. \n",
      "\n",
      "\n",
      "\n",
      "Variables and Functions\n",
      "\n",
      "Do you know the difference between a function and a method?To understand the difference, think of the square-rectangle relationship: a method is a function, but not all functions are methods. A method is a special type of function that belongs to a class. Only objects of that class type can use these special functions. This is part of the object-oriented paradigm of Python and can help improve the organization and readability of our code. In Python, the names of variables and functions should be lowercase. Individual words can be separated by underscores when needed. This will improve readability within your code. Method names should follow the same conventions as function names. \n",
      "\n",
      "\n",
      "\n",
      "Here are a few best practices to follow when naming your variables and functions:\n",
      "\n",
      "\n",
      "\n",
      "Constants should be represented by all capital letters and separated by underscores when needed \n",
      "\n",
      "Use names that are representative of the meaning of the object rather than meaningless, single-character names\n",
      "\n",
      "Names i, j, and k should be reserved for representing index values\n",
      "\n",
      "Understanding and adopting these best practices is a great way to polish your coding skills. Writing more elegant code will not only impress your current colleagues, but it will also help you build better coding habits that may catch the attention of future employers. \n",
      "\n",
      "\n",
      "\n",
      "Ready to advance your programming skills? Check out this three-course program focused on building and advancing your Python Programming skills, or start your journey towards data science mastery by enrolling in our upcoming remote live and online bootcamps this Winter.\n"
     ]
    }
   ],
   "source": [
    "'''#2.Describe some best practice for naming function and variables in python,including\n",
    "naming convention and guidelines'''\n",
    "#ans\n",
    "for i in open(\"naming conventions.txt\"):\n",
    "    print(i)"
   ]
  }
 ],
 "metadata": {
  "kernelspec": {
   "display_name": "Python 3 (ipykernel)",
   "language": "python",
   "name": "python3"
  },
  "language_info": {
   "codemirror_mode": {
    "name": "ipython",
    "version": 3
   },
   "file_extension": ".py",
   "mimetype": "text/x-python",
   "name": "python",
   "nbconvert_exporter": "python",
   "pygments_lexer": "ipython3",
   "version": "3.10.8"
  },
  "toc-autonumbering": false,
  "toc-showcode": false,
  "toc-showtags": false
 },
 "nbformat": 4,
 "nbformat_minor": 5
}
