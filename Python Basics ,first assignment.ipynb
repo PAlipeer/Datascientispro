{
 "cells": [
  {
   "cell_type": "code",
   "execution_count": 5,
   "id": "eb0b1128-ba84-4840-b0d9-91259dc60556",
   "metadata": {},
   "outputs": [],
   "source": [
    "#TOPIC: Python Basics Variable"
   ]
  },
  {
   "cell_type": "code",
   "execution_count": 17,
   "id": "563b3f83-fba0-47a2-9000-f48e8e662716",
   "metadata": {},
   "outputs": [
    {
     "name": "stdout",
     "output_type": "stream",
     "text": [
      "swapped value of x 75\n",
      "swapped value of y 65\n"
     ]
    }
   ],
   "source": [
    "\"\"\"1. Declare two variables, `x` and `y`, and assign them integer values. Swap the\n",
    "values of these variables without using any temporary variable.\"\"\"\n",
    "# ans:  x` and `y` are two variables, and assign them integer values. Swaping the values of these variables without using any temporary variable\n",
    "x=65\n",
    "y=75\n",
    "x,y = y,x\n",
    "print(\"swapped value of x {}\".format(x))\n",
    "print(\"swapped value of y {}\".format(y))"
   ]
  },
  {
   "cell_type": "code",
   "execution_count": 18,
   "id": "102d3e0d-f3e2-4af0-9979-a69063ce304f",
   "metadata": {},
   "outputs": [
    {
     "name": "stdin",
     "output_type": "stream",
     "text": [
      " 25\n",
      " 25\n"
     ]
    },
    {
     "name": "stdout",
     "output_type": "stream",
     "text": [
      "The Area of a Rectangle using 25.0 and 25.0  =  625.0\n"
     ]
    }
   ],
   "source": [
    "\"\"\"2. Create a program that calculates the area of a rectangle. Take the length and \n",
    "width as inputs from the user and store them in variables. Calculate and\n",
    "display the area.\"\"\"\n",
    "#ans:# to find Area of a Rectangle using length and width\n",
    "length=float(input())\n",
    "width=float(input())\n",
    "# calculate the area of a Rectangle\n",
    "\"\"\"area=(length*width) or area = area_of_Rectangle(length, width)\"\"\"\n",
    "area_of_rectangle= length*width\n",
    "print(\"The Area of a Rectangle using\", length, \"and\", width, \" = \", area_of_rectangle)"
   ]
  },
  {
   "cell_type": "code",
   "execution_count": 20,
   "id": "48c8f173-355e-41ae-a580-5e36641fa02c",
   "metadata": {},
   "outputs": [
    {
     "name": "stdin",
     "output_type": "stream",
     "text": [
      "Temperature value in degree Celsius:  25\n"
     ]
    },
    {
     "name": "stdout",
     "output_type": "stream",
     "text": [
      "The 25.00 degree Celsius is equal to: 77.00 Fahrenheit\n",
      "----OR----\n"
     ]
    },
    {
     "name": "stdin",
     "output_type": "stream",
     "text": [
      "Temperature value in degree Celsius:  25\n"
     ]
    },
    {
     "name": "stdout",
     "output_type": "stream",
     "text": [
      "The 25.00 degree Celsius is equal to: 77.00 Fahrenheit\n"
     ]
    }
   ],
   "source": [
    "\"\"\"3. Write a Python program that converts temperatures from Celsius to \n",
    "Fahrenheit. Take the temperature in Celsius as input, store it in a variable,\n",
    "convert it to Fahrenheit, and display the result.\"\"\"\n",
    "#ans:  \n",
    "celsius_1 = float(input(\"Temperature value in degree Celsius: \" ))  \n",
    "  \n",
    "# For Converting the temperatures from Celsius to Fahrenheit by using the above given formula  \n",
    "Fahrenheit_1 = (celsius_1 * 1.8) + 32  \n",
    "    \n",
    "# print the result  \n",
    "print('The %.2f degree Celsius is equal to: %.2f Fahrenheit'  %(celsius_1, Fahrenheit_1))  \n",
    "  \n",
    "print(\"----OR----\")  \n",
    "celsius_2 = float (input(\"Temperature value in degree Celsius: \" ))  \n",
    "Fahrenheit_2 = (celsius_2 * 9/5) + 32  \n",
    "    \n",
    "# print the result  \n",
    "print ('The %.2f degree Celsius is equal to: %.2f Fahrenheit'  \n",
    "      %(celsius_2, Fahrenheit_2))  "
   ]
  },
  {
   "cell_type": "code",
   "execution_count": 21,
   "id": "9b88716c-228a-4c5a-9696-2866da839aa7",
   "metadata": {},
   "outputs": [],
   "source": [
    "# TOPIC: String Based Questions"
   ]
  },
  {
   "cell_type": "code",
   "execution_count": 22,
   "id": "d2e64bde-30c9-4b6d-afe2-49bb25949c93",
   "metadata": {},
   "outputs": [
    {
     "name": "stdin",
     "output_type": "stream",
     "text": [
      " alipeer\n"
     ]
    },
    {
     "data": {
      "text/plain": [
       "7"
      ]
     },
     "execution_count": 22,
     "metadata": {},
     "output_type": "execute_result"
    }
   ],
   "source": [
    "#1. Write a Python program that takes a string as input and prints the length of the string.\n",
    "#ans: python program for string as an input and prints the length of the string\n",
    "string=str(input())\n",
    "len(string)"
   ]
  },
  {
   "cell_type": "code",
   "execution_count": 23,
   "id": "4491b846-815a-4ff9-be5d-e82778bcb2ea",
   "metadata": {},
   "outputs": [
    {
     "name": "stdin",
     "output_type": "stream",
     "text": [
      "enter a sentence alipeer\n"
     ]
    },
    {
     "name": "stdout",
     "output_type": "stream",
     "text": [
      "the count a is : 1\n",
      "the count e is : 2\n",
      "the count i is : 1\n",
      "the count o is : 0\n",
      "the count u is : 0\n"
     ]
    }
   ],
   "source": [
    "#2. Create a program that takes a sentence from the user and counts the number of vowels (a, e, i, o, u) in the string.\n",
    "#ans: python prog.for vowels\n",
    "a=input(\"enter a sentence\")\n",
    "print('the count a is : {}'.format(a.count('a')))\n",
    "print('the count e is : {}'.format(a.count('e')))\n",
    "print('the count i is : {}'.format(a.count('i')))\n",
    "print('the count o is : {}'.format(a.count('o')))\n",
    "print('the count u is : {}'.format(a.count('u')))"
   ]
  },
  {
   "cell_type": "code",
   "execution_count": 24,
   "id": "70fb7dc2-0dc4-460c-9a91-cc8244b039b5",
   "metadata": {},
   "outputs": [
    {
     "data": {
      "text/plain": [
       "'reepila'"
      ]
     },
     "execution_count": 24,
     "metadata": {},
     "output_type": "execute_result"
    }
   ],
   "source": [
    "#3. Given a string, reverse the order of characters using string slicing and print the reversed string.\n",
    "#ans: the order of characters using string slicing and print the reversed string\n",
    "x=\"alipeer\"\n",
    "x[-6:] # forwarding slicing\n",
    "x[::-1]   #backward slicing  "
   ]
  },
  {
   "cell_type": "code",
   "execution_count": 25,
   "id": "5233c3ee-58d0-4966-99be-eb0b5e60b7a1",
   "metadata": {},
   "outputs": [
    {
     "name": "stdout",
     "output_type": "stream",
     "text": [
      "rotator\n",
      "rotator\n"
     ]
    }
   ],
   "source": [
    "#4. Write a program that takes a string as input and checks if it is a palindrome (reads the same forwards and backwards).\n",
    "#ans:\n",
    "y=\"rotator\"\n",
    "print(y[0:7]) #forward slicing\n",
    "print(y[::-1]) #backward slicing"
   ]
  },
  {
   "cell_type": "code",
   "execution_count": 27,
   "id": "9df81c5c-a8e9-45cf-8bd6-ce6b2048ef72",
   "metadata": {},
   "outputs": [
    {
     "name": "stdout",
     "output_type": "stream",
     "text": [
      "Hello, World!\n"
     ]
    }
   ],
   "source": [
    "#5. Create a program that takes a string as input and removes all the spaces from it. Print the modified string without spaces.\n",
    "#ans:\n",
    "text = \"   Hello, World!   \"\n",
    "#the modified string without spaces\n",
    "trimmed_text = text.strip()\n",
    "print(trimmed_text)"
   ]
  }
 ],
 "metadata": {
  "kernelspec": {
   "display_name": "Python 3 (ipykernel)",
   "language": "python",
   "name": "python3"
  },
  "language_info": {
   "codemirror_mode": {
    "name": "ipython",
    "version": 3
   },
   "file_extension": ".py",
   "mimetype": "text/x-python",
   "name": "python",
   "nbconvert_exporter": "python",
   "pygments_lexer": "ipython3",
   "version": "3.11.4"
  }
 },
 "nbformat": 4,
 "nbformat_minor": 5
}
