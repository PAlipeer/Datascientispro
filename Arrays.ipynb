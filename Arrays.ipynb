{
 "cells": [
  {
   "cell_type": "code",
   "execution_count": 24,
   "id": "4481f358-b59b-4cfe-a419-6658c1842461",
   "metadata": {},
   "outputs": [
    {
     "name": "stdout",
     "output_type": "stream",
     "text": [
      "TRUE\n"
     ]
    }
   ],
   "source": [
    "#1. Given an array, check if it contains any duplicates or not.\n",
    "#arr = [1, 2, 4, 2, 5, 9]\n",
    "#Output = True\n",
    "#sol:\n",
    "#time complexity: O(n)\n",
    "#space complexity : O(n)\n",
    "arr= [1, 2, 4, 5, 5, 9]\n",
    "arr2=[]\n",
    "\n",
    "for i in arr:\n",
    "    if i not in arr2:\n",
    "        arr2.append(i)\n",
    "    else:\n",
    "        print(\"TRUE\")"
   ]
  },
  {
   "cell_type": "code",
   "execution_count": 57,
   "id": "716b6e03-1636-459c-93f6-3e80139b34be",
   "metadata": {},
   "outputs": [
    {
     "name": "stdout",
     "output_type": "stream",
     "text": [
      "[5, 6, 7, 1, 2, 3, 4]\n"
     ]
    }
   ],
   "source": [
    "#2. Given an array and an integer k, rotate the array to the right by k steps.\n",
    "#arr = [1, 2, 3, 4, 5, 6, 7] k = 3\n",
    "#Output = [5, 6, 7, 1, 2, 3, 4]\n",
    "#sol:\n",
    "#time complexity = O(n)\n",
    "#space complexity = O(1)\n",
    "nums = [1, 2, 3, 4, 5, 6, 7]\n",
    "k=3\n",
    "def rev(nums,l,r):\n",
    "    while(l<r):\n",
    "        nums[l],nums[r]=nums[r],nums[l]\n",
    "        l=l+1\n",
    "        r=r-1\n",
    "k=k%len(nums)\n",
    "rev(nums,0,len(nums)-1)\n",
    "rev(nums,0,k-1)\n",
    "rev(nums,k,len(nums)-1)\n",
    "\n",
    "print(nums)"
   ]
  },
  {
   "cell_type": "code",
   "execution_count": 59,
   "id": "f5bbe597-b7a4-4f15-a79e-6681ae31d537",
   "metadata": {},
   "outputs": [
    {
     "name": "stdout",
     "output_type": "stream",
     "text": [
      "Array is : [2, 4, 5, 7, 9, 12]\n",
      "Resultant new reversed array: [12, 9, 7, 5, 4, 2]\n"
     ]
    }
   ],
   "source": [
    "#3. Reverse the given array in-place, means without using any extra data structure.\n",
    "#arr = [2, 4, 5, 7, 9, 12]\n",
    "#Output = [12, 9, 7, 5, 4, 2]\n",
    "#sol:\n",
    "#time complexity :O(n)\n",
    "#space complexity: O(1)\n",
    "arr = [2, 4, 5, 7, 9, 12]\n",
    "print(\"Array is :\",arr)\n",
    " \n",
    "res = arr[::-1] #reversing using list slicing\n",
    "print(\"Resultant new reversed array:\",res)"
   ]
  },
  {
   "cell_type": "code",
   "execution_count": 98,
   "id": "df2b29f1-d36a-428b-9ad1-3130c296aa67",
   "metadata": {},
   "outputs": [
    {
     "name": "stdout",
     "output_type": "stream",
     "text": [
      "20\n"
     ]
    }
   ],
   "source": [
    "# 4. Given an array of integers, find the maximum element in an array\n",
    "#arr = [10, 5, 20, 8, 15]\n",
    "#Output = 20\n",
    "#sol:\n",
    "#time complexity :O(n)\n",
    "#space complexity: O(1)\n",
    "arr = [10, 5, 20, 8, 15]\n",
    "maximum=arr[0]\n",
    "for i in range(len(arr)):\n",
    "    if arr[i]>maximum:\n",
    "        maximum = arr[i]\n",
    "print(maximum)"
   ]
  },
  {
   "cell_type": "code",
   "execution_count": 101,
   "id": "4e33b6ac-3aa1-4ef5-8d64-582f88919268",
   "metadata": {},
   "outputs": [
    {
     "data": {
      "text/plain": [
       "{1, 2, 3, 4, 5}"
      ]
     },
     "execution_count": 101,
     "metadata": {},
     "output_type": "execute_result"
    }
   ],
   "source": [
    "#5. Given a sorted array, remove the duplicate element without using any extra data structure.\n",
    "#arr = [1, 1, 2, 2, 2, 3, 3, 4, 4, 4, 5, 5]\n",
    "#Output = [1, 2, 3, 4, 5]\n",
    "#sol:\n",
    "\n",
    "#time complexity :O(n)\n",
    "#space complexity: O(1)\n",
    "arr = [1, 1, 2, 2, 2, 3, 3, 4, 4, 4, 5, 5]\n",
    "k=set(arr)\n",
    "list(k)"
   ]
  },
  {
   "cell_type": "code",
   "execution_count": null,
   "id": "ac96c276-a58f-4381-bca8-7fc59ad7b2aa",
   "metadata": {},
   "outputs": [],
   "source": []
  }
 ],
 "metadata": {
  "kernelspec": {
   "display_name": "Python 3 (ipykernel)",
   "language": "python",
   "name": "python3"
  },
  "language_info": {
   "codemirror_mode": {
    "name": "ipython",
    "version": 3
   },
   "file_extension": ".py",
   "mimetype": "text/x-python",
   "name": "python",
   "nbconvert_exporter": "python",
   "pygments_lexer": "ipython3",
   "version": "3.12.2"
  }
 },
 "nbformat": 4,
 "nbformat_minor": 5
}
